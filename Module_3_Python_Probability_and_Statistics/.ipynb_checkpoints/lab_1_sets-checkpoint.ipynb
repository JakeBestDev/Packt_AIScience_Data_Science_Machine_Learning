{
 "cells": [
  {
   "cell_type": "markdown",
   "id": "82ea78f3-003f-4e71-b7ad-137f5b99165a",
   "metadata": {},
   "source": [
    "# Lab 1: Sets"
   ]
  },
  {
   "cell_type": "markdown",
   "id": "046984d4-05f1-4110-bcc4-1ab011e7a8f1",
   "metadata": {},
   "source": [
    "## Definition of Sets: Exercise 1\n",
    "### What is a set and can a set have different types of objects?"
   ]
  },
  {
   "cell_type": "code",
   "execution_count": 24,
   "id": "88735620-33f8-4ac0-887c-43f512633732",
   "metadata": {},
   "outputs": [],
   "source": [
    "## Lets create 3 different sets! One with only ints, one with only strings, and one with a mix of ints and strings!\n",
    "\n",
    "x = {1,2,3,4,5}\n",
    "y = {'a','b','c','d'}\n",
    "z = {1,1,'a',2,'b'}"
   ]
  },
  {
   "cell_type": "code",
   "execution_count": 26,
   "id": "7c84e7a0-c788-497a-ac90-112317479208",
   "metadata": {},
   "outputs": [
    {
     "data": {
      "text/plain": [
       "{1, 2, 3, 4, 5}"
      ]
     },
     "execution_count": 26,
     "metadata": {},
     "output_type": "execute_result"
    }
   ],
   "source": [
    "x"
   ]
  },
  {
   "cell_type": "code",
   "execution_count": 28,
   "id": "36f7b154-ffe1-4ec2-a971-059532db45b2",
   "metadata": {},
   "outputs": [
    {
     "data": {
      "text/plain": [
       "{'a', 'b', 'c', 'd'}"
      ]
     },
     "execution_count": 28,
     "metadata": {},
     "output_type": "execute_result"
    }
   ],
   "source": [
    "y"
   ]
  },
  {
   "cell_type": "code",
   "execution_count": 32,
   "id": "60dbf214-0439-4550-baf9-503612b3e216",
   "metadata": {},
   "outputs": [
    {
     "data": {
      "text/plain": [
       "{1, 2, 'a', 'b'}"
      ]
     },
     "execution_count": 32,
     "metadata": {},
     "output_type": "execute_result"
    }
   ],
   "source": [
    "## YES! A set can have a mix of types!\n",
    "## A set does become much more difficult to work with different types but it is doable!\n",
    "\n",
    "## Notice how this set became ordered and removed the duplicated 1's in this set!\n",
    "## The definition of a set is that the elements must be distinct and be ordered! That is what happened here with the output\n",
    "\n",
    "z"
   ]
  },
  {
   "cell_type": "markdown",
   "id": "530fcaa8-9aad-4657-a0e4-1b08a7fa50a9",
   "metadata": {},
   "source": [
    "## Definition of Sets: Exercise 2\n",
    "### What is a multiset and what is its python equivlent?"
   ]
  },
  {
   "cell_type": "code",
   "execution_count": 8,
   "id": "7201a744-537d-4cd1-b549-eeb0be887fa1",
   "metadata": {},
   "outputs": [],
   "source": [
    "## A set is a list of elements that are both distinct and ordered\n",
    "## A multiset is undistince (or allow duplicates) and is un-ordered\n",
    "## The closest thing in python to a multiset is a tuple!\n",
    "\n",
    "x = (1,2,2,4,3)"
   ]
  },
  {
   "cell_type": "code",
   "execution_count": 12,
   "id": "a8168197-1750-4db9-9099-f3dd3690748b",
   "metadata": {},
   "outputs": [
    {
     "data": {
      "text/plain": [
       "(1, 2, 2, 4, 3)"
      ]
     },
     "execution_count": 12,
     "metadata": {},
     "output_type": "execute_result"
    }
   ],
   "source": [
    "## Notice we allowed for 2 2's in this tuple and have 3 and 4 out of order!\n",
    "## This tuple by definition is a multiset\n",
    "\n",
    "x"
   ]
  },
  {
   "cell_type": "code",
   "execution_count": 16,
   "id": "bc7a1493-6c33-45ad-aaec-9f9088a696e5",
   "metadata": {},
   "outputs": [],
   "source": [
    "## now lets try with a set!\n",
    "\n",
    "x = {1,2,2,4,3}"
   ]
  },
  {
   "cell_type": "code",
   "execution_count": 20,
   "id": "62821d68-4772-4b70-b332-ef003c5a95f0",
   "metadata": {},
   "outputs": [
    {
     "data": {
      "text/plain": [
       "{1, 2, 3, 4}"
      ]
     },
     "execution_count": 20,
     "metadata": {},
     "output_type": "execute_result"
    }
   ],
   "source": [
    "## Now notice how everything is now ordered as well as there are no duplicated 2's in this set!\n",
    "## Thats the difference between a set and a multiset\n",
    "\n",
    "x"
   ]
  },
  {
   "cell_type": "markdown",
   "id": "df3ab37a-40c4-4165-893b-a663c09d4976",
   "metadata": {},
   "source": [
    "## Set: Power Set\n",
    "### A Power set is a set of subsets of a particular set. \n",
    "### So like if A = {1,2,3}\n",
    "### The Powerset would be p(A) = {{},{1},{2},{3},{1,2},{1,3},{2,3},{1,2,3}} Notice how it contains all possible variations of set A within 1 set. That is a power set\n",
    "### So counting the number of subsets in the powerset above we can see there are 8 subsets. \n",
    "### We know that A has 3 elements within it. So a rule of power sets is that the total number of subsets a power set can have is 2**n where n is the number of elements in the original set.\n",
    "### So if there are 3 elements in A then 2**3 = 8 and thats how we'd know the total number of subsets of a power set.\n",
    "###\n",
    "###\n",
    "#### Try to create a Power Set Function"
   ]
  },
  {
   "cell_type": "code",
   "execution_count": 4,
   "id": "537a5f6a-3297-404a-96e0-6e9404d3eb29",
   "metadata": {},
   "outputs": [],
   "source": [
    "import numpy as np\n",
    "\n",
    "def f_getPowerSet(S):\n",
    "    pS = set([]) ## This is the set for collecting the subset. Basically the end result set we will return\n",
    "    A = np.array(list(S)) ## We are converting the S set we get from outside the funtion into an array because it works better with binary to get the subsets according to instructions\n",
    "    n=A.size ## Getting the size of the array\n",
    "    for i in range(2**n): ## Now lets create a for loop with the total length applying the power set rule of 2**n\n",
    "        b = np.binary_repr(i,width=n) ## Lets get the binary representation set up here using numpy\n",
    "        idx = np.array(list(b),dtype=int) == 1 ## Now lets create an index for our binary and array\n",
    "        pS.add(frozenset(A[idx])) ## This is the set we will use to add sets to pS\n",
    "        \n",
    "    return pS"
   ]
  },
  {
   "cell_type": "code",
   "execution_count": 24,
   "id": "5094570c-3ec3-4488-acdd-9489c161748e",
   "metadata": {},
   "outputs": [
    {
     "data": {
      "text/plain": [
       "{0, 1, 2}"
      ]
     },
     "execution_count": 24,
     "metadata": {},
     "output_type": "execute_result"
    }
   ],
   "source": [
    "## This is our set \n",
    "\n",
    "S = set(np.arange(3))\n",
    "S"
   ]
  },
  {
   "cell_type": "code",
   "execution_count": 28,
   "id": "8847a7cd-ad0e-4a8d-9bef-d61e7eca7d92",
   "metadata": {},
   "outputs": [
    {
     "data": {
      "text/plain": [
       "{frozenset(),\n",
       " frozenset({2}),\n",
       " frozenset({1}),\n",
       " frozenset({1, 2}),\n",
       " frozenset({0}),\n",
       " frozenset({0, 1}),\n",
       " frozenset({0, 2}),\n",
       " frozenset({0, 1, 2})}"
      ]
     },
     "execution_count": 28,
     "metadata": {},
     "output_type": "execute_result"
    }
   ],
   "source": [
    "pS = f_getPowerSet(S)\n",
    "pS"
   ]
  },
  {
   "cell_type": "code",
   "execution_count": 30,
   "id": "74b966fb-5191-49af-9832-01386fce8414",
   "metadata": {},
   "outputs": [
    {
     "name": "stdout",
     "output_type": "stream",
     "text": [
      "frozenset({2})\n",
      "frozenset({1, 2})\n",
      "frozenset({0, 1, 2})\n",
      "frozenset({0, 1})\n",
      "frozenset({0, 2})\n",
      "frozenset({1})\n",
      "frozenset()\n",
      "frozenset({0})\n"
     ]
    }
   ],
   "source": [
    "for i in pS:\n",
    "    print(i)"
   ]
  },
  {
   "cell_type": "markdown",
   "id": "2eac36f6-317a-4c9f-9e76-bdb563fd181d",
   "metadata": {},
   "source": [
    "## Sets: Review Sets"
   ]
  },
  {
   "cell_type": "code",
   "execution_count": 3,
   "id": "24868491-1157-4b44-9f47-82f34a6bbbc0",
   "metadata": {},
   "outputs": [],
   "source": [
    "## Lets create a basic set\n",
    "\n",
    "A = {1,2,3,8}\n",
    "B = {3,4}"
   ]
  },
  {
   "cell_type": "code",
   "execution_count": 5,
   "id": "001379ee-0ee8-4f81-b4d2-212fb31cb6c6",
   "metadata": {},
   "outputs": [
    {
     "name": "stdout",
     "output_type": "stream",
     "text": [
      "True\n"
     ]
    }
   ],
   "source": [
    "## Lets create some boolian statements about the sets above like if a certain number is an element within the sets\n",
    "\n",
    "print(1 in A)"
   ]
  },
  {
   "cell_type": "code",
   "execution_count": 7,
   "id": "8446c5ba-ab55-4bb4-a69a-054357024ed5",
   "metadata": {},
   "outputs": [
    {
     "data": {
      "text/plain": [
       "False"
      ]
     },
     "execution_count": 7,
     "metadata": {},
     "output_type": "execute_result"
    }
   ],
   "source": [
    "4 in A"
   ]
  },
  {
   "cell_type": "code",
   "execution_count": 11,
   "id": "fa5df732-183d-4960-ab04-cf3912689d46",
   "metadata": {},
   "outputs": [
    {
     "data": {
      "text/plain": [
       "True"
      ]
     },
     "execution_count": 11,
     "metadata": {},
     "output_type": "execute_result"
    }
   ],
   "source": [
    "4 in B"
   ]
  },
  {
   "cell_type": "code",
   "execution_count": 15,
   "id": "4a2c30ee-ef92-464d-93e0-e808912d3a6d",
   "metadata": {},
   "outputs": [
    {
     "data": {
      "text/plain": [
       "False"
      ]
     },
     "execution_count": 15,
     "metadata": {},
     "output_type": "execute_result"
    }
   ],
   "source": [
    "## We can also check if B is a subset of A\n",
    "## False because B has a 4 which A does not\n",
    "\n",
    "B.issubset(A)"
   ]
  },
  {
   "cell_type": "code",
   "execution_count": 23,
   "id": "e1837f6b-16fe-43b8-bcbb-4490524810d5",
   "metadata": {},
   "outputs": [],
   "source": [
    "## Lets create a function that works the same as above!\n",
    "## To check if 1 set is a subset of another set\n",
    "\n",
    "def f_issubset(A,B):\n",
    "    for e in A:\n",
    "        if e in B: ## This is checking if the element of e, which is from A, is in B. If it is then pass it \n",
    "            pass\n",
    "        else: ## If the element e is not within B then return false as the set of B is not a subset of A\n",
    "            return False\n",
    "    return True ## If the loop finished then that means that B is a subset of A and therefore it is True "
   ]
  },
  {
   "cell_type": "code",
   "execution_count": 25,
   "id": "fdd95a87-e16a-47d2-be08-79775d9efcef",
   "metadata": {},
   "outputs": [
    {
     "name": "stdout",
     "output_type": "stream",
     "text": [
      "False\n"
     ]
    }
   ],
   "source": [
    "## Lets test this function\n",
    "\n",
    "print(f_issubset(B,A))"
   ]
  },
  {
   "cell_type": "code",
   "execution_count": 27,
   "id": "a760b455-3b69-47e7-9980-008485ffe874",
   "metadata": {},
   "outputs": [
    {
     "name": "stdout",
     "output_type": "stream",
     "text": [
      "False\n"
     ]
    }
   ],
   "source": [
    "print(f_issubset(A,B))"
   ]
  },
  {
   "cell_type": "code",
   "execution_count": 29,
   "id": "3e8d9b68-6328-49c4-bfbd-186ca36a2fb0",
   "metadata": {},
   "outputs": [
    {
     "name": "stdout",
     "output_type": "stream",
     "text": [
      "True\n"
     ]
    }
   ],
   "source": [
    "print(f_issubset({2,3,4},{1,2,3,4,5,6,7,8}))"
   ]
  },
  {
   "cell_type": "markdown",
   "id": "26ae2272-c9b3-4e81-aadc-80d870202905",
   "metadata": {},
   "source": [
    "## Sets: Operations"
   ]
  },
  {
   "cell_type": "markdown",
   "id": "74e9eb72-b7c4-46bf-b30b-c73b9783411c",
   "metadata": {},
   "source": [
    "### Sets: Union\n",
    "#### A union is when you combine 2 sets with all elements that are SHARED and are UNIQUE between the sets.\n",
    "#### So with {1,2,3,4} and {2,4,6,8} the union would be {1,2,3,4,6,8} notice no duplicates with the 2 and 4\n",
    "### Sets: Intersection\n",
    "#### A intersection is when you combine 2 sets with only SHARED elements.\n",
    "#### So with {1,2,3,4} and {2,4,6,8} the intersection would be {2,4}\n",
    "### Sets: Difference\n",
    "#### A difference is when you find the elements of one set that are not SHARED between another set\n",
    "#### So with {1,2,3,4} and {2,4,6,8} the Difference would be {1,3} as we only look for the non-SHARED elements of 1 set, not both.\n",
    "### Sets: Compliment\n",
    "#### A compliment is when you find the difference between between a universal set (a larger set containing all elements of all sets) and a smaller set\n",
    "#### So with {1,2,3,4,5,6,7,8,9,10} and {2,4,6,8} the compliment would be {1,3,5,7,9,10}\n",
    "### Sets: De Morgans Law\n",
    "#### De Morgans Law states that if you take the intersection of 2 sets and then take the compliment of that set you will get the Union of compliments of both sets\n",
    "#### So with {1,2,3,4,5,6,7,8,9,10} and {1,2,3,4} and {2,4,6,8}, the intersection would be {2,4} then the compliment is, {1,3,5,6,7,8,9,10}\n",
    "#### Meaning the above is the same as the compliment of set 1 ({1,2,3,4,5,6,7,8,9,10} and {1,2,3,4} is {5,6,7,8,9,10} ) and set 2({1,2,3,4,5,6,7,8,9,10} and {2,4,6,8} is {1,3,5,7,9,10})\n",
    "#### Then take the Union between those two compliments {1,3,5,7,9,10} and {1,3,5,7,9,10} which is {1,3,5,6,7,8,9,10}. Notice how its the same as the start of the example\n",
    "### Sets: Partition\n",
    "#### A Partition is when you take subsets of a primary set and they are able to be combined to form the main set\n",
    "#### Like {1,2,3,4,5,6,7,8,9,10} and {1,2,3,4} and {5,6,7} and {8,9,10} if you union all 3 smaller sets they will form the primary set"
   ]
  },
  {
   "cell_type": "code",
   "execution_count": 2,
   "id": "983b16ab-d981-4b04-8f4a-762e43433c6c",
   "metadata": {},
   "outputs": [],
   "source": [
    "import numpy as np"
   ]
  },
  {
   "cell_type": "code",
   "execution_count": 3,
   "id": "8f491714-b5d6-45d6-81ec-706061a05053",
   "metadata": {},
   "outputs": [
    {
     "data": {
      "text/plain": [
       "{0, 1, 2, 3, 4, 5, 6, 7, 8, 9}"
      ]
     },
     "execution_count": 3,
     "metadata": {},
     "output_type": "execute_result"
    }
   ],
   "source": [
    "## Lets create some sets and use some of the rules we defined above!\n",
    "## First lets create a universal set \n",
    "\n",
    "Omega = set(np.arange(10))\n",
    "Omega"
   ]
  },
  {
   "cell_type": "code",
   "execution_count": 93,
   "id": "fa3409aa-62af-4088-ac1e-9858ed9fd827",
   "metadata": {},
   "outputs": [
    {
     "data": {
      "text/plain": [
       "{0, 2, 4, 6, 8}"
      ]
     },
     "execution_count": 93,
     "metadata": {},
     "output_type": "execute_result"
    }
   ],
   "source": [
    "## Now lets define a set A which is even numbers\n",
    "\n",
    "A = set(np.arange(0,9,2))\n",
    "A"
   ]
  },
  {
   "cell_type": "code",
   "execution_count": 7,
   "id": "c06a5bf3-b3e1-4e47-bada-af46cb3f3d50",
   "metadata": {},
   "outputs": [
    {
     "data": {
      "text/plain": [
       "{1, 4, 7}"
      ]
     },
     "execution_count": 7,
     "metadata": {},
     "output_type": "execute_result"
    }
   ],
   "source": [
    "## Now lets define a set B with every 3rd element starting from 1\n",
    "\n",
    "B = set(np.arange(1,9,3))\n",
    "B"
   ]
  },
  {
   "cell_type": "code",
   "execution_count": 14,
   "id": "4dcc4a05-0619-4617-bce2-2452e8631d41",
   "metadata": {},
   "outputs": [
    {
     "data": {
      "text/plain": [
       "{0, 1, 2, 4, 6, 7, 8}"
      ]
     },
     "execution_count": 14,
     "metadata": {},
     "output_type": "execute_result"
    }
   ],
   "source": [
    "## Now lets try unioning A and B\n",
    "\n",
    "A.union(B)"
   ]
  },
  {
   "cell_type": "code",
   "execution_count": 16,
   "id": "871e44ea-7f0e-4dc4-8ecd-db705b253099",
   "metadata": {},
   "outputs": [
    {
     "data": {
      "text/plain": [
       "{4}"
      ]
     },
     "execution_count": 16,
     "metadata": {},
     "output_type": "execute_result"
    }
   ],
   "source": [
    "## Now lets try intersection\n",
    "\n",
    "A.intersection(B)"
   ]
  },
  {
   "cell_type": "code",
   "execution_count": 18,
   "id": "d75a7089-7716-48b2-b579-665be777247c",
   "metadata": {},
   "outputs": [
    {
     "data": {
      "text/plain": [
       "{1, 4, 6, 7}"
      ]
     },
     "execution_count": 18,
     "metadata": {},
     "output_type": "execute_result"
    }
   ],
   "source": [
    "## lets add another element to B, 6\n",
    "\n",
    "B.add(6)\n",
    "B"
   ]
  },
  {
   "cell_type": "code",
   "execution_count": 20,
   "id": "d7be73c3-bd52-48cb-9bd8-89bdc0a11e37",
   "metadata": {},
   "outputs": [
    {
     "data": {
      "text/plain": [
       "{4, 6}"
      ]
     },
     "execution_count": 20,
     "metadata": {},
     "output_type": "execute_result"
    }
   ],
   "source": [
    "## Now lets try intersection again\n",
    "\n",
    "A.intersection(B)"
   ]
  },
  {
   "cell_type": "code",
   "execution_count": 22,
   "id": "fa5e1fea-1bf2-42ce-986a-dbd9308339dd",
   "metadata": {},
   "outputs": [
    {
     "data": {
      "text/plain": [
       "{0, 2, 8}"
      ]
     },
     "execution_count": 22,
     "metadata": {},
     "output_type": "execute_result"
    }
   ],
   "source": [
    "## Now lets try the difference\n",
    "\n",
    "A.difference(B)"
   ]
  },
  {
   "cell_type": "code",
   "execution_count": 24,
   "id": "f6dc36eb-45f1-400c-abde-6313a2310d6e",
   "metadata": {},
   "outputs": [
    {
     "data": {
      "text/plain": [
       "{1, 3, 5, 7, 9}"
      ]
     },
     "execution_count": 24,
     "metadata": {},
     "output_type": "execute_result"
    }
   ],
   "source": [
    "## Now lets try using the universal function to get the compliment of A using difference\n",
    "\n",
    "A_compliment = Omega.difference(A)\n",
    "A_compliment"
   ]
  },
  {
   "cell_type": "code",
   "execution_count": 26,
   "id": "bac9fc21-f864-4281-94c6-6fb1fefb69b6",
   "metadata": {},
   "outputs": [
    {
     "data": {
      "text/plain": [
       "{0, 2, 3, 5, 8, 9}"
      ]
     },
     "execution_count": 26,
     "metadata": {},
     "output_type": "execute_result"
    }
   ],
   "source": [
    "## Now lets try using the universal function to get the compliment of B using difference\n",
    "\n",
    "B_compliment = Omega.difference(B)\n",
    "B_compliment"
   ]
  },
  {
   "cell_type": "code",
   "execution_count": 36,
   "id": "8e643867-9cc9-4662-88ff-5078aa28748b",
   "metadata": {},
   "outputs": [
    {
     "data": {
      "text/plain": [
       "{3, 5, 9}"
      ]
     },
     "execution_count": 36,
     "metadata": {},
     "output_type": "execute_result"
    }
   ],
   "source": [
    "## Lets take the intersection of A_compliment and B_compliment\n",
    "## Its also the result if we tried De Morgans Law on the union of A and B with the difference of the universal set\n",
    "\n",
    "A_compliment.intersection(B_compliment)"
   ]
  },
  {
   "cell_type": "code",
   "execution_count": 30,
   "id": "82d8e3e1-672a-468c-ab2c-971108b7a912",
   "metadata": {},
   "outputs": [
    {
     "data": {
      "text/plain": [
       "{3, 5, 9}"
      ]
     },
     "execution_count": 30,
     "metadata": {},
     "output_type": "execute_result"
    }
   ],
   "source": [
    "## Now lets use De Morgans Law to check the compliments of the above\n",
    "\n",
    "Omega.difference((A.union(B)))"
   ]
  },
  {
   "cell_type": "code",
   "execution_count": 38,
   "id": "7d5c1fbf-6699-4e35-b04b-081aae547505",
   "metadata": {},
   "outputs": [
    {
     "data": {
      "text/plain": [
       "{0, 1, 2, 3, 5, 7, 8, 9}"
      ]
     },
     "execution_count": 38,
     "metadata": {},
     "output_type": "execute_result"
    }
   ],
   "source": [
    "## Using De Morgans Law we can also do this in reverse by switching the Intersection and Unions above!\n",
    "## Lets try the union of the compliments \n",
    "\n",
    "A_compliment.union(B_compliment)"
   ]
  },
  {
   "cell_type": "code",
   "execution_count": 42,
   "id": "14ac744a-5e4e-44ac-a397-4d76bd7016ef",
   "metadata": {},
   "outputs": [
    {
     "data": {
      "text/plain": [
       "{0, 1, 2, 3, 5, 7, 8, 9}"
      ]
     },
     "execution_count": 42,
     "metadata": {},
     "output_type": "execute_result"
    }
   ],
   "source": [
    "## Now lets try the intersection of the compliments of A and B then the difference from the universal set\n",
    "## Notice the above are the same!\n",
    "\n",
    "Omega.difference((A.intersection(B)))"
   ]
  },
  {
   "cell_type": "markdown",
   "id": "8a50588f-319e-438e-8ef8-d02f28155e03",
   "metadata": {},
   "source": [
    "## Sets: Make a code that takes a list of sets and determines if the sets given are a partition of a primary set"
   ]
  },
  {
   "cell_type": "code",
   "execution_count": 1,
   "id": "cce222a1-43a6-4c42-989a-7a3ddad2f3c7",
   "metadata": {},
   "outputs": [],
   "source": [
    "import numpy as np"
   ]
  },
  {
   "cell_type": "code",
   "execution_count": 11,
   "id": "dfe99c68-5bce-4281-b904-10086e95902f",
   "metadata": {},
   "outputs": [
    {
     "data": {
      "text/plain": [
       "{0, 1, 2, 3, 4, 5, 6, 7, 8, 9}"
      ]
     },
     "execution_count": 11,
     "metadata": {},
     "output_type": "execute_result"
    }
   ],
   "source": [
    "Omega"
   ]
  },
  {
   "cell_type": "code",
   "execution_count": 13,
   "id": "f8453590-c6ae-4ada-a446-56b43fa47ddf",
   "metadata": {},
   "outputs": [
    {
     "data": {
      "text/plain": [
       "{0, 2, 4, 6, 8}"
      ]
     },
     "execution_count": 13,
     "metadata": {},
     "output_type": "execute_result"
    }
   ],
   "source": [
    "A"
   ]
  },
  {
   "cell_type": "code",
   "execution_count": 15,
   "id": "201fd5ec-2f1c-41f7-a644-6933aa614e29",
   "metadata": {},
   "outputs": [
    {
     "data": {
      "text/plain": [
       "{1, 4, 7}"
      ]
     },
     "execution_count": 15,
     "metadata": {},
     "output_type": "execute_result"
    }
   ],
   "source": [
    "B"
   ]
  },
  {
   "cell_type": "code",
   "execution_count": 21,
   "id": "320f95b6-97f1-46b5-8ce0-f909a50f0870",
   "metadata": {},
   "outputs": [
    {
     "data": {
      "text/plain": [
       "{1, 3, 5, 7, 9}"
      ]
     },
     "execution_count": 21,
     "metadata": {},
     "output_type": "execute_result"
    }
   ],
   "source": [
    "C = set(np.arange(1,10,2))\n",
    "C"
   ]
  },
  {
   "cell_type": "code",
   "execution_count": 24,
   "id": "b652d7ff-6825-4354-ae3b-b8978da0fad2",
   "metadata": {},
   "outputs": [
    {
     "data": {
      "text/plain": [
       "{0, 1, 2, 3, 4, 5, 6, 7, 8, 9}"
      ]
     },
     "execution_count": 24,
     "metadata": {},
     "output_type": "execute_result"
    }
   ],
   "source": [
    "## So with the above, A and C are partitions of Omega\n",
    "## We can check by using the Union method and unioning A and C, which creates Omega\n",
    "A.union(C)"
   ]
  },
  {
   "cell_type": "code",
   "execution_count": 81,
   "id": "8072744c-2f56-4379-b1de-5c1a35420428",
   "metadata": {},
   "outputs": [
    {
     "data": {
      "text/plain": [
       "[{0, 2}, {4, 6, 8}, {1, 3}, {5, 7, 9}]"
      ]
     },
     "execution_count": 81,
     "metadata": {},
     "output_type": "execute_result"
    }
   ],
   "source": [
    "## Now lets create a for loop that holds the values of the sets in a list and combines them and compares them to Omega\n",
    "## First lets create the list holding A and C's values\n",
    "\n",
    "L = [{0, 2},{4, 6, 8},{1, 3},{5, 7, 9}]\n",
    "L"
   ]
  },
  {
   "cell_type": "code",
   "execution_count": 85,
   "id": "af919177-6330-4164-a2c6-95455c8bc7a3",
   "metadata": {},
   "outputs": [
    {
     "name": "stdout",
     "output_type": "stream",
     "text": [
      "L[i] {0, 2}\n",
      "F= {0, 2}\n",
      "L[i] {8, 4, 6}\n",
      "F= {0, 2, 4, 6, 8}\n",
      "L[i] {1, 3}\n",
      "F= {0, 1, 2, 3, 4, 6, 8}\n",
      "L[i] {9, 5, 7}\n",
      "F= {0, 1, 2, 3, 4, 5, 6, 7, 8, 9}\n"
     ]
    },
    {
     "data": {
      "text/plain": [
       "True"
      ]
     },
     "execution_count": 85,
     "metadata": {},
     "output_type": "execute_result"
    }
   ],
   "source": [
    "## Now lets create function using a for loop\n",
    "## We'll also create D which will be the empty set which will hold the values of the combined sets in L\n",
    "\n",
    "def is_partition(L,S):\n",
    "    \n",
    "    F = set([]) \n",
    "\n",
    "    for i in range(len(L)):\n",
    "        print('L[i]',L[i])\n",
    "        F = F.union(L[i])\n",
    "        print('F=',F)\n",
    "\n",
    "    return F == S\n",
    "\n",
    "is_partition(L,Omega)"
   ]
  },
  {
   "cell_type": "markdown",
   "id": "24fba015-15a6-4fa5-a9dc-409aea00fb88",
   "metadata": {},
   "source": [
    "## Sets: Make a code that determines if taking the compliment of a set and then another compliment is equal to the original set"
   ]
  },
  {
   "cell_type": "code",
   "execution_count": 97,
   "id": "33679991-b0d7-43d3-ac32-14c205a74be1",
   "metadata": {},
   "outputs": [
    {
     "name": "stdout",
     "output_type": "stream",
     "text": [
      "{0, 1, 2, 3, 4, 5, 6, 7, 8, 9}\n",
      "{0, 2, 4, 6, 8}\n",
      "{1, 3, 5, 7, 9}\n"
     ]
    }
   ],
   "source": [
    "## First lets get some variables\n",
    "\n",
    "Omega = set(np.arange(10))\n",
    "Omega\n",
    "\n",
    "A = set(np.arange(0,9,2))\n",
    "A\n",
    "\n",
    "B = set(np.arange(1,10,2))\n",
    "B\n",
    "\n",
    "print(Omega)\n",
    "print(A)\n",
    "print(C)"
   ]
  },
  {
   "cell_type": "code",
   "execution_count": 99,
   "id": "7213d56d-6543-4cbd-aabe-481a6e6e5f50",
   "metadata": {},
   "outputs": [
    {
     "name": "stdout",
     "output_type": "stream",
     "text": [
      "{1, 3, 5, 7, 9}\n",
      "{0, 2, 4, 6, 8}\n"
     ]
    }
   ],
   "source": [
    "## Now lets find the compliments of those variables\n",
    "\n",
    "A_compliment = Omega.difference(A)\n",
    "print(A_compliment)\n",
    "\n",
    "B_compliment = Omega.difference(B)\n",
    "print(B_compliment)"
   ]
  },
  {
   "cell_type": "code",
   "execution_count": 101,
   "id": "c1966aa2-7318-4711-ae23-8b696b7b3773",
   "metadata": {},
   "outputs": [
    {
     "name": "stdout",
     "output_type": "stream",
     "text": [
      "{1, 3, 5, 7, 9}\n",
      "{0, 2, 4, 6, 8}\n"
     ]
    }
   ],
   "source": [
    "## Now lets find the compliments of those variables\n",
    "\n",
    "A_compliment_compliment = Omega.difference(A_compliment)\n",
    "print(A_compliment)\n",
    "\n",
    "B_compliment_compliment = Omega.difference(B_compliment)\n",
    "print(B_compliment)"
   ]
  },
  {
   "cell_type": "code",
   "execution_count": 129,
   "id": "6464d852-6bf3-4cdf-b4d2-1a303bb1943c",
   "metadata": {},
   "outputs": [
    {
     "name": "stdout",
     "output_type": "stream",
     "text": [
      "original set: {1, 3, 5, 7, 9}\n",
      "Compliment\n",
      "{0, 2, 4, 6, 8}\n",
      "Compliment\n",
      "Compliment of compliment: {1, 3, 5, 7, 9}\n"
     ]
    },
    {
     "data": {
      "text/plain": [
       "True"
      ]
     },
     "execution_count": 129,
     "metadata": {},
     "output_type": "execute_result"
    }
   ],
   "source": [
    "## Now that we know that we can find the compliment of a compliment lets create a function with a loop that iterates twice and gets the compliment of a compliment\n",
    "\n",
    "def is_compliment(A,Omega):\n",
    "    \n",
    "    A2 = {}\n",
    "    print('original set:',A)\n",
    "    for i in range(2):\n",
    "        if A2 == {}:\n",
    "            print('Compliment')\n",
    "            A2 = Omega.difference(A)\n",
    "            print(A2)\n",
    "        else:\n",
    "            A2 = Omega.difference(A2)\n",
    "            print('Compliment')\n",
    "    print('Compliment of compliment:',A)\n",
    "    return A2 == A\n",
    "\n",
    "is_compliment(B,Omega)"
   ]
  },
  {
   "cell_type": "code",
   "execution_count": null,
   "id": "12002bbd-b4b9-45df-b59a-a99320ca49cb",
   "metadata": {},
   "outputs": [],
   "source": []
  },
  {
   "cell_type": "code",
   "execution_count": null,
   "id": "2eda62f9-5fd3-4dfb-b4e6-3eeb9e00c57a",
   "metadata": {},
   "outputs": [],
   "source": []
  },
  {
   "cell_type": "code",
   "execution_count": null,
   "id": "f9d30c81-6acd-40d7-a414-703e3fe72790",
   "metadata": {},
   "outputs": [],
   "source": []
  },
  {
   "cell_type": "code",
   "execution_count": null,
   "id": "44f71a15-d38b-42c5-8e7b-67a12015aa2b",
   "metadata": {},
   "outputs": [],
   "source": []
  },
  {
   "cell_type": "code",
   "execution_count": null,
   "id": "7f428190-7baf-4fa6-8ac6-d9eb1f44751b",
   "metadata": {},
   "outputs": [],
   "source": []
  },
  {
   "cell_type": "code",
   "execution_count": null,
   "id": "796dfa4b-e1d3-45b3-9a31-5f2d9ad69379",
   "metadata": {},
   "outputs": [],
   "source": []
  },
  {
   "cell_type": "code",
   "execution_count": null,
   "id": "45c764a7-5554-4ed8-b2c5-dd749e84ecb4",
   "metadata": {},
   "outputs": [],
   "source": []
  },
  {
   "cell_type": "code",
   "execution_count": null,
   "id": "14dea18a-cb55-4d4a-a752-c2890cb2864b",
   "metadata": {},
   "outputs": [],
   "source": []
  },
  {
   "cell_type": "code",
   "execution_count": null,
   "id": "9ee325b2-63b6-4b89-8537-03e0d31ef23e",
   "metadata": {},
   "outputs": [],
   "source": []
  },
  {
   "cell_type": "code",
   "execution_count": null,
   "id": "6a18e7d7-0a53-4f9e-ba86-ce0e826a4904",
   "metadata": {},
   "outputs": [],
   "source": []
  },
  {
   "cell_type": "code",
   "execution_count": null,
   "id": "7a51f5ca-a90e-404f-9f9b-1311b1e5daca",
   "metadata": {},
   "outputs": [],
   "source": []
  },
  {
   "cell_type": "code",
   "execution_count": null,
   "id": "b862d99c-48e7-41b2-ab7c-6c080d068b9a",
   "metadata": {},
   "outputs": [],
   "source": []
  },
  {
   "cell_type": "code",
   "execution_count": null,
   "id": "c08b831c-8a56-4ac0-94b6-c9be980f6bb7",
   "metadata": {},
   "outputs": [],
   "source": []
  },
  {
   "cell_type": "code",
   "execution_count": null,
   "id": "b85b48ae-316e-45be-b138-1a90b6b3227e",
   "metadata": {},
   "outputs": [],
   "source": []
  },
  {
   "cell_type": "code",
   "execution_count": null,
   "id": "6197c093-5ec4-40d1-b228-8a40bda7ae89",
   "metadata": {},
   "outputs": [],
   "source": []
  },
  {
   "cell_type": "code",
   "execution_count": null,
   "id": "6e10511a-133b-4569-9514-88856eb953cb",
   "metadata": {},
   "outputs": [],
   "source": []
  },
  {
   "cell_type": "code",
   "execution_count": null,
   "id": "5e340cc5-3456-4ff8-8d94-368fff20f083",
   "metadata": {},
   "outputs": [],
   "source": []
  },
  {
   "cell_type": "code",
   "execution_count": null,
   "id": "e57fe861-3e45-4e90-b8a9-8c606f3fb2ef",
   "metadata": {},
   "outputs": [],
   "source": []
  }
 ],
 "metadata": {
  "kernelspec": {
   "display_name": "Python 3 (ipykernel)",
   "language": "python",
   "name": "python3"
  },
  "language_info": {
   "codemirror_mode": {
    "name": "ipython",
    "version": 3
   },
   "file_extension": ".py",
   "mimetype": "text/x-python",
   "name": "python",
   "nbconvert_exporter": "python",
   "pygments_lexer": "ipython3",
   "version": "3.11.7"
  }
 },
 "nbformat": 4,
 "nbformat_minor": 5
}
