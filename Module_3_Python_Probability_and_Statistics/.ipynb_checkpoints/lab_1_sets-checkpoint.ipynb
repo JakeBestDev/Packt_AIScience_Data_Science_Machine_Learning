{
 "cells": [
  {
   "cell_type": "markdown",
   "id": "82ea78f3-003f-4e71-b7ad-137f5b99165a",
   "metadata": {},
   "source": [
    "# Lab 1: Sets"
   ]
  },
  {
   "cell_type": "markdown",
   "id": "046984d4-05f1-4110-bcc4-1ab011e7a8f1",
   "metadata": {},
   "source": [
    "## Definition of Sets: Exercise 1\n",
    "### Can a set have different types of objects?"
   ]
  },
  {
   "cell_type": "code",
   "execution_count": 5,
   "id": "88735620-33f8-4ac0-887c-43f512633732",
   "metadata": {},
   "outputs": [],
   "source": [
    "## Lets create 3 different sets! One with only ints, one with only strings, and one with a mix of ints and strings!\n",
    "\n",
    "x = {1,2,3,4,5}\n",
    "y = {'a','b','c','d'}\n",
    "z = {1,'a',2,'b'}"
   ]
  },
  {
   "cell_type": "code",
   "execution_count": 7,
   "id": "7c84e7a0-c788-497a-ac90-112317479208",
   "metadata": {},
   "outputs": [
    {
     "data": {
      "text/plain": [
       "{1, 2, 3, 4, 5}"
      ]
     },
     "execution_count": 7,
     "metadata": {},
     "output_type": "execute_result"
    }
   ],
   "source": [
    "x"
   ]
  },
  {
   "cell_type": "code",
   "execution_count": 9,
   "id": "36f7b154-ffe1-4ec2-a971-059532db45b2",
   "metadata": {},
   "outputs": [
    {
     "data": {
      "text/plain": [
       "{'a', 'b', 'c', 'd'}"
      ]
     },
     "execution_count": 9,
     "metadata": {},
     "output_type": "execute_result"
    }
   ],
   "source": [
    "y"
   ]
  },
  {
   "cell_type": "code",
   "execution_count": 15,
   "id": "60dbf214-0439-4550-baf9-503612b3e216",
   "metadata": {},
   "outputs": [
    {
     "data": {
      "text/plain": [
       "{1, 2, 'a', 'b'}"
      ]
     },
     "execution_count": 15,
     "metadata": {},
     "output_type": "execute_result"
    }
   ],
   "source": [
    "## YES! A set can have a mix of types!\n",
    "## A set does become much more difficult to work with different types but it is doable!\n",
    "z"
   ]
  },
  {
   "cell_type": "code",
   "execution_count": null,
   "id": "363b833a-0946-4958-9369-8ba1d1786a75",
   "metadata": {},
   "outputs": [],
   "source": []
  },
  {
   "cell_type": "code",
   "execution_count": null,
   "id": "7201a744-537d-4cd1-b549-eeb0be887fa1",
   "metadata": {},
   "outputs": [],
   "source": []
  },
  {
   "cell_type": "code",
   "execution_count": null,
   "id": "a8168197-1750-4db9-9099-f3dd3690748b",
   "metadata": {},
   "outputs": [],
   "source": []
  },
  {
   "cell_type": "code",
   "execution_count": null,
   "id": "bc7a1493-6c33-45ad-aaec-9f9088a696e5",
   "metadata": {},
   "outputs": [],
   "source": []
  },
  {
   "cell_type": "code",
   "execution_count": null,
   "id": "62821d68-4772-4b70-b332-ef003c5a95f0",
   "metadata": {},
   "outputs": [],
   "source": []
  },
  {
   "cell_type": "code",
   "execution_count": null,
   "id": "5020dc9f-5b05-4e89-8248-de0b424c1b56",
   "metadata": {},
   "outputs": [],
   "source": []
  },
  {
   "cell_type": "code",
   "execution_count": null,
   "id": "537a5f6a-3297-404a-96e0-6e9404d3eb29",
   "metadata": {},
   "outputs": [],
   "source": []
  },
  {
   "cell_type": "code",
   "execution_count": null,
   "id": "5094570c-3ec3-4488-acdd-9489c161748e",
   "metadata": {},
   "outputs": [],
   "source": []
  },
  {
   "cell_type": "code",
   "execution_count": null,
   "id": "8847a7cd-ad0e-4a8d-9bef-d61e7eca7d92",
   "metadata": {},
   "outputs": [],
   "source": []
  },
  {
   "cell_type": "code",
   "execution_count": null,
   "id": "74b966fb-5191-49af-9832-01386fce8414",
   "metadata": {},
   "outputs": [],
   "source": []
  },
  {
   "cell_type": "code",
   "execution_count": null,
   "id": "2f7c5b98-6c39-4540-9de4-c744b57e6dbb",
   "metadata": {},
   "outputs": [],
   "source": []
  },
  {
   "cell_type": "code",
   "execution_count": null,
   "id": "b652d7ff-6825-4354-ae3b-b8978da0fad2",
   "metadata": {},
   "outputs": [],
   "source": []
  },
  {
   "cell_type": "code",
   "execution_count": null,
   "id": "8072744c-2f56-4379-b1de-5c1a35420428",
   "metadata": {},
   "outputs": [],
   "source": []
  },
  {
   "cell_type": "code",
   "execution_count": null,
   "id": "6e10511a-133b-4569-9514-88856eb953cb",
   "metadata": {},
   "outputs": [],
   "source": []
  },
  {
   "cell_type": "code",
   "execution_count": null,
   "id": "5e340cc5-3456-4ff8-8d94-368fff20f083",
   "metadata": {},
   "outputs": [],
   "source": []
  },
  {
   "cell_type": "code",
   "execution_count": null,
   "id": "e57fe861-3e45-4e90-b8a9-8c606f3fb2ef",
   "metadata": {},
   "outputs": [],
   "source": []
  }
 ],
 "metadata": {
  "kernelspec": {
   "display_name": "Python 3 (ipykernel)",
   "language": "python",
   "name": "python3"
  },
  "language_info": {
   "codemirror_mode": {
    "name": "ipython",
    "version": 3
   },
   "file_extension": ".py",
   "mimetype": "text/x-python",
   "name": "python",
   "nbconvert_exporter": "python",
   "pygments_lexer": "ipython3",
   "version": "3.11.7"
  }
 },
 "nbformat": 4,
 "nbformat_minor": 5
}
