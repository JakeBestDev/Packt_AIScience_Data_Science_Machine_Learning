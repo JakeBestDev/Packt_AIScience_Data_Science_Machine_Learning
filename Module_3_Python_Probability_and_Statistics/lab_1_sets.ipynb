{
 "cells": [
  {
   "cell_type": "markdown",
   "id": "82ea78f3-003f-4e71-b7ad-137f5b99165a",
   "metadata": {},
   "source": [
    "# Lab 1: Sets"
   ]
  },
  {
   "cell_type": "markdown",
   "id": "046984d4-05f1-4110-bcc4-1ab011e7a8f1",
   "metadata": {},
   "source": [
    "## Definition of Sets: Exercise 1\n",
    "### What is a set and can a set have different types of objects?"
   ]
  },
  {
   "cell_type": "code",
   "execution_count": 24,
   "id": "88735620-33f8-4ac0-887c-43f512633732",
   "metadata": {},
   "outputs": [],
   "source": [
    "## Lets create 3 different sets! One with only ints, one with only strings, and one with a mix of ints and strings!\n",
    "\n",
    "x = {1,2,3,4,5}\n",
    "y = {'a','b','c','d'}\n",
    "z = {1,1,'a',2,'b'}"
   ]
  },
  {
   "cell_type": "code",
   "execution_count": 26,
   "id": "7c84e7a0-c788-497a-ac90-112317479208",
   "metadata": {},
   "outputs": [
    {
     "data": {
      "text/plain": [
       "{1, 2, 3, 4, 5}"
      ]
     },
     "execution_count": 26,
     "metadata": {},
     "output_type": "execute_result"
    }
   ],
   "source": [
    "x"
   ]
  },
  {
   "cell_type": "code",
   "execution_count": 28,
   "id": "36f7b154-ffe1-4ec2-a971-059532db45b2",
   "metadata": {},
   "outputs": [
    {
     "data": {
      "text/plain": [
       "{'a', 'b', 'c', 'd'}"
      ]
     },
     "execution_count": 28,
     "metadata": {},
     "output_type": "execute_result"
    }
   ],
   "source": [
    "y"
   ]
  },
  {
   "cell_type": "code",
   "execution_count": 32,
   "id": "60dbf214-0439-4550-baf9-503612b3e216",
   "metadata": {},
   "outputs": [
    {
     "data": {
      "text/plain": [
       "{1, 2, 'a', 'b'}"
      ]
     },
     "execution_count": 32,
     "metadata": {},
     "output_type": "execute_result"
    }
   ],
   "source": [
    "## YES! A set can have a mix of types!\n",
    "## A set does become much more difficult to work with different types but it is doable!\n",
    "\n",
    "## Notice how this set became ordered and removed the duplicated 1's in this set!\n",
    "## The definition of a set is that the elements must be distinct and be ordered! That is what happened here with the output\n",
    "\n",
    "z"
   ]
  },
  {
   "cell_type": "markdown",
   "id": "530fcaa8-9aad-4657-a0e4-1b08a7fa50a9",
   "metadata": {},
   "source": [
    "## Definition of Sets: Exercise 2\n",
    "### What is a multiset and what is its python equivlent?"
   ]
  },
  {
   "cell_type": "code",
   "execution_count": 8,
   "id": "7201a744-537d-4cd1-b549-eeb0be887fa1",
   "metadata": {},
   "outputs": [],
   "source": [
    "## A set is a list of elements that are both distinct and ordered\n",
    "## A multiset is undistince (or allow duplicates) and is un-ordered\n",
    "## The closest thing in python to a multiset is a tuple!\n",
    "\n",
    "x = (1,2,2,4,3)"
   ]
  },
  {
   "cell_type": "code",
   "execution_count": 12,
   "id": "a8168197-1750-4db9-9099-f3dd3690748b",
   "metadata": {},
   "outputs": [
    {
     "data": {
      "text/plain": [
       "(1, 2, 2, 4, 3)"
      ]
     },
     "execution_count": 12,
     "metadata": {},
     "output_type": "execute_result"
    }
   ],
   "source": [
    "## Notice we allowed for 2 2's in this tuple and have 3 and 4 out of order!\n",
    "## This tuple by definition is a multiset\n",
    "\n",
    "x"
   ]
  },
  {
   "cell_type": "code",
   "execution_count": 16,
   "id": "bc7a1493-6c33-45ad-aaec-9f9088a696e5",
   "metadata": {},
   "outputs": [],
   "source": [
    "## now lets try with a set!\n",
    "\n",
    "x = {1,2,2,4,3}"
   ]
  },
  {
   "cell_type": "code",
   "execution_count": 20,
   "id": "62821d68-4772-4b70-b332-ef003c5a95f0",
   "metadata": {},
   "outputs": [
    {
     "data": {
      "text/plain": [
       "{1, 2, 3, 4}"
      ]
     },
     "execution_count": 20,
     "metadata": {},
     "output_type": "execute_result"
    }
   ],
   "source": [
    "## Now notice how everything is now ordered as well as there are no duplicated 2's in this set!\n",
    "## Thats the difference between a set and a multiset\n",
    "\n",
    "x"
   ]
  },
  {
   "cell_type": "markdown",
   "id": "df3ab37a-40c4-4165-893b-a663c09d4976",
   "metadata": {},
   "source": [
    "## Set: Power Set\n",
    "### A Power set is a set of subsets of a particular set. \n",
    "### So like if A = {1,2,3}\n",
    "### The Powerset would be p(A) = {{},{1},{2},{3},{1,2},{1,3},{2,3},{1,2,3}} Notice how it contains all possible variations of set A within 1 set. That is a power set\n",
    "### So counting the number of subsets in the powerset above we can see there are 8 subsets. \n",
    "### We know that A has 3 elements within it. So a rule of power sets is that the total number of subsets a power set can have is 2**n where n is the number of elements in the original set.\n",
    "### So if there are 3 elements in A then 2**3 = 8 and thats how we'd know the total number of subsets of a power set.\n",
    "###\n",
    "###\n",
    "#### Try to create a Power Set Function"
   ]
  },
  {
   "cell_type": "code",
   "execution_count": 4,
   "id": "537a5f6a-3297-404a-96e0-6e9404d3eb29",
   "metadata": {},
   "outputs": [],
   "source": [
    "import numpy as np\n",
    "\n",
    "def f_getPowerSet(S):\n",
    "    pS = set([]) ## This is the set for collecting the subset. Basically the end result set we will return\n",
    "    A = np.array(list(S)) ## We are converting the S set we get from outside the funtion into an array because it works better with binary to get the subsets according to instructions\n",
    "    n=A.size ## Getting the size of the array\n",
    "    for i in range(2**n): ## Now lets create a for loop with the total length applying the power set rule of 2**n\n",
    "        b = np.binary_repr(i,width=n) ## Lets get the binary representation set up here using numpy\n",
    "        idx = np.array(list(b),dtype=int) == 1 ## Now lets create an index for our binary and array\n",
    "        pS.add(frozenset(A[idx])) ## This is the set we will use to add sets to pS\n",
    "        \n",
    "    return pS"
   ]
  },
  {
   "cell_type": "code",
   "execution_count": 24,
   "id": "5094570c-3ec3-4488-acdd-9489c161748e",
   "metadata": {},
   "outputs": [
    {
     "data": {
      "text/plain": [
       "{0, 1, 2}"
      ]
     },
     "execution_count": 24,
     "metadata": {},
     "output_type": "execute_result"
    }
   ],
   "source": [
    "## This is our set \n",
    "\n",
    "S = set(np.arange(3))\n",
    "S"
   ]
  },
  {
   "cell_type": "code",
   "execution_count": 28,
   "id": "8847a7cd-ad0e-4a8d-9bef-d61e7eca7d92",
   "metadata": {},
   "outputs": [
    {
     "data": {
      "text/plain": [
       "{frozenset(),\n",
       " frozenset({2}),\n",
       " frozenset({1}),\n",
       " frozenset({1, 2}),\n",
       " frozenset({0}),\n",
       " frozenset({0, 1}),\n",
       " frozenset({0, 2}),\n",
       " frozenset({0, 1, 2})}"
      ]
     },
     "execution_count": 28,
     "metadata": {},
     "output_type": "execute_result"
    }
   ],
   "source": [
    "pS = f_getPowerSet(S)\n",
    "pS"
   ]
  },
  {
   "cell_type": "code",
   "execution_count": 30,
   "id": "74b966fb-5191-49af-9832-01386fce8414",
   "metadata": {},
   "outputs": [
    {
     "name": "stdout",
     "output_type": "stream",
     "text": [
      "frozenset({2})\n",
      "frozenset({1, 2})\n",
      "frozenset({0, 1, 2})\n",
      "frozenset({0, 1})\n",
      "frozenset({0, 2})\n",
      "frozenset({1})\n",
      "frozenset()\n",
      "frozenset({0})\n"
     ]
    }
   ],
   "source": [
    "for i in pS:\n",
    "    print(i)"
   ]
  },
  {
   "cell_type": "markdown",
   "id": "2eac36f6-317a-4c9f-9e76-bdb563fd181d",
   "metadata": {},
   "source": [
    "## Sets: Review Sets"
   ]
  },
  {
   "cell_type": "code",
   "execution_count": 3,
   "id": "24868491-1157-4b44-9f47-82f34a6bbbc0",
   "metadata": {},
   "outputs": [],
   "source": [
    "## Lets create a basic set\n",
    "\n",
    "A = {1,2,3,8}\n",
    "B = {3,4}"
   ]
  },
  {
   "cell_type": "code",
   "execution_count": 5,
   "id": "001379ee-0ee8-4f81-b4d2-212fb31cb6c6",
   "metadata": {},
   "outputs": [
    {
     "name": "stdout",
     "output_type": "stream",
     "text": [
      "True\n"
     ]
    }
   ],
   "source": [
    "## Lets create some boolian statements about the sets above like if a certain number is an element within the sets\n",
    "\n",
    "print(1 in A)"
   ]
  },
  {
   "cell_type": "code",
   "execution_count": 7,
   "id": "8446c5ba-ab55-4bb4-a69a-054357024ed5",
   "metadata": {},
   "outputs": [
    {
     "data": {
      "text/plain": [
       "False"
      ]
     },
     "execution_count": 7,
     "metadata": {},
     "output_type": "execute_result"
    }
   ],
   "source": [
    "4 in A"
   ]
  },
  {
   "cell_type": "code",
   "execution_count": 11,
   "id": "fa5df732-183d-4960-ab04-cf3912689d46",
   "metadata": {},
   "outputs": [
    {
     "data": {
      "text/plain": [
       "True"
      ]
     },
     "execution_count": 11,
     "metadata": {},
     "output_type": "execute_result"
    }
   ],
   "source": [
    "4 in B"
   ]
  },
  {
   "cell_type": "code",
   "execution_count": 15,
   "id": "4a2c30ee-ef92-464d-93e0-e808912d3a6d",
   "metadata": {},
   "outputs": [
    {
     "data": {
      "text/plain": [
       "False"
      ]
     },
     "execution_count": 15,
     "metadata": {},
     "output_type": "execute_result"
    }
   ],
   "source": [
    "## We can also check if B is a subset of A\n",
    "## False because B has a 4 which A does not\n",
    "\n",
    "B.issubset(A)"
   ]
  },
  {
   "cell_type": "code",
   "execution_count": 23,
   "id": "e1837f6b-16fe-43b8-bcbb-4490524810d5",
   "metadata": {},
   "outputs": [],
   "source": [
    "## Lets create a function that works the same as above!\n",
    "## To check if 1 set is a subset of another set\n",
    "\n",
    "def f_issubset(A,B):\n",
    "    for e in A:\n",
    "        if e in B: ## This is checking if the element of e, which is from A, is in B. If it is then pass it \n",
    "            pass\n",
    "        else: ## If the element e is not within B then return false as the set of B is not a subset of A\n",
    "            return False\n",
    "    return True ## If the loop finished then that means that B is a subset of A and therefore it is True "
   ]
  },
  {
   "cell_type": "code",
   "execution_count": 25,
   "id": "fdd95a87-e16a-47d2-be08-79775d9efcef",
   "metadata": {},
   "outputs": [
    {
     "name": "stdout",
     "output_type": "stream",
     "text": [
      "False\n"
     ]
    }
   ],
   "source": [
    "## Lets test this function\n",
    "\n",
    "print(f_issubset(B,A))"
   ]
  },
  {
   "cell_type": "code",
   "execution_count": 27,
   "id": "a760b455-3b69-47e7-9980-008485ffe874",
   "metadata": {},
   "outputs": [
    {
     "name": "stdout",
     "output_type": "stream",
     "text": [
      "False\n"
     ]
    }
   ],
   "source": [
    "print(f_issubset(A,B))"
   ]
  },
  {
   "cell_type": "code",
   "execution_count": 29,
   "id": "3e8d9b68-6328-49c4-bfbd-186ca36a2fb0",
   "metadata": {},
   "outputs": [
    {
     "name": "stdout",
     "output_type": "stream",
     "text": [
      "True\n"
     ]
    }
   ],
   "source": [
    "print(f_issubset({2,3,4},{1,2,3,4,5,6,7,8}))"
   ]
  },
  {
   "cell_type": "markdown",
   "id": "26ae2272-c9b3-4e81-aadc-80d870202905",
   "metadata": {},
   "source": [
    "## Sets: Operations"
   ]
  },
  {
   "cell_type": "markdown",
   "id": "74e9eb72-b7c4-46bf-b30b-c73b9783411c",
   "metadata": {},
   "source": [
    "### Sets: Union\n",
    "#### A union is when you combine 2 sets with all elements that are SHARED and are UNIQUE between the sets.\n",
    "#### So with {1,2,3,4} and {2,4,6,8} the union would be {1,2,3,4,6,8} notice no duplicates with the 2 and 4\n",
    "### Sets: Intersection\n",
    "#### A intersection is when you combine 2 sets with only SHARED elements.\n",
    "#### So with {1,2,3,4} and {2,4,6,8} the intersection would be {2,4}\n",
    "### Sets: Difference\n",
    "#### A difference is when you find the elements of one set that are not SHARED between another set\n",
    "#### So with {1,2,3,4} and {2,4,6,8} the Difference would be {1,3} as we only look for the non-SHARED elements of 1 set, not both.\n",
    "### Sets: Compliment\n",
    "#### A compliment is when you find the difference between between a universal set (a larger set containing all elements of all sets) and a smaller set\n",
    "#### So with {1,2,3,4,5,6,7,8,9,10} and {2,4,6,8} the compliment would be {1,3,5,7,9,10}\n",
    "### Sets: De Morgans Law\n",
    "#### De Morgans Law states that if you take the intersection of 2 sets and then take the compliment of that set you will get the Union of compliments of both sets\n",
    "#### So with {1,2,3,4,5,6,7,8,9,10} and {1,2,3,4} and {2,4,6,8}, the intersection would be {2,4} then the compliment is, {1,3,5,6,7,8,9,10}\n",
    "#### Meaning the above is the same as the compliment of set 1 ({1,2,3,4,5,6,7,8,9,10} and {1,2,3,4} is {5,6,7,8,9,10} ) and set 2({1,2,3,4,5,6,7,8,9,10} and {2,4,6,8} is {1,3,5,7,9,10})\n",
    "#### Then take the Union between those two compliments {1,3,5,7,9,10} and {1,3,5,7,9,10} which is {1,3,5,6,7,8,9,10}. Notice how its the same as the start of the example\n",
    "### Sets: Partition\n",
    "#### A Partition is when you take subsets of a primary set and they are able to be combined to form the main set\n",
    "#### Like {1,2,3,4,5,6,7,8,9,10} and {1,2,3,4} and {5,6,7} and {8,9,10} if you union all 3 smaller sets they will form the primary set"
   ]
  },
  {
   "cell_type": "code",
   "execution_count": null,
   "id": "983b16ab-d981-4b04-8f4a-762e43433c6c",
   "metadata": {},
   "outputs": [],
   "source": []
  },
  {
   "cell_type": "code",
   "execution_count": null,
   "id": "8f491714-b5d6-45d6-81ec-706061a05053",
   "metadata": {},
   "outputs": [],
   "source": []
  },
  {
   "cell_type": "code",
   "execution_count": null,
   "id": "fa3409aa-62af-4088-ac1e-9858ed9fd827",
   "metadata": {},
   "outputs": [],
   "source": []
  },
  {
   "cell_type": "code",
   "execution_count": null,
   "id": "c06a5bf3-b3e1-4e47-bada-af46cb3f3d50",
   "metadata": {},
   "outputs": [],
   "source": []
  },
  {
   "cell_type": "code",
   "execution_count": null,
   "id": "4dcc4a05-0619-4617-bce2-2452e8631d41",
   "metadata": {},
   "outputs": [],
   "source": []
  },
  {
   "cell_type": "code",
   "execution_count": null,
   "id": "871e44ea-7f0e-4dc4-8ecd-db705b253099",
   "metadata": {},
   "outputs": [],
   "source": []
  },
  {
   "cell_type": "code",
   "execution_count": null,
   "id": "d75a7089-7716-48b2-b579-665be777247c",
   "metadata": {},
   "outputs": [],
   "source": []
  },
  {
   "cell_type": "code",
   "execution_count": null,
   "id": "d7be73c3-bd52-48cb-9bd8-89bdc0a11e37",
   "metadata": {},
   "outputs": [],
   "source": []
  },
  {
   "cell_type": "code",
   "execution_count": null,
   "id": "fa5e1fea-1bf2-42ce-986a-dbd9308339dd",
   "metadata": {},
   "outputs": [],
   "source": []
  },
  {
   "cell_type": "code",
   "execution_count": null,
   "id": "f6dc36eb-45f1-400c-abde-6313a2310d6e",
   "metadata": {},
   "outputs": [],
   "source": []
  },
  {
   "cell_type": "code",
   "execution_count": null,
   "id": "bac9fc21-f864-4281-94c6-6fb1fefb69b6",
   "metadata": {},
   "outputs": [],
   "source": []
  },
  {
   "cell_type": "code",
   "execution_count": null,
   "id": "82d8e3e1-672a-468c-ab2c-971108b7a912",
   "metadata": {},
   "outputs": [],
   "source": []
  },
  {
   "cell_type": "code",
   "execution_count": null,
   "id": "7d5c1fbf-6699-4e35-b04b-081aae547505",
   "metadata": {},
   "outputs": [],
   "source": []
  },
  {
   "cell_type": "code",
   "execution_count": null,
   "id": "14ac744a-5e4e-44ac-a397-4d76bd7016ef",
   "metadata": {},
   "outputs": [],
   "source": []
  },
  {
   "cell_type": "code",
   "execution_count": null,
   "id": "cce222a1-43a6-4c42-989a-7a3ddad2f3c7",
   "metadata": {},
   "outputs": [],
   "source": []
  },
  {
   "cell_type": "code",
   "execution_count": null,
   "id": "dfe99c68-5bce-4281-b904-10086e95902f",
   "metadata": {},
   "outputs": [],
   "source": []
  },
  {
   "cell_type": "code",
   "execution_count": null,
   "id": "f8453590-c6ae-4ada-a446-56b43fa47ddf",
   "metadata": {},
   "outputs": [],
   "source": []
  },
  {
   "cell_type": "code",
   "execution_count": null,
   "id": "201fd5ec-2f1c-41f7-a644-6933aa614e29",
   "metadata": {},
   "outputs": [],
   "source": []
  },
  {
   "cell_type": "code",
   "execution_count": null,
   "id": "320f95b6-97f1-46b5-8ce0-f909a50f0870",
   "metadata": {},
   "outputs": [],
   "source": []
  },
  {
   "cell_type": "code",
   "execution_count": null,
   "id": "b652d7ff-6825-4354-ae3b-b8978da0fad2",
   "metadata": {},
   "outputs": [],
   "source": []
  },
  {
   "cell_type": "code",
   "execution_count": null,
   "id": "8072744c-2f56-4379-b1de-5c1a35420428",
   "metadata": {},
   "outputs": [],
   "source": []
  },
  {
   "cell_type": "code",
   "execution_count": null,
   "id": "6e10511a-133b-4569-9514-88856eb953cb",
   "metadata": {},
   "outputs": [],
   "source": []
  },
  {
   "cell_type": "code",
   "execution_count": null,
   "id": "5e340cc5-3456-4ff8-8d94-368fff20f083",
   "metadata": {},
   "outputs": [],
   "source": []
  },
  {
   "cell_type": "code",
   "execution_count": null,
   "id": "e57fe861-3e45-4e90-b8a9-8c606f3fb2ef",
   "metadata": {},
   "outputs": [],
   "source": []
  }
 ],
 "metadata": {
  "kernelspec": {
   "display_name": "Python 3 (ipykernel)",
   "language": "python",
   "name": "python3"
  },
  "language_info": {
   "codemirror_mode": {
    "name": "ipython",
    "version": 3
   },
   "file_extension": ".py",
   "mimetype": "text/x-python",
   "name": "python",
   "nbconvert_exporter": "python",
   "pygments_lexer": "ipython3",
   "version": "3.11.7"
  }
 },
 "nbformat": 4,
 "nbformat_minor": 5
}
