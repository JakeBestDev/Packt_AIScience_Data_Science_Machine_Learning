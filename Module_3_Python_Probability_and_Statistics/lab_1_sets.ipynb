{
 "cells": [
  {
   "cell_type": "markdown",
   "id": "82ea78f3-003f-4e71-b7ad-137f5b99165a",
   "metadata": {},
   "source": [
    "# Lab 1: Sets"
   ]
  },
  {
   "cell_type": "markdown",
   "id": "046984d4-05f1-4110-bcc4-1ab011e7a8f1",
   "metadata": {},
   "source": [
    "## Definition of Sets: Exercise 1\n",
    "### What is a set and can a set have different types of objects?"
   ]
  },
  {
   "cell_type": "code",
   "execution_count": 24,
   "id": "88735620-33f8-4ac0-887c-43f512633732",
   "metadata": {},
   "outputs": [],
   "source": [
    "## Lets create 3 different sets! One with only ints, one with only strings, and one with a mix of ints and strings!\n",
    "\n",
    "x = {1,2,3,4,5}\n",
    "y = {'a','b','c','d'}\n",
    "z = {1,1,'a',2,'b'}"
   ]
  },
  {
   "cell_type": "code",
   "execution_count": 26,
   "id": "7c84e7a0-c788-497a-ac90-112317479208",
   "metadata": {},
   "outputs": [
    {
     "data": {
      "text/plain": [
       "{1, 2, 3, 4, 5}"
      ]
     },
     "execution_count": 26,
     "metadata": {},
     "output_type": "execute_result"
    }
   ],
   "source": [
    "x"
   ]
  },
  {
   "cell_type": "code",
   "execution_count": 28,
   "id": "36f7b154-ffe1-4ec2-a971-059532db45b2",
   "metadata": {},
   "outputs": [
    {
     "data": {
      "text/plain": [
       "{'a', 'b', 'c', 'd'}"
      ]
     },
     "execution_count": 28,
     "metadata": {},
     "output_type": "execute_result"
    }
   ],
   "source": [
    "y"
   ]
  },
  {
   "cell_type": "code",
   "execution_count": 32,
   "id": "60dbf214-0439-4550-baf9-503612b3e216",
   "metadata": {},
   "outputs": [
    {
     "data": {
      "text/plain": [
       "{1, 2, 'a', 'b'}"
      ]
     },
     "execution_count": 32,
     "metadata": {},
     "output_type": "execute_result"
    }
   ],
   "source": [
    "## YES! A set can have a mix of types!\n",
    "## A set does become much more difficult to work with different types but it is doable!\n",
    "\n",
    "## Notice how this set became ordered and removed the duplicated 1's in this set!\n",
    "## The definition of a set is that the elements must be distinct and be ordered! That is what happened here with the output\n",
    "\n",
    "z"
   ]
  },
  {
   "cell_type": "markdown",
   "id": "530fcaa8-9aad-4657-a0e4-1b08a7fa50a9",
   "metadata": {},
   "source": [
    "## Definition of Sets: Exercise 2\n",
    "### What is a multiset and what is its python equivlent?"
   ]
  },
  {
   "cell_type": "code",
   "execution_count": 8,
   "id": "7201a744-537d-4cd1-b549-eeb0be887fa1",
   "metadata": {},
   "outputs": [],
   "source": [
    "## A set is a list of elements that are both distinct and ordered\n",
    "## A multiset is undistince (or allow duplicates) and is un-ordered\n",
    "## The closest thing in python to a multiset is a tuple!\n",
    "\n",
    "x = (1,2,2,4,3)"
   ]
  },
  {
   "cell_type": "code",
   "execution_count": 12,
   "id": "a8168197-1750-4db9-9099-f3dd3690748b",
   "metadata": {},
   "outputs": [
    {
     "data": {
      "text/plain": [
       "(1, 2, 2, 4, 3)"
      ]
     },
     "execution_count": 12,
     "metadata": {},
     "output_type": "execute_result"
    }
   ],
   "source": [
    "## Notice we allowed for 2 2's in this tuple and have 3 and 4 out of order!\n",
    "## This tuple by definition is a multiset\n",
    "\n",
    "x"
   ]
  },
  {
   "cell_type": "code",
   "execution_count": 16,
   "id": "bc7a1493-6c33-45ad-aaec-9f9088a696e5",
   "metadata": {},
   "outputs": [],
   "source": [
    "## now lets try with a set!\n",
    "\n",
    "x = {1,2,2,4,3}"
   ]
  },
  {
   "cell_type": "code",
   "execution_count": 20,
   "id": "62821d68-4772-4b70-b332-ef003c5a95f0",
   "metadata": {},
   "outputs": [
    {
     "data": {
      "text/plain": [
       "{1, 2, 3, 4}"
      ]
     },
     "execution_count": 20,
     "metadata": {},
     "output_type": "execute_result"
    }
   ],
   "source": [
    "## Now notice how everything is now ordered as well as there are no duplicated 2's in this set!\n",
    "## Thats the difference between a set and a multiset\n",
    "\n",
    "x"
   ]
  },
  {
   "cell_type": "markdown",
   "id": "df3ab37a-40c4-4165-893b-a663c09d4976",
   "metadata": {},
   "source": [
    "## Set: Power Set\n",
    "### A Power set is a set of subsets of a particular set. \n",
    "### So like if A = {1,2,3}\n",
    "### The Powerset would be p(A) = {{},{1},{2},{3},{1,2},{1,3},{2,3},{1,2,3}} Notice how it contains all possible variations of set A within 1 set. That is a power set\n",
    "### So counting the number of subsets in the powerset above we can see there are 8 subsets. \n",
    "### We know that A has 3 elements within it. So a rule of power sets is that the total number of subsets a power set can have is 2**n where n is the number of elements in the original set.\n",
    "### So if there are 3 elements in A then 2**3 = 8 and thats how we'd know the total number of subsets of a power set.\n",
    "###\n",
    "###\n",
    "#### Try to create a Power Set Function"
   ]
  },
  {
   "cell_type": "code",
   "execution_count": 4,
   "id": "537a5f6a-3297-404a-96e0-6e9404d3eb29",
   "metadata": {},
   "outputs": [],
   "source": [
    "import numpy as np\n",
    "\n",
    "def f_getPowerSet(S):\n",
    "    pS = set([]) ## This is the set for collecting the subset. Basically the end result set we will return\n",
    "    A = np.array(list(S)) ## We are converting the S set we get from outside the funtion into an array because it works better with binary to get the subsets according to instructions\n",
    "    n=A.size ## Getting the size of the array\n",
    "    for i in range(2**n): ## Now lets create a for loop with the total length applying the power set rule of 2**n\n",
    "        b = np.binary_repr(i,width=n) ## Lets get the binary representation set up here using numpy\n",
    "        idx = np.array(list(b),dtype=int) == 1 ## Now lets create an index for our binary and array\n",
    "        pS.add(frozenset(A[idx])) ## This is the set we will use to add sets to pS\n",
    "        \n",
    "    return pS"
   ]
  },
  {
   "cell_type": "code",
   "execution_count": 24,
   "id": "5094570c-3ec3-4488-acdd-9489c161748e",
   "metadata": {},
   "outputs": [
    {
     "data": {
      "text/plain": [
       "{0, 1, 2}"
      ]
     },
     "execution_count": 24,
     "metadata": {},
     "output_type": "execute_result"
    }
   ],
   "source": [
    "## This is our set \n",
    "\n",
    "S = set(np.arange(3))\n",
    "S"
   ]
  },
  {
   "cell_type": "code",
   "execution_count": 28,
   "id": "8847a7cd-ad0e-4a8d-9bef-d61e7eca7d92",
   "metadata": {},
   "outputs": [
    {
     "data": {
      "text/plain": [
       "{frozenset(),\n",
       " frozenset({2}),\n",
       " frozenset({1}),\n",
       " frozenset({1, 2}),\n",
       " frozenset({0}),\n",
       " frozenset({0, 1}),\n",
       " frozenset({0, 2}),\n",
       " frozenset({0, 1, 2})}"
      ]
     },
     "execution_count": 28,
     "metadata": {},
     "output_type": "execute_result"
    }
   ],
   "source": [
    "pS = f_getPowerSet(S)\n",
    "pS"
   ]
  },
  {
   "cell_type": "code",
   "execution_count": 30,
   "id": "74b966fb-5191-49af-9832-01386fce8414",
   "metadata": {},
   "outputs": [
    {
     "name": "stdout",
     "output_type": "stream",
     "text": [
      "frozenset({2})\n",
      "frozenset({1, 2})\n",
      "frozenset({0, 1, 2})\n",
      "frozenset({0, 1})\n",
      "frozenset({0, 2})\n",
      "frozenset({1})\n",
      "frozenset()\n",
      "frozenset({0})\n"
     ]
    }
   ],
   "source": [
    "for i in pS:\n",
    "    print(i)"
   ]
  },
  {
   "cell_type": "code",
   "execution_count": null,
   "id": "2f7c5b98-6c39-4540-9de4-c744b57e6dbb",
   "metadata": {},
   "outputs": [],
   "source": []
  },
  {
   "cell_type": "code",
   "execution_count": null,
   "id": "b652d7ff-6825-4354-ae3b-b8978da0fad2",
   "metadata": {},
   "outputs": [],
   "source": []
  },
  {
   "cell_type": "code",
   "execution_count": null,
   "id": "8072744c-2f56-4379-b1de-5c1a35420428",
   "metadata": {},
   "outputs": [],
   "source": []
  },
  {
   "cell_type": "code",
   "execution_count": null,
   "id": "6e10511a-133b-4569-9514-88856eb953cb",
   "metadata": {},
   "outputs": [],
   "source": []
  },
  {
   "cell_type": "code",
   "execution_count": null,
   "id": "5e340cc5-3456-4ff8-8d94-368fff20f083",
   "metadata": {},
   "outputs": [],
   "source": []
  },
  {
   "cell_type": "code",
   "execution_count": null,
   "id": "e57fe861-3e45-4e90-b8a9-8c606f3fb2ef",
   "metadata": {},
   "outputs": [],
   "source": []
  }
 ],
 "metadata": {
  "kernelspec": {
   "display_name": "Python 3 (ipykernel)",
   "language": "python",
   "name": "python3"
  },
  "language_info": {
   "codemirror_mode": {
    "name": "ipython",
    "version": 3
   },
   "file_extension": ".py",
   "mimetype": "text/x-python",
   "name": "python",
   "nbconvert_exporter": "python",
   "pygments_lexer": "ipython3",
   "version": "3.11.7"
  }
 },
 "nbformat": 4,
 "nbformat_minor": 5
}
