{
 "cells": [
  {
   "cell_type": "markdown",
   "id": "3ff5e845-52c1-4ea0-be20-bf4c4e9e37e3",
   "metadata": {},
   "source": [
    "# Advance Pandas"
   ]
  },
  {
   "cell_type": "markdown",
   "id": "99b5906f-c848-4411-b791-f7f3c7c936de",
   "metadata": {},
   "source": [
    "## Intro to Pandas"
   ]
  },
  {
   "cell_type": "code",
   "execution_count": 3,
   "id": "24e4ec14-5e7f-4fe3-ace1-a76c985a120c",
   "metadata": {},
   "outputs": [],
   "source": [
    "import pandas as pd"
   ]
  },
  {
   "cell_type": "code",
   "execution_count": 7,
   "id": "a73183e2-f743-4cc6-8dae-0fc3e89af841",
   "metadata": {},
   "outputs": [
    {
     "name": "stdout",
     "output_type": "stream",
     "text": [
      "2.1.4\n"
     ]
    }
   ],
   "source": [
    "## Lets view the version of pandas\n",
    "print(pd.__version__)"
   ]
  },
  {
   "cell_type": "code",
   "execution_count": 13,
   "id": "6a875342-5a00-4898-a4c5-d600c9b7b130",
   "metadata": {},
   "outputs": [],
   "source": [
    "## Now lets create a series in pandas\n",
    "## Series is a 1 dimensional array tipically\n",
    "## Dataframes are multi dimensional arrays\n",
    "A = pd.Series([3,4,5,6],index=['a','b','c','d'])"
   ]
  },
  {
   "cell_type": "code",
   "execution_count": 15,
   "id": "ab325f35-96be-4bb4-9779-62b9b0ce7e65",
   "metadata": {},
   "outputs": [
    {
     "data": {
      "text/plain": [
       "array([3, 4, 5, 6], dtype=int64)"
      ]
     },
     "execution_count": 15,
     "metadata": {},
     "output_type": "execute_result"
    }
   ],
   "source": [
    "## each element is a type int\n",
    "A.values"
   ]
  },
  {
   "cell_type": "code",
   "execution_count": 17,
   "id": "4a9af348-85cb-4c68-88a9-1b4506632df3",
   "metadata": {},
   "outputs": [
    {
     "data": {
      "text/plain": [
       "Index(['a', 'b', 'c', 'd'], dtype='object')"
      ]
     },
     "execution_count": 17,
     "metadata": {},
     "output_type": "execute_result"
    }
   ],
   "source": [
    "## each element is a type object/string\n",
    "A.index"
   ]
  },
  {
   "cell_type": "code",
   "execution_count": 19,
   "id": "b5bdda81-4b35-4c0e-9dda-e8d0547dba3e",
   "metadata": {},
   "outputs": [
    {
     "data": {
      "text/plain": [
       "numpy.ndarray"
      ]
     },
     "execution_count": 19,
     "metadata": {},
     "output_type": "execute_result"
    }
   ],
   "source": [
    "## Notice A.values or 3,4,5,6 is an array\n",
    "type(A.values)"
   ]
  },
  {
   "cell_type": "code",
   "execution_count": 24,
   "id": "91d73fcf-5617-47fc-82c6-a3e8337683c4",
   "metadata": {},
   "outputs": [
    {
     "data": {
      "text/plain": [
       "pandas.core.series.Series"
      ]
     },
     "execution_count": 24,
     "metadata": {},
     "output_type": "execute_result"
    }
   ],
   "source": [
    "## Notice A is a series\n",
    "type(A)"
   ]
  },
  {
   "cell_type": "code",
   "execution_count": 28,
   "id": "cb6fe406-841b-4911-a6c0-fe642eefd3a0",
   "metadata": {},
   "outputs": [
    {
     "data": {
      "text/plain": [
       "a    3\n",
       "b    4\n",
       "c    5\n",
       "d    6\n",
       "dtype: int64"
      ]
     },
     "execution_count": 28,
     "metadata": {},
     "output_type": "execute_result"
    }
   ],
   "source": [
    "## Now lets print A\n",
    "A"
   ]
  },
  {
   "cell_type": "code",
   "execution_count": 30,
   "id": "58c17620-0aff-42b1-af2f-b9c1550059de",
   "metadata": {},
   "outputs": [
    {
     "data": {
      "text/plain": [
       "3"
      ]
     },
     "execution_count": 30,
     "metadata": {},
     "output_type": "execute_result"
    }
   ],
   "source": [
    "## Lets index A\n",
    "A['a']"
   ]
  },
  {
   "cell_type": "code",
   "execution_count": 36,
   "id": "73cf9c46-66a5-46a9-9dd5-f713ad69ac0b",
   "metadata": {},
   "outputs": [
    {
     "data": {
      "text/plain": [
       "a    3\n",
       "b    4\n",
       "c    5\n",
       "dtype: int64"
      ]
     },
     "execution_count": 36,
     "metadata": {},
     "output_type": "execute_result"
    }
   ],
   "source": [
    "## Lets slice\n",
    "A['a':'c']"
   ]
  },
  {
   "cell_type": "markdown",
   "id": "38d81988-8364-426c-8046-0ca330107a86",
   "metadata": {},
   "source": [
    "## Pandas Series"
   ]
  },
  {
   "cell_type": "code",
   "execution_count": 4,
   "id": "4b4fdbdd-c1bb-4766-a8ca-5656d8e05cc9",
   "metadata": {},
   "outputs": [],
   "source": [
    "import pandas as pd"
   ]
  },
  {
   "cell_type": "code",
   "execution_count": 6,
   "id": "efc53ff4-1751-4c03-b194-bbc946ffa246",
   "metadata": {},
   "outputs": [
    {
     "data": {
      "text/plain": [
       "A    90\n",
       "B    80\n",
       "C    70\n",
       "D    60\n",
       "dtype: int64"
      ]
     },
     "execution_count": 6,
     "metadata": {},
     "output_type": "execute_result"
    }
   ],
   "source": [
    "## Lets make a pandas series with a dictonary\n",
    "\n",
    "grades_dict = {'A':90,'B':80,'C':70,'D':60}\n",
    "grades = pd.Series(grades_dict)\n",
    "grades"
   ]
  },
  {
   "cell_type": "code",
   "execution_count": 12,
   "id": "5ec3ef76-73fa-4ac2-8304-444f96c4dd17",
   "metadata": {},
   "outputs": [
    {
     "data": {
      "text/plain": [
       "pandas.core.series.Series"
      ]
     },
     "execution_count": 12,
     "metadata": {},
     "output_type": "execute_result"
    }
   ],
   "source": [
    "type(grades)"
   ]
  },
  {
   "cell_type": "code",
   "execution_count": 14,
   "id": "37ab3964-9808-431b-814f-4e5719dd4e03",
   "metadata": {},
   "outputs": [
    {
     "data": {
      "text/plain": [
       "dict"
      ]
     },
     "execution_count": 14,
     "metadata": {},
     "output_type": "execute_result"
    }
   ],
   "source": [
    "type(grades_dict)"
   ]
  },
  {
   "cell_type": "code",
   "execution_count": 26,
   "id": "32cd22ab-4612-4d18-a87c-99d9b212f009",
   "metadata": {},
   "outputs": [
    {
     "data": {
      "text/plain": [
       "A    90\n",
       "B    80\n",
       "C    70\n",
       "dtype: int64"
      ]
     },
     "execution_count": 26,
     "metadata": {},
     "output_type": "execute_result"
    }
   ],
   "source": [
    "## You can use explicit indicies\n",
    "grades['A':'C']"
   ]
  },
  {
   "cell_type": "code",
   "execution_count": 24,
   "id": "56437813-c910-4138-b072-c8897227484e",
   "metadata": {},
   "outputs": [
    {
     "data": {
      "text/plain": [
       "A    90\n",
       "B    80\n",
       "C    70\n",
       "dtype: int64"
      ]
     },
     "execution_count": 24,
     "metadata": {},
     "output_type": "execute_result"
    }
   ],
   "source": [
    "## You can also use implicit indicies\n",
    "grades[0:3]"
   ]
  },
  {
   "cell_type": "code",
   "execution_count": null,
   "id": "af40f0a2-6f06-4cee-8084-018e20fcea28",
   "metadata": {},
   "outputs": [],
   "source": []
  },
  {
   "cell_type": "code",
   "execution_count": null,
   "id": "18b5b92a-70da-43e8-b250-cfe2b4c2f6b4",
   "metadata": {},
   "outputs": [],
   "source": []
  },
  {
   "cell_type": "code",
   "execution_count": null,
   "id": "6b0a494b-addc-459e-b194-ef26ad6ea633",
   "metadata": {},
   "outputs": [],
   "source": []
  },
  {
   "cell_type": "code",
   "execution_count": null,
   "id": "f9005b1e-6725-4b62-b60e-194cb82520f7",
   "metadata": {},
   "outputs": [],
   "source": []
  },
  {
   "cell_type": "code",
   "execution_count": null,
   "id": "54a39c2f-99c4-4d35-9e29-c29d244501ff",
   "metadata": {},
   "outputs": [],
   "source": []
  },
  {
   "cell_type": "code",
   "execution_count": null,
   "id": "4e208c96-272e-4e0e-bab6-303b33322266",
   "metadata": {},
   "outputs": [],
   "source": []
  },
  {
   "cell_type": "code",
   "execution_count": null,
   "id": "89609469-a4fe-4da9-8219-8a0e084e6760",
   "metadata": {},
   "outputs": [],
   "source": []
  },
  {
   "cell_type": "code",
   "execution_count": null,
   "id": "6c6ad315-7ceb-4f2e-b316-4a84a767792c",
   "metadata": {},
   "outputs": [],
   "source": []
  },
  {
   "cell_type": "code",
   "execution_count": null,
   "id": "9fef9bd7-19d6-488a-a381-ec596fce77ee",
   "metadata": {},
   "outputs": [],
   "source": []
  },
  {
   "cell_type": "code",
   "execution_count": null,
   "id": "2370e99e-f83d-42c1-a0e4-ec121b3d8916",
   "metadata": {},
   "outputs": [],
   "source": []
  },
  {
   "cell_type": "code",
   "execution_count": null,
   "id": "a03465cd-c560-4c79-ab7a-782a72f46f07",
   "metadata": {},
   "outputs": [],
   "source": []
  },
  {
   "cell_type": "code",
   "execution_count": null,
   "id": "eba9a387-9a85-40aa-a87f-1c94c0c55c5c",
   "metadata": {},
   "outputs": [],
   "source": []
  },
  {
   "cell_type": "code",
   "execution_count": null,
   "id": "429d56a8-bc6b-481d-a07b-cf3adff7a73b",
   "metadata": {},
   "outputs": [],
   "source": []
  },
  {
   "cell_type": "code",
   "execution_count": null,
   "id": "3a38585d-df6a-42da-bef9-8bd881ddd556",
   "metadata": {},
   "outputs": [],
   "source": []
  },
  {
   "cell_type": "code",
   "execution_count": null,
   "id": "3dc18cfe-38a8-4a25-8c08-1d04363b0360",
   "metadata": {},
   "outputs": [],
   "source": []
  },
  {
   "cell_type": "code",
   "execution_count": null,
   "id": "6a2d4c7c-68a3-482c-b288-834a58504df8",
   "metadata": {},
   "outputs": [],
   "source": []
  },
  {
   "cell_type": "code",
   "execution_count": null,
   "id": "8120e7e2-dfe1-4eb1-a601-1f69f5b248b1",
   "metadata": {},
   "outputs": [],
   "source": []
  },
  {
   "cell_type": "code",
   "execution_count": null,
   "id": "825ca42a-f7e1-4102-bf96-ba00c0be2c55",
   "metadata": {},
   "outputs": [],
   "source": []
  },
  {
   "cell_type": "code",
   "execution_count": null,
   "id": "54799f43-1137-4d50-9d93-39666a97dbec",
   "metadata": {},
   "outputs": [],
   "source": []
  },
  {
   "cell_type": "code",
   "execution_count": null,
   "id": "a665850a-2e4b-48ca-a6a6-e78d10987155",
   "metadata": {},
   "outputs": [],
   "source": []
  },
  {
   "cell_type": "code",
   "execution_count": null,
   "id": "ff05f8f5-4b83-4cdf-b1f5-1a2466409ddd",
   "metadata": {},
   "outputs": [],
   "source": []
  },
  {
   "cell_type": "code",
   "execution_count": null,
   "id": "a9adfb40-1a7a-4ca2-9772-adf95e35c8c2",
   "metadata": {},
   "outputs": [],
   "source": []
  },
  {
   "cell_type": "code",
   "execution_count": null,
   "id": "95efca4e-3aa5-4102-9efb-de1a37149d5e",
   "metadata": {},
   "outputs": [],
   "source": []
  },
  {
   "cell_type": "code",
   "execution_count": null,
   "id": "b19d13c7-ba4a-4225-bc41-84e7e59b9149",
   "metadata": {},
   "outputs": [],
   "source": []
  },
  {
   "cell_type": "code",
   "execution_count": null,
   "id": "39635d4c-6703-42f6-bfad-bf2a6a8d25f6",
   "metadata": {},
   "outputs": [],
   "source": []
  },
  {
   "cell_type": "code",
   "execution_count": null,
   "id": "1d1034d2-55c3-4535-acb5-521b7778e837",
   "metadata": {},
   "outputs": [],
   "source": []
  },
  {
   "cell_type": "code",
   "execution_count": null,
   "id": "6037f386-7f07-4cc3-a31c-80d14b35b26a",
   "metadata": {},
   "outputs": [],
   "source": []
  },
  {
   "cell_type": "code",
   "execution_count": null,
   "id": "861cffc7-4ee3-4e19-8e93-3a853f29f115",
   "metadata": {},
   "outputs": [],
   "source": []
  },
  {
   "cell_type": "code",
   "execution_count": null,
   "id": "13137ccc-6a63-4586-89ac-5bc9cc849216",
   "metadata": {},
   "outputs": [],
   "source": []
  },
  {
   "cell_type": "code",
   "execution_count": null,
   "id": "79f314a5-1fba-4145-b7e3-36606a4e3a22",
   "metadata": {},
   "outputs": [],
   "source": []
  },
  {
   "cell_type": "code",
   "execution_count": null,
   "id": "587c111e-0ce8-403e-b26a-6ece10ec3354",
   "metadata": {},
   "outputs": [],
   "source": []
  },
  {
   "cell_type": "code",
   "execution_count": null,
   "id": "5b5cabce-6f77-46b5-bc14-d67f54cef88f",
   "metadata": {},
   "outputs": [],
   "source": []
  },
  {
   "cell_type": "code",
   "execution_count": null,
   "id": "6730f0e3-0eda-4abc-9d9b-d62bac031caf",
   "metadata": {},
   "outputs": [],
   "source": []
  },
  {
   "cell_type": "code",
   "execution_count": null,
   "id": "a83c0fc9-8b22-4d40-a95b-a843f222005a",
   "metadata": {},
   "outputs": [],
   "source": []
  },
  {
   "cell_type": "code",
   "execution_count": null,
   "id": "227cf1ae-8cb7-4903-b9a4-a31f6375c8fe",
   "metadata": {},
   "outputs": [],
   "source": []
  },
  {
   "cell_type": "code",
   "execution_count": null,
   "id": "9da1bee3-1f49-402c-b88f-f79cdef7f84e",
   "metadata": {},
   "outputs": [],
   "source": []
  },
  {
   "cell_type": "code",
   "execution_count": null,
   "id": "d106fe38-d603-4419-945c-44f0fd04b36a",
   "metadata": {},
   "outputs": [],
   "source": []
  },
  {
   "cell_type": "code",
   "execution_count": null,
   "id": "536db2c5-98ab-4105-873b-3a971e647f8d",
   "metadata": {},
   "outputs": [],
   "source": []
  },
  {
   "cell_type": "code",
   "execution_count": null,
   "id": "7e87d63c-4974-4145-8f14-4018673622d5",
   "metadata": {},
   "outputs": [],
   "source": []
  },
  {
   "cell_type": "code",
   "execution_count": null,
   "id": "1352f835-6ce2-479e-8df6-fe207f903ac5",
   "metadata": {},
   "outputs": [],
   "source": []
  },
  {
   "cell_type": "code",
   "execution_count": null,
   "id": "09b6300a-660b-40d1-830a-e9840b562507",
   "metadata": {},
   "outputs": [],
   "source": []
  },
  {
   "cell_type": "code",
   "execution_count": null,
   "id": "a8fbdaf3-28e0-4a90-94e7-f119afd0c388",
   "metadata": {},
   "outputs": [],
   "source": []
  },
  {
   "cell_type": "code",
   "execution_count": null,
   "id": "7958f3b6-9c74-4e1d-b9fa-d9bf206b7714",
   "metadata": {},
   "outputs": [],
   "source": []
  },
  {
   "cell_type": "code",
   "execution_count": null,
   "id": "890d6b34-9893-426b-b415-2511eee5497b",
   "metadata": {},
   "outputs": [],
   "source": []
  },
  {
   "cell_type": "code",
   "execution_count": null,
   "id": "9acf473e-1fb0-4cd7-9d89-2777de2d8603",
   "metadata": {},
   "outputs": [],
   "source": []
  },
  {
   "cell_type": "code",
   "execution_count": null,
   "id": "b8acf949-7ff7-4d95-9e04-9909a24af690",
   "metadata": {},
   "outputs": [],
   "source": []
  },
  {
   "cell_type": "code",
   "execution_count": null,
   "id": "3d58bfe5-70b0-4f32-8567-4abded1ffa85",
   "metadata": {},
   "outputs": [],
   "source": []
  },
  {
   "cell_type": "code",
   "execution_count": null,
   "id": "01607ae1-532c-4bb7-9379-5e07ca90dba5",
   "metadata": {},
   "outputs": [],
   "source": []
  },
  {
   "cell_type": "code",
   "execution_count": null,
   "id": "2e021774-4bce-4f56-b418-c86cb401b90b",
   "metadata": {},
   "outputs": [],
   "source": []
  },
  {
   "cell_type": "code",
   "execution_count": null,
   "id": "a70e0d29-ee4f-462d-bda3-e080ac51e09d",
   "metadata": {},
   "outputs": [],
   "source": []
  },
  {
   "cell_type": "code",
   "execution_count": null,
   "id": "1d271787-f722-49fd-b4ef-2aab78e011c2",
   "metadata": {},
   "outputs": [],
   "source": []
  },
  {
   "cell_type": "code",
   "execution_count": null,
   "id": "ffa5a76d-c86b-4be4-85dc-3af61dfa4926",
   "metadata": {},
   "outputs": [],
   "source": []
  },
  {
   "cell_type": "code",
   "execution_count": null,
   "id": "aabe0b39-19b1-403a-ba9a-044de0b58f5f",
   "metadata": {},
   "outputs": [],
   "source": []
  },
  {
   "cell_type": "code",
   "execution_count": null,
   "id": "25393665-58ab-4978-bcaf-92222a4f3251",
   "metadata": {},
   "outputs": [],
   "source": []
  },
  {
   "cell_type": "code",
   "execution_count": null,
   "id": "ed3e50e4-742d-4de4-adef-d323f7f73421",
   "metadata": {},
   "outputs": [],
   "source": []
  },
  {
   "cell_type": "code",
   "execution_count": null,
   "id": "2ccb2624-158e-43a8-a875-349500eb9e8b",
   "metadata": {},
   "outputs": [],
   "source": []
  },
  {
   "cell_type": "code",
   "execution_count": null,
   "id": "2b05f25b-a24c-4e56-94c6-c11e6a64b6b7",
   "metadata": {},
   "outputs": [],
   "source": []
  },
  {
   "cell_type": "code",
   "execution_count": null,
   "id": "c6454cad-2fae-4f78-907b-98452088ed71",
   "metadata": {},
   "outputs": [],
   "source": []
  },
  {
   "cell_type": "code",
   "execution_count": null,
   "id": "09491654-7ad2-41e1-add0-f2c529751aa0",
   "metadata": {},
   "outputs": [],
   "source": []
  },
  {
   "cell_type": "code",
   "execution_count": null,
   "id": "45d19789-b309-4be8-b7db-3f0affc53523",
   "metadata": {},
   "outputs": [],
   "source": []
  },
  {
   "cell_type": "code",
   "execution_count": null,
   "id": "cbb2a643-b896-416f-bcd7-7487048e90bd",
   "metadata": {},
   "outputs": [],
   "source": []
  },
  {
   "cell_type": "code",
   "execution_count": null,
   "id": "6b7624bf-a3aa-4c5e-953e-4e184bae385c",
   "metadata": {},
   "outputs": [],
   "source": []
  },
  {
   "cell_type": "code",
   "execution_count": null,
   "id": "e69ad9f9-d832-4168-9237-74c33c9f7d43",
   "metadata": {},
   "outputs": [],
   "source": []
  },
  {
   "cell_type": "code",
   "execution_count": null,
   "id": "b83bb344-0477-4db6-a8c7-255ba07190f2",
   "metadata": {},
   "outputs": [],
   "source": []
  },
  {
   "cell_type": "code",
   "execution_count": null,
   "id": "92c1892f-6537-4bb3-9b66-a6b99b8e3f02",
   "metadata": {},
   "outputs": [],
   "source": []
  },
  {
   "cell_type": "code",
   "execution_count": null,
   "id": "a1e05296-cdad-446c-89ce-de55fcf4f9a7",
   "metadata": {},
   "outputs": [],
   "source": []
  },
  {
   "cell_type": "code",
   "execution_count": null,
   "id": "f15158e5-ead3-457a-aa50-e45c9fea5a8b",
   "metadata": {},
   "outputs": [],
   "source": []
  },
  {
   "cell_type": "code",
   "execution_count": null,
   "id": "dbc12a67-57e9-4b8c-89ec-631b96f5ae25",
   "metadata": {},
   "outputs": [],
   "source": []
  },
  {
   "cell_type": "code",
   "execution_count": null,
   "id": "5c13b8aa-c0f1-4795-a8a0-5b3733c9d639",
   "metadata": {},
   "outputs": [],
   "source": []
  },
  {
   "cell_type": "code",
   "execution_count": null,
   "id": "9dab60c7-a722-4a91-b5ca-84598f21e3b8",
   "metadata": {},
   "outputs": [],
   "source": []
  },
  {
   "cell_type": "code",
   "execution_count": null,
   "id": "39dac156-76b4-4d93-a0ac-7aa7759759d9",
   "metadata": {},
   "outputs": [],
   "source": []
  },
  {
   "cell_type": "code",
   "execution_count": null,
   "id": "f0dce774-cc6f-4057-8087-e176b11e5045",
   "metadata": {},
   "outputs": [],
   "source": []
  },
  {
   "cell_type": "code",
   "execution_count": null,
   "id": "e3feee7e-2c06-4263-bb0c-d7a967ef2b6b",
   "metadata": {},
   "outputs": [],
   "source": []
  },
  {
   "cell_type": "code",
   "execution_count": null,
   "id": "2c4651b2-90f7-4de3-a6a7-938f2208cbfc",
   "metadata": {},
   "outputs": [],
   "source": []
  },
  {
   "cell_type": "code",
   "execution_count": null,
   "id": "d080f69e-5487-4cfc-8fa0-4506892e6d4d",
   "metadata": {},
   "outputs": [],
   "source": []
  },
  {
   "cell_type": "code",
   "execution_count": null,
   "id": "25e6e202-58fd-47ee-83b3-5c8e7ca746ff",
   "metadata": {},
   "outputs": [],
   "source": []
  },
  {
   "cell_type": "code",
   "execution_count": null,
   "id": "2c37c582-9135-43d9-bea1-e445ffd23959",
   "metadata": {},
   "outputs": [],
   "source": []
  },
  {
   "cell_type": "code",
   "execution_count": null,
   "id": "849c76dd-3a40-4f14-8bc8-901360d730a2",
   "metadata": {},
   "outputs": [],
   "source": []
  },
  {
   "cell_type": "code",
   "execution_count": null,
   "id": "30d0055a-e6a6-4acc-a476-1b3a8515af22",
   "metadata": {},
   "outputs": [],
   "source": []
  }
 ],
 "metadata": {
  "kernelspec": {
   "display_name": "Python 3 (ipykernel)",
   "language": "python",
   "name": "python3"
  },
  "language_info": {
   "codemirror_mode": {
    "name": "ipython",
    "version": 3
   },
   "file_extension": ".py",
   "mimetype": "text/x-python",
   "name": "python",
   "nbconvert_exporter": "python",
   "pygments_lexer": "ipython3",
   "version": "3.11.7"
  }
 },
 "nbformat": 4,
 "nbformat_minor": 5
}
