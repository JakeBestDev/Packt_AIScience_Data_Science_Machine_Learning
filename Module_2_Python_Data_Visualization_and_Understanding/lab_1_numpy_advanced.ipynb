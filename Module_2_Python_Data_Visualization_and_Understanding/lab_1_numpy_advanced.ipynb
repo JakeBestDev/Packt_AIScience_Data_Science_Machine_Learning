{
 "cells": [
  {
   "cell_type": "markdown",
   "id": "41e54a3e-7858-435e-aa2e-9d391a395ca4",
   "metadata": {},
   "source": [
    "# Numpy Advanced\n",
    "\n",
    "### Exploring Numpy's Ufuncs - Universal Functions! These are generally much faster than creating your own functions"
   ]
  },
  {
   "cell_type": "markdown",
   "id": "a2e3e474-8c85-4754-a1cf-c8e95ed13121",
   "metadata": {},
   "source": [
    "## Numpy UFuncs: Add, Sum, Plus Operators"
   ]
  },
  {
   "cell_type": "code",
   "execution_count": 6,
   "id": "8adff804-70c9-4a73-aac6-6540ec6e4162",
   "metadata": {},
   "outputs": [],
   "source": [
    "import numpy as np"
   ]
  },
  {
   "cell_type": "markdown",
   "id": "fe9dc755-f9ad-4d70-9112-54a598622a10",
   "metadata": {},
   "source": [
    "### Dimensions of Arrays using newaxis and squeeze"
   ]
  },
  {
   "cell_type": "code",
   "execution_count": 82,
   "id": "3ada6e3a-28ef-47e9-93e8-44989f486266",
   "metadata": {},
   "outputs": [
    {
     "data": {
      "text/plain": [
       "array([0, 1, 2, 3, 4, 5, 6, 7, 8, 9])"
      ]
     },
     "execution_count": 82,
     "metadata": {},
     "output_type": "execute_result"
    }
   ],
   "source": [
    "## Lets say we have an array of numbers 0-9\n",
    "A =  np.arange(10)\n",
    "A"
   ]
  },
  {
   "cell_type": "code",
   "execution_count": 12,
   "id": "fa2c5844-457e-4e02-abcb-00b4bbda3d22",
   "metadata": {},
   "outputs": [
    {
     "data": {
      "text/plain": [
       "array([[3, 1, 3, 3, 2, 7, 9, 8, 7, 6]])"
      ]
     },
     "execution_count": 12,
     "metadata": {},
     "output_type": "execute_result"
    }
   ],
   "source": [
    "## Lets say we have an array of numbers 0-9 but their in a random order and can repeat\n",
    "B = np.random.randint(0,10,(1,10))\n",
    "B"
   ]
  },
  {
   "cell_type": "code",
   "execution_count": 14,
   "id": "cd59a050-2592-49ef-8f2b-0ae8227bd94a",
   "metadata": {},
   "outputs": [
    {
     "data": {
      "text/plain": [
       "(10,)"
      ]
     },
     "execution_count": 14,
     "metadata": {},
     "output_type": "execute_result"
    }
   ],
   "source": [
    "A.shape"
   ]
  },
  {
   "cell_type": "code",
   "execution_count": 16,
   "id": "c9d6f998-a5fb-45a5-92a2-0164608bc24a",
   "metadata": {},
   "outputs": [
    {
     "data": {
      "text/plain": [
       "(1, 10)"
      ]
     },
     "execution_count": 16,
     "metadata": {},
     "output_type": "execute_result"
    }
   ],
   "source": [
    "## Notice how B is a 1x10 but A is not\n",
    "B.shape"
   ]
  },
  {
   "cell_type": "code",
   "execution_count": 20,
   "id": "638316b1-4943-4205-b98a-d98d7c0f4cd1",
   "metadata": {},
   "outputs": [
    {
     "data": {
      "text/plain": [
       "(1, 10)"
      ]
     },
     "execution_count": 20,
     "metadata": {},
     "output_type": "execute_result"
    }
   ],
   "source": [
    "## We can fix this using numpy's newaxis\n",
    "C = A[np.newaxis,:]\n",
    "C.shape"
   ]
  },
  {
   "cell_type": "markdown",
   "id": "7653d330-00da-47bf-ac31-bc2c5a0d20d8",
   "metadata": {},
   "source": [
    "### Lets use the plus and add operators"
   ]
  },
  {
   "cell_type": "code",
   "execution_count": 30,
   "id": "c2ccc000-26c5-4096-9712-eb3adf018eaa",
   "metadata": {},
   "outputs": [
    {
     "data": {
      "text/plain": [
       "array([[ 3,  2,  5,  6,  6, 12, 15, 15, 15, 15]])"
      ]
     },
     "execution_count": 30,
     "metadata": {},
     "output_type": "execute_result"
    }
   ],
   "source": [
    "## Now lets try to add the arrays\n",
    "## We are able to do this because the arrays are the same shape, which is why we did the above\n",
    "\n",
    "D = B+C\n",
    "D"
   ]
  },
  {
   "cell_type": "code",
   "execution_count": 34,
   "id": "c2e77938-231f-4ef0-bdc8-2bd6a115b3be",
   "metadata": {},
   "outputs": [
    {
     "data": {
      "text/plain": [
       "(1, 10)"
      ]
     },
     "execution_count": 34,
     "metadata": {},
     "output_type": "execute_result"
    }
   ],
   "source": [
    "D.shape"
   ]
  },
  {
   "cell_type": "code",
   "execution_count": 36,
   "id": "c97c27fd-95fc-46b2-95ee-ba08b3c268d4",
   "metadata": {},
   "outputs": [
    {
     "data": {
      "text/plain": [
       "(10,)"
      ]
     },
     "execution_count": 36,
     "metadata": {},
     "output_type": "execute_result"
    }
   ],
   "source": [
    "## We can also reduce the dimension of an array\n",
    "## Notice it is now the same shape as A\n",
    "\n",
    "D = np.squeeze(D)\n",
    "D.shape"
   ]
  },
  {
   "cell_type": "code",
   "execution_count": 41,
   "id": "520e84d9-6466-443c-9e55-38fbf75fe2aa",
   "metadata": {},
   "outputs": [
    {
     "data": {
      "text/plain": [
       "array([ 3,  2,  5,  6,  6, 12, 15, 15, 15, 15])"
      ]
     },
     "execution_count": 41,
     "metadata": {},
     "output_type": "execute_result"
    }
   ],
   "source": [
    "D"
   ]
  },
  {
   "cell_type": "code",
   "execution_count": 43,
   "id": "d15966b2-7912-4f64-8079-50ac953b9a2a",
   "metadata": {},
   "outputs": [
    {
     "data": {
      "text/plain": [
       "(10,)"
      ]
     },
     "execution_count": 43,
     "metadata": {},
     "output_type": "execute_result"
    }
   ],
   "source": [
    "A.shape"
   ]
  },
  {
   "cell_type": "code",
   "execution_count": 86,
   "id": "67b21e69-e24d-4fb2-b762-ac5b1a3062cb",
   "metadata": {},
   "outputs": [
    {
     "data": {
      "text/plain": [
       "array([ 3,  3,  7,  9, 10, 17, 21, 22, 23, 24])"
      ]
     },
     "execution_count": 86,
     "metadata": {},
     "output_type": "execute_result"
    }
   ],
   "source": [
    "## Now that A and D are the same dimensions we can add them\n",
    "## Lets use the add operator!\n",
    "\n",
    "E = np.add(A,D)\n",
    "E"
   ]
  },
  {
   "cell_type": "markdown",
   "id": "d91b298d-38a7-45f2-af6f-81b40b3954b1",
   "metadata": {},
   "source": [
    "### sum() of arrays"
   ]
  },
  {
   "cell_type": "code",
   "execution_count": 49,
   "id": "a253f221-3f31-47b0-91c8-517a52d6aa1b",
   "metadata": {},
   "outputs": [
    {
     "data": {
      "text/plain": [
       "array([0, 1, 2, 3, 4, 5, 6, 7, 8, 9])"
      ]
     },
     "execution_count": 49,
     "metadata": {},
     "output_type": "execute_result"
    }
   ],
   "source": [
    "A"
   ]
  },
  {
   "cell_type": "code",
   "execution_count": 53,
   "id": "0fd1418f-2962-42f2-94c9-a5eec61f4713",
   "metadata": {},
   "outputs": [
    {
     "data": {
      "text/plain": [
       "45"
      ]
     },
     "execution_count": 53,
     "metadata": {},
     "output_type": "execute_result"
    }
   ],
   "source": [
    "## This is the sum of all ints in A\n",
    "np.sum(A)"
   ]
  },
  {
   "cell_type": "code",
   "execution_count": 57,
   "id": "e910e5a4-f1b2-4f7e-b7b4-83771fcddd27",
   "metadata": {},
   "outputs": [],
   "source": [
    "## The sum is very helpful with large arrays like his one!\n",
    "\n",
    "A = np.arange(100).reshape(2,2,5,5)"
   ]
  },
  {
   "cell_type": "code",
   "execution_count": 67,
   "id": "31b0c92d-7776-4356-a64c-173add5886cf",
   "metadata": {},
   "outputs": [
    {
     "data": {
      "text/plain": [
       "array([[[[ 0,  1,  2,  3,  4],\n",
       "         [ 5,  6,  7,  8,  9],\n",
       "         [10, 11, 12, 13, 14],\n",
       "         [15, 16, 17, 18, 19],\n",
       "         [20, 21, 22, 23, 24]],\n",
       "\n",
       "        [[25, 26, 27, 28, 29],\n",
       "         [30, 31, 32, 33, 34],\n",
       "         [35, 36, 37, 38, 39],\n",
       "         [40, 41, 42, 43, 44],\n",
       "         [45, 46, 47, 48, 49]]],\n",
       "\n",
       "\n",
       "       [[[50, 51, 52, 53, 54],\n",
       "         [55, 56, 57, 58, 59],\n",
       "         [60, 61, 62, 63, 64],\n",
       "         [65, 66, 67, 68, 69],\n",
       "         [70, 71, 72, 73, 74]],\n",
       "\n",
       "        [[75, 76, 77, 78, 79],\n",
       "         [80, 81, 82, 83, 84],\n",
       "         [85, 86, 87, 88, 89],\n",
       "         [90, 91, 92, 93, 94],\n",
       "         [95, 96, 97, 98, 99]]]])"
      ]
     },
     "execution_count": 67,
     "metadata": {},
     "output_type": "execute_result"
    }
   ],
   "source": [
    "A"
   ]
  },
  {
   "cell_type": "code",
   "execution_count": 59,
   "id": "f9f8b418-0d04-4dc0-b23d-bd4a5319bfe7",
   "metadata": {},
   "outputs": [
    {
     "data": {
      "text/plain": [
       "4"
      ]
     },
     "execution_count": 59,
     "metadata": {},
     "output_type": "execute_result"
    }
   ],
   "source": [
    "## A is a 4 dimensional array\n",
    "A.ndim"
   ]
  },
  {
   "cell_type": "code",
   "execution_count": 61,
   "id": "181a71be-c40f-4446-8682-cad2a07c3fc9",
   "metadata": {},
   "outputs": [
    {
     "data": {
      "text/plain": [
       "4950"
      ]
     },
     "execution_count": 61,
     "metadata": {},
     "output_type": "execute_result"
    }
   ],
   "source": [
    "np.sum(A)"
   ]
  },
  {
   "cell_type": "code",
   "execution_count": 69,
   "id": "20c785de-ee4a-4ad5-8592-a42cde8da97a",
   "metadata": {},
   "outputs": [
    {
     "data": {
      "text/plain": [
       "(2, 5, 5)"
      ]
     },
     "execution_count": 69,
     "metadata": {},
     "output_type": "execute_result"
    }
   ],
   "source": [
    "## Notice if we use the sum function in this mannor we reduce the dimensions of the matrix\n",
    "B = A.sum(axis=0)\n",
    "B.shape"
   ]
  },
  {
   "cell_type": "code",
   "execution_count": 73,
   "id": "a994b42d-e32f-4ecd-8cdc-04477297b566",
   "metadata": {},
   "outputs": [
    {
     "data": {
      "text/plain": [
       "array([[[ 50,  52,  54,  56,  58],\n",
       "        [ 60,  62,  64,  66,  68],\n",
       "        [ 70,  72,  74,  76,  78],\n",
       "        [ 80,  82,  84,  86,  88],\n",
       "        [ 90,  92,  94,  96,  98]],\n",
       "\n",
       "       [[100, 102, 104, 106, 108],\n",
       "        [110, 112, 114, 116, 118],\n",
       "        [120, 122, 124, 126, 128],\n",
       "        [130, 132, 134, 136, 138],\n",
       "        [140, 142, 144, 146, 148]]])"
      ]
     },
     "execution_count": 73,
     "metadata": {},
     "output_type": "execute_result"
    }
   ],
   "source": [
    "B"
   ]
  },
  {
   "cell_type": "code",
   "execution_count": 71,
   "id": "66523452-e3f1-4f60-ae16-90a1a0744525",
   "metadata": {},
   "outputs": [
    {
     "data": {
      "text/plain": [
       "(5, 5)"
      ]
     },
     "execution_count": 71,
     "metadata": {},
     "output_type": "execute_result"
    }
   ],
   "source": [
    "## We can do this again for a smaller matrix, further summing the elements in the matrix\n",
    "C = B.sum(axis=0)\n",
    "C.shape"
   ]
  },
  {
   "cell_type": "code",
   "execution_count": 75,
   "id": "0cd421ff-20ca-4a75-813b-a6d4a256f3fc",
   "metadata": {},
   "outputs": [
    {
     "data": {
      "text/plain": [
       "array([[150, 154, 158, 162, 166],\n",
       "       [170, 174, 178, 182, 186],\n",
       "       [190, 194, 198, 202, 206],\n",
       "       [210, 214, 218, 222, 226],\n",
       "       [230, 234, 238, 242, 246]])"
      ]
     },
     "execution_count": 75,
     "metadata": {},
     "output_type": "execute_result"
    }
   ],
   "source": [
    "C"
   ]
  },
  {
   "cell_type": "code",
   "execution_count": 77,
   "id": "5579d414-bd5b-470e-b1a2-bc631050bbef",
   "metadata": {},
   "outputs": [
    {
     "data": {
      "text/plain": [
       "array([ 950,  970,  990, 1010, 1030])"
      ]
     },
     "execution_count": 77,
     "metadata": {},
     "output_type": "execute_result"
    }
   ],
   "source": [
    "## Now lets do this once more!\n",
    "\n",
    "C.sum(axis=0)"
   ]
  },
  {
   "cell_type": "code",
   "execution_count": null,
   "id": "26eaf5ba-69da-4741-b6e3-bc75f7eac4bb",
   "metadata": {},
   "outputs": [],
   "source": []
  },
  {
   "cell_type": "code",
   "execution_count": null,
   "id": "4bfa24ae-63e9-4b83-9f92-0c226bcf205d",
   "metadata": {},
   "outputs": [],
   "source": []
  },
  {
   "cell_type": "code",
   "execution_count": null,
   "id": "0abda98f-1157-4c76-a770-0570e19592a5",
   "metadata": {},
   "outputs": [],
   "source": []
  },
  {
   "cell_type": "code",
   "execution_count": null,
   "id": "49060c58-de4a-4ec2-a188-de298ac7dc86",
   "metadata": {},
   "outputs": [],
   "source": []
  },
  {
   "cell_type": "code",
   "execution_count": null,
   "id": "721a36b0-8fc2-498a-8335-03eed93cb81d",
   "metadata": {},
   "outputs": [],
   "source": []
  },
  {
   "cell_type": "code",
   "execution_count": null,
   "id": "b901459c-f483-4661-9b10-897eb5149da1",
   "metadata": {},
   "outputs": [],
   "source": []
  }
 ],
 "metadata": {
  "kernelspec": {
   "display_name": "Python 3 (ipykernel)",
   "language": "python",
   "name": "python3"
  },
  "language_info": {
   "codemirror_mode": {
    "name": "ipython",
    "version": 3
   },
   "file_extension": ".py",
   "mimetype": "text/x-python",
   "name": "python",
   "nbconvert_exporter": "python",
   "pygments_lexer": "ipython3",
   "version": "3.11.7"
  }
 },
 "nbformat": 4,
 "nbformat_minor": 5
}
