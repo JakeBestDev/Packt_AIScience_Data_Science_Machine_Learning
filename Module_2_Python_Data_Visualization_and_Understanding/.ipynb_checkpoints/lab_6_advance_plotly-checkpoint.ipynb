{
 "cells": [
  {
   "cell_type": "markdown",
   "id": "3ff69c0d-3d20-457d-85e2-b289b93ea878",
   "metadata": {},
   "source": [
    "# Advanced Plotly"
   ]
  },
  {
   "cell_type": "markdown",
   "id": "31d74678-e645-4686-9203-80cbeedcd590",
   "metadata": {},
   "source": [
    "## Plotly 3D: Interactive Scatterplots"
   ]
  },
  {
   "cell_type": "code",
   "execution_count": 8,
   "id": "753269d9-409c-4a58-aa3d-ed1c4a2d3b18",
   "metadata": {},
   "outputs": [],
   "source": [
    "## Today lets learn some plotly! \n",
    "## Specifically Plotly 3D Scatterplots!\n",
    "## First lets install plotly and bokeh below\n",
    "\n",
    "#conda install plotly\n",
    "#conda install bokeh\n",
    "\n",
    "import plotly.graph_objs as go\n",
    "\n",
    "import numpy as np"
   ]
  },
  {
   "cell_type": "code",
   "execution_count": 10,
   "id": "d53baad5-30d5-4c5e-9fcb-3d4ad9edc32c",
   "metadata": {},
   "outputs": [],
   "source": [
    "## Now lets create some data!\n",
    "\n",
    "Z = np.linspace(0,10,50)\n",
    "X = np.cos(Z)\n",
    "Y = np.sin(Z)"
   ]
  },
  {
   "cell_type": "code",
   "execution_count": 14,
   "id": "f01dbc17-2996-47cc-9b4c-4c554b1342c3",
   "metadata": {},
   "outputs": [
    {
     "data": {
      "application/vnd.plotly.v1+json": {
       "config": {
        "plotlyServerURL": "https://plot.ly"
       },
       "data": [
        {
         "marker": {
          "color": [
           0,
           0.20408163265306123,
           0.40816326530612246,
           0.6122448979591837,
           0.8163265306122449,
           1.0204081632653061,
           1.2244897959183674,
           1.4285714285714286,
           1.6326530612244898,
           1.836734693877551,
           2.0408163265306123,
           2.2448979591836737,
           2.4489795918367347,
           2.6530612244897958,
           2.857142857142857,
           3.0612244897959187,
           3.2653061224489797,
           3.4693877551020407,
           3.673469387755102,
           3.8775510204081636,
           4.081632653061225,
           4.285714285714286,
           4.4897959183673475,
           4.6938775510204085,
           4.8979591836734695,
           5.1020408163265305,
           5.3061224489795915,
           5.510204081632653,
           5.714285714285714,
           5.918367346938775,
           6.122448979591837,
           6.326530612244898,
           6.530612244897959,
           6.73469387755102,
           6.938775510204081,
           7.142857142857143,
           7.346938775510204,
           7.551020408163265,
           7.755102040816327,
           7.959183673469388,
           8.16326530612245,
           8.36734693877551,
           8.571428571428571,
           8.775510204081632,
           8.979591836734695,
           9.183673469387756,
           9.387755102040817,
           9.591836734693878,
           9.795918367346939,
           10
          ],
          "colorscale": [
           [
            0,
            "#440154"
           ],
           [
            0.1111111111111111,
            "#482878"
           ],
           [
            0.2222222222222222,
            "#3e4989"
           ],
           [
            0.3333333333333333,
            "#31688e"
           ],
           [
            0.4444444444444444,
            "#26828e"
           ],
           [
            0.5555555555555556,
            "#1f9e89"
           ],
           [
            0.6666666666666666,
            "#35b779"
           ],
           [
            0.7777777777777778,
            "#6ece58"
           ],
           [
            0.8888888888888888,
            "#b5de2b"
           ],
           [
            1,
            "#fde725"
           ]
          ],
          "size": 12
         },
         "mode": "markers",
         "type": "scatter3d",
         "x": [
          1,
          0.9792475210564969,
          0.9178514149905888,
          0.8183599245989673,
          0.6849024400004521,
          0.5230181084730104,
          0.33942593237925484,
          0.14174589725634046,
          -0.061817295362854206,
          -0.262814763741325,
          -0.4529041164186286,
          -0.6241957028171256,
          -0.7695800728569471,
          -0.883023054382162,
          -0.95981620122199,
          -0.996772217050833,
          -0.9923572439880433,
          -0.9467545253046645,
          -0.8618567999191831,
          -0.7411877443484259,
          -0.5897557226621226,
          -0.41384591454310704,
          -0.22075944916926946,
          -0.018510372154503518,
          0.18450697707700792,
          0.37986637199507933,
          0.5594594291408052,
          0.7158321462405541,
          0.842494280256423,
          0.9341887246502055,
          0.9871097053688656,
          0.9990607393363355,
          0.9695457993910898,
          0.8997899018725932,
          0.7926882623697213,
          0.6526861299196696,
          0.48559428713386943,
          0.29834787391040735,
          0.09871854474461515,
          -0.10500809346346798,
          -0.30437637517455507,
          -0.4911115282522227,
          -0.6574631180319587,
          -0.7965267287855184,
          -0.9025305312049615,
          -0.9710748419350043,
          -0.9993147322454036,
          -0.9860781066780927,
          -0.931914350819809,
          -0.8390715290764524
         ],
         "y": [
          0,
          0.20266793654820095,
          0.39692414892492234,
          0.5747060412161792,
          0.7286347834693504,
          0.8523215697196184,
          0.9406327851124867,
          0.9899030763721239,
          0.9980874821347183,
          0.9648463089837632,
          0.8915592304110037,
          0.7812680235262638,
          0.6385503202266021,
          0.469329612777201,
          0.28062939951435684,
          0.0802816748428135,
          -0.12339813736217871,
          -0.3219563150726187,
          -0.5071517094845144,
          -0.6712977935519321,
          -0.8075816909683364,
          -0.9103469443107827,
          -0.9753282860670456,
          -0.9998286683840896,
          -0.9828312039256306,
          -0.9250413717382029,
          -0.8288577363730427,
          -0.6982723955653996,
          -0.5387052883861563,
          -0.3567792408989381,
          -0.16004508604325057,
          0.04333173336868346,
          0.2449100710119793,
          0.4363234264718193,
          0.6096271964908323,
          0.7576284153927202,
          0.8741842988197335,
          0.9544571997387519,
          0.9951153947776636,
          0.9944713672636168,
          0.9525518475314604,
          0.8710967034823207,
          0.7534867274396376,
          0.6046033165061543,
          0.4306258703827373,
          0.23877531564403087,
          0.03701440148506237,
          -0.1662827938487564,
          -0.3626784288265488,
          -0.5440211108893698
         ],
         "z": [
          0,
          0.20408163265306123,
          0.40816326530612246,
          0.6122448979591837,
          0.8163265306122449,
          1.0204081632653061,
          1.2244897959183674,
          1.4285714285714286,
          1.6326530612244898,
          1.836734693877551,
          2.0408163265306123,
          2.2448979591836737,
          2.4489795918367347,
          2.6530612244897958,
          2.857142857142857,
          3.0612244897959187,
          3.2653061224489797,
          3.4693877551020407,
          3.673469387755102,
          3.8775510204081636,
          4.081632653061225,
          4.285714285714286,
          4.4897959183673475,
          4.6938775510204085,
          4.8979591836734695,
          5.1020408163265305,
          5.3061224489795915,
          5.510204081632653,
          5.714285714285714,
          5.918367346938775,
          6.122448979591837,
          6.326530612244898,
          6.530612244897959,
          6.73469387755102,
          6.938775510204081,
          7.142857142857143,
          7.346938775510204,
          7.551020408163265,
          7.755102040816327,
          7.959183673469388,
          8.16326530612245,
          8.36734693877551,
          8.571428571428571,
          8.775510204081632,
          8.979591836734695,
          9.183673469387756,
          9.387755102040817,
          9.591836734693878,
          9.795918367346939,
          10
         ]
        }
       ],
       "layout": {
        "autosize": true,
        "scene": {
         "aspectmode": "auto",
         "aspectratio": {
          "x": 1,
          "y": 1,
          "z": 1
         },
         "camera": {
          "center": {
           "x": 0,
           "y": 0,
           "z": 0
          },
          "eye": {
           "x": 0.7965062043332963,
           "y": 0.7965062043332961,
           "z": 0.7965062043332963
          },
          "projection": {
           "type": "perspective"
          },
          "up": {
           "x": 0,
           "y": 0,
           "z": 1
          }
         }
        },
        "template": {
         "data": {
          "bar": [
           {
            "error_x": {
             "color": "#2a3f5f"
            },
            "error_y": {
             "color": "#2a3f5f"
            },
            "marker": {
             "line": {
              "color": "#E5ECF6",
              "width": 0.5
             },
             "pattern": {
              "fillmode": "overlay",
              "size": 10,
              "solidity": 0.2
             }
            },
            "type": "bar"
           }
          ],
          "barpolar": [
           {
            "marker": {
             "line": {
              "color": "#E5ECF6",
              "width": 0.5
             },
             "pattern": {
              "fillmode": "overlay",
              "size": 10,
              "solidity": 0.2
             }
            },
            "type": "barpolar"
           }
          ],
          "carpet": [
           {
            "aaxis": {
             "endlinecolor": "#2a3f5f",
             "gridcolor": "white",
             "linecolor": "white",
             "minorgridcolor": "white",
             "startlinecolor": "#2a3f5f"
            },
            "baxis": {
             "endlinecolor": "#2a3f5f",
             "gridcolor": "white",
             "linecolor": "white",
             "minorgridcolor": "white",
             "startlinecolor": "#2a3f5f"
            },
            "type": "carpet"
           }
          ],
          "choropleth": [
           {
            "colorbar": {
             "outlinewidth": 0,
             "ticks": ""
            },
            "type": "choropleth"
           }
          ],
          "contour": [
           {
            "colorbar": {
             "outlinewidth": 0,
             "ticks": ""
            },
            "colorscale": [
             [
              0,
              "#0d0887"
             ],
             [
              0.1111111111111111,
              "#46039f"
             ],
             [
              0.2222222222222222,
              "#7201a8"
             ],
             [
              0.3333333333333333,
              "#9c179e"
             ],
             [
              0.4444444444444444,
              "#bd3786"
             ],
             [
              0.5555555555555556,
              "#d8576b"
             ],
             [
              0.6666666666666666,
              "#ed7953"
             ],
             [
              0.7777777777777778,
              "#fb9f3a"
             ],
             [
              0.8888888888888888,
              "#fdca26"
             ],
             [
              1,
              "#f0f921"
             ]
            ],
            "type": "contour"
           }
          ],
          "contourcarpet": [
           {
            "colorbar": {
             "outlinewidth": 0,
             "ticks": ""
            },
            "type": "contourcarpet"
           }
          ],
          "heatmap": [
           {
            "colorbar": {
             "outlinewidth": 0,
             "ticks": ""
            },
            "colorscale": [
             [
              0,
              "#0d0887"
             ],
             [
              0.1111111111111111,
              "#46039f"
             ],
             [
              0.2222222222222222,
              "#7201a8"
             ],
             [
              0.3333333333333333,
              "#9c179e"
             ],
             [
              0.4444444444444444,
              "#bd3786"
             ],
             [
              0.5555555555555556,
              "#d8576b"
             ],
             [
              0.6666666666666666,
              "#ed7953"
             ],
             [
              0.7777777777777778,
              "#fb9f3a"
             ],
             [
              0.8888888888888888,
              "#fdca26"
             ],
             [
              1,
              "#f0f921"
             ]
            ],
            "type": "heatmap"
           }
          ],
          "heatmapgl": [
           {
            "colorbar": {
             "outlinewidth": 0,
             "ticks": ""
            },
            "colorscale": [
             [
              0,
              "#0d0887"
             ],
             [
              0.1111111111111111,
              "#46039f"
             ],
             [
              0.2222222222222222,
              "#7201a8"
             ],
             [
              0.3333333333333333,
              "#9c179e"
             ],
             [
              0.4444444444444444,
              "#bd3786"
             ],
             [
              0.5555555555555556,
              "#d8576b"
             ],
             [
              0.6666666666666666,
              "#ed7953"
             ],
             [
              0.7777777777777778,
              "#fb9f3a"
             ],
             [
              0.8888888888888888,
              "#fdca26"
             ],
             [
              1,
              "#f0f921"
             ]
            ],
            "type": "heatmapgl"
           }
          ],
          "histogram": [
           {
            "marker": {
             "pattern": {
              "fillmode": "overlay",
              "size": 10,
              "solidity": 0.2
             }
            },
            "type": "histogram"
           }
          ],
          "histogram2d": [
           {
            "colorbar": {
             "outlinewidth": 0,
             "ticks": ""
            },
            "colorscale": [
             [
              0,
              "#0d0887"
             ],
             [
              0.1111111111111111,
              "#46039f"
             ],
             [
              0.2222222222222222,
              "#7201a8"
             ],
             [
              0.3333333333333333,
              "#9c179e"
             ],
             [
              0.4444444444444444,
              "#bd3786"
             ],
             [
              0.5555555555555556,
              "#d8576b"
             ],
             [
              0.6666666666666666,
              "#ed7953"
             ],
             [
              0.7777777777777778,
              "#fb9f3a"
             ],
             [
              0.8888888888888888,
              "#fdca26"
             ],
             [
              1,
              "#f0f921"
             ]
            ],
            "type": "histogram2d"
           }
          ],
          "histogram2dcontour": [
           {
            "colorbar": {
             "outlinewidth": 0,
             "ticks": ""
            },
            "colorscale": [
             [
              0,
              "#0d0887"
             ],
             [
              0.1111111111111111,
              "#46039f"
             ],
             [
              0.2222222222222222,
              "#7201a8"
             ],
             [
              0.3333333333333333,
              "#9c179e"
             ],
             [
              0.4444444444444444,
              "#bd3786"
             ],
             [
              0.5555555555555556,
              "#d8576b"
             ],
             [
              0.6666666666666666,
              "#ed7953"
             ],
             [
              0.7777777777777778,
              "#fb9f3a"
             ],
             [
              0.8888888888888888,
              "#fdca26"
             ],
             [
              1,
              "#f0f921"
             ]
            ],
            "type": "histogram2dcontour"
           }
          ],
          "mesh3d": [
           {
            "colorbar": {
             "outlinewidth": 0,
             "ticks": ""
            },
            "type": "mesh3d"
           }
          ],
          "parcoords": [
           {
            "line": {
             "colorbar": {
              "outlinewidth": 0,
              "ticks": ""
             }
            },
            "type": "parcoords"
           }
          ],
          "pie": [
           {
            "automargin": true,
            "type": "pie"
           }
          ],
          "scatter": [
           {
            "fillpattern": {
             "fillmode": "overlay",
             "size": 10,
             "solidity": 0.2
            },
            "type": "scatter"
           }
          ],
          "scatter3d": [
           {
            "line": {
             "colorbar": {
              "outlinewidth": 0,
              "ticks": ""
             }
            },
            "marker": {
             "colorbar": {
              "outlinewidth": 0,
              "ticks": ""
             }
            },
            "type": "scatter3d"
           }
          ],
          "scattercarpet": [
           {
            "marker": {
             "colorbar": {
              "outlinewidth": 0,
              "ticks": ""
             }
            },
            "type": "scattercarpet"
           }
          ],
          "scattergeo": [
           {
            "marker": {
             "colorbar": {
              "outlinewidth": 0,
              "ticks": ""
             }
            },
            "type": "scattergeo"
           }
          ],
          "scattergl": [
           {
            "marker": {
             "colorbar": {
              "outlinewidth": 0,
              "ticks": ""
             }
            },
            "type": "scattergl"
           }
          ],
          "scattermapbox": [
           {
            "marker": {
             "colorbar": {
              "outlinewidth": 0,
              "ticks": ""
             }
            },
            "type": "scattermapbox"
           }
          ],
          "scatterpolar": [
           {
            "marker": {
             "colorbar": {
              "outlinewidth": 0,
              "ticks": ""
             }
            },
            "type": "scatterpolar"
           }
          ],
          "scatterpolargl": [
           {
            "marker": {
             "colorbar": {
              "outlinewidth": 0,
              "ticks": ""
             }
            },
            "type": "scatterpolargl"
           }
          ],
          "scatterternary": [
           {
            "marker": {
             "colorbar": {
              "outlinewidth": 0,
              "ticks": ""
             }
            },
            "type": "scatterternary"
           }
          ],
          "surface": [
           {
            "colorbar": {
             "outlinewidth": 0,
             "ticks": ""
            },
            "colorscale": [
             [
              0,
              "#0d0887"
             ],
             [
              0.1111111111111111,
              "#46039f"
             ],
             [
              0.2222222222222222,
              "#7201a8"
             ],
             [
              0.3333333333333333,
              "#9c179e"
             ],
             [
              0.4444444444444444,
              "#bd3786"
             ],
             [
              0.5555555555555556,
              "#d8576b"
             ],
             [
              0.6666666666666666,
              "#ed7953"
             ],
             [
              0.7777777777777778,
              "#fb9f3a"
             ],
             [
              0.8888888888888888,
              "#fdca26"
             ],
             [
              1,
              "#f0f921"
             ]
            ],
            "type": "surface"
           }
          ],
          "table": [
           {
            "cells": {
             "fill": {
              "color": "#EBF0F8"
             },
             "line": {
              "color": "white"
             }
            },
            "header": {
             "fill": {
              "color": "#C8D4E3"
             },
             "line": {
              "color": "white"
             }
            },
            "type": "table"
           }
          ]
         },
         "layout": {
          "annotationdefaults": {
           "arrowcolor": "#2a3f5f",
           "arrowhead": 0,
           "arrowwidth": 1
          },
          "autotypenumbers": "strict",
          "coloraxis": {
           "colorbar": {
            "outlinewidth": 0,
            "ticks": ""
           }
          },
          "colorscale": {
           "diverging": [
            [
             0,
             "#8e0152"
            ],
            [
             0.1,
             "#c51b7d"
            ],
            [
             0.2,
             "#de77ae"
            ],
            [
             0.3,
             "#f1b6da"
            ],
            [
             0.4,
             "#fde0ef"
            ],
            [
             0.5,
             "#f7f7f7"
            ],
            [
             0.6,
             "#e6f5d0"
            ],
            [
             0.7,
             "#b8e186"
            ],
            [
             0.8,
             "#7fbc41"
            ],
            [
             0.9,
             "#4d9221"
            ],
            [
             1,
             "#276419"
            ]
           ],
           "sequential": [
            [
             0,
             "#0d0887"
            ],
            [
             0.1111111111111111,
             "#46039f"
            ],
            [
             0.2222222222222222,
             "#7201a8"
            ],
            [
             0.3333333333333333,
             "#9c179e"
            ],
            [
             0.4444444444444444,
             "#bd3786"
            ],
            [
             0.5555555555555556,
             "#d8576b"
            ],
            [
             0.6666666666666666,
             "#ed7953"
            ],
            [
             0.7777777777777778,
             "#fb9f3a"
            ],
            [
             0.8888888888888888,
             "#fdca26"
            ],
            [
             1,
             "#f0f921"
            ]
           ],
           "sequentialminus": [
            [
             0,
             "#0d0887"
            ],
            [
             0.1111111111111111,
             "#46039f"
            ],
            [
             0.2222222222222222,
             "#7201a8"
            ],
            [
             0.3333333333333333,
             "#9c179e"
            ],
            [
             0.4444444444444444,
             "#bd3786"
            ],
            [
             0.5555555555555556,
             "#d8576b"
            ],
            [
             0.6666666666666666,
             "#ed7953"
            ],
            [
             0.7777777777777778,
             "#fb9f3a"
            ],
            [
             0.8888888888888888,
             "#fdca26"
            ],
            [
             1,
             "#f0f921"
            ]
           ]
          },
          "colorway": [
           "#636efa",
           "#EF553B",
           "#00cc96",
           "#ab63fa",
           "#FFA15A",
           "#19d3f3",
           "#FF6692",
           "#B6E880",
           "#FF97FF",
           "#FECB52"
          ],
          "font": {
           "color": "#2a3f5f"
          },
          "geo": {
           "bgcolor": "white",
           "lakecolor": "white",
           "landcolor": "#E5ECF6",
           "showlakes": true,
           "showland": true,
           "subunitcolor": "white"
          },
          "hoverlabel": {
           "align": "left"
          },
          "hovermode": "closest",
          "mapbox": {
           "style": "light"
          },
          "paper_bgcolor": "white",
          "plot_bgcolor": "#E5ECF6",
          "polar": {
           "angularaxis": {
            "gridcolor": "white",
            "linecolor": "white",
            "ticks": ""
           },
           "bgcolor": "#E5ECF6",
           "radialaxis": {
            "gridcolor": "white",
            "linecolor": "white",
            "ticks": ""
           }
          },
          "scene": {
           "xaxis": {
            "backgroundcolor": "#E5ECF6",
            "gridcolor": "white",
            "gridwidth": 2,
            "linecolor": "white",
            "showbackground": true,
            "ticks": "",
            "zerolinecolor": "white"
           },
           "yaxis": {
            "backgroundcolor": "#E5ECF6",
            "gridcolor": "white",
            "gridwidth": 2,
            "linecolor": "white",
            "showbackground": true,
            "ticks": "",
            "zerolinecolor": "white"
           },
           "zaxis": {
            "backgroundcolor": "#E5ECF6",
            "gridcolor": "white",
            "gridwidth": 2,
            "linecolor": "white",
            "showbackground": true,
            "ticks": "",
            "zerolinecolor": "white"
           }
          },
          "shapedefaults": {
           "line": {
            "color": "#2a3f5f"
           }
          },
          "ternary": {
           "aaxis": {
            "gridcolor": "white",
            "linecolor": "white",
            "ticks": ""
           },
           "baxis": {
            "gridcolor": "white",
            "linecolor": "white",
            "ticks": ""
           },
           "bgcolor": "#E5ECF6",
           "caxis": {
            "gridcolor": "white",
            "linecolor": "white",
            "ticks": ""
           }
          },
          "title": {
           "x": 0.05
          },
          "xaxis": {
           "automargin": true,
           "gridcolor": "white",
           "linecolor": "white",
           "ticks": "",
           "title": {
            "standoff": 15
           },
           "zerolinecolor": "white",
           "zerolinewidth": 2
          },
          "yaxis": {
           "automargin": true,
           "gridcolor": "white",
           "linecolor": "white",
           "ticks": "",
           "title": {
            "standoff": 15
           },
           "zerolinecolor": "white",
           "zerolinewidth": 2
          }
         }
        },
        "title": {
         "text": "3D interactive plot"
        }
       }
      },
      "image/png": "[encoded data removed]",
      "text/html": [
       "<div>                            <div id=\"5cf8613b-3b39-49b8-b21a-3866d2251ad4\" class=\"plotly-graph-div\" style=\"height:525px; width:100%;\"></div>            <script type=\"text/javascript\">                require([\"plotly\"], function(Plotly) {                    window.PLOTLYENV=window.PLOTLYENV || {};                                    if (document.getElementById(\"5cf8613b-3b39-49b8-b21a-3866d2251ad4\")) {                    Plotly.newPlot(                        \"5cf8613b-3b39-49b8-b21a-3866d2251ad4\",                        [{\"marker\":{\"color\":[0.0,0.20408163265306123,0.40816326530612246,0.6122448979591837,0.8163265306122449,1.0204081632653061,1.2244897959183674,1.4285714285714286,1.6326530612244898,1.836734693877551,2.0408163265306123,2.2448979591836737,2.4489795918367347,2.6530612244897958,2.857142857142857,3.0612244897959187,3.2653061224489797,3.4693877551020407,3.673469387755102,3.8775510204081636,4.081632653061225,4.285714285714286,4.4897959183673475,4.6938775510204085,4.8979591836734695,5.1020408163265305,5.3061224489795915,5.510204081632653,5.714285714285714,5.918367346938775,6.122448979591837,6.326530612244898,6.530612244897959,6.73469387755102,6.938775510204081,7.142857142857143,7.346938775510204,7.551020408163265,7.755102040816327,7.959183673469388,8.16326530612245,8.36734693877551,8.571428571428571,8.775510204081632,8.979591836734695,9.183673469387756,9.387755102040817,9.591836734693878,9.795918367346939,10.0],\"colorscale\":[[0.0,\"#440154\"],[0.1111111111111111,\"#482878\"],[0.2222222222222222,\"#3e4989\"],[0.3333333333333333,\"#31688e\"],[0.4444444444444444,\"#26828e\"],[0.5555555555555556,\"#1f9e89\"],[0.6666666666666666,\"#35b779\"],[0.7777777777777778,\"#6ece58\"],[0.8888888888888888,\"#b5de2b\"],[1.0,\"#fde725\"]],\"size\":12},\"mode\":\"markers\",\"x\":[1.0,0.9792475210564969,0.9178514149905888,0.8183599245989673,0.6849024400004521,0.5230181084730104,0.33942593237925484,0.14174589725634046,-0.061817295362854206,-0.262814763741325,-0.4529041164186286,-0.6241957028171256,-0.7695800728569471,-0.883023054382162,-0.95981620122199,-0.996772217050833,-0.9923572439880433,-0.9467545253046645,-0.8618567999191831,-0.7411877443484259,-0.5897557226621226,-0.41384591454310704,-0.22075944916926946,-0.018510372154503518,0.18450697707700792,0.37986637199507933,0.5594594291408052,0.7158321462405541,0.842494280256423,0.9341887246502055,0.9871097053688656,0.9990607393363355,0.9695457993910898,0.8997899018725932,0.7926882623697213,0.6526861299196696,0.48559428713386943,0.29834787391040735,0.09871854474461515,-0.10500809346346798,-0.30437637517455507,-0.4911115282522227,-0.6574631180319587,-0.7965267287855184,-0.9025305312049615,-0.9710748419350043,-0.9993147322454036,-0.9860781066780927,-0.931914350819809,-0.8390715290764524],\"y\":[0.0,0.20266793654820095,0.39692414892492234,0.5747060412161792,0.7286347834693504,0.8523215697196184,0.9406327851124867,0.9899030763721239,0.9980874821347183,0.9648463089837632,0.8915592304110037,0.7812680235262638,0.6385503202266021,0.469329612777201,0.28062939951435684,0.0802816748428135,-0.12339813736217871,-0.3219563150726187,-0.5071517094845144,-0.6712977935519321,-0.8075816909683364,-0.9103469443107827,-0.9753282860670456,-0.9998286683840896,-0.9828312039256306,-0.9250413717382029,-0.8288577363730427,-0.6982723955653996,-0.5387052883861563,-0.3567792408989381,-0.16004508604325057,0.04333173336868346,0.2449100710119793,0.4363234264718193,0.6096271964908323,0.7576284153927202,0.8741842988197335,0.9544571997387519,0.9951153947776636,0.9944713672636168,0.9525518475314604,0.8710967034823207,0.7534867274396376,0.6046033165061543,0.4306258703827373,0.23877531564403087,0.03701440148506237,-0.1662827938487564,-0.3626784288265488,-0.5440211108893698],\"z\":[0.0,0.20408163265306123,0.40816326530612246,0.6122448979591837,0.8163265306122449,1.0204081632653061,1.2244897959183674,1.4285714285714286,1.6326530612244898,1.836734693877551,2.0408163265306123,2.2448979591836737,2.4489795918367347,2.6530612244897958,2.857142857142857,3.0612244897959187,3.2653061224489797,3.4693877551020407,3.673469387755102,3.8775510204081636,4.081632653061225,4.285714285714286,4.4897959183673475,4.6938775510204085,4.8979591836734695,5.1020408163265305,5.3061224489795915,5.510204081632653,5.714285714285714,5.918367346938775,6.122448979591837,6.326530612244898,6.530612244897959,6.73469387755102,6.938775510204081,7.142857142857143,7.346938775510204,7.551020408163265,7.755102040816327,7.959183673469388,8.16326530612245,8.36734693877551,8.571428571428571,8.775510204081632,8.979591836734695,9.183673469387756,9.387755102040817,9.591836734693878,9.795918367346939,10.0],\"type\":\"scatter3d\"}],                        {\"title\":{\"text\":\"3D interactive plot\"},\"template\":{\"data\":{\"histogram2dcontour\":[{\"type\":\"histogram2dcontour\",\"colorbar\":{\"outlinewidth\":0,\"ticks\":\"\"},\"colorscale\":[[0.0,\"#0d0887\"],[0.1111111111111111,\"#46039f\"],[0.2222222222222222,\"#7201a8\"],[0.3333333333333333,\"#9c179e\"],[0.4444444444444444,\"#bd3786\"],[0.5555555555555556,\"#d8576b\"],[0.6666666666666666,\"#ed7953\"],[0.7777777777777778,\"#fb9f3a\"],[0.8888888888888888,\"#fdca26\"],[1.0,\"#f0f921\"]]}],\"choropleth\":[{\"type\":\"choropleth\",\"colorbar\":{\"outlinewidth\":0,\"ticks\":\"\"}}],\"histogram2d\":[{\"type\":\"histogram2d\",\"colorbar\":{\"outlinewidth\":0,\"ticks\":\"\"},\"colorscale\":[[0.0,\"#0d0887\"],[0.1111111111111111,\"#46039f\"],[0.2222222222222222,\"#7201a8\"],[0.3333333333333333,\"#9c179e\"],[0.4444444444444444,\"#bd3786\"],[0.5555555555555556,\"#d8576b\"],[0.6666666666666666,\"#ed7953\"],[0.7777777777777778,\"#fb9f3a\"],[0.8888888888888888,\"#fdca26\"],[1.0,\"#f0f921\"]]}],\"heatmap\":[{\"type\":\"heatmap\",\"colorbar\":{\"outlinewidth\":0,\"ticks\":\"\"},\"colorscale\":[[0.0,\"#0d0887\"],[0.1111111111111111,\"#46039f\"],[0.2222222222222222,\"#7201a8\"],[0.3333333333333333,\"#9c179e\"],[0.4444444444444444,\"#bd3786\"],[0.5555555555555556,\"#d8576b\"],[0.6666666666666666,\"#ed7953\"],[0.7777777777777778,\"#fb9f3a\"],[0.8888888888888888,\"#fdca26\"],[1.0,\"#f0f921\"]]}],\"heatmapgl\":[{\"type\":\"heatmapgl\",\"colorbar\":{\"outlinewidth\":0,\"ticks\":\"\"},\"colorscale\":[[0.0,\"#0d0887\"],[0.1111111111111111,\"#46039f\"],[0.2222222222222222,\"#7201a8\"],[0.3333333333333333,\"#9c179e\"],[0.4444444444444444,\"#bd3786\"],[0.5555555555555556,\"#d8576b\"],[0.6666666666666666,\"#ed7953\"],[0.7777777777777778,\"#fb9f3a\"],[0.8888888888888888,\"#fdca26\"],[1.0,\"#f0f921\"]]}],\"contourcarpet\":[{\"type\":\"contourcarpet\",\"colorbar\":{\"outlinewidth\":0,\"ticks\":\"\"}}],\"contour\":[{\"type\":\"contour\",\"colorbar\":{\"outlinewidth\":0,\"ticks\":\"\"},\"colorscale\":[[0.0,\"#0d0887\"],[0.1111111111111111,\"#46039f\"],[0.2222222222222222,\"#7201a8\"],[0.3333333333333333,\"#9c179e\"],[0.4444444444444444,\"#bd3786\"],[0.5555555555555556,\"#d8576b\"],[0.6666666666666666,\"#ed7953\"],[0.7777777777777778,\"#fb9f3a\"],[0.8888888888888888,\"#fdca26\"],[1.0,\"#f0f921\"]]}],\"surface\":[{\"type\":\"surface\",\"colorbar\":{\"outlinewidth\":0,\"ticks\":\"\"},\"colorscale\":[[0.0,\"#0d0887\"],[0.1111111111111111,\"#46039f\"],[0.2222222222222222,\"#7201a8\"],[0.3333333333333333,\"#9c179e\"],[0.4444444444444444,\"#bd3786\"],[0.5555555555555556,\"#d8576b\"],[0.6666666666666666,\"#ed7953\"],[0.7777777777777778,\"#fb9f3a\"],[0.8888888888888888,\"#fdca26\"],[1.0,\"#f0f921\"]]}],\"mesh3d\":[{\"type\":\"mesh3d\",\"colorbar\":{\"outlinewidth\":0,\"ticks\":\"\"}}],\"scatter\":[{\"fillpattern\":{\"fillmode\":\"overlay\",\"size\":10,\"solidity\":0.2},\"type\":\"scatter\"}],\"parcoords\":[{\"type\":\"parcoords\",\"line\":{\"colorbar\":{\"outlinewidth\":0,\"ticks\":\"\"}}}],\"scatterpolargl\":[{\"type\":\"scatterpolargl\",\"marker\":{\"colorbar\":{\"outlinewidth\":0,\"ticks\":\"\"}}}],\"bar\":[{\"error_x\":{\"color\":\"#2a3f5f\"},\"error_y\":{\"color\":\"#2a3f5f\"},\"marker\":{\"line\":{\"color\":\"#E5ECF6\",\"width\":0.5},\"pattern\":{\"fillmode\":\"overlay\",\"size\":10,\"solidity\":0.2}},\"type\":\"bar\"}],\"scattergeo\":[{\"type\":\"scattergeo\",\"marker\":{\"colorbar\":{\"outlinewidth\":0,\"ticks\":\"\"}}}],\"scatterpolar\":[{\"type\":\"scatterpolar\",\"marker\":{\"colorbar\":{\"outlinewidth\":0,\"ticks\":\"\"}}}],\"histogram\":[{\"marker\":{\"pattern\":{\"fillmode\":\"overlay\",\"size\":10,\"solidity\":0.2}},\"type\":\"histogram\"}],\"scattergl\":[{\"type\":\"scattergl\",\"marker\":{\"colorbar\":{\"outlinewidth\":0,\"ticks\":\"\"}}}],\"scatter3d\":[{\"type\":\"scatter3d\",\"line\":{\"colorbar\":{\"outlinewidth\":0,\"ticks\":\"\"}},\"marker\":{\"colorbar\":{\"outlinewidth\":0,\"ticks\":\"\"}}}],\"scattermapbox\":[{\"type\":\"scattermapbox\",\"marker\":{\"colorbar\":{\"outlinewidth\":0,\"ticks\":\"\"}}}],\"scatterternary\":[{\"type\":\"scatterternary\",\"marker\":{\"colorbar\":{\"outlinewidth\":0,\"ticks\":\"\"}}}],\"scattercarpet\":[{\"type\":\"scattercarpet\",\"marker\":{\"colorbar\":{\"outlinewidth\":0,\"ticks\":\"\"}}}],\"carpet\":[{\"aaxis\":{\"endlinecolor\":\"#2a3f5f\",\"gridcolor\":\"white\",\"linecolor\":\"white\",\"minorgridcolor\":\"white\",\"startlinecolor\":\"#2a3f5f\"},\"baxis\":{\"endlinecolor\":\"#2a3f5f\",\"gridcolor\":\"white\",\"linecolor\":\"white\",\"minorgridcolor\":\"white\",\"startlinecolor\":\"#2a3f5f\"},\"type\":\"carpet\"}],\"table\":[{\"cells\":{\"fill\":{\"color\":\"#EBF0F8\"},\"line\":{\"color\":\"white\"}},\"header\":{\"fill\":{\"color\":\"#C8D4E3\"},\"line\":{\"color\":\"white\"}},\"type\":\"table\"}],\"barpolar\":[{\"marker\":{\"line\":{\"color\":\"#E5ECF6\",\"width\":0.5},\"pattern\":{\"fillmode\":\"overlay\",\"size\":10,\"solidity\":0.2}},\"type\":\"barpolar\"}],\"pie\":[{\"automargin\":true,\"type\":\"pie\"}]},\"layout\":{\"autotypenumbers\":\"strict\",\"colorway\":[\"#636efa\",\"#EF553B\",\"#00cc96\",\"#ab63fa\",\"#FFA15A\",\"#19d3f3\",\"#FF6692\",\"#B6E880\",\"#FF97FF\",\"#FECB52\"],\"font\":{\"color\":\"#2a3f5f\"},\"hovermode\":\"closest\",\"hoverlabel\":{\"align\":\"left\"},\"paper_bgcolor\":\"white\",\"plot_bgcolor\":\"#E5ECF6\",\"polar\":{\"bgcolor\":\"#E5ECF6\",\"angularaxis\":{\"gridcolor\":\"white\",\"linecolor\":\"white\",\"ticks\":\"\"},\"radialaxis\":{\"gridcolor\":\"white\",\"linecolor\":\"white\",\"ticks\":\"\"}},\"ternary\":{\"bgcolor\":\"#E5ECF6\",\"aaxis\":{\"gridcolor\":\"white\",\"linecolor\":\"white\",\"ticks\":\"\"},\"baxis\":{\"gridcolor\":\"white\",\"linecolor\":\"white\",\"ticks\":\"\"},\"caxis\":{\"gridcolor\":\"white\",\"linecolor\":\"white\",\"ticks\":\"\"}},\"coloraxis\":{\"colorbar\":{\"outlinewidth\":0,\"ticks\":\"\"}},\"colorscale\":{\"sequential\":[[0.0,\"#0d0887\"],[0.1111111111111111,\"#46039f\"],[0.2222222222222222,\"#7201a8\"],[0.3333333333333333,\"#9c179e\"],[0.4444444444444444,\"#bd3786\"],[0.5555555555555556,\"#d8576b\"],[0.6666666666666666,\"#ed7953\"],[0.7777777777777778,\"#fb9f3a\"],[0.8888888888888888,\"#fdca26\"],[1.0,\"#f0f921\"]],\"sequentialminus\":[[0.0,\"#0d0887\"],[0.1111111111111111,\"#46039f\"],[0.2222222222222222,\"#7201a8\"],[0.3333333333333333,\"#9c179e\"],[0.4444444444444444,\"#bd3786\"],[0.5555555555555556,\"#d8576b\"],[0.6666666666666666,\"#ed7953\"],[0.7777777777777778,\"#fb9f3a\"],[0.8888888888888888,\"#fdca26\"],[1.0,\"#f0f921\"]],\"diverging\":[[0,\"#8e0152\"],[0.1,\"#c51b7d\"],[0.2,\"#de77ae\"],[0.3,\"#f1b6da\"],[0.4,\"#fde0ef\"],[0.5,\"#f7f7f7\"],[0.6,\"#e6f5d0\"],[0.7,\"#b8e186\"],[0.8,\"#7fbc41\"],[0.9,\"#4d9221\"],[1,\"#276419\"]]},\"xaxis\":{\"gridcolor\":\"white\",\"linecolor\":\"white\",\"ticks\":\"\",\"title\":{\"standoff\":15},\"zerolinecolor\":\"white\",\"automargin\":true,\"zerolinewidth\":2},\"yaxis\":{\"gridcolor\":\"white\",\"linecolor\":\"white\",\"ticks\":\"\",\"title\":{\"standoff\":15},\"zerolinecolor\":\"white\",\"automargin\":true,\"zerolinewidth\":2},\"scene\":{\"xaxis\":{\"backgroundcolor\":\"#E5ECF6\",\"gridcolor\":\"white\",\"linecolor\":\"white\",\"showbackground\":true,\"ticks\":\"\",\"zerolinecolor\":\"white\",\"gridwidth\":2},\"yaxis\":{\"backgroundcolor\":\"#E5ECF6\",\"gridcolor\":\"white\",\"linecolor\":\"white\",\"showbackground\":true,\"ticks\":\"\",\"zerolinecolor\":\"white\",\"gridwidth\":2},\"zaxis\":{\"backgroundcolor\":\"#E5ECF6\",\"gridcolor\":\"white\",\"linecolor\":\"white\",\"showbackground\":true,\"ticks\":\"\",\"zerolinecolor\":\"white\",\"gridwidth\":2}},\"shapedefaults\":{\"line\":{\"color\":\"#2a3f5f\"}},\"annotationdefaults\":{\"arrowcolor\":\"#2a3f5f\",\"arrowhead\":0,\"arrowwidth\":1},\"geo\":{\"bgcolor\":\"white\",\"landcolor\":\"#E5ECF6\",\"subunitcolor\":\"white\",\"showland\":true,\"showlakes\":true,\"lakecolor\":\"white\"},\"title\":{\"x\":0.05},\"mapbox\":{\"style\":\"light\"}}}},                        {\"responsive\": true}                    ).then(function(){\n",
       "                            \n",
       "var gd = document.getElementById('5cf8613b-3b39-49b8-b21a-3866d2251ad4');\n",
       "var x = new MutationObserver(function (mutations, observer) {{\n",
       "        var display = window.getComputedStyle(gd).display;\n",
       "        if (!display || display === 'none') {{\n",
       "            console.log([gd, 'removed!']);\n",
       "            Plotly.purge(gd);\n",
       "            observer.disconnect();\n",
       "        }}\n",
       "}});\n",
       "\n",
       "// Listen for the removal of the full notebook cells\n",
       "var notebookContainer = gd.closest('#notebook-container');\n",
       "if (notebookContainer) {{\n",
       "    x.observe(notebookContainer, {childList: true});\n",
       "}}\n",
       "\n",
       "// Listen for the clearing of the current output cell\n",
       "var outputEl = gd.closest('.output');\n",
       "if (outputEl) {{\n",
       "    x.observe(outputEl, {childList: true});\n",
       "}}\n",
       "\n",
       "                        })                };                });            </script>        </div>"
      ]
     },
     "metadata": {},
     "output_type": "display_data"
    }
   ],
   "source": [
    "## Now lets create our scatter plot!\n",
    "\n",
    "trace = go.Scatter3d(x=X,y=Y,z=Z,mode='markers',marker=dict(size=12,color=Z,colorscale='Viridis')) ## Use the capital Scatter3d not the lower case and notice ths scheme is similar to what we have worked with so far\n",
    "\n",
    "layout = go.Layout(title='3D interactive plot') ## Now lets define the layout of the of our 3D scatter plot. This will specifically contain the title.\n",
    "fig = go.Figure(data=[trace],layout=layout) ## Now lets define the figure. The data is the trace and the layout is the layout. Fairly simple\n",
    "\n",
    "fig.show() ## Now lets create the plot!"
   ]
  },
  {
   "cell_type": "markdown",
   "id": "65676baf-f2f5-4e9a-915e-3409467a39b4",
   "metadata": {},
   "source": [
    "## Plotly: Scatterplot Quiz\n",
    "#### Lets make our own scatterplot using the following parameters!\n",
    "##### 1) Z = linspace start at -10 to 20 and generate 70 values\n",
    "##### 2) X = sin(z)\n",
    "##### 3) Y = cos(z)\n",
    "##### 4) use colorscale = solar\n",
    "##### 5) set color = Z\n",
    "##### 6) Set the layout title to be 'Plotly: Scatterplot Quiz'\n",
    "##### 7) Set the size to be 10"
   ]
  },
  {
   "cell_type": "code",
   "execution_count": 18,
   "id": "20ba4654-f230-4940-92be-2944e3539980",
   "metadata": {},
   "outputs": [],
   "source": [
    "## First lets import the libraries!\n",
    "\n",
    "import plotly.graph_objs as go\n",
    "import numpy as np"
   ]
  },
  {
   "cell_type": "code",
   "execution_count": 20,
   "id": "3e22e013-8a86-4680-a4c3-45145d262a5c",
   "metadata": {},
   "outputs": [],
   "source": [
    "## Now lets define our data!\n",
    "\n",
    "Z = np.linspace(-10,20,70)\n",
    "X = np.sin(Z)\n",
    "Y = np.cos(Z)"
   ]
  },
  {
   "cell_type": "code",
   "execution_count": 28,
   "id": "b179976a-e0ca-40e2-b4f6-5b9227d2b282",
   "metadata": {},
   "outputs": [
    {
     "data": {
      "application/vnd.plotly.v1+json": {
       "config": {
        "plotlyServerURL": "https://plot.ly"
       },
       "data": [
        {
         "marker": {
          "color": [
           -10,
           -9.565217391304348,
           -9.130434782608695,
           -8.695652173913043,
           -8.26086956521739,
           -7.826086956521739,
           -7.391304347826087,
           -6.9565217391304355,
           -6.521739130434783,
           -6.086956521739131,
           -5.6521739130434785,
           -5.217391304347826,
           -4.782608695652174,
           -4.3478260869565215,
           -3.91304347826087,
           -3.4782608695652177,
           -3.0434782608695654,
           -2.608695652173913,
           -2.1739130434782608,
           -1.7391304347826093,
           -1.304347826086957,
           -0.8695652173913047,
           -0.43478260869565233,
           0,
           0.43478260869565233,
           0.8695652173913047,
           1.304347826086957,
           1.7391304347826075,
           2.17391304347826,
           2.608695652173912,
           3.0434782608695645,
           3.478260869565217,
           3.913043478260869,
           4.3478260869565215,
           4.782608695652174,
           5.217391304347826,
           5.6521739130434785,
           6.086956521739129,
           6.521739130434781,
           6.956521739130434,
           7.391304347826086,
           7.826086956521738,
           8.26086956521739,
           8.695652173913043,
           9.130434782608695,
           9.565217391304348,
           10,
           10.434782608695652,
           10.869565217391305,
           11.304347826086957,
           11.73913043478261,
           12.173913043478262,
           12.608695652173914,
           13.043478260869566,
           13.478260869565215,
           13.913043478260867,
           14.34782608695652,
           14.782608695652172,
           15.217391304347824,
           15.652173913043477,
           16.08695652173913,
           16.52173913043478,
           16.956521739130434,
           17.391304347826086,
           17.82608695652174,
           18.26086956521739,
           18.695652173913043,
           19.130434782608695,
           19.565217391304348,
           20
          ],
          "colorscale": [
           [
            0,
            "rgb(51, 19, 23)"
           ],
           [
            0.09090909090909091,
            "rgb(79, 28, 33)"
           ],
           [
            0.18181818181818182,
            "rgb(108, 36, 36)"
           ],
           [
            0.2727272727272727,
            "rgb(135, 47, 32)"
           ],
           [
            0.36363636363636365,
            "rgb(157, 66, 25)"
           ],
           [
            0.45454545454545453,
            "rgb(174, 88, 20)"
           ],
           [
            0.5454545454545454,
            "rgb(188, 111, 19)"
           ],
           [
            0.6363636363636364,
            "rgb(199, 137, 22)"
           ],
           [
            0.7272727272727273,
            "rgb(209, 164, 32)"
           ],
           [
            0.8181818181818182,
            "rgb(217, 192, 44)"
           ],
           [
            0.9090909090909091,
            "rgb(222, 222, 59)"
           ],
           [
            1,
            "rgb(224, 253, 74)"
           ]
          ],
          "size": 10
         },
         "mode": "markers",
         "type": "scatter3d",
         "x": [
          0.5440211108893698,
          0.13997823230235076,
          -0.29011133891109575,
          -0.6662179390027406,
          -0.9183568793090077,
          -0.9996109687117447,
          -0.8948607114400529,
          -0.6235976934985453,
          -0.23629765195738314,
          0.19497188546644087,
          0.589961690763271,
          0.8751733500731816,
          0.997535608663705,
          0.9342796968042831,
          0.6971760681283639,
          0.3303441920359651,
          -0.09795705318163461,
          -0.5080307696410375,
          -0.8235717785218403,
          -0.9858652387078994,
          -0.9647121127973508,
          -0.7640485054231635,
          -0.42121324574911895,
          0,
          0.42121324574911895,
          0.7640485054231635,
          0.9647121127973508,
          0.9858652387078998,
          0.8235717785218407,
          0.5080307696410383,
          0.0979570531816355,
          -0.33034419203596427,
          -0.6971760681283633,
          -0.9342796968042831,
          -0.997535608663705,
          -0.8751733500731816,
          -0.589961690763271,
          -0.19497188546644262,
          0.23629765195738142,
          0.6235976934985439,
          0.8948607114400524,
          0.9996109687117447,
          0.9183568793090077,
          0.6662179390027406,
          0.29011133891109575,
          -0.13997823230235076,
          -0.5440211108893698,
          -0.8468343166582882,
          -0.9920713565568882,
          -0.9527069962041559,
          -0.7360660273029104,
          -0.38246029430532236,
          0.04231240203886898,
          0.4592117447046703,
          0.7906624646236656,
          0.9749892935735083,
          0.9778932968020378,
          0.7988341068661489,
          0.47113047344202835,
          0.055760419126252604,
          -0.36998535199787064,
          -0.7268854563260767,
          -0.9485290872431106,
          -0.993673521275857,
          -0.8539184294752752,
          -0.5552689832114769,
          -0.15329689675703378,
          0.27720017593806345,
          0.6561167445798236,
          0.9129452507276277
         ],
         "y": [
          -0.8390715290764524,
          -0.990154581104137,
          -0.9569929002010471,
          -0.7457571037214065,
          -0.3957532592737813,
          0.027891060058150646,
          0.44634550196120776,
          0.7817454295762108,
          0.9716807190015799,
          0.9808088314639408,
          0.80743123758729,
          0.48380947419587006,
          0.07016202283238043,
          -0.35654094875525416,
          -0.7168999442244887,
          -0.9438605377851674,
          -0.9951906429081668,
          -0.8613389211558566,
          -0.5672120640663181,
          -0.16754023727873985,
          0.2633069300684497,
          0.6451588032109847,
          0.9069616318265576,
          1,
          0.9069616318265576,
          0.6451588032109847,
          0.2633069300684497,
          -0.1675402372787381,
          -0.5672120640663173,
          -0.8613389211558562,
          -0.9951906429081667,
          -0.9438605377851677,
          -0.7168999442244892,
          -0.35654094875525416,
          0.07016202283238043,
          0.48380947419587006,
          0.80743123758729,
          0.9808088314639405,
          0.9716807190015804,
          0.781745429576212,
          0.4463455019612086,
          0.02789106005815153,
          -0.3957532592737813,
          -0.7457571037214065,
          -0.9569929002010471,
          -0.990154581104137,
          -0.8390715290764524,
          -0.5318567853566314,
          -0.1256758668137029,
          0.30389040686348523,
          0.6769097454243891,
          0.9239719277553221,
          0.9991044292934053,
          0.8883268393588548,
          0.6122522903470682,
          0.22225183332659224,
          -0.2091045194864078,
          -0.6015513857579935,
          -0.882063533422786,
          -0.9984441775376651,
          -0.9290375876717861,
          -0.6867587155483584,
          -0.3166900229779137,
          0.11230731550188112,
          0.520406875245206,
          0.8316708220704226,
          0.9881801766098445,
          0.9608121889630182,
          0.7546594049516474,
          0.40808206181339196
         ],
         "z": [
          -10,
          -9.565217391304348,
          -9.130434782608695,
          -8.695652173913043,
          -8.26086956521739,
          -7.826086956521739,
          -7.391304347826087,
          -6.9565217391304355,
          -6.521739130434783,
          -6.086956521739131,
          -5.6521739130434785,
          -5.217391304347826,
          -4.782608695652174,
          -4.3478260869565215,
          -3.91304347826087,
          -3.4782608695652177,
          -3.0434782608695654,
          -2.608695652173913,
          -2.1739130434782608,
          -1.7391304347826093,
          -1.304347826086957,
          -0.8695652173913047,
          -0.43478260869565233,
          0,
          0.43478260869565233,
          0.8695652173913047,
          1.304347826086957,
          1.7391304347826075,
          2.17391304347826,
          2.608695652173912,
          3.0434782608695645,
          3.478260869565217,
          3.913043478260869,
          4.3478260869565215,
          4.782608695652174,
          5.217391304347826,
          5.6521739130434785,
          6.086956521739129,
          6.521739130434781,
          6.956521739130434,
          7.391304347826086,
          7.826086956521738,
          8.26086956521739,
          8.695652173913043,
          9.130434782608695,
          9.565217391304348,
          10,
          10.434782608695652,
          10.869565217391305,
          11.304347826086957,
          11.73913043478261,
          12.173913043478262,
          12.608695652173914,
          13.043478260869566,
          13.478260869565215,
          13.913043478260867,
          14.34782608695652,
          14.782608695652172,
          15.217391304347824,
          15.652173913043477,
          16.08695652173913,
          16.52173913043478,
          16.956521739130434,
          17.391304347826086,
          17.82608695652174,
          18.26086956521739,
          18.695652173913043,
          19.130434782608695,
          19.565217391304348,
          20
         ]
        }
       ],
       "layout": {
        "autosize": true,
        "scene": {
         "aspectmode": "auto",
         "aspectratio": {
          "x": 1,
          "y": 1,
          "z": 1
         },
         "camera": {
          "center": {
           "x": 0,
           "y": 0,
           "z": 0
          },
          "eye": {
           "x": 1.1087101241969917,
           "y": -0.9237852550569428,
           "z": -0.5163650411506618
          },
          "projection": {
           "type": "perspective"
          },
          "up": {
           "x": 0,
           "y": 0,
           "z": 1
          }
         }
        },
        "template": {
         "data": {
          "bar": [
           {
            "error_x": {
             "color": "#2a3f5f"
            },
            "error_y": {
             "color": "#2a3f5f"
            },
            "marker": {
             "line": {
              "color": "#E5ECF6",
              "width": 0.5
             },
             "pattern": {
              "fillmode": "overlay",
              "size": 10,
              "solidity": 0.2
             }
            },
            "type": "bar"
           }
          ],
          "barpolar": [
           {
            "marker": {
             "line": {
              "color": "#E5ECF6",
              "width": 0.5
             },
             "pattern": {
              "fillmode": "overlay",
              "size": 10,
              "solidity": 0.2
             }
            },
            "type": "barpolar"
           }
          ],
          "carpet": [
           {
            "aaxis": {
             "endlinecolor": "#2a3f5f",
             "gridcolor": "white",
             "linecolor": "white",
             "minorgridcolor": "white",
             "startlinecolor": "#2a3f5f"
            },
            "baxis": {
             "endlinecolor": "#2a3f5f",
             "gridcolor": "white",
             "linecolor": "white",
             "minorgridcolor": "white",
             "startlinecolor": "#2a3f5f"
            },
            "type": "carpet"
           }
          ],
          "choropleth": [
           {
            "colorbar": {
             "outlinewidth": 0,
             "ticks": ""
            },
            "type": "choropleth"
           }
          ],
          "contour": [
           {
            "colorbar": {
             "outlinewidth": 0,
             "ticks": ""
            },
            "colorscale": [
             [
              0,
              "#0d0887"
             ],
             [
              0.1111111111111111,
              "#46039f"
             ],
             [
              0.2222222222222222,
              "#7201a8"
             ],
             [
              0.3333333333333333,
              "#9c179e"
             ],
             [
              0.4444444444444444,
              "#bd3786"
             ],
             [
              0.5555555555555556,
              "#d8576b"
             ],
             [
              0.6666666666666666,
              "#ed7953"
             ],
             [
              0.7777777777777778,
              "#fb9f3a"
             ],
             [
              0.8888888888888888,
              "#fdca26"
             ],
             [
              1,
              "#f0f921"
             ]
            ],
            "type": "contour"
           }
          ],
          "contourcarpet": [
           {
            "colorbar": {
             "outlinewidth": 0,
             "ticks": ""
            },
            "type": "contourcarpet"
           }
          ],
          "heatmap": [
           {
            "colorbar": {
             "outlinewidth": 0,
             "ticks": ""
            },
            "colorscale": [
             [
              0,
              "#0d0887"
             ],
             [
              0.1111111111111111,
              "#46039f"
             ],
             [
              0.2222222222222222,
              "#7201a8"
             ],
             [
              0.3333333333333333,
              "#9c179e"
             ],
             [
              0.4444444444444444,
              "#bd3786"
             ],
             [
              0.5555555555555556,
              "#d8576b"
             ],
             [
              0.6666666666666666,
              "#ed7953"
             ],
             [
              0.7777777777777778,
              "#fb9f3a"
             ],
             [
              0.8888888888888888,
              "#fdca26"
             ],
             [
              1,
              "#f0f921"
             ]
            ],
            "type": "heatmap"
           }
          ],
          "heatmapgl": [
           {
            "colorbar": {
             "outlinewidth": 0,
             "ticks": ""
            },
            "colorscale": [
             [
              0,
              "#0d0887"
             ],
             [
              0.1111111111111111,
              "#46039f"
             ],
             [
              0.2222222222222222,
              "#7201a8"
             ],
             [
              0.3333333333333333,
              "#9c179e"
             ],
             [
              0.4444444444444444,
              "#bd3786"
             ],
             [
              0.5555555555555556,
              "#d8576b"
             ],
             [
              0.6666666666666666,
              "#ed7953"
             ],
             [
              0.7777777777777778,
              "#fb9f3a"
             ],
             [
              0.8888888888888888,
              "#fdca26"
             ],
             [
              1,
              "#f0f921"
             ]
            ],
            "type": "heatmapgl"
           }
          ],
          "histogram": [
           {
            "marker": {
             "pattern": {
              "fillmode": "overlay",
              "size": 10,
              "solidity": 0.2
             }
            },
            "type": "histogram"
           }
          ],
          "histogram2d": [
           {
            "colorbar": {
             "outlinewidth": 0,
             "ticks": ""
            },
            "colorscale": [
             [
              0,
              "#0d0887"
             ],
             [
              0.1111111111111111,
              "#46039f"
             ],
             [
              0.2222222222222222,
              "#7201a8"
             ],
             [
              0.3333333333333333,
              "#9c179e"
             ],
             [
              0.4444444444444444,
              "#bd3786"
             ],
             [
              0.5555555555555556,
              "#d8576b"
             ],
             [
              0.6666666666666666,
              "#ed7953"
             ],
             [
              0.7777777777777778,
              "#fb9f3a"
             ],
             [
              0.8888888888888888,
              "#fdca26"
             ],
             [
              1,
              "#f0f921"
             ]
            ],
            "type": "histogram2d"
           }
          ],
          "histogram2dcontour": [
           {
            "colorbar": {
             "outlinewidth": 0,
             "ticks": ""
            },
            "colorscale": [
             [
              0,
              "#0d0887"
             ],
             [
              0.1111111111111111,
              "#46039f"
             ],
             [
              0.2222222222222222,
              "#7201a8"
             ],
             [
              0.3333333333333333,
              "#9c179e"
             ],
             [
              0.4444444444444444,
              "#bd3786"
             ],
             [
              0.5555555555555556,
              "#d8576b"
             ],
             [
              0.6666666666666666,
              "#ed7953"
             ],
             [
              0.7777777777777778,
              "#fb9f3a"
             ],
             [
              0.8888888888888888,
              "#fdca26"
             ],
             [
              1,
              "#f0f921"
             ]
            ],
            "type": "histogram2dcontour"
           }
          ],
          "mesh3d": [
           {
            "colorbar": {
             "outlinewidth": 0,
             "ticks": ""
            },
            "type": "mesh3d"
           }
          ],
          "parcoords": [
           {
            "line": {
             "colorbar": {
              "outlinewidth": 0,
              "ticks": ""
             }
            },
            "type": "parcoords"
           }
          ],
          "pie": [
           {
            "automargin": true,
            "type": "pie"
           }
          ],
          "scatter": [
           {
            "fillpattern": {
             "fillmode": "overlay",
             "size": 10,
             "solidity": 0.2
            },
            "type": "scatter"
           }
          ],
          "scatter3d": [
           {
            "line": {
             "colorbar": {
              "outlinewidth": 0,
              "ticks": ""
             }
            },
            "marker": {
             "colorbar": {
              "outlinewidth": 0,
              "ticks": ""
             }
            },
            "type": "scatter3d"
           }
          ],
          "scattercarpet": [
           {
            "marker": {
             "colorbar": {
              "outlinewidth": 0,
              "ticks": ""
             }
            },
            "type": "scattercarpet"
           }
          ],
          "scattergeo": [
           {
            "marker": {
             "colorbar": {
              "outlinewidth": 0,
              "ticks": ""
             }
            },
            "type": "scattergeo"
           }
          ],
          "scattergl": [
           {
            "marker": {
             "colorbar": {
              "outlinewidth": 0,
              "ticks": ""
             }
            },
            "type": "scattergl"
           }
          ],
          "scattermapbox": [
           {
            "marker": {
             "colorbar": {
              "outlinewidth": 0,
              "ticks": ""
             }
            },
            "type": "scattermapbox"
           }
          ],
          "scatterpolar": [
           {
            "marker": {
             "colorbar": {
              "outlinewidth": 0,
              "ticks": ""
             }
            },
            "type": "scatterpolar"
           }
          ],
          "scatterpolargl": [
           {
            "marker": {
             "colorbar": {
              "outlinewidth": 0,
              "ticks": ""
             }
            },
            "type": "scatterpolargl"
           }
          ],
          "scatterternary": [
           {
            "marker": {
             "colorbar": {
              "outlinewidth": 0,
              "ticks": ""
             }
            },
            "type": "scatterternary"
           }
          ],
          "surface": [
           {
            "colorbar": {
             "outlinewidth": 0,
             "ticks": ""
            },
            "colorscale": [
             [
              0,
              "#0d0887"
             ],
             [
              0.1111111111111111,
              "#46039f"
             ],
             [
              0.2222222222222222,
              "#7201a8"
             ],
             [
              0.3333333333333333,
              "#9c179e"
             ],
             [
              0.4444444444444444,
              "#bd3786"
             ],
             [
              0.5555555555555556,
              "#d8576b"
             ],
             [
              0.6666666666666666,
              "#ed7953"
             ],
             [
              0.7777777777777778,
              "#fb9f3a"
             ],
             [
              0.8888888888888888,
              "#fdca26"
             ],
             [
              1,
              "#f0f921"
             ]
            ],
            "type": "surface"
           }
          ],
          "table": [
           {
            "cells": {
             "fill": {
              "color": "#EBF0F8"
             },
             "line": {
              "color": "white"
             }
            },
            "header": {
             "fill": {
              "color": "#C8D4E3"
             },
             "line": {
              "color": "white"
             }
            },
            "type": "table"
           }
          ]
         },
         "layout": {
          "annotationdefaults": {
           "arrowcolor": "#2a3f5f",
           "arrowhead": 0,
           "arrowwidth": 1
          },
          "autotypenumbers": "strict",
          "coloraxis": {
           "colorbar": {
            "outlinewidth": 0,
            "ticks": ""
           }
          },
          "colorscale": {
           "diverging": [
            [
             0,
             "#8e0152"
            ],
            [
             0.1,
             "#c51b7d"
            ],
            [
             0.2,
             "#de77ae"
            ],
            [
             0.3,
             "#f1b6da"
            ],
            [
             0.4,
             "#fde0ef"
            ],
            [
             0.5,
             "#f7f7f7"
            ],
            [
             0.6,
             "#e6f5d0"
            ],
            [
             0.7,
             "#b8e186"
            ],
            [
             0.8,
             "#7fbc41"
            ],
            [
             0.9,
             "#4d9221"
            ],
            [
             1,
             "#276419"
            ]
           ],
           "sequential": [
            [
             0,
             "#0d0887"
            ],
            [
             0.1111111111111111,
             "#46039f"
            ],
            [
             0.2222222222222222,
             "#7201a8"
            ],
            [
             0.3333333333333333,
             "#9c179e"
            ],
            [
             0.4444444444444444,
             "#bd3786"
            ],
            [
             0.5555555555555556,
             "#d8576b"
            ],
            [
             0.6666666666666666,
             "#ed7953"
            ],
            [
             0.7777777777777778,
             "#fb9f3a"
            ],
            [
             0.8888888888888888,
             "#fdca26"
            ],
            [
             1,
             "#f0f921"
            ]
           ],
           "sequentialminus": [
            [
             0,
             "#0d0887"
            ],
            [
             0.1111111111111111,
             "#46039f"
            ],
            [
             0.2222222222222222,
             "#7201a8"
            ],
            [
             0.3333333333333333,
             "#9c179e"
            ],
            [
             0.4444444444444444,
             "#bd3786"
            ],
            [
             0.5555555555555556,
             "#d8576b"
            ],
            [
             0.6666666666666666,
             "#ed7953"
            ],
            [
             0.7777777777777778,
             "#fb9f3a"
            ],
            [
             0.8888888888888888,
             "#fdca26"
            ],
            [
             1,
             "#f0f921"
            ]
           ]
          },
          "colorway": [
           "#636efa",
           "#EF553B",
           "#00cc96",
           "#ab63fa",
           "#FFA15A",
           "#19d3f3",
           "#FF6692",
           "#B6E880",
           "#FF97FF",
           "#FECB52"
          ],
          "font": {
           "color": "#2a3f5f"
          },
          "geo": {
           "bgcolor": "white",
           "lakecolor": "white",
           "landcolor": "#E5ECF6",
           "showlakes": true,
           "showland": true,
           "subunitcolor": "white"
          },
          "hoverlabel": {
           "align": "left"
          },
          "hovermode": "closest",
          "mapbox": {
           "style": "light"
          },
          "paper_bgcolor": "white",
          "plot_bgcolor": "#E5ECF6",
          "polar": {
           "angularaxis": {
            "gridcolor": "white",
            "linecolor": "white",
            "ticks": ""
           },
           "bgcolor": "#E5ECF6",
           "radialaxis": {
            "gridcolor": "white",
            "linecolor": "white",
            "ticks": ""
           }
          },
          "scene": {
           "xaxis": {
            "backgroundcolor": "#E5ECF6",
            "gridcolor": "white",
            "gridwidth": 2,
            "linecolor": "white",
            "showbackground": true,
            "ticks": "",
            "zerolinecolor": "white"
           },
           "yaxis": {
            "backgroundcolor": "#E5ECF6",
            "gridcolor": "white",
            "gridwidth": 2,
            "linecolor": "white",
            "showbackground": true,
            "ticks": "",
            "zerolinecolor": "white"
           },
           "zaxis": {
            "backgroundcolor": "#E5ECF6",
            "gridcolor": "white",
            "gridwidth": 2,
            "linecolor": "white",
            "showbackground": true,
            "ticks": "",
            "zerolinecolor": "white"
           }
          },
          "shapedefaults": {
           "line": {
            "color": "#2a3f5f"
           }
          },
          "ternary": {
           "aaxis": {
            "gridcolor": "white",
            "linecolor": "white",
            "ticks": ""
           },
           "baxis": {
            "gridcolor": "white",
            "linecolor": "white",
            "ticks": ""
           },
           "bgcolor": "#E5ECF6",
           "caxis": {
            "gridcolor": "white",
            "linecolor": "white",
            "ticks": ""
           }
          },
          "title": {
           "x": 0.05
          },
          "xaxis": {
           "automargin": true,
           "gridcolor": "white",
           "linecolor": "white",
           "ticks": "",
           "title": {
            "standoff": 15
           },
           "zerolinecolor": "white",
           "zerolinewidth": 2
          },
          "yaxis": {
           "automargin": true,
           "gridcolor": "white",
           "linecolor": "white",
           "ticks": "",
           "title": {
            "standoff": 15
           },
           "zerolinecolor": "white",
           "zerolinewidth": 2
          }
         }
        },
        "title": {
         "text": "Plotly: Scatterplot Quiz"
        }
       }
      },
      "image/png": "[encoded data removed]",
      "text/html": [
       "<div>                            <div id=\"f06975e2-6563-4dbb-8846-9dbb55ca1a14\" class=\"plotly-graph-div\" style=\"height:525px; width:100%;\"></div>            <script type=\"text/javascript\">                require([\"plotly\"], function(Plotly) {                    window.PLOTLYENV=window.PLOTLYENV || {};                                    if (document.getElementById(\"f06975e2-6563-4dbb-8846-9dbb55ca1a14\")) {                    Plotly.newPlot(                        \"f06975e2-6563-4dbb-8846-9dbb55ca1a14\",                        [{\"marker\":{\"color\":[-10.0,-9.565217391304348,-9.130434782608695,-8.695652173913043,-8.26086956521739,-7.826086956521739,-7.391304347826087,-6.9565217391304355,-6.521739130434783,-6.086956521739131,-5.6521739130434785,-5.217391304347826,-4.782608695652174,-4.3478260869565215,-3.91304347826087,-3.4782608695652177,-3.0434782608695654,-2.608695652173913,-2.1739130434782608,-1.7391304347826093,-1.304347826086957,-0.8695652173913047,-0.43478260869565233,0.0,0.43478260869565233,0.8695652173913047,1.304347826086957,1.7391304347826075,2.17391304347826,2.608695652173912,3.0434782608695645,3.478260869565217,3.913043478260869,4.3478260869565215,4.782608695652174,5.217391304347826,5.6521739130434785,6.086956521739129,6.521739130434781,6.956521739130434,7.391304347826086,7.826086956521738,8.26086956521739,8.695652173913043,9.130434782608695,9.565217391304348,10.0,10.434782608695652,10.869565217391305,11.304347826086957,11.73913043478261,12.173913043478262,12.608695652173914,13.043478260869566,13.478260869565215,13.913043478260867,14.34782608695652,14.782608695652172,15.217391304347824,15.652173913043477,16.08695652173913,16.52173913043478,16.956521739130434,17.391304347826086,17.82608695652174,18.26086956521739,18.695652173913043,19.130434782608695,19.565217391304348,20.0],\"colorscale\":[[0.0,\"rgb(51, 19, 23)\"],[0.09090909090909091,\"rgb(79, 28, 33)\"],[0.18181818181818182,\"rgb(108, 36, 36)\"],[0.2727272727272727,\"rgb(135, 47, 32)\"],[0.36363636363636365,\"rgb(157, 66, 25)\"],[0.45454545454545453,\"rgb(174, 88, 20)\"],[0.5454545454545454,\"rgb(188, 111, 19)\"],[0.6363636363636364,\"rgb(199, 137, 22)\"],[0.7272727272727273,\"rgb(209, 164, 32)\"],[0.8181818181818182,\"rgb(217, 192, 44)\"],[0.9090909090909091,\"rgb(222, 222, 59)\"],[1.0,\"rgb(224, 253, 74)\"]],\"size\":10},\"mode\":\"markers\",\"x\":[0.5440211108893698,0.13997823230235076,-0.29011133891109575,-0.6662179390027406,-0.9183568793090077,-0.9996109687117447,-0.8948607114400529,-0.6235976934985453,-0.23629765195738314,0.19497188546644087,0.589961690763271,0.8751733500731816,0.997535608663705,0.9342796968042831,0.6971760681283639,0.3303441920359651,-0.09795705318163461,-0.5080307696410375,-0.8235717785218403,-0.9858652387078994,-0.9647121127973508,-0.7640485054231635,-0.42121324574911895,0.0,0.42121324574911895,0.7640485054231635,0.9647121127973508,0.9858652387078998,0.8235717785218407,0.5080307696410383,0.0979570531816355,-0.33034419203596427,-0.6971760681283633,-0.9342796968042831,-0.997535608663705,-0.8751733500731816,-0.589961690763271,-0.19497188546644262,0.23629765195738142,0.6235976934985439,0.8948607114400524,0.9996109687117447,0.9183568793090077,0.6662179390027406,0.29011133891109575,-0.13997823230235076,-0.5440211108893698,-0.8468343166582882,-0.9920713565568882,-0.9527069962041559,-0.7360660273029104,-0.38246029430532236,0.04231240203886898,0.4592117447046703,0.7906624646236656,0.9749892935735083,0.9778932968020378,0.7988341068661489,0.47113047344202835,0.055760419126252604,-0.36998535199787064,-0.7268854563260767,-0.9485290872431106,-0.993673521275857,-0.8539184294752752,-0.5552689832114769,-0.15329689675703378,0.27720017593806345,0.6561167445798236,0.9129452507276277],\"y\":[-0.8390715290764524,-0.990154581104137,-0.9569929002010471,-0.7457571037214065,-0.3957532592737813,0.027891060058150646,0.44634550196120776,0.7817454295762108,0.9716807190015799,0.9808088314639408,0.80743123758729,0.48380947419587006,0.07016202283238043,-0.35654094875525416,-0.7168999442244887,-0.9438605377851674,-0.9951906429081668,-0.8613389211558566,-0.5672120640663181,-0.16754023727873985,0.2633069300684497,0.6451588032109847,0.9069616318265576,1.0,0.9069616318265576,0.6451588032109847,0.2633069300684497,-0.1675402372787381,-0.5672120640663173,-0.8613389211558562,-0.9951906429081667,-0.9438605377851677,-0.7168999442244892,-0.35654094875525416,0.07016202283238043,0.48380947419587006,0.80743123758729,0.9808088314639405,0.9716807190015804,0.781745429576212,0.4463455019612086,0.02789106005815153,-0.3957532592737813,-0.7457571037214065,-0.9569929002010471,-0.990154581104137,-0.8390715290764524,-0.5318567853566314,-0.1256758668137029,0.30389040686348523,0.6769097454243891,0.9239719277553221,0.9991044292934053,0.8883268393588548,0.6122522903470682,0.22225183332659224,-0.2091045194864078,-0.6015513857579935,-0.882063533422786,-0.9984441775376651,-0.9290375876717861,-0.6867587155483584,-0.3166900229779137,0.11230731550188112,0.520406875245206,0.8316708220704226,0.9881801766098445,0.9608121889630182,0.7546594049516474,0.40808206181339196],\"z\":[-10.0,-9.565217391304348,-9.130434782608695,-8.695652173913043,-8.26086956521739,-7.826086956521739,-7.391304347826087,-6.9565217391304355,-6.521739130434783,-6.086956521739131,-5.6521739130434785,-5.217391304347826,-4.782608695652174,-4.3478260869565215,-3.91304347826087,-3.4782608695652177,-3.0434782608695654,-2.608695652173913,-2.1739130434782608,-1.7391304347826093,-1.304347826086957,-0.8695652173913047,-0.43478260869565233,0.0,0.43478260869565233,0.8695652173913047,1.304347826086957,1.7391304347826075,2.17391304347826,2.608695652173912,3.0434782608695645,3.478260869565217,3.913043478260869,4.3478260869565215,4.782608695652174,5.217391304347826,5.6521739130434785,6.086956521739129,6.521739130434781,6.956521739130434,7.391304347826086,7.826086956521738,8.26086956521739,8.695652173913043,9.130434782608695,9.565217391304348,10.0,10.434782608695652,10.869565217391305,11.304347826086957,11.73913043478261,12.173913043478262,12.608695652173914,13.043478260869566,13.478260869565215,13.913043478260867,14.34782608695652,14.782608695652172,15.217391304347824,15.652173913043477,16.08695652173913,16.52173913043478,16.956521739130434,17.391304347826086,17.82608695652174,18.26086956521739,18.695652173913043,19.130434782608695,19.565217391304348,20.0],\"type\":\"scatter3d\"}],                        {\"title\":{\"text\":\"Plotly: Scatterplot Quiz\"},\"template\":{\"data\":{\"histogram2dcontour\":[{\"type\":\"histogram2dcontour\",\"colorbar\":{\"outlinewidth\":0,\"ticks\":\"\"},\"colorscale\":[[0.0,\"#0d0887\"],[0.1111111111111111,\"#46039f\"],[0.2222222222222222,\"#7201a8\"],[0.3333333333333333,\"#9c179e\"],[0.4444444444444444,\"#bd3786\"],[0.5555555555555556,\"#d8576b\"],[0.6666666666666666,\"#ed7953\"],[0.7777777777777778,\"#fb9f3a\"],[0.8888888888888888,\"#fdca26\"],[1.0,\"#f0f921\"]]}],\"choropleth\":[{\"type\":\"choropleth\",\"colorbar\":{\"outlinewidth\":0,\"ticks\":\"\"}}],\"histogram2d\":[{\"type\":\"histogram2d\",\"colorbar\":{\"outlinewidth\":0,\"ticks\":\"\"},\"colorscale\":[[0.0,\"#0d0887\"],[0.1111111111111111,\"#46039f\"],[0.2222222222222222,\"#7201a8\"],[0.3333333333333333,\"#9c179e\"],[0.4444444444444444,\"#bd3786\"],[0.5555555555555556,\"#d8576b\"],[0.6666666666666666,\"#ed7953\"],[0.7777777777777778,\"#fb9f3a\"],[0.8888888888888888,\"#fdca26\"],[1.0,\"#f0f921\"]]}],\"heatmap\":[{\"type\":\"heatmap\",\"colorbar\":{\"outlinewidth\":0,\"ticks\":\"\"},\"colorscale\":[[0.0,\"#0d0887\"],[0.1111111111111111,\"#46039f\"],[0.2222222222222222,\"#7201a8\"],[0.3333333333333333,\"#9c179e\"],[0.4444444444444444,\"#bd3786\"],[0.5555555555555556,\"#d8576b\"],[0.6666666666666666,\"#ed7953\"],[0.7777777777777778,\"#fb9f3a\"],[0.8888888888888888,\"#fdca26\"],[1.0,\"#f0f921\"]]}],\"heatmapgl\":[{\"type\":\"heatmapgl\",\"colorbar\":{\"outlinewidth\":0,\"ticks\":\"\"},\"colorscale\":[[0.0,\"#0d0887\"],[0.1111111111111111,\"#46039f\"],[0.2222222222222222,\"#7201a8\"],[0.3333333333333333,\"#9c179e\"],[0.4444444444444444,\"#bd3786\"],[0.5555555555555556,\"#d8576b\"],[0.6666666666666666,\"#ed7953\"],[0.7777777777777778,\"#fb9f3a\"],[0.8888888888888888,\"#fdca26\"],[1.0,\"#f0f921\"]]}],\"contourcarpet\":[{\"type\":\"contourcarpet\",\"colorbar\":{\"outlinewidth\":0,\"ticks\":\"\"}}],\"contour\":[{\"type\":\"contour\",\"colorbar\":{\"outlinewidth\":0,\"ticks\":\"\"},\"colorscale\":[[0.0,\"#0d0887\"],[0.1111111111111111,\"#46039f\"],[0.2222222222222222,\"#7201a8\"],[0.3333333333333333,\"#9c179e\"],[0.4444444444444444,\"#bd3786\"],[0.5555555555555556,\"#d8576b\"],[0.6666666666666666,\"#ed7953\"],[0.7777777777777778,\"#fb9f3a\"],[0.8888888888888888,\"#fdca26\"],[1.0,\"#f0f921\"]]}],\"surface\":[{\"type\":\"surface\",\"colorbar\":{\"outlinewidth\":0,\"ticks\":\"\"},\"colorscale\":[[0.0,\"#0d0887\"],[0.1111111111111111,\"#46039f\"],[0.2222222222222222,\"#7201a8\"],[0.3333333333333333,\"#9c179e\"],[0.4444444444444444,\"#bd3786\"],[0.5555555555555556,\"#d8576b\"],[0.6666666666666666,\"#ed7953\"],[0.7777777777777778,\"#fb9f3a\"],[0.8888888888888888,\"#fdca26\"],[1.0,\"#f0f921\"]]}],\"mesh3d\":[{\"type\":\"mesh3d\",\"colorbar\":{\"outlinewidth\":0,\"ticks\":\"\"}}],\"scatter\":[{\"fillpattern\":{\"fillmode\":\"overlay\",\"size\":10,\"solidity\":0.2},\"type\":\"scatter\"}],\"parcoords\":[{\"type\":\"parcoords\",\"line\":{\"colorbar\":{\"outlinewidth\":0,\"ticks\":\"\"}}}],\"scatterpolargl\":[{\"type\":\"scatterpolargl\",\"marker\":{\"colorbar\":{\"outlinewidth\":0,\"ticks\":\"\"}}}],\"bar\":[{\"error_x\":{\"color\":\"#2a3f5f\"},\"error_y\":{\"color\":\"#2a3f5f\"},\"marker\":{\"line\":{\"color\":\"#E5ECF6\",\"width\":0.5},\"pattern\":{\"fillmode\":\"overlay\",\"size\":10,\"solidity\":0.2}},\"type\":\"bar\"}],\"scattergeo\":[{\"type\":\"scattergeo\",\"marker\":{\"colorbar\":{\"outlinewidth\":0,\"ticks\":\"\"}}}],\"scatterpolar\":[{\"type\":\"scatterpolar\",\"marker\":{\"colorbar\":{\"outlinewidth\":0,\"ticks\":\"\"}}}],\"histogram\":[{\"marker\":{\"pattern\":{\"fillmode\":\"overlay\",\"size\":10,\"solidity\":0.2}},\"type\":\"histogram\"}],\"scattergl\":[{\"type\":\"scattergl\",\"marker\":{\"colorbar\":{\"outlinewidth\":0,\"ticks\":\"\"}}}],\"scatter3d\":[{\"type\":\"scatter3d\",\"line\":{\"colorbar\":{\"outlinewidth\":0,\"ticks\":\"\"}},\"marker\":{\"colorbar\":{\"outlinewidth\":0,\"ticks\":\"\"}}}],\"scattermapbox\":[{\"type\":\"scattermapbox\",\"marker\":{\"colorbar\":{\"outlinewidth\":0,\"ticks\":\"\"}}}],\"scatterternary\":[{\"type\":\"scatterternary\",\"marker\":{\"colorbar\":{\"outlinewidth\":0,\"ticks\":\"\"}}}],\"scattercarpet\":[{\"type\":\"scattercarpet\",\"marker\":{\"colorbar\":{\"outlinewidth\":0,\"ticks\":\"\"}}}],\"carpet\":[{\"aaxis\":{\"endlinecolor\":\"#2a3f5f\",\"gridcolor\":\"white\",\"linecolor\":\"white\",\"minorgridcolor\":\"white\",\"startlinecolor\":\"#2a3f5f\"},\"baxis\":{\"endlinecolor\":\"#2a3f5f\",\"gridcolor\":\"white\",\"linecolor\":\"white\",\"minorgridcolor\":\"white\",\"startlinecolor\":\"#2a3f5f\"},\"type\":\"carpet\"}],\"table\":[{\"cells\":{\"fill\":{\"color\":\"#EBF0F8\"},\"line\":{\"color\":\"white\"}},\"header\":{\"fill\":{\"color\":\"#C8D4E3\"},\"line\":{\"color\":\"white\"}},\"type\":\"table\"}],\"barpolar\":[{\"marker\":{\"line\":{\"color\":\"#E5ECF6\",\"width\":0.5},\"pattern\":{\"fillmode\":\"overlay\",\"size\":10,\"solidity\":0.2}},\"type\":\"barpolar\"}],\"pie\":[{\"automargin\":true,\"type\":\"pie\"}]},\"layout\":{\"autotypenumbers\":\"strict\",\"colorway\":[\"#636efa\",\"#EF553B\",\"#00cc96\",\"#ab63fa\",\"#FFA15A\",\"#19d3f3\",\"#FF6692\",\"#B6E880\",\"#FF97FF\",\"#FECB52\"],\"font\":{\"color\":\"#2a3f5f\"},\"hovermode\":\"closest\",\"hoverlabel\":{\"align\":\"left\"},\"paper_bgcolor\":\"white\",\"plot_bgcolor\":\"#E5ECF6\",\"polar\":{\"bgcolor\":\"#E5ECF6\",\"angularaxis\":{\"gridcolor\":\"white\",\"linecolor\":\"white\",\"ticks\":\"\"},\"radialaxis\":{\"gridcolor\":\"white\",\"linecolor\":\"white\",\"ticks\":\"\"}},\"ternary\":{\"bgcolor\":\"#E5ECF6\",\"aaxis\":{\"gridcolor\":\"white\",\"linecolor\":\"white\",\"ticks\":\"\"},\"baxis\":{\"gridcolor\":\"white\",\"linecolor\":\"white\",\"ticks\":\"\"},\"caxis\":{\"gridcolor\":\"white\",\"linecolor\":\"white\",\"ticks\":\"\"}},\"coloraxis\":{\"colorbar\":{\"outlinewidth\":0,\"ticks\":\"\"}},\"colorscale\":{\"sequential\":[[0.0,\"#0d0887\"],[0.1111111111111111,\"#46039f\"],[0.2222222222222222,\"#7201a8\"],[0.3333333333333333,\"#9c179e\"],[0.4444444444444444,\"#bd3786\"],[0.5555555555555556,\"#d8576b\"],[0.6666666666666666,\"#ed7953\"],[0.7777777777777778,\"#fb9f3a\"],[0.8888888888888888,\"#fdca26\"],[1.0,\"#f0f921\"]],\"sequentialminus\":[[0.0,\"#0d0887\"],[0.1111111111111111,\"#46039f\"],[0.2222222222222222,\"#7201a8\"],[0.3333333333333333,\"#9c179e\"],[0.4444444444444444,\"#bd3786\"],[0.5555555555555556,\"#d8576b\"],[0.6666666666666666,\"#ed7953\"],[0.7777777777777778,\"#fb9f3a\"],[0.8888888888888888,\"#fdca26\"],[1.0,\"#f0f921\"]],\"diverging\":[[0,\"#8e0152\"],[0.1,\"#c51b7d\"],[0.2,\"#de77ae\"],[0.3,\"#f1b6da\"],[0.4,\"#fde0ef\"],[0.5,\"#f7f7f7\"],[0.6,\"#e6f5d0\"],[0.7,\"#b8e186\"],[0.8,\"#7fbc41\"],[0.9,\"#4d9221\"],[1,\"#276419\"]]},\"xaxis\":{\"gridcolor\":\"white\",\"linecolor\":\"white\",\"ticks\":\"\",\"title\":{\"standoff\":15},\"zerolinecolor\":\"white\",\"automargin\":true,\"zerolinewidth\":2},\"yaxis\":{\"gridcolor\":\"white\",\"linecolor\":\"white\",\"ticks\":\"\",\"title\":{\"standoff\":15},\"zerolinecolor\":\"white\",\"automargin\":true,\"zerolinewidth\":2},\"scene\":{\"xaxis\":{\"backgroundcolor\":\"#E5ECF6\",\"gridcolor\":\"white\",\"linecolor\":\"white\",\"showbackground\":true,\"ticks\":\"\",\"zerolinecolor\":\"white\",\"gridwidth\":2},\"yaxis\":{\"backgroundcolor\":\"#E5ECF6\",\"gridcolor\":\"white\",\"linecolor\":\"white\",\"showbackground\":true,\"ticks\":\"\",\"zerolinecolor\":\"white\",\"gridwidth\":2},\"zaxis\":{\"backgroundcolor\":\"#E5ECF6\",\"gridcolor\":\"white\",\"linecolor\":\"white\",\"showbackground\":true,\"ticks\":\"\",\"zerolinecolor\":\"white\",\"gridwidth\":2}},\"shapedefaults\":{\"line\":{\"color\":\"#2a3f5f\"}},\"annotationdefaults\":{\"arrowcolor\":\"#2a3f5f\",\"arrowhead\":0,\"arrowwidth\":1},\"geo\":{\"bgcolor\":\"white\",\"landcolor\":\"#E5ECF6\",\"subunitcolor\":\"white\",\"showland\":true,\"showlakes\":true,\"lakecolor\":\"white\"},\"title\":{\"x\":0.05},\"mapbox\":{\"style\":\"light\"}}}},                        {\"responsive\": true}                    ).then(function(){\n",
       "                            \n",
       "var gd = document.getElementById('f06975e2-6563-4dbb-8846-9dbb55ca1a14');\n",
       "var x = new MutationObserver(function (mutations, observer) {{\n",
       "        var display = window.getComputedStyle(gd).display;\n",
       "        if (!display || display === 'none') {{\n",
       "            console.log([gd, 'removed!']);\n",
       "            Plotly.purge(gd);\n",
       "            observer.disconnect();\n",
       "        }}\n",
       "}});\n",
       "\n",
       "// Listen for the removal of the full notebook cells\n",
       "var notebookContainer = gd.closest('#notebook-container');\n",
       "if (notebookContainer) {{\n",
       "    x.observe(notebookContainer, {childList: true});\n",
       "}}\n",
       "\n",
       "// Listen for the clearing of the current output cell\n",
       "var outputEl = gd.closest('.output');\n",
       "if (outputEl) {{\n",
       "    x.observe(outputEl, {childList: true});\n",
       "}}\n",
       "\n",
       "                        })                };                });            </script>        </div>"
      ]
     },
     "metadata": {},
     "output_type": "display_data"
    }
   ],
   "source": [
    "## Now lets create our scatterplot!\n",
    "\n",
    "trace = go.Scatter3d(x=X,y=Y,z=Z,mode='markers',marker=dict(size=10,color=Z,colorscale='solar'))\n",
    "\n",
    "layout=go.Layout(title='Plotly: Scatterplot Quiz')\n",
    "\n",
    "fig = go.Figure(data=[trace],layout=layout)\n",
    "\n",
    "fig.show()"
   ]
  },
  {
   "cell_type": "code",
   "execution_count": null,
   "id": "098c6c3d-adea-4a10-8b10-4da05e60ee31",
   "metadata": {},
   "outputs": [],
   "source": []
  },
  {
   "cell_type": "code",
   "execution_count": null,
   "id": "b71ca29a-358f-40f5-8375-4a4b624c099e",
   "metadata": {},
   "outputs": [],
   "source": []
  },
  {
   "cell_type": "code",
   "execution_count": null,
   "id": "1e48703b-b1b4-413b-8a0b-c4e0b028c97e",
   "metadata": {},
   "outputs": [],
   "source": []
  },
  {
   "cell_type": "code",
   "execution_count": null,
   "id": "b0e74c0f-4049-4886-8c1c-93ea7c996391",
   "metadata": {},
   "outputs": [],
   "source": []
  },
  {
   "cell_type": "code",
   "execution_count": null,
   "id": "afc64ad0-8777-44a9-8bfe-b649e6219075",
   "metadata": {},
   "outputs": [],
   "source": []
  },
  {
   "cell_type": "code",
   "execution_count": null,
   "id": "e58c337c-4211-41da-89d9-44704731d442",
   "metadata": {},
   "outputs": [],
   "source": []
  },
  {
   "cell_type": "code",
   "execution_count": null,
   "id": "1a1a9ef4-96d1-4d41-9c61-26e393f70ca7",
   "metadata": {},
   "outputs": [],
   "source": []
  },
  {
   "cell_type": "code",
   "execution_count": null,
   "id": "d71d954a-1a7f-4533-a5f9-7206ab6c2085",
   "metadata": {},
   "outputs": [],
   "source": []
  },
  {
   "cell_type": "code",
   "execution_count": null,
   "id": "4514aac5-51db-4224-84bd-b54619f5945b",
   "metadata": {},
   "outputs": [],
   "source": []
  },
  {
   "cell_type": "code",
   "execution_count": null,
   "id": "9e3ea08b-227d-4c29-9005-43a0286a8643",
   "metadata": {},
   "outputs": [],
   "source": []
  },
  {
   "cell_type": "code",
   "execution_count": null,
   "id": "b8c996d5-caec-4b77-b3b0-f137a8f9802d",
   "metadata": {},
   "outputs": [],
   "source": []
  },
  {
   "cell_type": "code",
   "execution_count": null,
   "id": "83c6360d-63b5-4d2c-b40b-2a3d08722586",
   "metadata": {},
   "outputs": [],
   "source": []
  },
  {
   "cell_type": "code",
   "execution_count": null,
   "id": "d5e623e7-651a-4fe6-8286-5cfb940964f1",
   "metadata": {},
   "outputs": [],
   "source": []
  },
  {
   "cell_type": "code",
   "execution_count": null,
   "id": "44a07325-6374-4f15-a5c9-ac52aab729b3",
   "metadata": {},
   "outputs": [],
   "source": []
  },
  {
   "cell_type": "code",
   "execution_count": null,
   "id": "8af0ebe8-2820-4daa-990c-8cf0fa7de184",
   "metadata": {},
   "outputs": [],
   "source": []
  },
  {
   "cell_type": "code",
   "execution_count": null,
   "id": "59609a1b-6135-4eb2-96e1-a2953358e3af",
   "metadata": {},
   "outputs": [],
   "source": []
  },
  {
   "cell_type": "code",
   "execution_count": null,
   "id": "9f0c4770-819b-4bfe-bbff-f26c5450bf99",
   "metadata": {},
   "outputs": [],
   "source": []
  },
  {
   "cell_type": "code",
   "execution_count": null,
   "id": "8a317a7d-92d3-4b3f-a866-c8a7c315c97d",
   "metadata": {},
   "outputs": [],
   "source": []
  },
  {
   "cell_type": "code",
   "execution_count": null,
   "id": "8467155b-3389-4f7e-8f08-ab266e13ff59",
   "metadata": {},
   "outputs": [],
   "source": []
  },
  {
   "cell_type": "code",
   "execution_count": null,
   "id": "89b49917-4186-483a-963e-55adb3399e06",
   "metadata": {},
   "outputs": [],
   "source": []
  },
  {
   "cell_type": "code",
   "execution_count": null,
   "id": "efb4b59e-4d1a-4d0b-848b-3dd484bad279",
   "metadata": {},
   "outputs": [],
   "source": []
  }
 ],
 "metadata": {
  "kernelspec": {
   "display_name": "Python 3 (ipykernel)",
   "language": "python",
   "name": "python3"
  },
  "language_info": {
   "codemirror_mode": {
    "name": "ipython",
    "version": 3
   },
   "file_extension": ".py",
   "mimetype": "text/x-python",
   "name": "python",
   "nbconvert_exporter": "python",
   "pygments_lexer": "ipython3",
   "version": "3.11.7"
  }
 },
 "nbformat": 4,
 "nbformat_minor": 5
}
