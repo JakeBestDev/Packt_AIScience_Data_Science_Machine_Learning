{
 "cells": [
  {
   "cell_type": "markdown",
   "id": "65cf2dbc-a8a5-41b8-ad66-701f159ae834",
   "metadata": {},
   "source": [
    "# Lab 5: Advanced Bokeh"
   ]
  },
  {
   "cell_type": "markdown",
   "id": "5f7e0b6d-470b-4583-97a8-f7d8c4a71bd3",
   "metadata": {},
   "source": [
    "## Intro To Bokeh\n",
    "\n",
    "#### What is Bokeh? We'll its a plotting library but unlike matplotlib and seaborn, this library is interactive! Lets check it out!"
   ]
  },
  {
   "cell_type": "code",
   "execution_count": 3,
   "id": "4aff41c2-9c58-4a79-b009-a0934bd92d1c",
   "metadata": {},
   "outputs": [],
   "source": [
    "import seaborn as sns\n",
    "import matplotlib.pyplot as plt\n",
    "import numpy as np\n",
    "import pandas as pd"
   ]
  },
  {
   "cell_type": "code",
   "execution_count": 8,
   "id": "1505c615-edb8-4729-a012-dee14d11b1c7",
   "metadata": {},
   "outputs": [],
   "source": [
    "## Lets import Bokeh!\n",
    "\n",
    "from bokeh.plotting import figure,output_file,show"
   ]
  },
  {
   "cell_type": "code",
   "execution_count": 16,
   "id": "9536eaf5-f51a-4e88-b266-d29bc7e482f5",
   "metadata": {},
   "outputs": [],
   "source": [
    "## So lets first set the output file\n",
    "## The file that will be opened will be demo.html \n",
    "## The demo will allow interactions like dragging the graph and zooming \n",
    "## In later lessions we will investigate further into what Bokeh can do!\n",
    "\n",
    "output_file('demo.html') ## The output file is browser based\n",
    "p = figure(width=800,height=400,title='demo') ## Lets set the size and the title of the plot \n",
    "\n",
    "## Now lets determine the type of graph we want! Lets make a line graph!\n",
    "## Lets set the x values to be [1,2,3,4,5]\n",
    "## Lets set the y values to be [6,7,8,9,10]\n",
    "## Lets set the line width to be 2 for a smaller line\n",
    "\n",
    "p.line([1,2,3,4,5],[6,7,8,9,10],line_width=2) \n",
    "show(p)"
   ]
  },
  {
   "cell_type": "code",
   "execution_count": null,
   "id": "15462fa9-f755-4540-a51a-0e433a3fbced",
   "metadata": {},
   "outputs": [],
   "source": []
  },
  {
   "cell_type": "code",
   "execution_count": null,
   "id": "fb10657c-43c4-4b8a-94ce-6e07870df8fd",
   "metadata": {},
   "outputs": [],
   "source": []
  },
  {
   "cell_type": "code",
   "execution_count": null,
   "id": "eef3f46a-037c-4100-8dde-81c6bc8cee5a",
   "metadata": {},
   "outputs": [],
   "source": []
  },
  {
   "cell_type": "code",
   "execution_count": null,
   "id": "27aca3ec-5d38-441a-9f27-f565a8043ab7",
   "metadata": {},
   "outputs": [],
   "source": []
  },
  {
   "cell_type": "code",
   "execution_count": null,
   "id": "80907485-b516-443e-8c0e-5daf6ff503f7",
   "metadata": {},
   "outputs": [],
   "source": []
  },
  {
   "cell_type": "code",
   "execution_count": null,
   "id": "945cb493-9443-4f46-9321-1426f9d3ef2e",
   "metadata": {},
   "outputs": [],
   "source": []
  },
  {
   "cell_type": "code",
   "execution_count": null,
   "id": "e7d9052d-5834-4599-877b-bf7b16bbeb9a",
   "metadata": {},
   "outputs": [],
   "source": []
  },
  {
   "cell_type": "code",
   "execution_count": null,
   "id": "37146258-4de2-47d0-ab05-a7972904f822",
   "metadata": {},
   "outputs": [],
   "source": []
  },
  {
   "cell_type": "code",
   "execution_count": null,
   "id": "316017ec-193c-4ba2-8f33-0d4b88badfce",
   "metadata": {},
   "outputs": [],
   "source": []
  },
  {
   "cell_type": "code",
   "execution_count": null,
   "id": "4d1009e7-5a75-4b23-ab08-b342e0eb9cd4",
   "metadata": {},
   "outputs": [],
   "source": []
  },
  {
   "cell_type": "code",
   "execution_count": null,
   "id": "578d5ddd-5e63-4de8-b5b3-14f78dd4112f",
   "metadata": {},
   "outputs": [],
   "source": []
  },
  {
   "cell_type": "code",
   "execution_count": null,
   "id": "a1067b99-4d90-46b1-8a6d-97a04cabfa54",
   "metadata": {},
   "outputs": [],
   "source": []
  },
  {
   "cell_type": "code",
   "execution_count": null,
   "id": "60610ee3-db9f-4081-8edb-a8ea6621ec81",
   "metadata": {},
   "outputs": [],
   "source": []
  },
  {
   "cell_type": "code",
   "execution_count": null,
   "id": "7841a88b-02f9-4d70-bcd3-efc717df93b2",
   "metadata": {},
   "outputs": [],
   "source": []
  },
  {
   "cell_type": "code",
   "execution_count": null,
   "id": "9be23e4b-a5dd-45a6-9655-3a8637c32574",
   "metadata": {},
   "outputs": [],
   "source": []
  },
  {
   "cell_type": "code",
   "execution_count": null,
   "id": "ff4ca26f-e2dd-4ce4-bc59-6c08603c712b",
   "metadata": {},
   "outputs": [],
   "source": []
  },
  {
   "cell_type": "code",
   "execution_count": null,
   "id": "1d0d61f1-e1ae-4e5c-92bb-462a371114e5",
   "metadata": {},
   "outputs": [],
   "source": []
  },
  {
   "cell_type": "code",
   "execution_count": null,
   "id": "ac312bf0-8c84-4ce5-a303-c30284b31817",
   "metadata": {},
   "outputs": [],
   "source": []
  },
  {
   "cell_type": "code",
   "execution_count": null,
   "id": "0851d825-a68f-46cd-9fc4-96471a971f0c",
   "metadata": {},
   "outputs": [],
   "source": []
  },
  {
   "cell_type": "code",
   "execution_count": null,
   "id": "f6a7882c-12c8-4b9a-8b02-ff39c2aabfb7",
   "metadata": {},
   "outputs": [],
   "source": []
  },
  {
   "cell_type": "code",
   "execution_count": null,
   "id": "4cce23df-a1a7-4f1a-b4df-dd066e6cdd5a",
   "metadata": {},
   "outputs": [],
   "source": []
  },
  {
   "cell_type": "code",
   "execution_count": null,
   "id": "d7344eba-c665-4b79-8dd1-7ff16589f6d6",
   "metadata": {},
   "outputs": [],
   "source": []
  },
  {
   "cell_type": "code",
   "execution_count": null,
   "id": "c28adf3b-87e5-4767-92f7-2b3fd45240b8",
   "metadata": {},
   "outputs": [],
   "source": []
  },
  {
   "cell_type": "code",
   "execution_count": null,
   "id": "ee5af82e-bdee-4221-8b51-4a236851c1f2",
   "metadata": {},
   "outputs": [],
   "source": []
  },
  {
   "cell_type": "code",
   "execution_count": null,
   "id": "bf938397-fb0d-4357-b244-57dc3ca5d029",
   "metadata": {},
   "outputs": [],
   "source": []
  },
  {
   "cell_type": "code",
   "execution_count": null,
   "id": "c1564856-f90f-451b-a783-7b8d21e1c025",
   "metadata": {},
   "outputs": [],
   "source": []
  },
  {
   "cell_type": "code",
   "execution_count": null,
   "id": "434e2a71-a831-46d1-9f24-e23ff158361f",
   "metadata": {},
   "outputs": [],
   "source": []
  },
  {
   "cell_type": "code",
   "execution_count": null,
   "id": "2c6244ea-86f6-446c-adf7-c42241991951",
   "metadata": {},
   "outputs": [],
   "source": []
  },
  {
   "cell_type": "code",
   "execution_count": null,
   "id": "01fe7a77-8d9a-4c28-b544-138342e258a3",
   "metadata": {},
   "outputs": [],
   "source": []
  },
  {
   "cell_type": "code",
   "execution_count": null,
   "id": "77f79b06-57c9-4f93-8bde-1d1b30c5f9ef",
   "metadata": {},
   "outputs": [],
   "source": []
  }
 ],
 "metadata": {
  "kernelspec": {
   "display_name": "Python 3 (ipykernel)",
   "language": "python",
   "name": "python3"
  },
  "language_info": {
   "codemirror_mode": {
    "name": "ipython",
    "version": 3
   },
   "file_extension": ".py",
   "mimetype": "text/x-python",
   "name": "python",
   "nbconvert_exporter": "python",
   "pygments_lexer": "ipython3",
   "version": "3.11.7"
  }
 },
 "nbformat": 4,
 "nbformat_minor": 5
}
