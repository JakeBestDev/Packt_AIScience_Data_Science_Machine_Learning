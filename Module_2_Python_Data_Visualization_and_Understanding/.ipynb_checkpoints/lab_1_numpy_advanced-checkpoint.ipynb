{
 "cells": [
  {
   "cell_type": "markdown",
   "id": "41e54a3e-7858-435e-aa2e-9d391a395ca4",
   "metadata": {},
   "source": [
    "# Numpy Advanced\n",
    "\n",
    "### Exploring Numpy's Ufuncs - Universal Functions! These are generally much faster than creating your own functions"
   ]
  },
  {
   "cell_type": "markdown",
   "id": "a2e3e474-8c85-4754-a1cf-c8e95ed13121",
   "metadata": {},
   "source": [
    "## Numpy UFuncs: Add, Sum, Plus Operators"
   ]
  },
  {
   "cell_type": "code",
   "execution_count": 6,
   "id": "8adff804-70c9-4a73-aac6-6540ec6e4162",
   "metadata": {},
   "outputs": [],
   "source": [
    "import numpy as np"
   ]
  },
  {
   "cell_type": "markdown",
   "id": "fe9dc755-f9ad-4d70-9112-54a598622a10",
   "metadata": {},
   "source": [
    "### Dimensions of Arrays using newaxis and squeeze"
   ]
  },
  {
   "cell_type": "code",
   "execution_count": 82,
   "id": "3ada6e3a-28ef-47e9-93e8-44989f486266",
   "metadata": {},
   "outputs": [
    {
     "data": {
      "text/plain": [
       "array([0, 1, 2, 3, 4, 5, 6, 7, 8, 9])"
      ]
     },
     "execution_count": 82,
     "metadata": {},
     "output_type": "execute_result"
    }
   ],
   "source": [
    "## Lets say we have an array of numbers 0-9\n",
    "A =  np.arange(10)\n",
    "A"
   ]
  },
  {
   "cell_type": "code",
   "execution_count": 12,
   "id": "fa2c5844-457e-4e02-abcb-00b4bbda3d22",
   "metadata": {},
   "outputs": [
    {
     "data": {
      "text/plain": [
       "array([[3, 1, 3, 3, 2, 7, 9, 8, 7, 6]])"
      ]
     },
     "execution_count": 12,
     "metadata": {},
     "output_type": "execute_result"
    }
   ],
   "source": [
    "## Lets say we have an array of numbers 0-9 but their in a random order and can repeat\n",
    "B = np.random.randint(0,10,(1,10))\n",
    "B"
   ]
  },
  {
   "cell_type": "code",
   "execution_count": 14,
   "id": "cd59a050-2592-49ef-8f2b-0ae8227bd94a",
   "metadata": {},
   "outputs": [
    {
     "data": {
      "text/plain": [
       "(10,)"
      ]
     },
     "execution_count": 14,
     "metadata": {},
     "output_type": "execute_result"
    }
   ],
   "source": [
    "A.shape"
   ]
  },
  {
   "cell_type": "code",
   "execution_count": 16,
   "id": "c9d6f998-a5fb-45a5-92a2-0164608bc24a",
   "metadata": {},
   "outputs": [
    {
     "data": {
      "text/plain": [
       "(1, 10)"
      ]
     },
     "execution_count": 16,
     "metadata": {},
     "output_type": "execute_result"
    }
   ],
   "source": [
    "## Notice how B is a 1x10 but A is not\n",
    "B.shape"
   ]
  },
  {
   "cell_type": "code",
   "execution_count": 20,
   "id": "638316b1-4943-4205-b98a-d98d7c0f4cd1",
   "metadata": {},
   "outputs": [
    {
     "data": {
      "text/plain": [
       "(1, 10)"
      ]
     },
     "execution_count": 20,
     "metadata": {},
     "output_type": "execute_result"
    }
   ],
   "source": [
    "## We can fix this using numpy's newaxis\n",
    "C = A[np.newaxis,:]\n",
    "C.shape"
   ]
  },
  {
   "cell_type": "markdown",
   "id": "7653d330-00da-47bf-ac31-bc2c5a0d20d8",
   "metadata": {},
   "source": [
    "### Lets use the plus and add operators"
   ]
  },
  {
   "cell_type": "code",
   "execution_count": 30,
   "id": "c2ccc000-26c5-4096-9712-eb3adf018eaa",
   "metadata": {},
   "outputs": [
    {
     "data": {
      "text/plain": [
       "array([[ 3,  2,  5,  6,  6, 12, 15, 15, 15, 15]])"
      ]
     },
     "execution_count": 30,
     "metadata": {},
     "output_type": "execute_result"
    }
   ],
   "source": [
    "## Now lets try to add the arrays\n",
    "## We are able to do this because the arrays are the same shape, which is why we did the above\n",
    "\n",
    "D = B+C\n",
    "D"
   ]
  },
  {
   "cell_type": "code",
   "execution_count": 34,
   "id": "c2e77938-231f-4ef0-bdc8-2bd6a115b3be",
   "metadata": {},
   "outputs": [
    {
     "data": {
      "text/plain": [
       "(1, 10)"
      ]
     },
     "execution_count": 34,
     "metadata": {},
     "output_type": "execute_result"
    }
   ],
   "source": [
    "D.shape"
   ]
  },
  {
   "cell_type": "code",
   "execution_count": 36,
   "id": "c97c27fd-95fc-46b2-95ee-ba08b3c268d4",
   "metadata": {},
   "outputs": [
    {
     "data": {
      "text/plain": [
       "(10,)"
      ]
     },
     "execution_count": 36,
     "metadata": {},
     "output_type": "execute_result"
    }
   ],
   "source": [
    "## We can also reduce the dimension of an array\n",
    "## Notice it is now the same shape as A\n",
    "\n",
    "D = np.squeeze(D)\n",
    "D.shape"
   ]
  },
  {
   "cell_type": "code",
   "execution_count": 41,
   "id": "520e84d9-6466-443c-9e55-38fbf75fe2aa",
   "metadata": {},
   "outputs": [
    {
     "data": {
      "text/plain": [
       "array([ 3,  2,  5,  6,  6, 12, 15, 15, 15, 15])"
      ]
     },
     "execution_count": 41,
     "metadata": {},
     "output_type": "execute_result"
    }
   ],
   "source": [
    "D"
   ]
  },
  {
   "cell_type": "code",
   "execution_count": 43,
   "id": "d15966b2-7912-4f64-8079-50ac953b9a2a",
   "metadata": {},
   "outputs": [
    {
     "data": {
      "text/plain": [
       "(10,)"
      ]
     },
     "execution_count": 43,
     "metadata": {},
     "output_type": "execute_result"
    }
   ],
   "source": [
    "A.shape"
   ]
  },
  {
   "cell_type": "code",
   "execution_count": 86,
   "id": "67b21e69-e24d-4fb2-b762-ac5b1a3062cb",
   "metadata": {},
   "outputs": [
    {
     "data": {
      "text/plain": [
       "array([ 3,  3,  7,  9, 10, 17, 21, 22, 23, 24])"
      ]
     },
     "execution_count": 86,
     "metadata": {},
     "output_type": "execute_result"
    }
   ],
   "source": [
    "## Now that A and D are the same dimensions we can add them\n",
    "## Lets use the add operator!\n",
    "\n",
    "E = np.add(A,D)\n",
    "E"
   ]
  },
  {
   "cell_type": "markdown",
   "id": "d91b298d-38a7-45f2-af6f-81b40b3954b1",
   "metadata": {},
   "source": [
    "### sum() of arrays"
   ]
  },
  {
   "cell_type": "code",
   "execution_count": 49,
   "id": "a253f221-3f31-47b0-91c8-517a52d6aa1b",
   "metadata": {},
   "outputs": [
    {
     "data": {
      "text/plain": [
       "array([0, 1, 2, 3, 4, 5, 6, 7, 8, 9])"
      ]
     },
     "execution_count": 49,
     "metadata": {},
     "output_type": "execute_result"
    }
   ],
   "source": [
    "A"
   ]
  },
  {
   "cell_type": "code",
   "execution_count": 53,
   "id": "0fd1418f-2962-42f2-94c9-a5eec61f4713",
   "metadata": {},
   "outputs": [
    {
     "data": {
      "text/plain": [
       "45"
      ]
     },
     "execution_count": 53,
     "metadata": {},
     "output_type": "execute_result"
    }
   ],
   "source": [
    "## This is the sum of all ints in A\n",
    "np.sum(A)"
   ]
  },
  {
   "cell_type": "code",
   "execution_count": 57,
   "id": "e910e5a4-f1b2-4f7e-b7b4-83771fcddd27",
   "metadata": {},
   "outputs": [],
   "source": [
    "## The sum is very helpful with large arrays like his one!\n",
    "\n",
    "A = np.arange(100).reshape(2,2,5,5)"
   ]
  },
  {
   "cell_type": "code",
   "execution_count": 67,
   "id": "31b0c92d-7776-4356-a64c-173add5886cf",
   "metadata": {},
   "outputs": [
    {
     "data": {
      "text/plain": [
       "array([[[[ 0,  1,  2,  3,  4],\n",
       "         [ 5,  6,  7,  8,  9],\n",
       "         [10, 11, 12, 13, 14],\n",
       "         [15, 16, 17, 18, 19],\n",
       "         [20, 21, 22, 23, 24]],\n",
       "\n",
       "        [[25, 26, 27, 28, 29],\n",
       "         [30, 31, 32, 33, 34],\n",
       "         [35, 36, 37, 38, 39],\n",
       "         [40, 41, 42, 43, 44],\n",
       "         [45, 46, 47, 48, 49]]],\n",
       "\n",
       "\n",
       "       [[[50, 51, 52, 53, 54],\n",
       "         [55, 56, 57, 58, 59],\n",
       "         [60, 61, 62, 63, 64],\n",
       "         [65, 66, 67, 68, 69],\n",
       "         [70, 71, 72, 73, 74]],\n",
       "\n",
       "        [[75, 76, 77, 78, 79],\n",
       "         [80, 81, 82, 83, 84],\n",
       "         [85, 86, 87, 88, 89],\n",
       "         [90, 91, 92, 93, 94],\n",
       "         [95, 96, 97, 98, 99]]]])"
      ]
     },
     "execution_count": 67,
     "metadata": {},
     "output_type": "execute_result"
    }
   ],
   "source": [
    "A"
   ]
  },
  {
   "cell_type": "code",
   "execution_count": 59,
   "id": "f9f8b418-0d04-4dc0-b23d-bd4a5319bfe7",
   "metadata": {},
   "outputs": [
    {
     "data": {
      "text/plain": [
       "4"
      ]
     },
     "execution_count": 59,
     "metadata": {},
     "output_type": "execute_result"
    }
   ],
   "source": [
    "## A is a 4 dimensional array\n",
    "A.ndim"
   ]
  },
  {
   "cell_type": "code",
   "execution_count": 61,
   "id": "181a71be-c40f-4446-8682-cad2a07c3fc9",
   "metadata": {},
   "outputs": [
    {
     "data": {
      "text/plain": [
       "4950"
      ]
     },
     "execution_count": 61,
     "metadata": {},
     "output_type": "execute_result"
    }
   ],
   "source": [
    "np.sum(A)"
   ]
  },
  {
   "cell_type": "code",
   "execution_count": 69,
   "id": "20c785de-ee4a-4ad5-8592-a42cde8da97a",
   "metadata": {},
   "outputs": [
    {
     "data": {
      "text/plain": [
       "(2, 5, 5)"
      ]
     },
     "execution_count": 69,
     "metadata": {},
     "output_type": "execute_result"
    }
   ],
   "source": [
    "## Notice if we use the sum function in this mannor we reduce the dimensions of the matrix\n",
    "B = A.sum(axis=0)\n",
    "B.shape"
   ]
  },
  {
   "cell_type": "code",
   "execution_count": 73,
   "id": "a994b42d-e32f-4ecd-8cdc-04477297b566",
   "metadata": {},
   "outputs": [
    {
     "data": {
      "text/plain": [
       "array([[[ 50,  52,  54,  56,  58],\n",
       "        [ 60,  62,  64,  66,  68],\n",
       "        [ 70,  72,  74,  76,  78],\n",
       "        [ 80,  82,  84,  86,  88],\n",
       "        [ 90,  92,  94,  96,  98]],\n",
       "\n",
       "       [[100, 102, 104, 106, 108],\n",
       "        [110, 112, 114, 116, 118],\n",
       "        [120, 122, 124, 126, 128],\n",
       "        [130, 132, 134, 136, 138],\n",
       "        [140, 142, 144, 146, 148]]])"
      ]
     },
     "execution_count": 73,
     "metadata": {},
     "output_type": "execute_result"
    }
   ],
   "source": [
    "B"
   ]
  },
  {
   "cell_type": "code",
   "execution_count": 71,
   "id": "66523452-e3f1-4f60-ae16-90a1a0744525",
   "metadata": {},
   "outputs": [
    {
     "data": {
      "text/plain": [
       "(5, 5)"
      ]
     },
     "execution_count": 71,
     "metadata": {},
     "output_type": "execute_result"
    }
   ],
   "source": [
    "## We can do this again for a smaller matrix, further summing the elements in the matrix\n",
    "C = B.sum(axis=0)\n",
    "C.shape"
   ]
  },
  {
   "cell_type": "code",
   "execution_count": 75,
   "id": "0cd421ff-20ca-4a75-813b-a6d4a256f3fc",
   "metadata": {},
   "outputs": [
    {
     "data": {
      "text/plain": [
       "array([[150, 154, 158, 162, 166],\n",
       "       [170, 174, 178, 182, 186],\n",
       "       [190, 194, 198, 202, 206],\n",
       "       [210, 214, 218, 222, 226],\n",
       "       [230, 234, 238, 242, 246]])"
      ]
     },
     "execution_count": 75,
     "metadata": {},
     "output_type": "execute_result"
    }
   ],
   "source": [
    "C"
   ]
  },
  {
   "cell_type": "code",
   "execution_count": 77,
   "id": "5579d414-bd5b-470e-b1a2-bc631050bbef",
   "metadata": {},
   "outputs": [
    {
     "data": {
      "text/plain": [
       "array([ 950,  970,  990, 1010, 1030])"
      ]
     },
     "execution_count": 77,
     "metadata": {},
     "output_type": "execute_result"
    }
   ],
   "source": [
    "## Now lets do this once more!\n",
    "\n",
    "C.sum(axis=0)"
   ]
  },
  {
   "cell_type": "markdown",
   "id": "a158c0a4-0157-4129-a450-05be8459163d",
   "metadata": {},
   "source": [
    "## Numpy Ufunc: Subtract, Power, Mod"
   ]
  },
  {
   "cell_type": "code",
   "execution_count": 3,
   "id": "e83c0a15-c402-480d-b45f-f2b1883d0e71",
   "metadata": {},
   "outputs": [],
   "source": [
    "import numpy as np"
   ]
  },
  {
   "cell_type": "markdown",
   "id": "13bbc8e0-8217-4fa9-8ee2-a3d443e165e8",
   "metadata": {},
   "source": [
    "### Subtract"
   ]
  },
  {
   "cell_type": "code",
   "execution_count": 6,
   "id": "05aab8b2-c496-4b31-8c97-2b308aaf8c30",
   "metadata": {},
   "outputs": [
    {
     "data": {
      "text/plain": [
       "array([-0.10625451, -0.88781961, -0.12554515, -0.08363135, -0.43921005,\n",
       "        0.08629562,  0.5424259 ,  0.31789886,  0.03202288,  0.15334904])"
      ]
     },
     "execution_count": 6,
     "metadata": {},
     "output_type": "execute_result"
    }
   ],
   "source": [
    "A = np.random.rand(10)\n",
    "B = np.random.rand(10)\n",
    "np.subtract(A,B)"
   ]
  },
  {
   "cell_type": "code",
   "execution_count": 8,
   "id": "f78563b5-40e9-4c7d-ace3-fed2be0b23e7",
   "metadata": {},
   "outputs": [
    {
     "data": {
      "text/plain": [
       "array([-0.10625451, -0.88781961, -0.12554515, -0.08363135, -0.43921005,\n",
       "        0.08629562,  0.5424259 ,  0.31789886,  0.03202288,  0.15334904])"
      ]
     },
     "execution_count": 8,
     "metadata": {},
     "output_type": "execute_result"
    }
   ],
   "source": [
    "A-B"
   ]
  },
  {
   "cell_type": "markdown",
   "id": "13d87c2e-c954-4b1a-9255-669c4574433c",
   "metadata": {},
   "source": [
    "### Power"
   ]
  },
  {
   "cell_type": "code",
   "execution_count": 11,
   "id": "d647b951-862e-4698-a209-631405850826",
   "metadata": {},
   "outputs": [
    {
     "data": {
      "text/plain": [
       "array([0.72458377, 0.90569647, 0.88945104, 0.65344391, 0.95693978,\n",
       "       0.81208792, 0.92305548, 0.71764471, 0.8385636 , 0.90965125])"
      ]
     },
     "execution_count": 11,
     "metadata": {},
     "output_type": "execute_result"
    }
   ],
   "source": [
    "A = np.random.rand(10)\n",
    "B = np.random.rand(10)\n",
    "np.power(A,B)"
   ]
  },
  {
   "cell_type": "code",
   "execution_count": 13,
   "id": "bbde3d9b-a1ea-43a7-9156-4c1a83d44110",
   "metadata": {},
   "outputs": [
    {
     "data": {
      "text/plain": [
       "array([0.72458377, 0.90569647, 0.88945104, 0.65344391, 0.95693978,\n",
       "       0.81208792, 0.92305548, 0.71764471, 0.8385636 , 0.90965125])"
      ]
     },
     "execution_count": 13,
     "metadata": {},
     "output_type": "execute_result"
    }
   ],
   "source": [
    "A**B"
   ]
  },
  {
   "cell_type": "markdown",
   "id": "0630d827-e32a-4d9a-8916-69ebfd0b7bca",
   "metadata": {},
   "source": [
    "### Mod"
   ]
  },
  {
   "cell_type": "code",
   "execution_count": 19,
   "id": "67c8da9d-e36b-46c4-b18b-f0e2d139c877",
   "metadata": {},
   "outputs": [
    {
     "name": "stdout",
     "output_type": "stream",
     "text": [
      "[2 1 5 4 5 1 8 5 4 6]\n",
      "[8 9 4 7 4 9 3 9 2 6]\n"
     ]
    }
   ],
   "source": [
    "A = np.random.randint(1,10,10)\n",
    "B = np.random.randint(1,10,10)\n",
    "print(A)\n",
    "print(B)"
   ]
  },
  {
   "cell_type": "code",
   "execution_count": 21,
   "id": "9aad317f-18f0-42bb-acdc-ce9deb9293e6",
   "metadata": {},
   "outputs": [
    {
     "data": {
      "text/plain": [
       "array([2, 1, 1, 4, 1, 1, 2, 5, 0, 0])"
      ]
     },
     "execution_count": 21,
     "metadata": {},
     "output_type": "execute_result"
    }
   ],
   "source": [
    "np.mod(A,B)"
   ]
  },
  {
   "cell_type": "code",
   "execution_count": 25,
   "id": "411952b9-e681-48b3-b6d5-f198dd26d977",
   "metadata": {},
   "outputs": [
    {
     "data": {
      "text/plain": [
       "array([2, 1, 1, 4, 1, 1, 2, 5, 0, 0])"
      ]
     },
     "execution_count": 25,
     "metadata": {},
     "output_type": "execute_result"
    }
   ],
   "source": [
    "A%B"
   ]
  },
  {
   "cell_type": "markdown",
   "id": "cd3f7673-5302-476a-9102-e35f62547f59",
   "metadata": {},
   "source": [
    "## Numpy Ufunc: Mean"
   ]
  },
  {
   "cell_type": "code",
   "execution_count": 28,
   "id": "660dc1aa-4ae3-46f8-ad4d-b01373ef1bfe",
   "metadata": {},
   "outputs": [],
   "source": [
    "import numpy as np"
   ]
  },
  {
   "cell_type": "markdown",
   "id": "cd784ef7-dc50-440b-b6dd-c9d130fbc3e1",
   "metadata": {},
   "source": [
    "### Mean"
   ]
  },
  {
   "cell_type": "code",
   "execution_count": 41,
   "id": "c36125d2-1d80-43f1-bce9-cd67ae1ffc9a",
   "metadata": {},
   "outputs": [
    {
     "data": {
      "text/plain": [
       "array([[ 0,  1,  2,  3,  4,  5,  6,  7,  8,  9, 10, 11, 12, 13, 14, 15,\n",
       "        16, 17, 18, 19],\n",
       "       [20, 21, 22, 23, 24, 25, 26, 27, 28, 29, 30, 31, 32, 33, 34, 35,\n",
       "        36, 37, 38, 39],\n",
       "       [40, 41, 42, 43, 44, 45, 46, 47, 48, 49, 50, 51, 52, 53, 54, 55,\n",
       "        56, 57, 58, 59],\n",
       "       [60, 61, 62, 63, 64, 65, 66, 67, 68, 69, 70, 71, 72, 73, 74, 75,\n",
       "        76, 77, 78, 79],\n",
       "       [80, 81, 82, 83, 84, 85, 86, 87, 88, 89, 90, 91, 92, 93, 94, 95,\n",
       "        96, 97, 98, 99]])"
      ]
     },
     "execution_count": 41,
     "metadata": {},
     "output_type": "execute_result"
    }
   ],
   "source": [
    "A = np.arange(100).reshape(5,20)\n",
    "A"
   ]
  },
  {
   "cell_type": "code",
   "execution_count": 43,
   "id": "438dcd92-0c52-4a7e-a962-c881cb25094f",
   "metadata": {},
   "outputs": [
    {
     "data": {
      "text/plain": [
       "(5, 20)"
      ]
     },
     "execution_count": 43,
     "metadata": {},
     "output_type": "execute_result"
    }
   ],
   "source": [
    "A.shape"
   ]
  },
  {
   "cell_type": "code",
   "execution_count": 45,
   "id": "d7322ad2-1352-425d-9745-e22901d4ac5f",
   "metadata": {},
   "outputs": [
    {
     "data": {
      "text/plain": [
       "array([40., 41., 42., 43., 44., 45., 46., 47., 48., 49., 50., 51., 52.,\n",
       "       53., 54., 55., 56., 57., 58., 59.])"
      ]
     },
     "execution_count": 45,
     "metadata": {},
     "output_type": "execute_result"
    }
   ],
   "source": [
    "A = A.mean(axis=0)\n",
    "A"
   ]
  },
  {
   "cell_type": "code",
   "execution_count": 47,
   "id": "1afd9374-6be2-4c53-8a21-3f8f06be5833",
   "metadata": {},
   "outputs": [
    {
     "data": {
      "text/plain": [
       "(20,)"
      ]
     },
     "execution_count": 47,
     "metadata": {},
     "output_type": "execute_result"
    }
   ],
   "source": [
    "A.shape"
   ]
  },
  {
   "cell_type": "markdown",
   "id": "a6d055b0-9596-4dd1-a8a9-a9e01ae560dc",
   "metadata": {},
   "source": [
    "### Practice problem"
   ]
  },
  {
   "cell_type": "code",
   "execution_count": 7,
   "id": "bf7b650d-0d6a-4fa3-8776-134ab5ae7499",
   "metadata": {},
   "outputs": [
    {
     "data": {
      "text/plain": [
       "(5, 4, 2, 5)"
      ]
     },
     "execution_count": 7,
     "metadata": {},
     "output_type": "execute_result"
    }
   ],
   "source": [
    "import numpy as np\n",
    "\n",
    "## What is the shape of B going to be?\n",
    "\n",
    "A = np.random.rand(1000).reshape(5,4,2,5,5)\n",
    "\n",
    "B = A.sum(axis = 3)\n",
    "\n",
    "B.shape\n",
    "\n",
    "## The 2nd 5 was removed because that is axis 3 \n",
    "## 5,4,2,5,5\n",
    "## 0,1,2,3,4"
   ]
  },
  {
   "cell_type": "code",
   "execution_count": 9,
   "id": "9fce95aa-1487-4563-919d-44ce11acc13e",
   "metadata": {},
   "outputs": [
    {
     "data": {
      "text/plain": [
       "(5, 2, 5)"
      ]
     },
     "execution_count": 9,
     "metadata": {},
     "output_type": "execute_result"
    }
   ],
   "source": [
    "## Now lets remove the 4\n",
    "B = B.sum(axis = 1)\n",
    "B.shape"
   ]
  },
  {
   "cell_type": "markdown",
   "id": "e290f0a7-923c-4214-b9d5-94273f76523b",
   "metadata": {},
   "source": [
    "## Numpy UFunc: Trig Functions"
   ]
  },
  {
   "cell_type": "code",
   "execution_count": 12,
   "id": "d3a4f8d3-62e5-41fa-bad8-39249dc17fce",
   "metadata": {},
   "outputs": [],
   "source": [
    "A = np.random.rand(5)"
   ]
  },
  {
   "cell_type": "code",
   "execution_count": 14,
   "id": "0db755eb-1a12-440d-9784-69d8856b3cfa",
   "metadata": {},
   "outputs": [
    {
     "data": {
      "text/plain": [
       "array([0.31455665, 0.72411717, 0.77968558, 0.61438134, 0.35991662])"
      ]
     },
     "execution_count": 14,
     "metadata": {},
     "output_type": "execute_result"
    }
   ],
   "source": [
    "## Apply the sin function on all elements of A\n",
    "\n",
    "np.sin(A)"
   ]
  },
  {
   "cell_type": "code",
   "execution_count": 16,
   "id": "1e9dd809-812c-4181-a9f4-180ea62ed201",
   "metadata": {},
   "outputs": [
    {
     "data": {
      "text/plain": [
       "array([0.9492387 , 0.68967698, 0.62617122, 0.78900923, 0.93298447])"
      ]
     },
     "execution_count": 16,
     "metadata": {},
     "output_type": "execute_result"
    }
   ],
   "source": [
    "## Apply the cos function on all elements of A\n",
    "\n",
    "np.cos(A)"
   ]
  },
  {
   "cell_type": "code",
   "execution_count": 18,
   "id": "9c0ceb1f-9695-4eb0-9c69-6b6eff6afa0e",
   "metadata": {},
   "outputs": [
    {
     "data": {
      "text/plain": [
       "array([0.33137782, 1.0499367 , 1.24516354, 0.77867447, 0.38576914])"
      ]
     },
     "execution_count": 18,
     "metadata": {},
     "output_type": "execute_result"
    }
   ],
   "source": [
    "## Apply the tan function on all elements of A\n",
    "\n",
    "np.tan(A)"
   ]
  },
  {
   "cell_type": "code",
   "execution_count": 22,
   "id": "b1e4063a-958d-4914-bda4-2716a7c1c748",
   "metadata": {},
   "outputs": [
    {
     "data": {
      "text/plain": [
       "array([0.32571847, 0.94373183, 1.10655949, 0.72295268, 0.37704917])"
      ]
     },
     "execution_count": 22,
     "metadata": {},
     "output_type": "execute_result"
    }
   ],
   "source": [
    "## Apply the arcsin function on all elements of A\n",
    "\n",
    "np.arcsin(A)"
   ]
  },
  {
   "cell_type": "markdown",
   "id": "f1152904-9863-4f53-91c8-11c438abf769",
   "metadata": {},
   "source": [
    "## Numpy Ufunc: Comparison Logical Operators"
   ]
  },
  {
   "cell_type": "code",
   "execution_count": 44,
   "id": "6d8d192a-2bf0-4449-9d1c-fbd217bd8bbf",
   "metadata": {},
   "outputs": [
    {
     "name": "stdout",
     "output_type": "stream",
     "text": [
      "A =  [0.13869608 0.09633797 0.90539947 0.07137078 0.62536306]\n",
      "B =  [0.42693754 0.52142501 0.06618855 0.73518406 0.06352989]\n",
      "R =  [False False  True False  True]\n"
     ]
    }
   ],
   "source": [
    "## The greater operator is checking the elements of the array's of A and B to see which elements are greater \n",
    "\n",
    "A = np.random.rand(5)\n",
    "B = np.random.rand(5)\n",
    "R = np.greater(A,B)\n",
    "print('A = ', A)\n",
    "print('B = ', B)\n",
    "print('R = ', R)"
   ]
  },
  {
   "cell_type": "code",
   "execution_count": 48,
   "id": "7d035425-be88-4f52-aad5-67da26f65919",
   "metadata": {},
   "outputs": [
    {
     "name": "stdout",
     "output_type": "stream",
     "text": [
      "A =  [0.09366213 0.78651903 0.42726764 0.71104875 0.90278823]\n",
      "B =  [0.76171581 0.50012355 0.54887014 0.0625937  0.21898063]\n",
      "R =  [ True False  True False False]\n"
     ]
    }
   ],
   "source": [
    "## The less operator is checking the elements of the array's of A and B to see which elements are less \n",
    "\n",
    "A = np.random.rand(5)\n",
    "B = np.random.rand(5)\n",
    "R = np.less(A,B)\n",
    "print('A = ', A)\n",
    "print('B = ', B)\n",
    "print('R = ', R)"
   ]
  },
  {
   "cell_type": "code",
   "execution_count": 52,
   "id": "5e7c1de0-6676-46fa-ad3a-58ab08da84da",
   "metadata": {},
   "outputs": [
    {
     "name": "stdout",
     "output_type": "stream",
     "text": [
      "A =  [0.25241944 0.91354262 0.75849803 0.81510392 0.41421707 0.28348657\n",
      " 0.61569167 0.17773431 0.52735201 0.73919823]\n",
      "R1 =  [ True False False False  True  True False  True False False]\n",
      "R2 =  [False  True  True  True False False  True False  True  True]\n"
     ]
    }
   ],
   "source": [
    "## We can use normal logical operators like <>= for arrays as aswell as logical operators like logical_not\n",
    "\n",
    "A = np.random.rand(10)\n",
    "R1 = A<0.5\n",
    "R2 = np.logical_not(R1)\n",
    "\n",
    "print('A = ', A)\n",
    "print('R1 = ', R1)\n",
    "print('R2 = ', R2)"
   ]
  },
  {
   "cell_type": "code",
   "execution_count": 54,
   "id": "88d32697-a07f-425a-af0a-79fc4aa7990c",
   "metadata": {},
   "outputs": [
    {
     "name": "stdout",
     "output_type": "stream",
     "text": [
      "A =  [0.25241944 0.91354262 0.75849803 0.81510392 0.41421707 0.28348657\n",
      " 0.61569167 0.17773431 0.52735201 0.73919823]\n",
      "idx =  [ True False  True False  True  True  True  True  True  True]\n"
     ]
    }
   ],
   "source": [
    "## You can use logic to gather boolin arrays\n",
    "\n",
    "a = np.random.rand(20)\n",
    "idx = (A>0) & (A<0.8)\n",
    "print('A = ', A)\n",
    "print('idx = ', idx)"
   ]
  },
  {
   "cell_type": "markdown",
   "id": "58dbb11a-2f1f-4b8b-9d26-96fb2bca2d23",
   "metadata": {},
   "source": [
    "## Numpy Ufunc Missing Values (NaN-safe Functions)"
   ]
  },
  {
   "cell_type": "code",
   "execution_count": 57,
   "id": "303242c0-1ac5-4a7c-9b0c-2ac6c145d5f0",
   "metadata": {},
   "outputs": [
    {
     "data": {
      "text/plain": [
       "array([0.27265454, 0.54794878, 0.05256668,        nan, 0.97365357])"
      ]
     },
     "execution_count": 57,
     "metadata": {},
     "output_type": "execute_result"
    }
   ],
   "source": [
    "## Notice how I replace element 3 with Nan, now what happens when you try using methods \n",
    "\n",
    "A = np.random.rand(5)\n",
    "A[3] = np.nan\n",
    "A"
   ]
  },
  {
   "cell_type": "code",
   "execution_count": 59,
   "id": "e458a8f8-aed6-4d7e-aa80-06e5c66054d0",
   "metadata": {},
   "outputs": [
    {
     "data": {
      "text/plain": [
       "nan"
      ]
     },
     "execution_count": 59,
     "metadata": {},
     "output_type": "execute_result"
    }
   ],
   "source": [
    "## The methods used will also be nan due to the nan value in the array\n",
    "\n",
    "A.sum()"
   ]
  },
  {
   "cell_type": "code",
   "execution_count": 61,
   "id": "95ac1c62-1185-43a4-9b98-c0d9caa7e8ea",
   "metadata": {},
   "outputs": [
    {
     "data": {
      "text/plain": [
       "1.846823568777999"
      ]
     },
     "execution_count": 61,
     "metadata": {},
     "output_type": "execute_result"
    }
   ],
   "source": [
    "## We can however use numpy to ignore the nan's in an array\n",
    "\n",
    "np.nansum(A)"
   ]
  },
  {
   "cell_type": "code",
   "execution_count": 63,
   "id": "4bfa24ae-63e9-4b83-9f92-0c226bcf205d",
   "metadata": {},
   "outputs": [
    {
     "data": {
      "text/plain": [
       "array([False, False, False,  True, False])"
      ]
     },
     "execution_count": 63,
     "metadata": {},
     "output_type": "execute_result"
    }
   ],
   "source": [
    "## Use .isnan() to get a boolian array of which elements are nan's\n",
    "\n",
    "np.isnan(A)"
   ]
  },
  {
   "cell_type": "markdown",
   "id": "e686c81c-d77f-4324-9cec-3fa783d3e3bf",
   "metadata": {},
   "source": [
    "## Numpy Ufunc: Useful functions"
   ]
  },
  {
   "cell_type": "code",
   "execution_count": 66,
   "id": "f99617d0-3bf4-442f-b46b-b55bcd53c4c4",
   "metadata": {},
   "outputs": [
    {
     "data": {
      "text/plain": [
       "array([6.16338844, 4.94569332, 1.56739153, 5.6149673 , 8.61780034])"
      ]
     },
     "execution_count": 66,
     "metadata": {},
     "output_type": "execute_result"
    }
   ],
   "source": [
    "A = 10*np.random.rand(5)\n",
    "A"
   ]
  },
  {
   "cell_type": "code",
   "execution_count": 68,
   "id": "613da116-babe-4615-a905-19f4a76609fe",
   "metadata": {},
   "outputs": [
    {
     "data": {
      "text/plain": [
       "array([6., 4., 1., 5., 8.])"
      ]
     },
     "execution_count": 68,
     "metadata": {},
     "output_type": "execute_result"
    }
   ],
   "source": [
    "## Lets remove the decimals from the elements of A rounding down (regardless of decimal position)\n",
    "np.floor(A)"
   ]
  },
  {
   "cell_type": "code",
   "execution_count": 70,
   "id": "c7bc4260-b877-4cc7-91fe-ea13b6fd8197",
   "metadata": {},
   "outputs": [
    {
     "data": {
      "text/plain": [
       "array([7., 5., 2., 6., 9.])"
      ]
     },
     "execution_count": 70,
     "metadata": {},
     "output_type": "execute_result"
    }
   ],
   "source": [
    "## Lets remove the decimals from the elements of A rounding upward (regardless of decimal position)\n",
    "np.ceil(A)"
   ]
  },
  {
   "cell_type": "code",
   "execution_count": null,
   "id": "c661440b-0e90-4f93-9c10-b41608241c63",
   "metadata": {},
   "outputs": [],
   "source": []
  },
  {
   "cell_type": "code",
   "execution_count": null,
   "id": "688e414e-de04-4993-91ca-7e5e1481a7d7",
   "metadata": {},
   "outputs": [],
   "source": []
  },
  {
   "cell_type": "code",
   "execution_count": null,
   "id": "6226fb7a-3ca5-46ea-a343-79959bd9b939",
   "metadata": {},
   "outputs": [],
   "source": []
  },
  {
   "cell_type": "code",
   "execution_count": null,
   "id": "534d6e92-cb89-47e4-865f-1ea31987d443",
   "metadata": {},
   "outputs": [],
   "source": []
  },
  {
   "cell_type": "code",
   "execution_count": null,
   "id": "ab796d62-1b3d-453d-8024-14cfa4e70446",
   "metadata": {},
   "outputs": [],
   "source": []
  },
  {
   "cell_type": "code",
   "execution_count": null,
   "id": "c10008a0-502f-44ef-abde-0a9fe0e12a13",
   "metadata": {},
   "outputs": [],
   "source": []
  },
  {
   "cell_type": "code",
   "execution_count": null,
   "id": "0abda98f-1157-4c76-a770-0570e19592a5",
   "metadata": {},
   "outputs": [],
   "source": []
  },
  {
   "cell_type": "code",
   "execution_count": null,
   "id": "49060c58-de4a-4ec2-a188-de298ac7dc86",
   "metadata": {},
   "outputs": [],
   "source": []
  },
  {
   "cell_type": "code",
   "execution_count": null,
   "id": "721a36b0-8fc2-498a-8335-03eed93cb81d",
   "metadata": {},
   "outputs": [],
   "source": []
  },
  {
   "cell_type": "code",
   "execution_count": null,
   "id": "b901459c-f483-4661-9b10-897eb5149da1",
   "metadata": {},
   "outputs": [],
   "source": []
  }
 ],
 "metadata": {
  "kernelspec": {
   "display_name": "Python 3 (ipykernel)",
   "language": "python",
   "name": "python3"
  },
  "language_info": {
   "codemirror_mode": {
    "name": "ipython",
    "version": 3
   },
   "file_extension": ".py",
   "mimetype": "text/x-python",
   "name": "python",
   "nbconvert_exporter": "python",
   "pygments_lexer": "ipython3",
   "version": "3.11.7"
  }
 },
 "nbformat": 4,
 "nbformat_minor": 5
}
