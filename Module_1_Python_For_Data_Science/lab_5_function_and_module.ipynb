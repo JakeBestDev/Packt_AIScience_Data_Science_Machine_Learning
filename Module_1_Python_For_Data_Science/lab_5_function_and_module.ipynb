{
 "cells": [
  {
   "cell_type": "markdown",
   "id": "7224fc7f-73f2-4c98-967f-5edfcd5339f6",
   "metadata": {},
   "source": [
    "# Function and Module"
   ]
  },
  {
   "cell_type": "markdown",
   "id": "f96c4b91-7b65-4516-a42a-601ae301f8eb",
   "metadata": {},
   "source": [
    "## Basic Function"
   ]
  },
  {
   "cell_type": "code",
   "execution_count": 11,
   "id": "dd98fbab-a06c-444f-b24b-685dc5d715e2",
   "metadata": {},
   "outputs": [
    {
     "name": "stdout",
     "output_type": "stream",
     "text": [
      "I am done\n",
      "send me another task\n"
     ]
    }
   ],
   "source": [
    "def printsuccess():\n",
    "    print('I am done')\n",
    "    print('send me another task')\n",
    "\n",
    "printsuccess()"
   ]
  },
  {
   "cell_type": "code",
   "execution_count": 9,
   "id": "aacfbd65-8a94-4b17-9624-11699b027d8d",
   "metadata": {},
   "outputs": [
    {
     "name": "stdout",
     "output_type": "stream",
     "text": [
      "3+8 =  11\n"
     ]
    }
   ],
   "source": [
    "def printaddition():\n",
    "    print('3+8 = ', 3+8)\n",
    "\n",
    "printsuccess()"
   ]
  },
  {
   "cell_type": "markdown",
   "id": "cb21bf7b-c50a-43be-bbe8-b667a481701a",
   "metadata": {},
   "source": [
    "## Docstring\n",
    "\n",
    "#### Allows you to write a description of a function. BEST PRACTICE!"
   ]
  },
  {
   "cell_type": "code",
   "execution_count": 58,
   "id": "5a44a72a-8ade-4218-9a6b-1edfaabfa5b3",
   "metadata": {},
   "outputs": [
    {
     "data": {
      "text/plain": [
       "\u001b[1;31mSignature:\u001b[0m \u001b[0mfun\u001b[0m\u001b[1;33m(\u001b[0m\u001b[1;33m)\u001b[0m\u001b[1;33m\u001b[0m\u001b[1;33m\u001b[0m\u001b[0m\n",
       "\u001b[1;31mDocstring:\u001b[0m\n",
       "THIS IS A DOCSTRING: This function tells you how much fun your having!\n",
       "    \n",
       "\u001b[1;31mFile:\u001b[0m      c:\\users\\jakeb\\appdata\\local\\temp\\ipykernel_1424\\2509600171.py\n",
       "\u001b[1;31mType:\u001b[0m      function"
      ]
     },
     "metadata": {},
     "output_type": "display_data"
    }
   ],
   "source": [
    "def fun():\n",
    "    '''THIS IS A DOCSTRING: This function tells you how much fun your having!\n",
    "    '''\n",
    "    print('Youre having this much fun!')\n",
    "fun?"
   ]
  },
  {
   "cell_type": "markdown",
   "id": "89cc7531-b72b-406f-b8f8-7e868b8157fe",
   "metadata": {},
   "source": [
    "## Input Arguments"
   ]
  },
  {
   "cell_type": "code",
   "execution_count": 32,
   "id": "c0477bb5-455b-48db-9a75-b02f345df46b",
   "metadata": {},
   "outputs": [
    {
     "name": "stdin",
     "output_type": "stream",
     "text": [
      "Give us a message:  122222223\n"
     ]
    },
    {
     "name": "stdout",
     "output_type": "stream",
     "text": [
      "122222223\n"
     ]
    }
   ],
   "source": [
    "def printMessage(msg):\n",
    "    '''This function returns the message entered from an input by the user'''\n",
    "    print(msg)\n",
    "\n",
    "printMessage(input('Give us a message: '))"
   ]
  },
  {
   "cell_type": "code",
   "execution_count": 34,
   "id": "6b55435e-6a51-49a0-a591-cdec0f977426",
   "metadata": {},
   "outputs": [
    {
     "name": "stdout",
     "output_type": "stream",
     "text": [
      "12345\n"
     ]
    }
   ],
   "source": [
    "y = 12345\n",
    "printMessage(y)"
   ]
  },
  {
   "cell_type": "markdown",
   "id": "3f6eba9c-5cc0-4932-b26d-93f4218fd0aa",
   "metadata": {},
   "source": [
    "## Multiple Input Arguments"
   ]
  },
  {
   "cell_type": "code",
   "execution_count": 56,
   "id": "c789634a-2ce9-46f1-acd6-b4120a398304",
   "metadata": {},
   "outputs": [
    {
     "name": "stdin",
     "output_type": "stream",
     "text": [
      "Input a number:  1\n",
      "Input another number:  2\n"
     ]
    },
    {
     "name": "stdout",
     "output_type": "stream",
     "text": [
      "1 + 2 = 3\n"
     ]
    }
   ],
   "source": [
    "def printMultipleMessages(msg1,msg2):\n",
    "    '''This function preforms a calculation if the inputs are numbers or prints the strings if the inputs are text. INTs and Strings only'''\n",
    "    if isinstance(msg1,int) and isinstance(msg2,int):\n",
    "        print(msg1,'+',msg2,'=',msg1+msg2)\n",
    "    else:\n",
    "        print(msg1)\n",
    "        print(msg2)\n",
    "        \n",
    "x = int(input('Input a number: '))\n",
    "y = int(input('Input another number: '))\n",
    "printMultipleMessages(x,y)"
   ]
  },
  {
   "cell_type": "code",
   "execution_count": 41,
   "id": "e0964d04-7b81-4cb2-8d9c-8f6422753f5d",
   "metadata": {},
   "outputs": [
    {
     "name": "stdin",
     "output_type": "stream",
     "text": [
      "Input a string:  abc\n",
      "Input another string:  def\n"
     ]
    },
    {
     "name": "stdout",
     "output_type": "stream",
     "text": [
      "abc\n",
      "def\n"
     ]
    }
   ],
   "source": [
    "a = input('Input a string: ')\n",
    "b = input('Input another string: ')\n",
    "printMultipleMessages(a,b)"
   ]
  },
  {
   "cell_type": "markdown",
   "id": "b928766d-af96-4d1a-9440-0c5a4a2d965b",
   "metadata": {},
   "source": [
    "## Ordering Multiple Inplut Arguments"
   ]
  },
  {
   "cell_type": "code",
   "execution_count": 85,
   "id": "e891bb6e-ce70-4a03-8d03-8043ff74b714",
   "metadata": {},
   "outputs": [
    {
     "name": "stdout",
     "output_type": "stream",
     "text": [
      "a= abc\n",
      "b= 123\n",
      "c= True\n",
      "\n",
      "Input order: a,b,c\n",
      "Function variable order: msg2,msg3,msg1\n",
      "\n",
      "msg1 =  True\n",
      "msg2 =  abc\n",
      "msg3 =  123\n"
     ]
    }
   ],
   "source": [
    "def orderingMultiple(msg2,msg3,msg1):\n",
    "    '''This function takes multiple inputs and then prints them in a different order'''\n",
    "    print('Function variable order: msg2,msg3,msg1\\n')\n",
    "    print('msg1 = ',msg1)\n",
    "    print('msg2 = ',msg2)\n",
    "    print('msg3 = ',msg3)\n",
    "\n",
    "a = 'abc'\n",
    "b = 123\n",
    "c = True\n",
    "\n",
    "print('a=',a)\n",
    "print('b=',b)\n",
    "print('c=',c)\n",
    "print('\\nInput order: a,b,c')\n",
    "\n",
    "orderingMultiple(a,b,c)"
   ]
  },
  {
   "cell_type": "markdown",
   "id": "00db0be5-5b3e-478a-9b24-eab553875904",
   "metadata": {},
   "source": [
    "## Output and Return Statements"
   ]
  },
  {
   "cell_type": "code",
   "execution_count": 8,
   "id": "e20d6947-6238-4322-836c-649255619353",
   "metadata": {},
   "outputs": [
    {
     "name": "stdout",
     "output_type": "stream",
     "text": [
      "1 2\n",
      "1\n"
     ]
    },
    {
     "ename": "NameError",
     "evalue": "name 'b' is not defined",
     "output_type": "error",
     "traceback": [
      "\u001b[1;31m---------------------------------------------------------------------------\u001b[0m",
      "\u001b[1;31mNameError\u001b[0m                                 Traceback (most recent call last)",
      "Cell \u001b[1;32mIn[8], line 9\u001b[0m\n\u001b[0;32m      6\u001b[0m outputfunc1()\n\u001b[0;32m      8\u001b[0m \u001b[38;5;28mprint\u001b[39m(a) \u001b[38;5;66;03m## Now notice here how a can print\u001b[39;00m\n\u001b[1;32m----> 9\u001b[0m \u001b[38;5;28mprint\u001b[39m(b)\n",
      "\u001b[1;31mNameError\u001b[0m: name 'b' is not defined"
     ]
    }
   ],
   "source": [
    "a = 1\n",
    "def outputfunc1():\n",
    "    '''Print both a and b. Notice how a is outside the function and b is within the function and the function is able to print both.'''\n",
    "    b = 2\n",
    "    print(a,b)\n",
    "outputfunc1()\n",
    "\n",
    "print(a) ## Now notice here how a can print\n",
    "print(b) ## Now notice how b cannnot print because it's within the function"
   ]
  },
  {
   "cell_type": "code",
   "execution_count": 10,
   "id": "f074b2be-dc25-4b5d-ac7f-81b1c26d780e",
   "metadata": {},
   "outputs": [
    {
     "name": "stdout",
     "output_type": "stream",
     "text": [
      "1 2\n",
      "1\n"
     ]
    },
    {
     "ename": "NameError",
     "evalue": "name 'b' is not defined",
     "output_type": "error",
     "traceback": [
      "\u001b[1;31m---------------------------------------------------------------------------\u001b[0m",
      "\u001b[1;31mNameError\u001b[0m                                 Traceback (most recent call last)",
      "Cell \u001b[1;32mIn[10], line 12\u001b[0m\n\u001b[0;32m      9\u001b[0m outputfunc1()\n\u001b[0;32m     11\u001b[0m \u001b[38;5;28mprint\u001b[39m(a) \u001b[38;5;66;03m## Now notice here how a can print\u001b[39;00m\n\u001b[1;32m---> 12\u001b[0m \u001b[38;5;28mprint\u001b[39m(b)\n",
      "\u001b[1;31mNameError\u001b[0m: name 'b' is not defined"
     ]
    }
   ],
   "source": [
    "## So how do we access b?\n",
    "\n",
    "a = 1\n",
    "def outputfunc2():\n",
    "    '''Print both a and b. Notice how a is outside the function and b is within the function and the function is able to print both.'''\n",
    "    b = 2\n",
    "    print(a,b)\n",
    "    return b\n",
    "outputfunc1()\n",
    "\n",
    "print(a) ## Now notice here how a can print\n",
    "print(b) ## Now notice how b cannnot print because it's within the function"
   ]
  },
  {
   "cell_type": "markdown",
   "id": "323569df-59cb-4ca8-838a-bc8aeac8413a",
   "metadata": {},
   "source": [
    "## Variable Number of Input Arguments"
   ]
  },
  {
   "cell_type": "code",
   "execution_count": 7,
   "id": "9510ee5e-bb1a-4733-bf2f-fa9744c3dbbd",
   "metadata": {},
   "outputs": [
    {
     "name": "stdout",
     "output_type": "stream",
     "text": [
      "0 + 1\n",
      "1 + 2\n",
      "3 + 3\n",
      "6 + 4\n",
      "10 + 5\n",
      "15 + 6\n",
      "21 + 7\n",
      "28 + 8\n",
      "36 + 9\n",
      "45 + 10\n"
     ]
    },
    {
     "data": {
      "text/plain": [
       "55"
      ]
     },
     "execution_count": 7,
     "metadata": {},
     "output_type": "execute_result"
    }
   ],
   "source": [
    "def addfunc(*varibles):\n",
    "    '''This function takes any number of variables and adds them together. The * indicates to take any number'''\n",
    "    sum = 0\n",
    "    for i in range(len(varibles)):\n",
    "        print(sum,'+', varibles[i])\n",
    "        sum +=varibles[i]\n",
    "        \n",
    "    return sum\n",
    "\n",
    "addfunc(1,2,3,4,5,6,7,8,9,10)"
   ]
  },
  {
   "cell_type": "markdown",
   "id": "aeb67e17-8427-44b8-88a0-b6c01b410d40",
   "metadata": {},
   "source": [
    "## Passing Key and Values into a Function"
   ]
  },
  {
   "cell_type": "code",
   "execution_count": 17,
   "id": "f977d469-59d9-4d57-b527-908cefe8fead",
   "metadata": {},
   "outputs": [
    {
     "name": "stdout",
     "output_type": "stream",
     "text": [
      "Key: var1 -- Value: A\n",
      "This is : B\n",
      "This has to be C! Is it: : C\n"
     ]
    }
   ],
   "source": [
    "def key_and_value(**varibles):\n",
    "    '''the ** indicates that there is a key/value system similar to a dictonary being passed into the function.'''\n",
    "    for x in varibles:\n",
    "        if varibles[x] == 'A':\n",
    "            print('Key:',x,'-- Value:',varibles[x])\n",
    "        elif varibles[x] == 'B':\n",
    "            print('This is :', varibles[x])\n",
    "        else:\n",
    "            print('This has to be C! Is it: :', varibles[x])\n",
    "\n",
    "key_and_value(var1 = 'A',var2 = 'B', var3 = 'C')"
   ]
  },
  {
   "cell_type": "markdown",
   "id": "fd6f8c56-ff18-4726-b7ea-611814d64612",
   "metadata": {},
   "source": [
    "## Default Values"
   ]
  },
  {
   "cell_type": "code",
   "execution_count": 40,
   "id": "049cafc6-0333-459d-ba1d-af6d11f6b840",
   "metadata": {},
   "outputs": [
    {
     "name": "stdout",
     "output_type": "stream",
     "text": [
      "4\n",
      "0\n"
     ]
    }
   ],
   "source": [
    "def default_val(sum=0):\n",
    "    '''This function will print a default value of 0 unless something is input into the function'''\n",
    "    print(sum)\n",
    "default_val(4)\n",
    "default_val()"
   ]
  },
  {
   "cell_type": "code",
   "execution_count": 52,
   "id": "88fb0b57-af55-40d8-b32c-9728601a6985",
   "metadata": {},
   "outputs": [
    {
     "name": "stdout",
     "output_type": "stream",
     "text": [
      "1\n",
      "2\n",
      "12\n",
      "3\n",
      "4\n",
      "1\n",
      "2\n"
     ]
    }
   ],
   "source": [
    "def list_func(L=[1,2]):\n",
    "    '''Print a list whether default or an input list'''\n",
    "    for i in L:\n",
    "        print(i)\n",
    "\n",
    "list_func()\n",
    "L2 = [12,3,4]\n",
    "list_func(L2)\n",
    "list_func()"
   ]
  },
  {
   "cell_type": "markdown",
   "id": "193d96c0-58a2-40d2-8d7b-5a964aa69b69",
   "metadata": {},
   "source": [
    "## Modules"
   ]
  },
  {
   "cell_type": "code",
   "execution_count": 80,
   "id": "85545e64-bce6-45c6-bcfa-84539581cee5",
   "metadata": {},
   "outputs": [
    {
     "name": "stdout",
     "output_type": "stream",
     "text": [
      "Requirement already satisfied: nbimporter in c:\\users\\jakeb\\anaconda3\\lib\\site-packages (0.3.4)\n"
     ]
    }
   ],
   "source": [
    "!pip install nbimporter\n",
    "\n",
    "import sys\n",
    "import nbimporter  # Import nbimporter to enable importing Jupyter Notebooks\n",
    "\n",
    "# Add the path to the directory containing your notebook\n",
    "sys.path.append('C:/Users/jakeb/Desktop/Packt_AIScience_Data_Science_Machine_Learning/Module_1_Python_For_Data_Science/')\n",
    "\n",
    "# Import the notebook as a module\n",
    "import lab_5_functions_module_file as mods # Note: No .ipynb extension needed\n",
    "\n"
   ]
  },
  {
   "cell_type": "code",
   "execution_count": 84,
   "id": "92f8f07c-e4ff-4052-9dc2-f827341d80b2",
   "metadata": {},
   "outputs": [
    {
     "name": "stdout",
     "output_type": "stream",
     "text": [
      "No Message Recieved\n",
      "Hello World\n"
     ]
    }
   ],
   "source": [
    "mods.printMessage()\n",
    "mods.printMessage('Hello World')"
   ]
  },
  {
   "cell_type": "markdown",
   "id": "246f8a7f-17ae-48b4-b096-9197a3a06bbf",
   "metadata": {},
   "source": [
    "## Practice Problem: Given list [1,2,4,-5,7,9,3,2] order them from least to greatest in another list. USE FUNCTIONS"
   ]
  },
  {
   "cell_type": "code",
   "execution_count": 96,
   "id": "96c5c4bc-4933-4cbb-9af3-6bff21fac7c3",
   "metadata": {},
   "outputs": [
    {
     "name": "stdout",
     "output_type": "stream",
     "text": [
      "-5 3\n"
     ]
    }
   ],
   "source": [
    "def find_min(L):\n",
    "    m = L[0]\n",
    "    idx = 0\n",
    "    i = 0\n",
    "    for x in L:\n",
    "        if x<m:\n",
    "            m=x\n",
    "            idx = i\n",
    "        else:\n",
    "            pass\n",
    "        i+=1\n",
    "    return m,idx\n",
    "\n",
    "a,b = find_min([1,2,4,-5,7,9,3,2])\n",
    "print(a,b)"
   ]
  },
  {
   "cell_type": "code",
   "execution_count": 100,
   "id": "0cd2c709-eee6-4a77-8149-53632d0f4041",
   "metadata": {},
   "outputs": [
    {
     "data": {
      "text/plain": [
       "[-9, 4, 3, 2, 5, 6]"
      ]
     },
     "execution_count": 100,
     "metadata": {},
     "output_type": "execute_result"
    }
   ],
   "source": [
    "def swapValues(L,idx1,idx2):\n",
    "    tmp = L[idx1]\n",
    "    L[idx1] = L[idx2]\n",
    "    L[idx2] = tmp\n",
    "    return L\n",
    "\n",
    "swapValues(L,1,3)"
   ]
  },
  {
   "cell_type": "code",
   "execution_count": null,
   "id": "7fd08846-7610-4f34-a3ed-da69cf36f9b1",
   "metadata": {},
   "outputs": [],
   "source": []
  },
  {
   "cell_type": "code",
   "execution_count": null,
   "id": "de11bfe4-0209-4b7d-89f7-156f515188e4",
   "metadata": {},
   "outputs": [],
   "source": []
  },
  {
   "cell_type": "code",
   "execution_count": null,
   "id": "62c30fd0-7cd9-4282-b8ba-7af61f9f383c",
   "metadata": {},
   "outputs": [],
   "source": []
  },
  {
   "cell_type": "code",
   "execution_count": null,
   "id": "de563491-b56c-46a0-9e86-e2a597872bfc",
   "metadata": {},
   "outputs": [],
   "source": []
  },
  {
   "cell_type": "code",
   "execution_count": null,
   "id": "21f1d72d-a9ad-4c59-b2b2-0834add876fb",
   "metadata": {},
   "outputs": [],
   "source": []
  },
  {
   "cell_type": "code",
   "execution_count": null,
   "id": "2bce170c-43c8-4de8-90a2-4a84475b207d",
   "metadata": {},
   "outputs": [],
   "source": []
  },
  {
   "cell_type": "code",
   "execution_count": null,
   "id": "54fb036b-a8c8-41c5-8001-4ace55c405a7",
   "metadata": {},
   "outputs": [],
   "source": []
  },
  {
   "cell_type": "code",
   "execution_count": null,
   "id": "3e96b207-cabc-4da9-a02a-a28c66eb3bf5",
   "metadata": {},
   "outputs": [],
   "source": []
  },
  {
   "cell_type": "code",
   "execution_count": null,
   "id": "246a9e61-e3be-46db-b396-323d6969ea71",
   "metadata": {},
   "outputs": [],
   "source": []
  },
  {
   "cell_type": "code",
   "execution_count": null,
   "id": "9c21d9f5-f134-48f6-93b5-4fbf10e9789d",
   "metadata": {},
   "outputs": [],
   "source": []
  },
  {
   "cell_type": "code",
   "execution_count": null,
   "id": "1f889dca-8c58-4ded-975f-7483bb6f6c7a",
   "metadata": {},
   "outputs": [],
   "source": []
  },
  {
   "cell_type": "code",
   "execution_count": null,
   "id": "5dbba46d-110b-4561-b004-0197a0980437",
   "metadata": {},
   "outputs": [],
   "source": []
  },
  {
   "cell_type": "code",
   "execution_count": null,
   "id": "374bceb1-d4eb-49a1-8b6e-0d6d8df83918",
   "metadata": {},
   "outputs": [],
   "source": []
  },
  {
   "cell_type": "code",
   "execution_count": null,
   "id": "76ad0145-aaa7-4d60-ac0e-77ddb50590f2",
   "metadata": {},
   "outputs": [],
   "source": []
  },
  {
   "cell_type": "code",
   "execution_count": null,
   "id": "01b915bc-36d0-4c22-8f09-5b5910796666",
   "metadata": {},
   "outputs": [],
   "source": []
  },
  {
   "cell_type": "code",
   "execution_count": null,
   "id": "99124b01-d608-4b7e-8322-08577865c14c",
   "metadata": {},
   "outputs": [],
   "source": []
  },
  {
   "cell_type": "code",
   "execution_count": null,
   "id": "943fe3d5-2f18-4661-baeb-472a3e22bb10",
   "metadata": {},
   "outputs": [],
   "source": []
  },
  {
   "cell_type": "code",
   "execution_count": null,
   "id": "fd3645a7-3b5d-4a1f-9f38-f1ad817c2cdf",
   "metadata": {},
   "outputs": [],
   "source": []
  },
  {
   "cell_type": "code",
   "execution_count": null,
   "id": "97cfe4a0-05b8-48f4-8870-6de16a5ad16e",
   "metadata": {},
   "outputs": [],
   "source": []
  },
  {
   "cell_type": "code",
   "execution_count": null,
   "id": "90eddfc3-696c-4478-9dea-c4cbf0cf8ebe",
   "metadata": {},
   "outputs": [],
   "source": []
  },
  {
   "cell_type": "code",
   "execution_count": null,
   "id": "ed1e1c3f-446e-47b4-8207-1b0de8390014",
   "metadata": {},
   "outputs": [],
   "source": []
  },
  {
   "cell_type": "code",
   "execution_count": null,
   "id": "ca5bee57-2d78-416b-b52f-a3df561fb558",
   "metadata": {},
   "outputs": [],
   "source": []
  },
  {
   "cell_type": "code",
   "execution_count": null,
   "id": "39a81e19-8a3f-4231-af5e-980fcee2f15b",
   "metadata": {},
   "outputs": [],
   "source": []
  },
  {
   "cell_type": "code",
   "execution_count": null,
   "id": "56124825-7292-479a-8459-4e6adeca65cd",
   "metadata": {},
   "outputs": [],
   "source": []
  },
  {
   "cell_type": "code",
   "execution_count": null,
   "id": "2e2a98fe-2285-4831-aebe-a63385af3ecd",
   "metadata": {},
   "outputs": [],
   "source": []
  },
  {
   "cell_type": "code",
   "execution_count": null,
   "id": "c908283e-eb01-4514-96ec-dbf37776f21a",
   "metadata": {},
   "outputs": [],
   "source": []
  },
  {
   "cell_type": "code",
   "execution_count": null,
   "id": "18bc9af5-128f-4ab4-9a93-22709cf248b9",
   "metadata": {},
   "outputs": [],
   "source": []
  },
  {
   "cell_type": "code",
   "execution_count": null,
   "id": "b7e22ed8-cc17-4039-9a67-fc462f6aa1b8",
   "metadata": {},
   "outputs": [],
   "source": []
  },
  {
   "cell_type": "code",
   "execution_count": null,
   "id": "d66649b5-3cdc-4691-b3a3-89b82425b6cd",
   "metadata": {},
   "outputs": [],
   "source": []
  },
  {
   "cell_type": "code",
   "execution_count": null,
   "id": "4aea1d03-ea13-433f-980d-d39708fef323",
   "metadata": {},
   "outputs": [],
   "source": []
  },
  {
   "cell_type": "code",
   "execution_count": null,
   "id": "eb8fe4c4-98fb-4b74-bcda-e4756553dc2c",
   "metadata": {},
   "outputs": [],
   "source": []
  }
 ],
 "metadata": {
  "kernelspec": {
   "display_name": "Python 3 (ipykernel)",
   "language": "python",
   "name": "python3"
  },
  "language_info": {
   "codemirror_mode": {
    "name": "ipython",
    "version": 3
   },
   "file_extension": ".py",
   "mimetype": "text/x-python",
   "name": "python",
   "nbconvert_exporter": "python",
   "pygments_lexer": "ipython3",
   "version": "3.11.7"
  }
 },
 "nbformat": 4,
 "nbformat_minor": 5
}
