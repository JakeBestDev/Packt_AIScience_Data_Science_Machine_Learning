{
 "cells": [
  {
   "cell_type": "markdown",
   "id": "ed4e7420-18c5-46ed-9544-99b41e2814ec",
   "metadata": {},
   "source": [
    "# Control Flow"
   ]
  },
  {
   "cell_type": "markdown",
   "id": "a4387477-441e-49d9-a301-7f857ffe26e3",
   "metadata": {},
   "source": [
    "## if/elif/else statements"
   ]
  },
  {
   "cell_type": "code",
   "execution_count": 20,
   "id": "9abcb902-847e-4a1f-bf0b-3d09c2b22aa3",
   "metadata": {},
   "outputs": [
    {
     "name": "stdin",
     "output_type": "stream",
     "text": [
      "Number A:  4\n",
      "Number B:  3\n"
     ]
    },
    {
     "name": "stdout",
     "output_type": "stream",
     "text": [
      "Else: A > B\n"
     ]
    }
   ],
   "source": [
    "a = int(input(\"Number A: \"))\n",
    "b = int(input(\"Number B: \"))\n",
    "\n",
    "if a == b:\n",
    "    print('If: A == B')\n",
    "elif a < b:\n",
    "    print('Elif: A < B')\n",
    "else:\n",
    "    print('Else: A > B')"
   ]
  },
  {
   "cell_type": "markdown",
   "id": "af980737-9b4f-482b-909a-82d9d9db5998",
   "metadata": {},
   "source": [
    "## if/elif/else statements Short Form"
   ]
  },
  {
   "cell_type": "code",
   "execution_count": 27,
   "id": "ca26d8e8-fcf9-467e-8a9a-8c04f872d6eb",
   "metadata": {},
   "outputs": [
    {
     "name": "stdin",
     "output_type": "stream",
     "text": [
      "Number A:  2\n",
      "Number B:  1\n"
     ]
    },
    {
     "name": "stdout",
     "output_type": "stream",
     "text": [
      "A\n"
     ]
    }
   ],
   "source": [
    "a = int(input(\"Number A: \"))\n",
    "b = int(input(\"Number B: \"))\n",
    "\n",
    "print('A') if a > b else print('=') if a == b else print('B')"
   ]
  },
  {
   "cell_type": "markdown",
   "id": "ad843f29-52c2-48ad-b175-e5f201c87ed5",
   "metadata": {},
   "source": [
    "## Nested if/elif/else statements"
   ]
  },
  {
   "cell_type": "code",
   "execution_count": 42,
   "id": "5b623fa2-beb7-47fc-bf3d-a94ff5befd24",
   "metadata": {},
   "outputs": [
    {
     "name": "stdin",
     "output_type": "stream",
     "text": [
      "Number A:  4\n",
      "Number B:  1\n"
     ]
    },
    {
     "name": "stdout",
     "output_type": "stream",
     "text": [
      "a != b:\n"
     ]
    }
   ],
   "source": [
    "a = int(input(\"Number A: \"))\n",
    "b = int(input(\"Number B: \"))\n",
    "\n",
    "if a == b:\n",
    "    print('If: A == B')\n",
    "    if a+b < 4:\n",
    "        print('a+b < 4')\n",
    "    elif a+b > 4:\n",
    "        print('a+b > 4')\n",
    "    else:\n",
    "        print('a+b == 4')\n",
    "else:\n",
    "    print('a != b:')"
   ]
  },
  {
   "cell_type": "code",
   "execution_count": null,
   "id": "14c68070-9d01-4dcb-83fa-f7674ade1578",
   "metadata": {},
   "outputs": [],
   "source": []
  },
  {
   "cell_type": "code",
   "execution_count": null,
   "id": "81daa7e4-68b2-47a7-acd0-efea018feea2",
   "metadata": {},
   "outputs": [],
   "source": []
  },
  {
   "cell_type": "code",
   "execution_count": null,
   "id": "cf298898-9246-49a3-aa00-a659af38bf0b",
   "metadata": {},
   "outputs": [],
   "source": []
  },
  {
   "cell_type": "code",
   "execution_count": null,
   "id": "24702df5-d825-46cb-a876-10c319474413",
   "metadata": {},
   "outputs": [],
   "source": []
  },
  {
   "cell_type": "code",
   "execution_count": null,
   "id": "6ca9c887-63c8-42b9-b25f-c22593784b34",
   "metadata": {},
   "outputs": [],
   "source": []
  },
  {
   "cell_type": "code",
   "execution_count": null,
   "id": "25b737d7-cfeb-488d-8755-34f87f19c76c",
   "metadata": {},
   "outputs": [],
   "source": []
  },
  {
   "cell_type": "code",
   "execution_count": null,
   "id": "1e7fe3bb-37c5-4366-bea7-2da8b4f97104",
   "metadata": {},
   "outputs": [],
   "source": []
  },
  {
   "cell_type": "code",
   "execution_count": null,
   "id": "12784ac9-0b6f-429a-94c1-6d7805775327",
   "metadata": {},
   "outputs": [],
   "source": []
  },
  {
   "cell_type": "code",
   "execution_count": null,
   "id": "0f05270d-7598-4647-894f-381c595ab96b",
   "metadata": {},
   "outputs": [],
   "source": []
  },
  {
   "cell_type": "code",
   "execution_count": null,
   "id": "cbe236d2-4b05-49bb-832f-3d44837b5d51",
   "metadata": {},
   "outputs": [],
   "source": []
  },
  {
   "cell_type": "code",
   "execution_count": null,
   "id": "09519cb2-2212-48ad-886a-7c8cdb0b47b2",
   "metadata": {},
   "outputs": [],
   "source": []
  },
  {
   "cell_type": "code",
   "execution_count": null,
   "id": "e566f632-e681-4c31-920d-2e2a80b5b1f0",
   "metadata": {},
   "outputs": [],
   "source": []
  },
  {
   "cell_type": "code",
   "execution_count": null,
   "id": "8e487091-cc66-44e9-abea-0f107cc0482f",
   "metadata": {},
   "outputs": [],
   "source": []
  },
  {
   "cell_type": "code",
   "execution_count": null,
   "id": "3bff72e3-ac36-4c0c-bba0-89619b44235b",
   "metadata": {},
   "outputs": [],
   "source": []
  },
  {
   "cell_type": "code",
   "execution_count": null,
   "id": "240e6a7b-a1c2-4a33-8c27-37d28936b2c7",
   "metadata": {},
   "outputs": [],
   "source": []
  },
  {
   "cell_type": "code",
   "execution_count": null,
   "id": "3165d7fa-4c26-419a-a8f8-8dbc19948cd1",
   "metadata": {},
   "outputs": [],
   "source": []
  },
  {
   "cell_type": "code",
   "execution_count": null,
   "id": "ff0fbe24-8397-4ffd-8fc0-08df3f6fa5cf",
   "metadata": {},
   "outputs": [],
   "source": []
  },
  {
   "cell_type": "code",
   "execution_count": null,
   "id": "3ad75142-5d7e-4806-bc74-b971dc2aa242",
   "metadata": {},
   "outputs": [],
   "source": []
  },
  {
   "cell_type": "code",
   "execution_count": null,
   "id": "c7f70649-5b15-4663-83af-4cba55e2cd31",
   "metadata": {},
   "outputs": [],
   "source": []
  },
  {
   "cell_type": "code",
   "execution_count": null,
   "id": "39f87cd6-6d41-42d6-b7db-1b50173c0220",
   "metadata": {},
   "outputs": [],
   "source": []
  },
  {
   "cell_type": "code",
   "execution_count": null,
   "id": "beeaac91-07af-44e4-83d2-00bb131aa068",
   "metadata": {},
   "outputs": [],
   "source": []
  },
  {
   "cell_type": "code",
   "execution_count": null,
   "id": "1630c100-4549-4235-80cd-6e2b72e79f47",
   "metadata": {},
   "outputs": [],
   "source": []
  },
  {
   "cell_type": "code",
   "execution_count": null,
   "id": "31d5d329-01f6-4dcd-9474-5c9da9bd89aa",
   "metadata": {},
   "outputs": [],
   "source": []
  },
  {
   "cell_type": "code",
   "execution_count": null,
   "id": "03978efe-23dc-41b7-beeb-a904c7c86181",
   "metadata": {},
   "outputs": [],
   "source": []
  },
  {
   "cell_type": "code",
   "execution_count": null,
   "id": "e63cda9a-4cda-496f-9ac6-c6415b989adc",
   "metadata": {},
   "outputs": [],
   "source": []
  },
  {
   "cell_type": "code",
   "execution_count": null,
   "id": "8c53754e-9318-4962-9886-162ea605972f",
   "metadata": {},
   "outputs": [],
   "source": []
  },
  {
   "cell_type": "code",
   "execution_count": null,
   "id": "de6b958e-6177-4bd9-a567-7eeb334db5a3",
   "metadata": {},
   "outputs": [],
   "source": []
  },
  {
   "cell_type": "code",
   "execution_count": null,
   "id": "a1e85c23-3867-42de-bbf0-b9cf7038cbf3",
   "metadata": {},
   "outputs": [],
   "source": []
  },
  {
   "cell_type": "code",
   "execution_count": null,
   "id": "ef67ecc9-ef74-4b25-9aff-838d1a17d7f0",
   "metadata": {},
   "outputs": [],
   "source": []
  },
  {
   "cell_type": "code",
   "execution_count": null,
   "id": "cfdb4908-31a4-4791-8641-9e2d97c91c44",
   "metadata": {},
   "outputs": [],
   "source": []
  },
  {
   "cell_type": "code",
   "execution_count": null,
   "id": "e86d9566-abdb-41bf-a4cb-2df05be8c0eb",
   "metadata": {},
   "outputs": [],
   "source": []
  },
  {
   "cell_type": "code",
   "execution_count": null,
   "id": "99be5bcf-4740-49ee-a88d-598b43774efa",
   "metadata": {},
   "outputs": [],
   "source": []
  },
  {
   "cell_type": "code",
   "execution_count": null,
   "id": "b31d26da-c0b1-4955-b438-832a5c085f52",
   "metadata": {},
   "outputs": [],
   "source": []
  },
  {
   "cell_type": "code",
   "execution_count": null,
   "id": "f1cbf55a-5980-4eaf-94a2-b33f91213d81",
   "metadata": {},
   "outputs": [],
   "source": []
  },
  {
   "cell_type": "code",
   "execution_count": null,
   "id": "f41437ea-8422-4c59-b307-673c16a1bdb8",
   "metadata": {},
   "outputs": [],
   "source": []
  },
  {
   "cell_type": "code",
   "execution_count": null,
   "id": "14fad014-feb3-470d-ba96-8a8a87550843",
   "metadata": {},
   "outputs": [],
   "source": []
  },
  {
   "cell_type": "code",
   "execution_count": null,
   "id": "c3806366-0d76-4e70-a847-57b5c101f8ea",
   "metadata": {},
   "outputs": [],
   "source": []
  },
  {
   "cell_type": "code",
   "execution_count": null,
   "id": "7ddc2fad-d4af-43bd-9850-a5b101549470",
   "metadata": {},
   "outputs": [],
   "source": []
  },
  {
   "cell_type": "code",
   "execution_count": null,
   "id": "3b671c10-049e-416d-8e9c-054f9a9cf663",
   "metadata": {},
   "outputs": [],
   "source": []
  },
  {
   "cell_type": "code",
   "execution_count": null,
   "id": "a87878b8-af66-4c28-b9f6-82a721e8065d",
   "metadata": {},
   "outputs": [],
   "source": []
  },
  {
   "cell_type": "code",
   "execution_count": null,
   "id": "b4cea54e-18eb-4899-a921-27ccba76b8ce",
   "metadata": {},
   "outputs": [],
   "source": []
  },
  {
   "cell_type": "code",
   "execution_count": null,
   "id": "b676009f-f65c-4751-80d3-8d920074b98b",
   "metadata": {},
   "outputs": [],
   "source": []
  },
  {
   "cell_type": "code",
   "execution_count": null,
   "id": "b793ce66-ca75-48df-8fff-38a1aec2b3e1",
   "metadata": {},
   "outputs": [],
   "source": []
  },
  {
   "cell_type": "code",
   "execution_count": null,
   "id": "99c989c0-f7bf-4128-bbee-f03d1d25ce33",
   "metadata": {},
   "outputs": [],
   "source": []
  },
  {
   "cell_type": "code",
   "execution_count": null,
   "id": "a0fa624e-e562-4b74-85d4-8d921b46cd45",
   "metadata": {},
   "outputs": [],
   "source": []
  }
 ],
 "metadata": {
  "kernelspec": {
   "display_name": "Python 3 (ipykernel)",
   "language": "python",
   "name": "python3"
  },
  "language_info": {
   "codemirror_mode": {
    "name": "ipython",
    "version": 3
   },
   "file_extension": ".py",
   "mimetype": "text/x-python",
   "name": "python",
   "nbconvert_exporter": "python",
   "pygments_lexer": "ipython3",
   "version": "3.11.7"
  }
 },
 "nbformat": 4,
 "nbformat_minor": 5
}
