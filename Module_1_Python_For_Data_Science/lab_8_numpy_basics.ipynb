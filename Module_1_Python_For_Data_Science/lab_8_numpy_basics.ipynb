{
 "cells": [
  {
   "cell_type": "markdown",
   "id": "1589dad6-7f1d-4527-9583-e93ae9da1517",
   "metadata": {},
   "source": [
    "# NumPy Basics"
   ]
  },
  {
   "cell_type": "markdown",
   "id": "2e3d6d3d-35b0-4e27-86c2-a9dc8551ba21",
   "metadata": {},
   "source": [
    "## Why use numpy? Because a numpy array is faster than a standard list\n",
    "## Numpy also include a large number of useful functions"
   ]
  },
  {
   "cell_type": "markdown",
   "id": "0263f6ba-ba7e-4e66-b5e3-dc103a55234b",
   "metadata": {},
   "source": [
    "## Numpy Introduction"
   ]
  },
  {
   "cell_type": "code",
   "execution_count": 4,
   "id": "688fb80b-dfa5-4e88-9b42-c9578b631d09",
   "metadata": {},
   "outputs": [],
   "source": [
    "import numpy as np"
   ]
  },
  {
   "cell_type": "code",
   "execution_count": 6,
   "id": "a6cac1c8-f998-4d16-a671-1ee9d0616c3d",
   "metadata": {},
   "outputs": [
    {
     "name": "stdout",
     "output_type": "stream",
     "text": [
      "[1 2 3 4 5 6 7 8]\n",
      "[1 2 3 4 5 6 7 8]\n"
     ]
    }
   ],
   "source": [
    "## Can use either [] or ()\n",
    "## The types will stay the same\n",
    "\n",
    "a = np.array([1,2,3,4,5,6,7,8])\n",
    "b = np.array((1,2,3,4,5,6,7,8))\n",
    "\n",
    "print(a)\n",
    "print(b)"
   ]
  },
  {
   "cell_type": "code",
   "execution_count": 8,
   "id": "bc15071a-eb3d-43b6-85eb-4cb95e603cbf",
   "metadata": {},
   "outputs": [
    {
     "data": {
      "text/plain": [
       "numpy.ndarray"
      ]
     },
     "execution_count": 8,
     "metadata": {},
     "output_type": "execute_result"
    }
   ],
   "source": [
    "## Notice its type is array\n",
    "type(a)"
   ]
  },
  {
   "cell_type": "code",
   "execution_count": 10,
   "id": "2bd236b8-c2f3-4135-9352-6195d724704e",
   "metadata": {},
   "outputs": [
    {
     "data": {
      "text/plain": [
       "numpy.ndarray"
      ]
     },
     "execution_count": 10,
     "metadata": {},
     "output_type": "execute_result"
    }
   ],
   "source": [
    "## Notice its type is also array\n",
    "type(b)"
   ]
  },
  {
   "cell_type": "code",
   "execution_count": 12,
   "id": "d4c24958-d968-46b2-877c-6604b4e7027f",
   "metadata": {},
   "outputs": [
    {
     "data": {
      "text/plain": [
       "dtype('int32')"
      ]
     },
     "execution_count": 12,
     "metadata": {},
     "output_type": "execute_result"
    }
   ],
   "source": [
    "## Use .dtype to check type inside the array\n",
    "\n",
    "a.dtype"
   ]
  },
  {
   "cell_type": "code",
   "execution_count": 14,
   "id": "ee74e4cb-bbb3-48af-9d13-0eac1caeb9a1",
   "metadata": {},
   "outputs": [
    {
     "name": "stdout",
     "output_type": "stream",
     "text": [
      "int32\n",
      "float32\n"
     ]
    }
   ],
   "source": [
    "## We can also specify type inside the array's definition\n",
    "\n",
    "## Defined as int\n",
    "a = np.array([1,2,3,4,5,6,7,8], dtype = 'i')\n",
    "\n",
    "## Defined as float\n",
    "b = np.array((1,2,3,4,5,6,7,8),dtype = 'f')\n",
    "\n",
    "print(a.dtype)\n",
    "print(b.dtype)"
   ]
  },
  {
   "cell_type": "markdown",
   "id": "ba7196c6-70c5-46b6-ac2b-748c1070c189",
   "metadata": {},
   "source": [
    "## Numpy Dimensions"
   ]
  },
  {
   "cell_type": "code",
   "execution_count": 16,
   "id": "d7bf9e27-db7e-43a1-a684-b61b2c8f94bf",
   "metadata": {},
   "outputs": [
    {
     "name": "stdout",
     "output_type": "stream",
     "text": [
      "2\n"
     ]
    }
   ],
   "source": [
    "## How to create a 2 dimentional array\n",
    "\n",
    "a = np.array([[1,2,3],[4,5,6]])\n",
    "print(a.ndim)"
   ]
  },
  {
   "cell_type": "code",
   "execution_count": 18,
   "id": "5c47b46d-3b78-4eb9-863b-afbfd6f0a4b3",
   "metadata": {},
   "outputs": [
    {
     "name": "stdout",
     "output_type": "stream",
     "text": [
      "3\n"
     ]
    }
   ],
   "source": [
    "## Create a 3 dimensional array\n",
    "\n",
    "b = np.array([[[1,2,3],[4,5,6]],[[1,2,3],[4,5,6]]])\n",
    "print(b.ndim)"
   ]
  },
  {
   "cell_type": "code",
   "execution_count": 28,
   "id": "bd2880e2-dcdc-497f-83f1-bbe9381960df",
   "metadata": {},
   "outputs": [
    {
     "ename": "ValueError",
     "evalue": "setting an array element with a sequence. The requested array has an inhomogeneous shape after 1 dimensions. The detected shape was (2,) + inhomogeneous part.",
     "output_type": "error",
     "traceback": [
      "\u001b[1;31m---------------------------------------------------------------------------\u001b[0m",
      "\u001b[1;31mValueError\u001b[0m                                Traceback (most recent call last)",
      "Cell \u001b[1;32mIn[28], line 3\u001b[0m\n\u001b[0;32m      1\u001b[0m \u001b[38;5;66;03m## You MUST have the same number of elements in an array for it to be multidimensional \u001b[39;00m\n\u001b[1;32m----> 3\u001b[0m a \u001b[38;5;241m=\u001b[39m np\u001b[38;5;241m.\u001b[39marray([[\u001b[38;5;241m1\u001b[39m,\u001b[38;5;241m2\u001b[39m,\u001b[38;5;241m3\u001b[39m],[\u001b[38;5;241m4\u001b[39m,\u001b[38;5;241m5\u001b[39m,\u001b[38;5;241m6\u001b[39m,\u001b[38;5;241m7\u001b[39m]])\n",
      "\u001b[1;31mValueError\u001b[0m: setting an array element with a sequence. The requested array has an inhomogeneous shape after 1 dimensions. The detected shape was (2,) + inhomogeneous part."
     ]
    }
   ],
   "source": [
    "## You MUST have the same number of elements in an array for it to be multidimensional \n",
    "\n",
    "a = np.array([[1,2,3],[4,5,6,7]])"
   ]
  },
  {
   "cell_type": "markdown",
   "id": "812d64a4-44ba-4473-b546-e8ce9ff94cbe",
   "metadata": {},
   "source": [
    "## Numpy: Shape, Size and Bytes"
   ]
  },
  {
   "cell_type": "code",
   "execution_count": 33,
   "id": "1909cdb9-13b5-4a2c-b18b-c53843438490",
   "metadata": {},
   "outputs": [
    {
     "data": {
      "text/plain": [
       "(2, 2, 3)"
      ]
     },
     "execution_count": 33,
     "metadata": {},
     "output_type": "execute_result"
    }
   ],
   "source": [
    "b = np.array([[[1,2,3],[4,5,6]],[[1,2,3],[4,5,6]]])\n",
    "b.shape"
   ]
  },
  {
   "cell_type": "code",
   "execution_count": 35,
   "id": "38628238-68d5-4b2c-b42a-99c7408eb7c3",
   "metadata": {},
   "outputs": [
    {
     "name": "stdout",
     "output_type": "stream",
     "text": [
      "2 2 3\n"
     ]
    }
   ],
   "source": [
    "## Show the shapes (sizes) of the arrays\n",
    "\n",
    "##               1                   2\n",
    "##               1        2         1      2\n",
    "##              1 2 3   1 2 3      1 2 3  1 2 3\n",
    "b = np.array([[[1,2,3],[4,5,6]],[[1,2,3],[4,5,6]]])\n",
    "\n",
    "print(b.shape[0],b.shape[1],b.shape[2])"
   ]
  },
  {
   "cell_type": "code",
   "execution_count": 37,
   "id": "cf717b23-099a-4e22-a15b-0fded0a259af",
   "metadata": {},
   "outputs": [
    {
     "name": "stdout",
     "output_type": "stream",
     "text": [
      "3\n"
     ]
    }
   ],
   "source": [
    "## Indexing specific numbers from arrays\n",
    "## If this is the array we are calling the 2nd arrays 3\n",
    "##               0                   1\n",
    "##               0        1         0      1\n",
    "##              0 1 2   0 1 2      0 1 2  0 1 2\n",
    "b = np.array([[[1,2,3],[4,5,6]],[[1,2,3],[4,5,6]]])\n",
    "\n",
    "print(b[1][0][2])"
   ]
  },
  {
   "cell_type": "code",
   "execution_count": 41,
   "id": "a29f6eed-1cc0-4638-8453-f5eee573fd5a",
   "metadata": {},
   "outputs": [
    {
     "data": {
      "text/plain": [
       "12"
      ]
     },
     "execution_count": 41,
     "metadata": {},
     "output_type": "execute_result"
    }
   ],
   "source": [
    "## Number of elements there\n",
    "\n",
    "b.size"
   ]
  },
  {
   "cell_type": "code",
   "execution_count": 45,
   "id": "b158c7db-b7bc-4126-a5dc-60e5cabfedff",
   "metadata": {},
   "outputs": [
    {
     "data": {
      "text/plain": [
       "48"
      ]
     },
     "execution_count": 45,
     "metadata": {},
     "output_type": "execute_result"
    }
   ],
   "source": [
    "## Number of bytes in memory\n",
    "\n",
    "b.nbytes"
   ]
  },
  {
   "cell_type": "markdown",
   "id": "cc7b2da5-5a90-4893-8463-de914d0b3933",
   "metadata": {},
   "source": [
    "## Numpy: Arange, Random, Reshape"
   ]
  },
  {
   "cell_type": "code",
   "execution_count": 2,
   "id": "eeac6228-e3e5-481d-a1cb-7cc01d1e6986",
   "metadata": {},
   "outputs": [],
   "source": [
    "import numpy as np"
   ]
  },
  {
   "cell_type": "code",
   "execution_count": 8,
   "id": "cacf81f7-5c05-47cb-b111-d51d92ea7890",
   "metadata": {},
   "outputs": [
    {
     "data": {
      "text/plain": [
       "array([ 0,  1,  2,  3,  4,  5,  6,  7,  8,  9, 10, 11, 12, 13, 14, 15, 16,\n",
       "       17, 18, 19, 20, 21, 22, 23, 24, 25, 26, 27, 28, 29, 30, 31, 32, 33,\n",
       "       34, 35, 36, 37, 38, 39, 40, 41, 42, 43, 44, 45, 46, 47, 48, 49, 50,\n",
       "       51, 52, 53, 54, 55, 56, 57, 58, 59, 60, 61, 62, 63, 64, 65, 66, 67,\n",
       "       68, 69, 70, 71, 72, 73, 74, 75, 76, 77, 78, 79, 80, 81, 82, 83, 84,\n",
       "       85, 86, 87, 88, 89, 90, 91, 92, 93, 94, 95, 96, 97, 98, 99])"
      ]
     },
     "execution_count": 8,
     "metadata": {},
     "output_type": "execute_result"
    }
   ],
   "source": [
    "## Create an array from 0 to x number (a range) sequentially\n",
    "## This works very similar to range()\n",
    "\n",
    "A = np.arange(100)\n",
    "A"
   ]
  },
  {
   "cell_type": "code",
   "execution_count": 11,
   "id": "1abe60c0-5414-4993-81af-c0b81dbeadee",
   "metadata": {},
   "outputs": [
    {
     "data": {
      "text/plain": [
       "array([ 2,  4,  6,  8, 10, 12, 14, 16, 18, 20, 22, 24, 26, 28, 30, 32, 34,\n",
       "       36, 38, 40, 42, 44, 46, 48, 50, 52, 54, 56, 58, 60, 62, 64, 66, 68,\n",
       "       70, 72, 74, 76, 78, 80, 82, 84, 86, 88, 90, 92, 94, 96, 98])"
      ]
     },
     "execution_count": 11,
     "metadata": {},
     "output_type": "execute_result"
    }
   ],
   "source": [
    "## Can step and start at specific numbers too!\n",
    "\n",
    "A = np.arange(2,100,2)\n",
    "A"
   ]
  },
  {
   "cell_type": "code",
   "execution_count": 29,
   "id": "59fd614b-feec-4cfe-8320-20e1e0c67f57",
   "metadata": {},
   "outputs": [
    {
     "data": {
      "text/plain": [
       "array([4, 5, 8, 0, 1, 2, 7, 3, 6, 9])"
      ]
     },
     "execution_count": 29,
     "metadata": {},
     "output_type": "execute_result"
    }
   ],
   "source": [
    "## np.random is a package inside of numpy\n",
    "## So in this example we get get an array from 0-9 with the numbers being randomly spread around in the array\n",
    "## If you keep running this cell the array will change each time because its getting a new random permutation\n",
    "\n",
    "## We order the np.random.permutation() because random is a package in np. And permutation is apart of the random package.\n",
    "\n",
    "A = np.random.permutation(np.arange(10))\n",
    "A"
   ]
  },
  {
   "cell_type": "code",
   "execution_count": 82,
   "id": "42e6b1fc-6af6-45ef-8b8b-1d47bc0bd096",
   "metadata": {},
   "outputs": [
    {
     "name": "stdout",
     "output_type": "stream",
     "text": [
      "27\n",
      "<class 'int'>\n"
     ]
    }
   ],
   "source": [
    "## randint will pick a random integer between the range that is specified\n",
    "A = np.random.randint(20,30)\n",
    "print(A)\n",
    "print(type(A))"
   ]
  },
  {
   "cell_type": "code",
   "execution_count": 94,
   "id": "bae52973-153b-4ba0-af25-61e3ecf7f2cf",
   "metadata": {},
   "outputs": [
    {
     "name": "stdout",
     "output_type": "stream",
     "text": [
      "[[0.84766983 0.08493704 0.55179524]\n",
      " [0.90854003 0.58487861 0.26086194]]\n",
      "2\n"
     ]
    }
   ],
   "source": [
    "## You can create multi dimensional arrays (matrises) using random\n",
    "## 2 defines the dimensions of the matrix and 3 is the number of variables in those arrays\n",
    "A = np.random.rand(2,3)\n",
    "print(A)\n",
    "print(A.ndim)"
   ]
  },
  {
   "cell_type": "code",
   "execution_count": 96,
   "id": "cff54d78-a59f-4cd2-86dc-3c5d3fe62704",
   "metadata": {},
   "outputs": [
    {
     "name": "stdout",
     "output_type": "stream",
     "text": [
      "[[[[5.61604299e-01 1.03432106e-01]\n",
      "   [8.71057930e-01 6.49890138e-01]\n",
      "   [1.79722458e-01 7.64836151e-01]\n",
      "   [4.96472362e-01 6.25335766e-01]]\n",
      "\n",
      "  [[8.61049353e-01 8.37171138e-01]\n",
      "   [8.89617705e-01 3.16079261e-01]\n",
      "   [4.07576744e-01 4.45564394e-01]\n",
      "   [5.11014844e-01 6.40675723e-01]]\n",
      "\n",
      "  [[2.22602396e-01 4.05644656e-01]\n",
      "   [3.52553346e-02 9.47619911e-01]\n",
      "   [4.14831406e-01 9.39345291e-01]\n",
      "   [9.37804420e-01 4.41836085e-01]]]\n",
      "\n",
      "\n",
      " [[[6.45285574e-01 6.95565595e-01]\n",
      "   [6.65175930e-04 1.95215924e-01]\n",
      "   [1.88792925e-01 6.59440862e-02]\n",
      "   [1.23726120e-01 5.16039708e-01]]\n",
      "\n",
      "  [[9.53804404e-01 5.91158870e-01]\n",
      "   [6.36726329e-01 8.24923800e-01]\n",
      "   [2.86004428e-01 9.48354166e-01]\n",
      "   [5.05901381e-01 7.02942888e-01]]\n",
      "\n",
      "  [[1.51488034e-01 7.83912260e-01]\n",
      "   [2.72511907e-01 4.75193466e-01]\n",
      "   [4.81535920e-01 4.59097617e-01]\n",
      "   [8.24679127e-02 8.31105771e-02]]]]\n",
      "4\n"
     ]
    }
   ],
   "source": [
    "## Can do larger dimensional arrays\n",
    "## So this is a 4 dimensional array. \n",
    "## There are 2 arrays with 3 arrays within them. \n",
    "## Each of those 3 arrays has 4 arrays within them. \n",
    "## Each oof those 4 arrays has 2 variables within them\n",
    "\n",
    "A = np.random.rand(2,3,4,2)\n",
    "print(A)\n",
    "print(A.ndim)"
   ]
  },
  {
   "cell_type": "code",
   "execution_count": 104,
   "id": "5e1f518b-3b99-45f7-a309-444be67e5073",
   "metadata": {},
   "outputs": [
    {
     "name": "stdout",
     "output_type": "stream",
     "text": [
      "[[ 0  1  2  3  4  5  6  7  8  9 10 11 12 13 14 15 16 17 18 19 20 21 22 23\n",
      "  24]\n",
      " [25 26 27 28 29 30 31 32 33 34 35 36 37 38 39 40 41 42 43 44 45 46 47 48\n",
      "  49]\n",
      " [50 51 52 53 54 55 56 57 58 59 60 61 62 63 64 65 66 67 68 69 70 71 72 73\n",
      "  74]\n",
      " [75 76 77 78 79 80 81 82 83 84 85 86 87 88 89 90 91 92 93 94 95 96 97 98\n",
      "  99]]\n",
      "(4, 25)\n",
      "2\n"
     ]
    }
   ],
   "source": [
    "## Reshape\n",
    "## What reshape does is breaks up the array as defined by the user.\n",
    "## In this example we have a range from 0-99\n",
    "## We broke this up into 4 arrays with 25 elements in each\n",
    "\n",
    "A = np.arange(100).reshape(4,25)\n",
    "print(A)\n",
    "print(A.shape)\n",
    "print(A.ndim)"
   ]
  },
  {
   "cell_type": "code",
   "execution_count": 106,
   "id": "9ae48016-4597-4c32-b9f8-2c63a8943edf",
   "metadata": {},
   "outputs": [
    {
     "name": "stdout",
     "output_type": "stream",
     "text": [
      "[[[ 0  1  2  3  4]\n",
      "  [ 5  6  7  8  9]\n",
      "  [10 11 12 13 14]\n",
      "  [15 16 17 18 19]\n",
      "  [20 21 22 23 24]]\n",
      "\n",
      " [[25 26 27 28 29]\n",
      "  [30 31 32 33 34]\n",
      "  [35 36 37 38 39]\n",
      "  [40 41 42 43 44]\n",
      "  [45 46 47 48 49]]\n",
      "\n",
      " [[50 51 52 53 54]\n",
      "  [55 56 57 58 59]\n",
      "  [60 61 62 63 64]\n",
      "  [65 66 67 68 69]\n",
      "  [70 71 72 73 74]]\n",
      "\n",
      " [[75 76 77 78 79]\n",
      "  [80 81 82 83 84]\n",
      "  [85 86 87 88 89]\n",
      "  [90 91 92 93 94]\n",
      "  [95 96 97 98 99]]]\n",
      "(4, 5, 5)\n",
      "3\n"
     ]
    }
   ],
   "source": [
    "## Reshape\n",
    "## What reshape does is breaks up the array as defined by the user.\n",
    "## In this example we have a range from 0-99\n",
    "## We broke this up into 4 arrays with 5 arrays within them.\n",
    "## Each of those 5 arrays then has 5 elements within them\n",
    "\n",
    "A = np.arange(100).reshape(4,5,5)\n",
    "print(A)\n",
    "print(A.shape)\n",
    "print(A.ndim)"
   ]
  },
  {
   "cell_type": "markdown",
   "id": "21b6cc70-b0a3-46c9-b76a-262c6bf1b411",
   "metadata": {},
   "source": [
    "## Numpy: Indexing and Slicing"
   ]
  },
  {
   "cell_type": "code",
   "execution_count": 113,
   "id": "6951aa5f-40ef-44f9-96bb-ab57e6098466",
   "metadata": {},
   "outputs": [
    {
     "name": "stdout",
     "output_type": "stream",
     "text": [
      "[ 0  1  2  3  4  5  6  7  8  9 10 11 12 13 14 15 16 17 18 19 20 21 22 23\n",
      " 24 25 26 27 28 29 30 31 32 33 34 35 36 37 38 39 40 41 42 43 44 45 46 47\n",
      " 48 49 50 51 52 53 54 55 56 57 58 59 60 61 62 63 64 65 66 67 68 69 70 71\n",
      " 72 73 74 75 76 77 78 79 80 81 82 83 84 85 86 87 88 89 90 91 92 93 94 95\n",
      " 96 97 98 99]\n",
      "[3 4 5 6 7 8 9]\n"
     ]
    }
   ],
   "source": [
    "## Slicing arrays is very similar to lists!\n",
    "## A[start:end:step]\n",
    "\n",
    "A = np.arange(100)\n",
    "print(A)\n",
    "b = A[3:10]\n",
    "print(b)"
   ]
  },
  {
   "cell_type": "code",
   "execution_count": 115,
   "id": "7cccbb44-77f7-4bfb-b662-94b81f6f711b",
   "metadata": {},
   "outputs": [
    {
     "name": "stdout",
     "output_type": "stream",
     "text": [
      "[-1200     4     5     6     7     8     9]\n",
      "[    0     1     2 -1200     4     5     6     7     8     9    10    11\n",
      "    12    13    14    15    16    17    18    19    20    21    22    23\n",
      "    24    25    26    27    28    29    30    31    32    33    34    35\n",
      "    36    37    38    39    40    41    42    43    44    45    46    47\n",
      "    48    49    50    51    52    53    54    55    56    57    58    59\n",
      "    60    61    62    63    64    65    66    67    68    69    70    71\n",
      "    72    73    74    75    76    77    78    79    80    81    82    83\n",
      "    84    85    86    87    88    89    90    91    92    93    94    95\n",
      "    96    97    98    99]\n"
     ]
    }
   ],
   "source": [
    "## Lets try changing the elements of b\n",
    "## Notice how A and b both changed. This is because they are associated in the same place in memory.\n",
    "## THIS IS NOT THE SAME AS LISTS!! If a list is sliced and saved to a variable then it creates its own list\n",
    "\n",
    "b[0] = -1200\n",
    "print(b)\n",
    "print(A)"
   ]
  },
  {
   "cell_type": "code",
   "execution_count": 119,
   "id": "6ece74d7-a23a-4972-b772-99b965c6d3bf",
   "metadata": {},
   "outputs": [
    {
     "name": "stdout",
     "output_type": "stream",
     "text": [
      "[-1200     4     5     6     7     8     9]\n",
      "[ 0  1  2  3  4  5  6  7  8  9 10 11 12 13 14 15 16 17 18 19 20 21 22 23\n",
      " 24 25 26 27 28 29 30 31 32 33 34 35 36 37 38 39 40 41 42 43 44 45 46 47\n",
      " 48 49 50 51 52 53 54 55 56 57 58 59 60 61 62 63 64 65 66 67 68 69 70 71\n",
      " 72 73 74 75 76 77 78 79 80 81 82 83 84 85 86 87 88 89 90 91 92 93 94 95\n",
      " 96 97 98 99]\n"
     ]
    }
   ],
   "source": [
    "## To make a copy of an array without associating to same memory use .copy() method\n",
    "\n",
    "A = np.arange(100) ## resetting the original array\n",
    "\n",
    "b = A[3:10].copy()\n",
    "b[0] = -1200\n",
    "print(b)\n",
    "print(A)"
   ]
  },
  {
   "cell_type": "code",
   "execution_count": 121,
   "id": "a3d3596a-fc1c-4c33-88fd-8b7247aad32d",
   "metadata": {},
   "outputs": [
    {
     "data": {
      "text/plain": [
       "array([ 0,  5, 10, 15, 20, 25, 30, 35, 40, 45, 50, 55, 60, 65, 70, 75, 80,\n",
       "       85, 90, 95])"
      ]
     },
     "execution_count": 121,
     "metadata": {},
     "output_type": "execute_result"
    }
   ],
   "source": [
    "## stepping in arrays\n",
    "\n",
    "A[::5]"
   ]
  },
  {
   "cell_type": "code",
   "execution_count": 123,
   "id": "e60f403c-2449-4600-8684-e7da5795cf6c",
   "metadata": {},
   "outputs": [
    {
     "data": {
      "text/plain": [
       "array([99, 94, 89, 84, 79, 74, 69, 64, 59, 54, 49, 44, 39, 34, 29, 24, 19,\n",
       "       14,  9,  4])"
      ]
     },
     "execution_count": 123,
     "metadata": {},
     "output_type": "execute_result"
    }
   ],
   "source": [
    "## ## Reverse stepping\n",
    "\n",
    "A[::-5]"
   ]
  },
  {
   "cell_type": "code",
   "execution_count": 127,
   "id": "7811447b-dfd8-4956-add9-b21e1cb419d1",
   "metadata": {},
   "outputs": [
    {
     "data": {
      "text/plain": [
       "array([99, 98, 97, 96, 95, 94, 93, 92, 91, 90, 89, 88, 87, 86, 85, 84, 83,\n",
       "       82, 81, 80, 79, 78, 77, 76, 75, 74, 73, 72, 71, 70, 69, 68, 67, 66,\n",
       "       65, 64, 63, 62, 61, 60, 59, 58, 57, 56, 55, 54, 53, 52, 51, 50, 49,\n",
       "       48, 47, 46, 45, 44, 43, 42, 41, 40, 39, 38, 37, 36, 35, 34, 33, 32,\n",
       "       31, 30, 29, 28, 27, 26, 25, 24, 23, 22, 21, 20, 19, 18, 17, 16, 15,\n",
       "       14, 13, 12, 11, 10,  9,  8,  7,  6,  5,  4,  3,  2,  1,  0])"
      ]
     },
     "execution_count": 127,
     "metadata": {},
     "output_type": "execute_result"
    }
   ],
   "source": [
    "## Reverse an array\n",
    "\n",
    "A[::-1]"
   ]
  },
  {
   "cell_type": "code",
   "execution_count": 135,
   "id": "93c8fe09-4e57-4113-bbb3-70d501c61418",
   "metadata": {},
   "outputs": [
    {
     "name": "stdout",
     "output_type": "stream",
     "text": [
      "[   0    1    2    3    4    5    6    7    8    9   10   11   12   13\n",
      "   14 1000   16   17   18   19   20   21   22   23   24   25   26   27\n",
      "   28   29   30   31   32   33   34   35   36   37   38   39   40   41\n",
      "   42   43   44   45   46   47   48   49   50   51   52   53   54   55\n",
      "   56   57   58   59   60   61   62   63   64   65   66   67   68   69\n",
      "   70   71   72   73   74   75   76   77   78   79   80   81   82   83\n",
      "   84   85   86   87   88   89   90   91   92   93   94   95   96   97\n",
      "   98   99]\n",
      "15\n",
      "1000\n"
     ]
    }
   ],
   "source": [
    "## How to find the position of a particular element in an array\n",
    "## Lets say I wanna know what index 1000 is in the array. \n",
    "\n",
    "A[15] = 1000 ## Setting 1000 to be at index 15 so we can know the answer of where it is initially \n",
    "print(A)\n",
    "\n",
    "idx = np.argwhere(A==1000)[0][0] ## This tells us where 1000 is located in the array\n",
    "print(idx)\n",
    "print(A[idx])"
   ]
  },
  {
   "cell_type": "code",
   "execution_count": 141,
   "id": "30c2a21a-286c-48b4-9a84-eea388f0ee7b",
   "metadata": {},
   "outputs": [
    {
     "data": {
      "text/plain": [
       "array([[0.84450907, 0.35114204, 0.47340607, 0.13172016],\n",
       "       [0.17104106, 0.22895491, 0.97061533, 0.58788449],\n",
       "       [0.77054979, 0.8268839 , 0.53327367, 0.25150467],\n",
       "       [0.30746183, 0.47556708, 0.2328896 , 0.07205304],\n",
       "       [0.42353107, 0.88785107, 0.08317962, 0.58009707]])"
      ]
     },
     "execution_count": 141,
     "metadata": {},
     "output_type": "execute_result"
    }
   ],
   "source": [
    "## Creating a random 2 dimensional array \n",
    "## Notice how their smaller decimals. Lets round these values\n",
    "\n",
    "A = np.random.rand(5,4)\n",
    "A"
   ]
  },
  {
   "cell_type": "code",
   "execution_count": 143,
   "id": "58fb0416-7e95-4350-bae9-4cbecd13059f",
   "metadata": {},
   "outputs": [
    {
     "data": {
      "text/plain": [
       "array([[ 2.,  7.,  5.,  6.],\n",
       "       [ 3.,  1.,  4.,  3.],\n",
       "       [10.,  7.,  8.,  2.],\n",
       "       [ 3., 10.,  7., 10.],\n",
       "       [ 4.,  6.,  8.,  5.]])"
      ]
     },
     "execution_count": 143,
     "metadata": {},
     "output_type": "execute_result"
    }
   ],
   "source": [
    "## rounding all the values to scale all the values up to integers (multiplying by 10)\n",
    "\n",
    "A = np.round(10*np.random.rand(5,4))\n",
    "A"
   ]
  },
  {
   "cell_type": "code",
   "execution_count": 147,
   "id": "8b77f469-793d-48d4-beed-880da2733348",
   "metadata": {},
   "outputs": [
    {
     "data": {
      "text/plain": [
       "7.0"
      ]
     },
     "execution_count": 147,
     "metadata": {},
     "output_type": "execute_result"
    }
   ],
   "source": [
    "## Now lets slice this array\n",
    "## Lets say we want to see the number 7 in the 4th array\n",
    "\n",
    "A[3][2]"
   ]
  },
  {
   "cell_type": "code",
   "execution_count": 149,
   "id": "7d222ead-8b63-4c32-8056-9e7b7df721f5",
   "metadata": {},
   "outputs": [
    {
     "data": {
      "text/plain": [
       "array([10.,  7.,  8.,  2.])"
      ]
     },
     "execution_count": 149,
     "metadata": {},
     "output_type": "execute_result"
    }
   ],
   "source": [
    "## Lets say we want the entire 3rd array\n",
    "\n",
    "A[2]"
   ]
  },
  {
   "cell_type": "code",
   "execution_count": 151,
   "id": "1574b8b1-0c2d-4ed4-8f11-908e110a8839",
   "metadata": {},
   "outputs": [
    {
     "data": {
      "text/plain": [
       "array([ 2.,  3., 10.,  3.,  4.])"
      ]
     },
     "execution_count": 151,
     "metadata": {},
     "output_type": "execute_result"
    }
   ],
   "source": [
    "## Lets say you want all the first elements in every array\n",
    "\n",
    "A[:,0]"
   ]
  },
  {
   "cell_type": "code",
   "execution_count": 161,
   "id": "7781b4db-15e0-428f-9ca5-18a89938ef00",
   "metadata": {},
   "outputs": [
    {
     "data": {
      "text/plain": [
       "array([[ 1.,  4.],\n",
       "       [ 7.,  8.],\n",
       "       [10.,  7.]])"
      ]
     },
     "execution_count": 161,
     "metadata": {},
     "output_type": "execute_result"
    }
   ],
   "source": [
    "## Lets say you want the middle 6 elements \n",
    "## Notice how the order of the array is [rows, columns]\n",
    "A[1:4,1:3]"
   ]
  },
  {
   "cell_type": "code",
   "execution_count": 163,
   "id": "5aab5e02-4879-4569-a10b-51c8b6b8e95c",
   "metadata": {},
   "outputs": [
    {
     "data": {
      "text/plain": [
       "array([[ 2.,  3., 10.,  3.,  4.],\n",
       "       [ 7.,  1.,  7., 10.,  6.],\n",
       "       [ 5.,  4.,  8.,  7.,  8.],\n",
       "       [ 6.,  3.,  2., 10.,  5.]])"
      ]
     },
     "execution_count": 163,
     "metadata": {},
     "output_type": "execute_result"
    }
   ],
   "source": [
    "## How to transpose the matrix\n",
    "\n",
    "A.T"
   ]
  },
  {
   "cell_type": "code",
   "execution_count": 167,
   "id": "21204d3f-5674-4075-a151-43c9b096586a",
   "metadata": {},
   "outputs": [],
   "source": [
    "## You can also use linear algebra on matricies\n",
    "import numpy.linalg as la "
   ]
  },
  {
   "cell_type": "code",
   "execution_count": 179,
   "id": "be4b7cb2-d978-4657-b6ba-4e6c96e3c732",
   "metadata": {},
   "outputs": [
    {
     "name": "stdout",
     "output_type": "stream",
     "text": [
      "[[0.90596327 0.83698888 0.13068596]\n",
      " [0.08674265 0.90352776 0.02615034]\n",
      " [0.72165721 0.60088082 0.50745328]]\n"
     ]
    },
    {
     "data": {
      "text/plain": [
       "array([[ 1.46763697, -1.14752069, -0.31883032],\n",
       "       [-0.0833488 ,  1.21121825, -0.04095204],\n",
       "       [-1.98845517,  0.19769065,  2.47253005]])"
      ]
     },
     "execution_count": 179,
     "metadata": {},
     "output_type": "execute_result"
    }
   ],
   "source": [
    "## This is how to get the inverse of the matrix\n",
    "A = np.random.rand(3,3)\n",
    "print(A)\n",
    "\n",
    "la.inv(A)"
   ]
  },
  {
   "cell_type": "code",
   "execution_count": 187,
   "id": "188179dd-203b-428f-b58e-c7afe03801f0",
   "metadata": {},
   "outputs": [
    {
     "name": "stdout",
     "output_type": "stream",
     "text": [
      "[[ 1.  2.  3.  1.]\n",
      " [ 1.  0.  1. 10.]\n",
      " [ 5.  6.  3.  2.]\n",
      " [ 1.  5.  4.  5.]\n",
      " [ 4.  9.  1.  8.]]\n"
     ]
    }
   ],
   "source": [
    "## Now lets say we wanna sort the columns\n",
    "\n",
    "A = np.round(10*np.random.rand(5,4))\n",
    "print(A)\n",
    "\n"
   ]
  },
  {
   "cell_type": "code",
   "execution_count": 191,
   "id": "5d589e29-6187-4aa8-ad6c-392bd2b6ff10",
   "metadata": {},
   "outputs": [
    {
     "data": {
      "text/plain": [
       "array([[ 1.,  0.,  1.,  1.],\n",
       "       [ 1.,  2.,  1.,  2.],\n",
       "       [ 1.,  5.,  3.,  5.],\n",
       "       [ 4.,  6.,  3.,  8.],\n",
       "       [ 5.,  9.,  4., 10.]])"
      ]
     },
     "execution_count": 191,
     "metadata": {},
     "output_type": "execute_result"
    }
   ],
   "source": [
    "A.sort(axis=0)\n",
    "A"
   ]
  },
  {
   "cell_type": "code",
   "execution_count": 193,
   "id": "be631410-5635-4d9a-abf5-559b09d73496",
   "metadata": {},
   "outputs": [
    {
     "data": {
      "text/plain": [
       "array([[ 0.,  1.,  1.,  1.],\n",
       "       [ 1.,  1.,  2.,  2.],\n",
       "       [ 1.,  3.,  5.,  5.],\n",
       "       [ 3.,  4.,  6.,  8.],\n",
       "       [ 4.,  5.,  9., 10.]])"
      ]
     },
     "execution_count": 193,
     "metadata": {},
     "output_type": "execute_result"
    }
   ],
   "source": [
    "A.sort(axis=1)\n",
    "A"
   ]
  },
  {
   "cell_type": "markdown",
   "id": "b1b1c171-daeb-4e82-87d8-b3716d42be4f",
   "metadata": {},
   "source": [
    "## Numpy: Masking"
   ]
  },
  {
   "cell_type": "code",
   "execution_count": 196,
   "id": "7e66c936-a355-4276-9eb9-db6fe827369e",
   "metadata": {},
   "outputs": [
    {
     "data": {
      "text/plain": [
       "array([ 0,  1,  2,  3,  4,  5,  6,  7,  8,  9, 10, 11, 12, 13, 14, 15, 16,\n",
       "       17, 18, 19, 20, 21, 22, 23, 24, 25, 26, 27, 28, 29, 30, 31, 32, 33,\n",
       "       34, 35, 36, 37, 38, 39, 40, 41, 42, 43, 44, 45, 46, 47, 48, 49, 50,\n",
       "       51, 52, 53, 54, 55, 56, 57, 58, 59, 60, 61, 62, 63, 64, 65, 66, 67,\n",
       "       68, 69, 70, 71, 72, 73, 74, 75, 76, 77, 78, 79, 80, 81, 82, 83, 84,\n",
       "       85, 86, 87, 88, 89, 90, 91, 92, 93, 94, 95, 96, 97, 98, 99])"
      ]
     },
     "execution_count": 196,
     "metadata": {},
     "output_type": "execute_result"
    }
   ],
   "source": [
    "A = np.arange(100)\n",
    "A"
   ]
  },
  {
   "cell_type": "code",
   "execution_count": 198,
   "id": "d2ce7c45-3a4f-417f-a3b1-f687753422e0",
   "metadata": {},
   "outputs": [
    {
     "data": {
      "text/plain": [
       "array([3, 5, 6])"
      ]
     },
     "execution_count": 198,
     "metadata": {},
     "output_type": "execute_result"
    }
   ],
   "source": [
    "## Masking! Lets say we want elements 3,5,6\n",
    "## Then we assign that to variable B\n",
    "\n",
    "B = A[[3,5,6]]\n",
    "B"
   ]
  },
  {
   "cell_type": "code",
   "execution_count": 200,
   "id": "41e4d2aa-a887-4289-92b7-def1666baa30",
   "metadata": {},
   "outputs": [
    {
     "name": "stdout",
     "output_type": "stream",
     "text": [
      "[-1  5  6]\n",
      "[ 0  1  2  3  4  5  6  7  8  9 10 11 12 13 14 15 16 17 18 19 20 21 22 23\n",
      " 24 25 26 27 28 29 30 31 32 33 34 35 36 37 38 39 40 41 42 43 44 45 46 47\n",
      " 48 49 50 51 52 53 54 55 56 57 58 59 60 61 62 63 64 65 66 67 68 69 70 71\n",
      " 72 73 74 75 76 77 78 79 80 81 82 83 84 85 86 87 88 89 90 91 92 93 94 95\n",
      " 96 97 98 99]\n"
     ]
    }
   ],
   "source": [
    "## Now with our new mask we can change an element in B without changing in A\n",
    "## So by default a mask is a copy of the initial array\n",
    "\n",
    "B[0] = -1\n",
    "print(B)\n",
    "print(A)"
   ]
  },
  {
   "cell_type": "code",
   "execution_count": 202,
   "id": "379412e0-2cd2-4098-b42b-31f5ee6c8b3d",
   "metadata": {},
   "outputs": [
    {
     "data": {
      "text/plain": [
       "array([ 0,  1,  2,  3,  4,  5,  6,  7,  8,  9, 10, 11, 12, 13, 14, 15, 16,\n",
       "       17, 18, 19, 20, 21, 22, 23, 24, 25, 26, 27, 28, 29, 30, 31, 32, 33,\n",
       "       34, 35, 36, 37, 38, 39])"
      ]
     },
     "execution_count": 202,
     "metadata": {},
     "output_type": "execute_result"
    }
   ],
   "source": [
    "## We can also mask using logic!\n",
    "## Here we get all elements less than 40\n",
    "\n",
    "B = A[A<40]\n",
    "B"
   ]
  },
  {
   "cell_type": "code",
   "execution_count": 208,
   "id": "8ad21dc7-616f-4bea-ae7e-a021dee8679d",
   "metadata": {},
   "outputs": [
    {
     "data": {
      "text/plain": [
       "array([41, 42, 43, 44, 45, 46, 47, 48, 49, 50, 51, 52, 53, 54, 55, 56, 57,\n",
       "       58, 59, 60, 61, 62, 63, 64, 65, 66, 67, 68, 69, 70, 71, 72, 73, 74,\n",
       "       75, 76, 77, 78, 79])"
      ]
     },
     "execution_count": 208,
     "metadata": {},
     "output_type": "execute_result"
    }
   ],
   "source": [
    "## Here we get all elements between 40 and 80\n",
    "\n",
    "B = A[(A>40) & (A<80)]\n",
    "B"
   ]
  },
  {
   "cell_type": "markdown",
   "id": "56808135-d906-4c15-adc3-13b4aa1f9509",
   "metadata": {},
   "source": [
    "### Whats the difference in using '&' and 'and'\n",
    "#### '&' is used for arrays \n",
    "#### 'and' is used for single objects\n",
    "\n",
    "#### This also applies for '|' and 'or', '~' and 'not'"
   ]
  },
  {
   "cell_type": "markdown",
   "id": "d1804622-69c4-486a-89d0-de4b09f50322",
   "metadata": {},
   "source": [
    "## Numpy: BroadCasting and Concatenation and Sorting"
   ]
  },
  {
   "cell_type": "code",
   "execution_count": 218,
   "id": "199203bd-95c8-44cc-8fda-77a9332d7da1",
   "metadata": {},
   "outputs": [
    {
     "data": {
      "text/plain": [
       "array([[10.,  9.,  6.],\n",
       "       [ 8.,  6.,  5.]])"
      ]
     },
     "execution_count": 218,
     "metadata": {},
     "output_type": "execute_result"
    }
   ],
   "source": [
    "A = np.round(10*np.random.rand(2,3))\n",
    "A"
   ]
  },
  {
   "cell_type": "code",
   "execution_count": 220,
   "id": "514ab05c-c320-4aac-9c5a-4d66efcfbda9",
   "metadata": {},
   "outputs": [
    {
     "data": {
      "text/plain": [
       "array([[13., 12.,  9.],\n",
       "       [11.,  9.,  8.]])"
      ]
     },
     "execution_count": 220,
     "metadata": {},
     "output_type": "execute_result"
    }
   ],
   "source": [
    "## This is breadcasting. Basically 3 is added across all the elements of the matrix\n",
    "\n",
    "A + 3"
   ]
  },
  {
   "cell_type": "code",
   "execution_count": 222,
   "id": "e28a4622-a9e0-43b9-9e3d-8f481f607c44",
   "metadata": {},
   "outputs": [
    {
     "data": {
      "text/plain": [
       "array([[10.,  9.,  6.],\n",
       "       [ 9.,  7.,  6.]])"
      ]
     },
     "execution_count": 222,
     "metadata": {},
     "output_type": "execute_result"
    }
   ],
   "source": [
    "A+(np.arange(2).reshape(2,1))"
   ]
  },
  {
   "cell_type": "code",
   "execution_count": 226,
   "id": "fa7bedbb-d94b-4b89-9ca5-cbd96be83c20",
   "metadata": {},
   "outputs": [
    {
     "data": {
      "text/plain": [
       "array([[5., 4.],\n",
       "       [5., 7.]])"
      ]
     },
     "execution_count": 226,
     "metadata": {},
     "output_type": "execute_result"
    }
   ],
   "source": [
    "B = np.round(10*np.random.rand(2,2))\n",
    "B"
   ]
  },
  {
   "cell_type": "code",
   "execution_count": 228,
   "id": "bb7b7645-3d42-481e-a205-447baabac7be",
   "metadata": {},
   "outputs": [
    {
     "name": "stdout",
     "output_type": "stream",
     "text": [
      "[[10.  9.  6.]\n",
      " [ 8.  6.  5.]]\n",
      "[[5. 4.]\n",
      " [5. 7.]]\n"
     ]
    }
   ],
   "source": [
    "## Concatonate\n",
    "## A is a 2x3 array and B is a 2x2 array\n",
    "\n",
    "print(A)\n",
    "print(B)"
   ]
  },
  {
   "cell_type": "code",
   "execution_count": 230,
   "id": "b4e81025-ace4-461c-971e-eab8bb672a87",
   "metadata": {},
   "outputs": [
    {
     "data": {
      "text/plain": [
       "array([[10.,  9.,  6.,  5.,  4.],\n",
       "       [ 8.,  6.,  5.,  5.,  7.]])"
      ]
     },
     "execution_count": 230,
     "metadata": {},
     "output_type": "execute_result"
    }
   ],
   "source": [
    "## Concatation can happen a few different ways.\n",
    "## This example is horizontal\n",
    "\n",
    "C = np.hstack((A,B))\n",
    "C"
   ]
  },
  {
   "cell_type": "code",
   "execution_count": 238,
   "id": "bb126913-c03d-41c5-ac22-8949ead4bddf",
   "metadata": {},
   "outputs": [
    {
     "name": "stdout",
     "output_type": "stream",
     "text": [
      "[7 9 1 8 4 6 5 2 3 0]\n",
      "[0 1 2 3 4 5 6 7 8 9]\n"
     ]
    }
   ],
   "source": [
    "##Sorting\n",
    "\n",
    "A = np.random.permutation(np.arange(10))\n",
    "print(A)\n",
    "A.sort()\n",
    "print(A)"
   ]
  },
  {
   "cell_type": "code",
   "execution_count": 242,
   "id": "04fa38cf-f054-49e1-8b80-67cda6b89512",
   "metadata": {},
   "outputs": [
    {
     "name": "stdout",
     "output_type": "stream",
     "text": [
      "['D' 'B' 'A' 'C']\n",
      "['A' 'B' 'C' 'D']\n"
     ]
    }
   ],
   "source": [
    "## Works on strings too!\n",
    "\n",
    "A = np.array(['D','B','A','C'])\n",
    "print(A)\n",
    "A.sort()\n",
    "print(A)"
   ]
  },
  {
   "cell_type": "markdown",
   "id": "b34317b3-90eb-4440-b1a1-f0f064940b0f",
   "metadata": {},
   "source": [
    "## Numpy: ufuncs(Universal Functions) Speed test"
   ]
  },
  {
   "cell_type": "markdown",
   "id": "ef6c87d1-71d4-4519-a4db-2a215e9ad9c0",
   "metadata": {},
   "source": [
    "## Lets show how fast Numpy is!"
   ]
  },
  {
   "cell_type": "code",
   "execution_count": null,
   "id": "82d929ad-24cf-45c9-94bc-d223f36cf0c2",
   "metadata": {},
   "outputs": [],
   "source": [
    "## Notice the times below on how long numpy took compared to the universal function for sum!\n",
    "## The universal function is in miliseconds!\n",
    "## Numpy is in NANO!! Thats insainly fast!"
   ]
  },
  {
   "cell_type": "code",
   "execution_count": 247,
   "id": "9e4b5558-6e91-4d18-829c-9a78728e533a",
   "metadata": {},
   "outputs": [
    {
     "name": "stdout",
     "output_type": "stream",
     "text": [
      "111 ms ± 3.17 ms per loop (mean ± std. dev. of 7 runs, 10 loops each)\n",
      "836 µs ± 50 µs per loop (mean ± std. dev. of 7 runs, 1,000 loops each)\n"
     ]
    }
   ],
   "source": [
    "b = np.random.rand(1000000)\n",
    "%timeit sum(b)\n",
    "%timeit np.sum(b)"
   ]
  },
  {
   "cell_type": "code",
   "execution_count": 251,
   "id": "f1010f30-bfcd-49ea-b8bc-89aad3eb42b9",
   "metadata": {},
   "outputs": [
    {
     "name": "stdout",
     "output_type": "stream",
     "text": [
      "151 ms ± 6.4 ms per loop (mean ± std. dev. of 7 runs, 10 loops each)\n"
     ]
    }
   ],
   "source": [
    "## Now lets make my own function and compare time!\n",
    "## By using our own created function its about the same speed as the universal function\n",
    "## Not as fast as Numpy\n",
    "\n",
    "def mySUM(G):\n",
    "    s = 0\n",
    "    for i in G:\n",
    "        s += i\n",
    "    return s\n",
    "\n",
    "%timeit mySUM(b)"
   ]
  },
  {
   "cell_type": "code",
   "execution_count": null,
   "id": "efbae79d-d405-4591-bc9d-3c4bb76015fd",
   "metadata": {},
   "outputs": [],
   "source": []
  },
  {
   "cell_type": "code",
   "execution_count": null,
   "id": "6e1671d3-d953-4c6d-98b6-cb0f00059b1f",
   "metadata": {},
   "outputs": [],
   "source": []
  },
  {
   "cell_type": "code",
   "execution_count": null,
   "id": "628dc4b8-a57c-4703-915a-8737d218d506",
   "metadata": {},
   "outputs": [],
   "source": []
  },
  {
   "cell_type": "code",
   "execution_count": null,
   "id": "50006057-3663-4339-aeb6-c3c4fa8ebe07",
   "metadata": {},
   "outputs": [],
   "source": []
  },
  {
   "cell_type": "code",
   "execution_count": null,
   "id": "f0a201f1-f0ad-46c8-afd4-5f69aa258e66",
   "metadata": {},
   "outputs": [],
   "source": []
  },
  {
   "cell_type": "code",
   "execution_count": null,
   "id": "cc8e082f-117c-41da-a2ba-286536a27856",
   "metadata": {},
   "outputs": [],
   "source": []
  },
  {
   "cell_type": "code",
   "execution_count": null,
   "id": "d938c1c6-f19b-43e9-880a-611d4e6e780f",
   "metadata": {},
   "outputs": [],
   "source": []
  },
  {
   "cell_type": "code",
   "execution_count": null,
   "id": "7c9e0da7-d4b7-473d-9e39-43b148de9e40",
   "metadata": {},
   "outputs": [],
   "source": []
  },
  {
   "cell_type": "code",
   "execution_count": null,
   "id": "51f86285-6b50-4a49-9787-04b0c260fc34",
   "metadata": {},
   "outputs": [],
   "source": []
  },
  {
   "cell_type": "code",
   "execution_count": null,
   "id": "27ecdc94-4546-4496-9a48-829f67a29604",
   "metadata": {},
   "outputs": [],
   "source": []
  },
  {
   "cell_type": "code",
   "execution_count": null,
   "id": "7c859233-9360-4e61-aa9e-3bca0c9bdd5f",
   "metadata": {},
   "outputs": [],
   "source": []
  },
  {
   "cell_type": "code",
   "execution_count": null,
   "id": "d52750dd-4afa-4881-9d1b-f7c5d5548751",
   "metadata": {},
   "outputs": [],
   "source": []
  },
  {
   "cell_type": "code",
   "execution_count": null,
   "id": "61230cdb-52ef-422a-b72d-a615712d873b",
   "metadata": {},
   "outputs": [],
   "source": []
  },
  {
   "cell_type": "code",
   "execution_count": null,
   "id": "92eee34a-90e9-4abc-81a9-8e39bb7fa9c0",
   "metadata": {},
   "outputs": [],
   "source": []
  },
  {
   "cell_type": "code",
   "execution_count": null,
   "id": "c0180407-aa2f-42e6-ab00-d7f5676fc377",
   "metadata": {},
   "outputs": [],
   "source": []
  },
  {
   "cell_type": "code",
   "execution_count": null,
   "id": "0172ed8d-274f-43b0-8a22-ac452cfc9fb2",
   "metadata": {},
   "outputs": [],
   "source": []
  },
  {
   "cell_type": "code",
   "execution_count": null,
   "id": "97478cde-f6a4-4bf4-a959-c1f2548cd112",
   "metadata": {},
   "outputs": [],
   "source": []
  },
  {
   "cell_type": "code",
   "execution_count": null,
   "id": "0a968b62-3501-4afc-95c9-face1760e91b",
   "metadata": {},
   "outputs": [],
   "source": []
  },
  {
   "cell_type": "code",
   "execution_count": null,
   "id": "3c01e728-e35d-4b6c-b024-280f8cd5c655",
   "metadata": {},
   "outputs": [],
   "source": []
  },
  {
   "cell_type": "code",
   "execution_count": null,
   "id": "de84ec1a-d160-4c3d-8a40-37e040fa03ff",
   "metadata": {},
   "outputs": [],
   "source": []
  }
 ],
 "metadata": {
  "kernelspec": {
   "display_name": "Python 3 (ipykernel)",
   "language": "python",
   "name": "python3"
  },
  "language_info": {
   "codemirror_mode": {
    "name": "ipython",
    "version": 3
   },
   "file_extension": ".py",
   "mimetype": "text/x-python",
   "name": "python",
   "nbconvert_exporter": "python",
   "pygments_lexer": "ipython3",
   "version": "3.11.7"
  }
 },
 "nbformat": 4,
 "nbformat_minor": 5
}
