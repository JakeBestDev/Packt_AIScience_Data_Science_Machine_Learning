{
 "cells": [
  {
   "cell_type": "markdown",
   "id": "a110bf9d-9726-4ded-aa99-dfd3d8d8ca05",
   "metadata": {},
   "source": [
    "# While Loops"
   ]
  },
  {
   "cell_type": "code",
   "execution_count": 3,
   "id": "91c777fc-56a4-4547-a622-e19fb213acfb",
   "metadata": {},
   "outputs": [
    {
     "name": "stdin",
     "output_type": "stream",
     "text": [
      "Input Number Of Iterations:  5\n"
     ]
    },
    {
     "name": "stdout",
     "output_type": "stream",
     "text": [
      "i = 1\n",
      "i = 2\n",
      "i = 3\n",
      "i = 4\n",
      "Outside of loop\n",
      "i = 5\n",
      "Done!\n"
     ]
    }
   ],
   "source": [
    "n = int(input('Input Number Of Iterations: '))\n",
    "i = 1\n",
    "\n",
    "while i < n:\n",
    "    print('i =',i)\n",
    "    i+=1\n",
    "\n",
    "print('Outside of loop')\n",
    "print('i =' ,i)\n",
    "print('Done!')"
   ]
  },
  {
   "cell_type": "markdown",
   "id": "91c1bcf0-8795-4a25-9397-331fe6548db4",
   "metadata": {},
   "source": [
    "## While Loop: Pass"
   ]
  },
  {
   "cell_type": "code",
   "execution_count": 6,
   "id": "69f62b30-5ad5-4653-8924-0acc00682178",
   "metadata": {},
   "outputs": [
    {
     "name": "stdin",
     "output_type": "stream",
     "text": [
      "Input Number Of Iterations:  10\n"
     ]
    },
    {
     "name": "stdout",
     "output_type": "stream",
     "text": [
      "2\n",
      "4\n",
      "6\n",
      "8\n",
      "10\n",
      "Outside of loop\n",
      "i = 11 which is greater than: 10\n",
      "Done!\n"
     ]
    }
   ],
   "source": [
    "## Only print even numbers \n",
    "\n",
    "n = int(input('Input Number Of Iterations: '))\n",
    "i = 1\n",
    "\n",
    "while i <= n:\n",
    "    if i%2 == 0:\n",
    "        print(i)\n",
    "    else:\n",
    "        pass  ## Basically Means Do Nothing\n",
    "    i+=1\n",
    "\n",
    "print('Outside of loop')\n",
    "print('i =' ,i, 'which is greater than:',n)\n",
    "print('Done!')"
   ]
  },
  {
   "cell_type": "markdown",
   "id": "e14d29dc-fa7b-4993-aa18-fd02dd2b2799",
   "metadata": {},
   "source": [
    "## While Loop: Continue and Break"
   ]
  },
  {
   "cell_type": "code",
   "execution_count": 9,
   "id": "4f7dbefc-54b7-43b1-9be1-8dd9d2bd8b28",
   "metadata": {},
   "outputs": [
    {
     "name": "stdout",
     "output_type": "stream",
     "text": [
      "1\n",
      "2\n",
      "3\n",
      "4\n",
      "5\n",
      "6\n",
      "7\n",
      "8\n",
      "9\n",
      "10\n",
      "11\n",
      "12\n",
      "13\n",
      "14\n",
      "15\n",
      "16\n",
      "17 break\n",
      "Outside of loop\n",
      "Done!\n"
     ]
    }
   ],
   "source": [
    "## Leave the loop when encountering a certain number\n",
    "\n",
    "i = 1\n",
    "while True: ## Using True has the loop continue forver until a break\n",
    "    if i%17 == 0:\n",
    "        print(i,'break')\n",
    "        break ## leave The Loop\n",
    "    else:\n",
    "        print(i)\n",
    "        i+=1\n",
    "        continue  ## Continues the loop\n",
    "    print('I WILL NEVER BE SEEN!') ## Notice how this is not printed! This is due to continue. It starts the next iteration rather than running this!\n",
    "\n",
    "print('Outside of loop')\n",
    "print('Done!')"
   ]
  },
  {
   "cell_type": "code",
   "execution_count": null,
   "id": "c1365a7d-5d02-484a-95c5-d41f328d749a",
   "metadata": {},
   "outputs": [],
   "source": []
  },
  {
   "cell_type": "code",
   "execution_count": null,
   "id": "8f60564e-0875-45fd-88f4-a17a671471fe",
   "metadata": {},
   "outputs": [],
   "source": []
  },
  {
   "cell_type": "code",
   "execution_count": null,
   "id": "67fd5388-881d-4453-80a2-26462fe92c19",
   "metadata": {},
   "outputs": [],
   "source": []
  },
  {
   "cell_type": "code",
   "execution_count": null,
   "id": "f3363bba-4df8-43e9-8c97-153eda3791d9",
   "metadata": {},
   "outputs": [],
   "source": []
  },
  {
   "cell_type": "code",
   "execution_count": null,
   "id": "33bb5051-9dd9-477b-8c20-7dd37ce36a0a",
   "metadata": {},
   "outputs": [],
   "source": []
  },
  {
   "cell_type": "code",
   "execution_count": null,
   "id": "da0d5f7c-d9cf-4022-a13c-7bbcb6e300e7",
   "metadata": {},
   "outputs": [],
   "source": []
  },
  {
   "cell_type": "code",
   "execution_count": null,
   "id": "1ccb0da1-6a75-441e-aad1-9bc079e55082",
   "metadata": {},
   "outputs": [],
   "source": []
  },
  {
   "cell_type": "code",
   "execution_count": null,
   "id": "4262007d-9ca0-481f-bdb4-b36c11a3bfa2",
   "metadata": {},
   "outputs": [],
   "source": []
  },
  {
   "cell_type": "code",
   "execution_count": null,
   "id": "50b66f97-1d52-450b-bd63-6b2382ff43cc",
   "metadata": {},
   "outputs": [],
   "source": []
  },
  {
   "cell_type": "code",
   "execution_count": null,
   "id": "237b50ee-ea63-4417-b796-753ba602ccbf",
   "metadata": {},
   "outputs": [],
   "source": []
  },
  {
   "cell_type": "code",
   "execution_count": null,
   "id": "73d0658c-c861-4354-925a-fa04693c668a",
   "metadata": {},
   "outputs": [],
   "source": []
  },
  {
   "cell_type": "code",
   "execution_count": null,
   "id": "029c8e02-974e-4acf-8e7c-b3b615ecee83",
   "metadata": {},
   "outputs": [],
   "source": []
  },
  {
   "cell_type": "code",
   "execution_count": null,
   "id": "1fa9c79f-246e-47a5-84c9-ea569068347c",
   "metadata": {},
   "outputs": [],
   "source": []
  },
  {
   "cell_type": "code",
   "execution_count": null,
   "id": "8e3c8aa1-b583-46c0-b074-8421c41d5bc6",
   "metadata": {},
   "outputs": [],
   "source": []
  },
  {
   "cell_type": "code",
   "execution_count": null,
   "id": "3ad7a2c7-7082-45d0-8661-28c4d2119d93",
   "metadata": {},
   "outputs": [],
   "source": []
  },
  {
   "cell_type": "code",
   "execution_count": null,
   "id": "71690297-1667-40b1-a1b8-457069c944c5",
   "metadata": {},
   "outputs": [],
   "source": []
  },
  {
   "cell_type": "code",
   "execution_count": null,
   "id": "0df3f97b-0bf0-4427-ab54-73fe9b2d629a",
   "metadata": {},
   "outputs": [],
   "source": []
  },
  {
   "cell_type": "code",
   "execution_count": null,
   "id": "3254bcad-b89e-4c69-9986-e5b606f8a55b",
   "metadata": {},
   "outputs": [],
   "source": []
  },
  {
   "cell_type": "code",
   "execution_count": null,
   "id": "cd8bc33c-bc8c-49af-8b52-7f0f8665a0d3",
   "metadata": {},
   "outputs": [],
   "source": []
  },
  {
   "cell_type": "code",
   "execution_count": null,
   "id": "da2daacc-f6bf-4fb1-a4f3-7f8f4f0cf3e6",
   "metadata": {},
   "outputs": [],
   "source": []
  },
  {
   "cell_type": "code",
   "execution_count": null,
   "id": "80ca11ab-c5bc-40b3-8b0c-3bb52229df11",
   "metadata": {},
   "outputs": [],
   "source": []
  },
  {
   "cell_type": "code",
   "execution_count": null,
   "id": "76f21bfc-9424-448e-82a3-a0bf72bd54c7",
   "metadata": {},
   "outputs": [],
   "source": []
  },
  {
   "cell_type": "code",
   "execution_count": null,
   "id": "8a273424-5697-4a67-976b-b9032a0ca165",
   "metadata": {},
   "outputs": [],
   "source": []
  },
  {
   "cell_type": "code",
   "execution_count": null,
   "id": "d8768037-cd70-4e65-a55d-8fecf29676b9",
   "metadata": {},
   "outputs": [],
   "source": []
  },
  {
   "cell_type": "code",
   "execution_count": null,
   "id": "eb338692-55b8-47a8-86fb-e71df5c759c0",
   "metadata": {},
   "outputs": [],
   "source": []
  },
  {
   "cell_type": "code",
   "execution_count": null,
   "id": "b009bb25-73e0-42dc-b8de-b1d9c5684011",
   "metadata": {},
   "outputs": [],
   "source": []
  },
  {
   "cell_type": "code",
   "execution_count": null,
   "id": "e52508cb-7d64-4e0e-9508-fd996e6e4480",
   "metadata": {},
   "outputs": [],
   "source": []
  }
 ],
 "metadata": {
  "kernelspec": {
   "display_name": "Python 3 (ipykernel)",
   "language": "python",
   "name": "python3"
  },
  "language_info": {
   "codemirror_mode": {
    "name": "ipython",
    "version": 3
   },
   "file_extension": ".py",
   "mimetype": "text/x-python",
   "name": "python",
   "nbconvert_exporter": "python",
   "pygments_lexer": "ipython3",
   "version": "3.11.7"
  }
 },
 "nbformat": 4,
 "nbformat_minor": 5
}
