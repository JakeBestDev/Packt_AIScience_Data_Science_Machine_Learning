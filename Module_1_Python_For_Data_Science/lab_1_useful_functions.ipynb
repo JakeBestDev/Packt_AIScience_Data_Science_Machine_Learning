{
 "cells": [
  {
   "cell_type": "markdown",
   "id": "50ee7863-bff7-4f72-a3c4-252b04fa15f3",
   "metadata": {},
   "source": [
    "# Useful Functions"
   ]
  },
  {
   "cell_type": "markdown",
   "id": "6750ba40-8295-4819-9160-d747b11bbb16",
   "metadata": {},
   "source": [
    "## round()"
   ]
  },
  {
   "cell_type": "code",
   "execution_count": 3,
   "id": "9868804b-9875-46ad-b004-5e7a29b5ebf8",
   "metadata": {},
   "outputs": [
    {
     "name": "stdout",
     "output_type": "stream",
     "text": [
      "6\n"
     ]
    }
   ],
   "source": [
    "## round a decimal/float\n",
    "\n",
    "print(round(5.5019))"
   ]
  },
  {
   "cell_type": "code",
   "execution_count": 5,
   "id": "56bb866f-59d8-4324-92fe-b2907639eb92",
   "metadata": {},
   "outputs": [
    {
     "name": "stdout",
     "output_type": "stream",
     "text": [
      "5\n"
     ]
    }
   ],
   "source": [
    "print(round(4.556))"
   ]
  },
  {
   "cell_type": "code",
   "execution_count": 7,
   "id": "79ad78f3-aa92-4330-ade6-89dafcfedd90",
   "metadata": {},
   "outputs": [
    {
     "name": "stdout",
     "output_type": "stream",
     "text": [
      "102\n"
     ]
    }
   ],
   "source": [
    "print(round(101.675890))"
   ]
  },
  {
   "cell_type": "code",
   "execution_count": 9,
   "id": "fa5ad77e-1f21-4078-8954-279c3e86800d",
   "metadata": {},
   "outputs": [
    {
     "name": "stdout",
     "output_type": "stream",
     "text": [
      "101.68\n"
     ]
    }
   ],
   "source": [
    "## Can round by number of digits\n",
    "\n",
    "print(round(101.675890,2))"
   ]
  },
  {
   "cell_type": "markdown",
   "id": "0f42911c-cedc-4e9e-80f9-11634592b92b",
   "metadata": {},
   "source": [
    "## divmod()"
   ]
  },
  {
   "cell_type": "code",
   "execution_count": 12,
   "id": "12ceda43-8767-418e-b7a6-3497befde935",
   "metadata": {},
   "outputs": [
    {
     "data": {
      "text/plain": [
       "(5, 2)"
      ]
     },
     "execution_count": 12,
     "metadata": {},
     "output_type": "execute_result"
    }
   ],
   "source": [
    "## Returns quotent and remainder as a tuple\n",
    "\n",
    "divmod(27,5)"
   ]
  },
  {
   "cell_type": "code",
   "execution_count": 16,
   "id": "12b2c145-5c62-43f1-bc5d-3bb2f3fe2511",
   "metadata": {},
   "outputs": [
    {
     "data": {
      "text/plain": [
       "5"
      ]
     },
     "execution_count": 16,
     "metadata": {},
     "output_type": "execute_result"
    }
   ],
   "source": [
    "## quotent\n",
    "\n",
    "27//5"
   ]
  },
  {
   "cell_type": "code",
   "execution_count": 18,
   "id": "60f37f4b-01fe-4c04-a61b-7172210541f8",
   "metadata": {},
   "outputs": [
    {
     "data": {
      "text/plain": [
       "2"
      ]
     },
     "execution_count": 18,
     "metadata": {},
     "output_type": "execute_result"
    }
   ],
   "source": [
    "## remainder\n",
    "\n",
    "27%5"
   ]
  },
  {
   "cell_type": "markdown",
   "id": "056562f2-6e3b-4182-b0c5-4d68aa0e3c21",
   "metadata": {},
   "source": [
    "## isinstance()"
   ]
  },
  {
   "cell_type": "code",
   "execution_count": 25,
   "id": "f3a42ad0-688c-4872-a1ba-9f1c8367daaa",
   "metadata": {},
   "outputs": [
    {
     "name": "stdout",
     "output_type": "stream",
     "text": [
      "True\n",
      "False\n",
      "True\n"
     ]
    }
   ],
   "source": [
    "## returns either true or false and it just checks that a particular given data value belongs to this type or not\n",
    "\n",
    "print(isinstance(1,int))\n",
    "print(isinstance(1.0,int))\n",
    "print(isinstance(1.0,(int,float)))"
   ]
  },
  {
   "cell_type": "markdown",
   "id": "aa7b147b-e83d-4c0e-9fa0-646735d8e9f3",
   "metadata": {},
   "source": [
    "## pow()"
   ]
  },
  {
   "cell_type": "code",
   "execution_count": 30,
   "id": "8858d8f5-4c09-40e5-9139-7c8ac04caf7c",
   "metadata": {},
   "outputs": [
    {
     "data": {
      "text/plain": [
       "8"
      ]
     },
     "execution_count": 30,
     "metadata": {},
     "output_type": "execute_result"
    }
   ],
   "source": [
    "# The pow(x, y, z) function in Python is used to calculate the power of a number.\n",
    "# It takes three arguments:\n",
    "# 1. x: the base number.\n",
    "# 2. y: the exponent to which the base number is raised.\n",
    "# 3. z: an optional modulus.\n",
    "\n",
    "pow(2,3)"
   ]
  },
  {
   "cell_type": "code",
   "execution_count": 32,
   "id": "65bf3e09-9ae3-47cc-8136-6d8c91df1d74",
   "metadata": {},
   "outputs": [
    {
     "data": {
      "text/plain": [
       "8"
      ]
     },
     "execution_count": 32,
     "metadata": {},
     "output_type": "execute_result"
    }
   ],
   "source": [
    "2**3"
   ]
  },
  {
   "cell_type": "code",
   "execution_count": 36,
   "id": "8e43366d-2476-484c-8381-e135d0d8c57a",
   "metadata": {},
   "outputs": [
    {
     "data": {
      "text/plain": [
       "2"
      ]
     },
     "execution_count": 36,
     "metadata": {},
     "output_type": "execute_result"
    }
   ],
   "source": [
    "pow(2,4,7)"
   ]
  },
  {
   "cell_type": "markdown",
   "id": "039b7d39-153a-4a88-a922-5cae0e23cae7",
   "metadata": {},
   "source": [
    "## input()"
   ]
  },
  {
   "cell_type": "code",
   "execution_count": 44,
   "id": "53aae28f-ad01-49fe-8a2e-ab253386f0d2",
   "metadata": {},
   "outputs": [
    {
     "name": "stdin",
     "output_type": "stream",
     "text": [
      "Please enter your name:  jake\n"
     ]
    },
    {
     "name": "stdout",
     "output_type": "stream",
     "text": [
      "jake\n",
      "<class 'str'>\n"
     ]
    }
   ],
   "source": [
    "# The input() function is used to take input from the user.\n",
    "\n",
    "user_input = input(\"Please enter your name: \")\n",
    "print(user_input)\n",
    "print(type(user_input))\n"
   ]
  },
  {
   "cell_type": "code",
   "execution_count": 50,
   "id": "afab2e24-48d9-4313-b36c-d27422519195",
   "metadata": {},
   "outputs": [
    {
     "name": "stdin",
     "output_type": "stream",
     "text": [
      "Please enter a decimal:  a\n"
     ]
    },
    {
     "ename": "ValueError",
     "evalue": "could not convert string to float: 'a'",
     "output_type": "error",
     "traceback": [
      "\u001b[1;31m---------------------------------------------------------------------------\u001b[0m",
      "\u001b[1;31mValueError\u001b[0m                                Traceback (most recent call last)",
      "Cell \u001b[1;32mIn[50], line 1\u001b[0m\n\u001b[1;32m----> 1\u001b[0m user_input2 \u001b[38;5;241m=\u001b[39m \u001b[38;5;28mfloat\u001b[39m(\u001b[38;5;28minput\u001b[39m(\u001b[38;5;124m'\u001b[39m\u001b[38;5;124mPlease enter a decimal: \u001b[39m\u001b[38;5;124m'\u001b[39m))\n\u001b[0;32m      2\u001b[0m \u001b[38;5;28mprint\u001b[39m(user_input2)\n\u001b[0;32m      3\u001b[0m \u001b[38;5;28mprint\u001b[39m(\u001b[38;5;28mtype\u001b[39m(user_input2))\n",
      "\u001b[1;31mValueError\u001b[0m: could not convert string to float: 'a'"
     ]
    }
   ],
   "source": [
    "user_input2 = float(input('Please enter a decimal: '))\n",
    "print(user_input2)\n",
    "print(type(user_input2))"
   ]
  },
  {
   "cell_type": "markdown",
   "id": "e2248494-62e5-4d15-8ea5-08326149047a",
   "metadata": {},
   "source": [
    "## help()"
   ]
  },
  {
   "cell_type": "code",
   "execution_count": 52,
   "id": "356dbaf4-9ef2-4498-977c-29e1086675b6",
   "metadata": {},
   "outputs": [
    {
     "name": "stdout",
     "output_type": "stream",
     "text": [
      "Help on built-in function pow in module builtins:\n",
      "\n",
      "pow(base, exp, mod=None)\n",
      "    Equivalent to base**exp with 2 arguments or base**exp % mod with 3 arguments\n",
      "    \n",
      "    Some types, such as ints, are able to use a more efficient algorithm when\n",
      "    invoked using the three argument form.\n",
      "\n"
     ]
    }
   ],
   "source": [
    "## lets say I need assistance undertstanding a function. I can use the help or ? to assist by getting the documentation\n",
    "## The ? is similar to using shift + tab\n",
    "\n",
    "help(pow)"
   ]
  },
  {
   "cell_type": "code",
   "execution_count": 54,
   "id": "06136751-dea5-47c6-bc6d-bea4bbff0430",
   "metadata": {},
   "outputs": [
    {
     "data": {
      "text/plain": [
       "\u001b[1;31mSignature:\u001b[0m \u001b[0mpow\u001b[0m\u001b[1;33m(\u001b[0m\u001b[0mbase\u001b[0m\u001b[1;33m,\u001b[0m \u001b[0mexp\u001b[0m\u001b[1;33m,\u001b[0m \u001b[0mmod\u001b[0m\u001b[1;33m=\u001b[0m\u001b[1;32mNone\u001b[0m\u001b[1;33m)\u001b[0m\u001b[1;33m\u001b[0m\u001b[1;33m\u001b[0m\u001b[0m\n",
       "\u001b[1;31mDocstring:\u001b[0m\n",
       "Equivalent to base**exp with 2 arguments or base**exp % mod with 3 arguments\n",
       "\n",
       "Some types, such as ints, are able to use a more efficient algorithm when\n",
       "invoked using the three argument form.\n",
       "\u001b[1;31mType:\u001b[0m      builtin_function_or_method"
      ]
     },
     "metadata": {},
     "output_type": "display_data"
    }
   ],
   "source": [
    "pow?"
   ]
  },
  {
   "cell_type": "code",
   "execution_count": null,
   "id": "5e2526b6-44a0-4282-a4bd-690cf118baf6",
   "metadata": {},
   "outputs": [],
   "source": []
  },
  {
   "cell_type": "code",
   "execution_count": null,
   "id": "f9e56c47-6525-4cf8-916e-36cf2cd405ae",
   "metadata": {},
   "outputs": [],
   "source": []
  },
  {
   "cell_type": "code",
   "execution_count": null,
   "id": "f90748ff-0bf1-4d38-9aef-56e0429b92ea",
   "metadata": {},
   "outputs": [],
   "source": []
  },
  {
   "cell_type": "code",
   "execution_count": null,
   "id": "688ffb64-84c3-4b97-bab6-7459af465154",
   "metadata": {},
   "outputs": [],
   "source": []
  },
  {
   "cell_type": "code",
   "execution_count": null,
   "id": "8ef29afc-75ba-4938-b278-5a1bb1776933",
   "metadata": {},
   "outputs": [],
   "source": []
  }
 ],
 "metadata": {
  "kernelspec": {
   "display_name": "Python 3 (ipykernel)",
   "language": "python",
   "name": "python3"
  },
  "language_info": {
   "codemirror_mode": {
    "name": "ipython",
    "version": 3
   },
   "file_extension": ".py",
   "mimetype": "text/x-python",
   "name": "python",
   "nbconvert_exporter": "python",
   "pygments_lexer": "ipython3",
   "version": "3.11.7"
  }
 },
 "nbformat": 4,
 "nbformat_minor": 5
}
