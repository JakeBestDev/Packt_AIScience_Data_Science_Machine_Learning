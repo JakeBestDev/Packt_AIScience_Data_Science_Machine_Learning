{
 "cells": [
  {
   "cell_type": "markdown",
   "id": "7224fc7f-73f2-4c98-967f-5edfcd5339f6",
   "metadata": {},
   "source": [
    "# Function and Module"
   ]
  },
  {
   "cell_type": "markdown",
   "id": "f96c4b91-7b65-4516-a42a-601ae301f8eb",
   "metadata": {},
   "source": [
    "## Basic Function"
   ]
  },
  {
   "cell_type": "code",
   "execution_count": 11,
   "id": "dd98fbab-a06c-444f-b24b-685dc5d715e2",
   "metadata": {},
   "outputs": [
    {
     "name": "stdout",
     "output_type": "stream",
     "text": [
      "I am done\n",
      "send me another task\n"
     ]
    }
   ],
   "source": [
    "def printsuccess():\n",
    "    print('I am done')\n",
    "    print('send me another task')\n",
    "\n",
    "printsuccess()"
   ]
  },
  {
   "cell_type": "code",
   "execution_count": 9,
   "id": "aacfbd65-8a94-4b17-9624-11699b027d8d",
   "metadata": {},
   "outputs": [
    {
     "name": "stdout",
     "output_type": "stream",
     "text": [
      "3+8 =  11\n"
     ]
    }
   ],
   "source": [
    "def printaddition():\n",
    "    print('3+8 = ', 3+8)\n",
    "\n",
    "printsuccess()"
   ]
  },
  {
   "cell_type": "markdown",
   "id": "cb21bf7b-c50a-43be-bbe8-b667a481701a",
   "metadata": {},
   "source": [
    "## Docstring\n",
    "\n",
    "#### Allows you to write a description of a function. BEST PRACTICE!"
   ]
  },
  {
   "cell_type": "code",
   "execution_count": 58,
   "id": "5a44a72a-8ade-4218-9a6b-1edfaabfa5b3",
   "metadata": {},
   "outputs": [
    {
     "data": {
      "text/plain": [
       "\u001b[1;31mSignature:\u001b[0m \u001b[0mfun\u001b[0m\u001b[1;33m(\u001b[0m\u001b[1;33m)\u001b[0m\u001b[1;33m\u001b[0m\u001b[1;33m\u001b[0m\u001b[0m\n",
       "\u001b[1;31mDocstring:\u001b[0m\n",
       "THIS IS A DOCSTRING: This function tells you how much fun your having!\n",
       "    \n",
       "\u001b[1;31mFile:\u001b[0m      c:\\users\\jakeb\\appdata\\local\\temp\\ipykernel_1424\\2509600171.py\n",
       "\u001b[1;31mType:\u001b[0m      function"
      ]
     },
     "metadata": {},
     "output_type": "display_data"
    }
   ],
   "source": [
    "def fun():\n",
    "    '''THIS IS A DOCSTRING: This function tells you how much fun your having!\n",
    "    '''\n",
    "    print('Youre having this much fun!')\n",
    "fun?"
   ]
  },
  {
   "cell_type": "markdown",
   "id": "89cc7531-b72b-406f-b8f8-7e868b8157fe",
   "metadata": {},
   "source": [
    "## Input Arguments"
   ]
  },
  {
   "cell_type": "code",
   "execution_count": 32,
   "id": "c0477bb5-455b-48db-9a75-b02f345df46b",
   "metadata": {},
   "outputs": [
    {
     "name": "stdin",
     "output_type": "stream",
     "text": [
      "Give us a message:  122222223\n"
     ]
    },
    {
     "name": "stdout",
     "output_type": "stream",
     "text": [
      "122222223\n"
     ]
    }
   ],
   "source": [
    "def printMessage(msg):\n",
    "    '''This function returns the message entered from an input by the user'''\n",
    "    print(msg)\n",
    "\n",
    "printMessage(input('Give us a message: '))"
   ]
  },
  {
   "cell_type": "code",
   "execution_count": 34,
   "id": "6b55435e-6a51-49a0-a591-cdec0f977426",
   "metadata": {},
   "outputs": [
    {
     "name": "stdout",
     "output_type": "stream",
     "text": [
      "12345\n"
     ]
    }
   ],
   "source": [
    "y = 12345\n",
    "printMessage(y)"
   ]
  },
  {
   "cell_type": "markdown",
   "id": "3f6eba9c-5cc0-4932-b26d-93f4218fd0aa",
   "metadata": {},
   "source": [
    "## Multiple Input Arguments"
   ]
  },
  {
   "cell_type": "code",
   "execution_count": 56,
   "id": "c789634a-2ce9-46f1-acd6-b4120a398304",
   "metadata": {},
   "outputs": [
    {
     "name": "stdin",
     "output_type": "stream",
     "text": [
      "Input a number:  1\n",
      "Input another number:  2\n"
     ]
    },
    {
     "name": "stdout",
     "output_type": "stream",
     "text": [
      "1 + 2 = 3\n"
     ]
    }
   ],
   "source": [
    "def printMultipleMessages(msg1,msg2):\n",
    "    '''This function preforms a calculation if the inputs are numbers or prints the strings if the inputs are text. INTs and Strings only'''\n",
    "    if isinstance(msg1,int) and isinstance(msg2,int):\n",
    "        print(msg1,'+',msg2,'=',msg1+msg2)\n",
    "    else:\n",
    "        print(msg1)\n",
    "        print(msg2)\n",
    "        \n",
    "x = int(input('Input a number: '))\n",
    "y = int(input('Input another number: '))\n",
    "printMultipleMessages(x,y)"
   ]
  },
  {
   "cell_type": "code",
   "execution_count": 41,
   "id": "e0964d04-7b81-4cb2-8d9c-8f6422753f5d",
   "metadata": {},
   "outputs": [
    {
     "name": "stdin",
     "output_type": "stream",
     "text": [
      "Input a string:  abc\n",
      "Input another string:  def\n"
     ]
    },
    {
     "name": "stdout",
     "output_type": "stream",
     "text": [
      "abc\n",
      "def\n"
     ]
    }
   ],
   "source": [
    "a = input('Input a string: ')\n",
    "b = input('Input another string: ')\n",
    "printMultipleMessages(a,b)"
   ]
  },
  {
   "cell_type": "markdown",
   "id": "b928766d-af96-4d1a-9440-0c5a4a2d965b",
   "metadata": {},
   "source": [
    "## Ordering Multiple Inplut Arguments"
   ]
  },
  {
   "cell_type": "code",
   "execution_count": 85,
   "id": "e891bb6e-ce70-4a03-8d03-8043ff74b714",
   "metadata": {},
   "outputs": [
    {
     "name": "stdout",
     "output_type": "stream",
     "text": [
      "a= abc\n",
      "b= 123\n",
      "c= True\n",
      "\n",
      "Input order: a,b,c\n",
      "Function variable order: msg2,msg3,msg1\n",
      "\n",
      "msg1 =  True\n",
      "msg2 =  abc\n",
      "msg3 =  123\n"
     ]
    }
   ],
   "source": [
    "def orderingMultiple(msg2,msg3,msg1):\n",
    "    '''This function takes multiple inputs and then prints them in a different order'''\n",
    "    print('Function variable order: msg2,msg3,msg1\\n')\n",
    "    print('msg1 = ',msg1)\n",
    "    print('msg2 = ',msg2)\n",
    "    print('msg3 = ',msg3)\n",
    "\n",
    "a = 'abc'\n",
    "b = 123\n",
    "c = True\n",
    "\n",
    "print('a=',a)\n",
    "print('b=',b)\n",
    "print('c=',c)\n",
    "print('\\nInput order: a,b,c')\n",
    "\n",
    "orderingMultiple(a,b,c)"
   ]
  },
  {
   "cell_type": "code",
   "execution_count": null,
   "id": "ff9257d6-057d-4724-8717-3878786789f1",
   "metadata": {},
   "outputs": [],
   "source": []
  },
  {
   "cell_type": "code",
   "execution_count": null,
   "id": "e20d6947-6238-4322-836c-649255619353",
   "metadata": {},
   "outputs": [],
   "source": []
  },
  {
   "cell_type": "code",
   "execution_count": null,
   "id": "f074b2be-dc25-4b5d-ac7f-81b1c26d780e",
   "metadata": {},
   "outputs": [],
   "source": []
  },
  {
   "cell_type": "code",
   "execution_count": null,
   "id": "82bd7e38-1f9b-45c3-b427-8f2521d85589",
   "metadata": {},
   "outputs": [],
   "source": []
  },
  {
   "cell_type": "code",
   "execution_count": null,
   "id": "9510ee5e-bb1a-4733-bf2f-fa9744c3dbbd",
   "metadata": {},
   "outputs": [],
   "source": []
  },
  {
   "cell_type": "code",
   "execution_count": null,
   "id": "b6ae27e2-d6d0-4270-b22c-0c54bf1c5cf3",
   "metadata": {},
   "outputs": [],
   "source": []
  },
  {
   "cell_type": "code",
   "execution_count": null,
   "id": "cb65674c-8d91-45a5-a6fc-857dbad3818f",
   "metadata": {},
   "outputs": [],
   "source": []
  },
  {
   "cell_type": "code",
   "execution_count": null,
   "id": "049cafc6-0333-459d-ba1d-af6d11f6b840",
   "metadata": {},
   "outputs": [],
   "source": []
  },
  {
   "cell_type": "code",
   "execution_count": null,
   "id": "88fb0b57-af55-40d8-b32c-9728601a6985",
   "metadata": {},
   "outputs": [],
   "source": []
  },
  {
   "cell_type": "code",
   "execution_count": null,
   "id": "18cfe6dc-2053-46ab-ad8a-b47ed6e7b15f",
   "metadata": {},
   "outputs": [],
   "source": []
  },
  {
   "cell_type": "code",
   "execution_count": null,
   "id": "85545e64-bce6-45c6-bcfa-84539581cee5",
   "metadata": {},
   "outputs": [],
   "source": []
  },
  {
   "cell_type": "code",
   "execution_count": null,
   "id": "92f8f07c-e4ff-4052-9dc2-f827341d80b2",
   "metadata": {},
   "outputs": [],
   "source": []
  },
  {
   "cell_type": "code",
   "execution_count": null,
   "id": "95283065-a25e-4300-8eaf-8b972046db9b",
   "metadata": {},
   "outputs": [],
   "source": []
  },
  {
   "cell_type": "code",
   "execution_count": null,
   "id": "96c5c4bc-4933-4cbb-9af3-6bff21fac7c3",
   "metadata": {},
   "outputs": [],
   "source": []
  },
  {
   "cell_type": "code",
   "execution_count": null,
   "id": "2e2a98fe-2285-4831-aebe-a63385af3ecd",
   "metadata": {},
   "outputs": [],
   "source": []
  },
  {
   "cell_type": "code",
   "execution_count": null,
   "id": "c908283e-eb01-4514-96ec-dbf37776f21a",
   "metadata": {},
   "outputs": [],
   "source": []
  },
  {
   "cell_type": "code",
   "execution_count": null,
   "id": "18bc9af5-128f-4ab4-9a93-22709cf248b9",
   "metadata": {},
   "outputs": [],
   "source": []
  },
  {
   "cell_type": "code",
   "execution_count": null,
   "id": "b7e22ed8-cc17-4039-9a67-fc462f6aa1b8",
   "metadata": {},
   "outputs": [],
   "source": []
  },
  {
   "cell_type": "code",
   "execution_count": null,
   "id": "d66649b5-3cdc-4691-b3a3-89b82425b6cd",
   "metadata": {},
   "outputs": [],
   "source": []
  },
  {
   "cell_type": "code",
   "execution_count": null,
   "id": "4aea1d03-ea13-433f-980d-d39708fef323",
   "metadata": {},
   "outputs": [],
   "source": []
  },
  {
   "cell_type": "code",
   "execution_count": null,
   "id": "eb8fe4c4-98fb-4b74-bcda-e4756553dc2c",
   "metadata": {},
   "outputs": [],
   "source": []
  }
 ],
 "metadata": {
  "kernelspec": {
   "display_name": "Python 3 (ipykernel)",
   "language": "python",
   "name": "python3"
  },
  "language_info": {
   "codemirror_mode": {
    "name": "ipython",
    "version": 3
   },
   "file_extension": ".py",
   "mimetype": "text/x-python",
   "name": "python",
   "nbconvert_exporter": "python",
   "pygments_lexer": "ipython3",
   "version": "3.11.7"
  }
 },
 "nbformat": 4,
 "nbformat_minor": 5
}
