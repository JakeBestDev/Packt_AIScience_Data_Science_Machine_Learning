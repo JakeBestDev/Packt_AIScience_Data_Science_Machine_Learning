{
 "cells": [
  {
   "cell_type": "markdown",
   "id": "7f2a7160-e71a-4348-9a1a-782bfa1f2bcb",
   "metadata": {},
   "source": [
    "# Strings In Python"
   ]
  },
  {
   "cell_type": "markdown",
   "id": "9f5197cc-05af-4037-af94-ff73038e2b96",
   "metadata": {},
   "source": [
    "## Strings"
   ]
  },
  {
   "cell_type": "code",
   "execution_count": 7,
   "id": "f5749410-e972-401a-94de-1e643ade33ad",
   "metadata": {},
   "outputs": [
    {
     "name": "stdout",
     "output_type": "stream",
     "text": [
      "python is the best language for data science and, in this course we are going to learn python.\n"
     ]
    }
   ],
   "source": [
    "s = 'python is the best language for data science'\n",
    "t = 'in this course we are going to learn python.'\n",
    "print(s+' and, '+t)"
   ]
  },
  {
   "cell_type": "code",
   "execution_count": 9,
   "id": "7556b9a9-cca8-47d5-b46e-9968609484af",
   "metadata": {},
   "outputs": [
    {
     "data": {
      "text/plain": [
       "str"
      ]
     },
     "execution_count": 9,
     "metadata": {},
     "output_type": "execute_result"
    }
   ],
   "source": [
    "type(s)"
   ]
  },
  {
   "cell_type": "code",
   "execution_count": 13,
   "id": "a20404e8-24c8-416e-825c-7185a6e430b4",
   "metadata": {},
   "outputs": [
    {
     "name": "stdout",
     "output_type": "stream",
     "text": [
      "python is the best language for data sciencein this course we are going to learn python.\n"
     ]
    }
   ],
   "source": [
    "v = s+t\n",
    "print(v)"
   ]
  },
  {
   "cell_type": "code",
   "execution_count": 19,
   "id": "80d1cf88-a167-4abb-b04f-3b69ba6ed5e6",
   "metadata": {},
   "outputs": [
    {
     "name": "stdout",
     "output_type": "stream",
     "text": [
      "The price of this book is: $12\n"
     ]
    }
   ],
   "source": [
    "a = 12\n",
    "b =  'The price of this book'\n",
    "print(b + ' is: $'+str(a))"
   ]
  },
  {
   "cell_type": "markdown",
   "id": "3595a85c-8713-45a7-ba72-09a39dce840a",
   "metadata": {},
   "source": [
    "## Multi Line String"
   ]
  },
  {
   "cell_type": "code",
   "execution_count": 22,
   "id": "e963a13e-02a4-4631-ae96-31e9c4305926",
   "metadata": {},
   "outputs": [
    {
     "name": "stdout",
     "output_type": "stream",
     "text": [
      "This is a multiline string,\n",
      "here is the 2nd line,\n",
      "here is the 3rd line!\n"
     ]
    }
   ],
   "source": [
    "multilineString = '''This is a multiline string,\n",
    "here is the 2nd line,\n",
    "here is the 3rd line!'''\n",
    "\n",
    "print(multilineString)"
   ]
  },
  {
   "cell_type": "markdown",
   "id": "a7f08d5c-c03e-4012-aa23-9af5dc3fcde7",
   "metadata": {},
   "source": [
    "## Indexing Strings"
   ]
  },
  {
   "cell_type": "code",
   "execution_count": 29,
   "id": "dbe1db12-18a3-4f21-8e57-a4b9d6ea0e65",
   "metadata": {},
   "outputs": [
    {
     "name": "stdout",
     "output_type": "stream",
     "text": [
      "e of \n",
      "\n"
     ]
    }
   ],
   "source": [
    "a = 'Game of programming'\n",
    "print(a[3:8])"
   ]
  },
  {
   "cell_type": "code",
   "execution_count": 33,
   "id": "14d1e3d6-0f27-4d06-b416-23a2bfa91148",
   "metadata": {},
   "outputs": [
    {
     "name": "stdout",
     "output_type": "stream",
     "text": [
      "gramm\n"
     ]
    }
   ],
   "source": [
    "print(a[-8:-3])"
   ]
  },
  {
   "cell_type": "code",
   "execution_count": 35,
   "id": "4f03913b-e88d-4ae8-b2d0-533acecea5c7",
   "metadata": {},
   "outputs": [
    {
     "name": "stdout",
     "output_type": "stream",
     "text": [
      "19\n"
     ]
    }
   ],
   "source": [
    "print(len(a))"
   ]
  },
  {
   "cell_type": "code",
   "execution_count": 37,
   "id": "07a1797f-a861-41ff-98ee-489759f8a8ce",
   "metadata": {},
   "outputs": [
    {
     "name": "stdout",
     "output_type": "stream",
     "text": [
      "5\n"
     ]
    }
   ],
   "source": [
    "print(len(a[3:8]))"
   ]
  },
  {
   "cell_type": "code",
   "execution_count": 43,
   "id": "1da0e577-d2e7-4c8c-a4bf-e3e8e76da20a",
   "metadata": {},
   "outputs": [
    {
     "name": "stdout",
     "output_type": "stream",
     "text": [
      "r\n"
     ]
    }
   ],
   "source": [
    "s = 'How are you and who are you?'\n",
    "print(s[5])"
   ]
  },
  {
   "cell_type": "code",
   "execution_count": 45,
   "id": "f306f364-870f-4ebb-b181-08668da6b5eb",
   "metadata": {},
   "outputs": [
    {
     "data": {
      "text/plain": [
       "str"
      ]
     },
     "execution_count": 45,
     "metadata": {},
     "output_type": "execute_result"
    }
   ],
   "source": [
    "type(s[5])"
   ]
  },
  {
   "cell_type": "code",
   "execution_count": 47,
   "id": "3e39d376-5310-4c08-a510-631ddd8f4379",
   "metadata": {},
   "outputs": [
    {
     "data": {
      "text/plain": [
       "' are y'"
      ]
     },
     "execution_count": 47,
     "metadata": {},
     "output_type": "execute_result"
    }
   ],
   "source": [
    "s[3:9]"
   ]
  },
  {
   "cell_type": "code",
   "execution_count": 51,
   "id": "b6a31ff3-62cf-4f2a-a93c-f48c07b2962b",
   "metadata": {},
   "outputs": [
    {
     "data": {
      "text/plain": [
       "'How are yo'"
      ]
     },
     "execution_count": 51,
     "metadata": {},
     "output_type": "execute_result"
    }
   ],
   "source": [
    "s[0:10]"
   ]
  },
  {
   "cell_type": "code",
   "execution_count": 53,
   "id": "27926aa1-075b-4be1-94a0-2268b8bfd056",
   "metadata": {},
   "outputs": [
    {
     "data": {
      "text/plain": [
       "'How are yo'"
      ]
     },
     "execution_count": 53,
     "metadata": {},
     "output_type": "execute_result"
    }
   ],
   "source": [
    "s[:10]"
   ]
  },
  {
   "cell_type": "code",
   "execution_count": 57,
   "id": "4ce6a6cd-8a17-4d62-9e3d-0bf153590839",
   "metadata": {},
   "outputs": [
    {
     "data": {
      "text/plain": [
       "'How are you and who are you?'"
      ]
     },
     "execution_count": 57,
     "metadata": {},
     "output_type": "execute_result"
    }
   ],
   "source": [
    "s[0:]"
   ]
  },
  {
   "cell_type": "code",
   "execution_count": 59,
   "id": "667f686f-6615-402c-b063-c9b75aec2907",
   "metadata": {},
   "outputs": [
    {
     "data": {
      "text/plain": [
       "'?'"
      ]
     },
     "execution_count": 59,
     "metadata": {},
     "output_type": "execute_result"
    }
   ],
   "source": [
    "s[-1]"
   ]
  },
  {
   "cell_type": "code",
   "execution_count": 61,
   "id": "6e4e4186-2f32-41ef-992e-84ee1b2d8a56",
   "metadata": {},
   "outputs": [
    {
     "data": {
      "text/plain": [
       "'are y'"
      ]
     },
     "execution_count": 61,
     "metadata": {},
     "output_type": "execute_result"
    }
   ],
   "source": [
    "s[-8:-3]"
   ]
  },
  {
   "cell_type": "code",
   "execution_count": 63,
   "id": "730fa8e8-c894-4a03-935f-edfe29e691b9",
   "metadata": {},
   "outputs": [
    {
     "data": {
      "text/plain": [
       "'?uoy era ohw dna uoy era woH'"
      ]
     },
     "execution_count": 63,
     "metadata": {},
     "output_type": "execute_result"
    }
   ],
   "source": [
    "## Reverse a string!\n",
    "s[::-1]"
   ]
  },
  {
   "cell_type": "code",
   "execution_count": 71,
   "id": "97e0f935-c442-4c16-a305-cf8c454bbcc2",
   "metadata": {},
   "outputs": [
    {
     "name": "stdin",
     "output_type": "stream",
     "text": [
      "Type a word and see if its a palendrome:  racecar\n"
     ]
    },
    {
     "name": "stdout",
     "output_type": "stream",
     "text": [
      "racecar is a palendrome!\n"
     ]
    }
   ],
   "source": [
    "a = input('Type a word and see if its a palendrome: ')\n",
    "b = a[::-1]\n",
    "\n",
    "if a == b:\n",
    "    print(a, 'is a palendrome!')\n",
    "else:\n",
    "    print(a,'is NOT a palendrome!')"
   ]
  },
  {
   "cell_type": "markdown",
   "id": "785c4706-d2ca-41f1-a944-69ff81e6fbca",
   "metadata": {},
   "source": [
    "## String Methods"
   ]
  },
  {
   "cell_type": "code",
   "execution_count": 76,
   "id": "01178aed-ebcd-405a-a24a-dff0eda871b9",
   "metadata": {},
   "outputs": [
    {
     "data": {
      "text/plain": [
       "'A lot OF spaces at The      begINNing and eNd'"
      ]
     },
     "execution_count": 76,
     "metadata": {},
     "output_type": "execute_result"
    }
   ],
   "source": [
    "a = '   A lot OF spaces at The      begINNing and eNd    '\n",
    "b = a.strip() ##strip removes all spaces at beginning and the end\n",
    "b"
   ]
  },
  {
   "cell_type": "code",
   "execution_count": 78,
   "id": "e3b20cb0-9706-4bc3-854d-23b6fa243586",
   "metadata": {},
   "outputs": [
    {
     "name": "stdout",
     "output_type": "stream",
     "text": [
      "a lot of spaces at the      beginning and end\n"
     ]
    }
   ],
   "source": [
    "print(b.lower())"
   ]
  },
  {
   "cell_type": "code",
   "execution_count": 80,
   "id": "396c42be-b43e-4136-9217-5e48d03a081e",
   "metadata": {},
   "outputs": [
    {
     "name": "stdout",
     "output_type": "stream",
     "text": [
      "A LOT OF SPACES AT THE      BEGINNING AND END\n"
     ]
    }
   ],
   "source": [
    "print(b.upper())"
   ]
  },
  {
   "cell_type": "code",
   "execution_count": 84,
   "id": "3efac8cf-35d4-4dfc-bb57-a7b83af4a15b",
   "metadata": {},
   "outputs": [
    {
     "data": {
      "text/plain": [
       "'A lot OF spaces at The  ****    begINNing and eNd'"
      ]
     },
     "execution_count": 84,
     "metadata": {},
     "output_type": "execute_result"
    }
   ],
   "source": [
    "a = '   A lot OF spaces at The  !!!!    begINNing and eNd    '\n",
    "b = a.strip() ##strip removes all spaces at beginning and the end\n",
    "\n",
    "b = b.replace('!','*')\n",
    "b"
   ]
  },
  {
   "cell_type": "code",
   "execution_count": 86,
   "id": "0b127fc6-4240-4096-bf4e-745f6f5359ab",
   "metadata": {},
   "outputs": [
    {
     "data": {
      "text/plain": [
       "['abd', 'def', 'ghi', 'jkl']"
      ]
     },
     "execution_count": 86,
     "metadata": {},
     "output_type": "execute_result"
    }
   ],
   "source": [
    "a = 'abd;def;ghi;jkl'\n",
    "b = a.split(';')\n",
    "b"
   ]
  },
  {
   "cell_type": "code",
   "execution_count": 88,
   "id": "bebdf036-1774-4af1-8399-c2eaa3086e6a",
   "metadata": {},
   "outputs": [
    {
     "data": {
      "text/plain": [
       "'def'"
      ]
     },
     "execution_count": 88,
     "metadata": {},
     "output_type": "execute_result"
    }
   ],
   "source": [
    "b[1]"
   ]
  },
  {
   "cell_type": "code",
   "execution_count": 92,
   "id": "7ecded14-25ba-40eb-be7b-7cb3419ec795",
   "metadata": {},
   "outputs": [
    {
     "data": {
      "text/plain": [
       "'Abd;def;ghi;jkl'"
      ]
     },
     "execution_count": 92,
     "metadata": {},
     "output_type": "execute_result"
    }
   ],
   "source": [
    "a.capitalize()"
   ]
  },
  {
   "cell_type": "markdown",
   "id": "2cd0710b-f8fd-484e-8cbd-b21647c0c8e8",
   "metadata": {},
   "source": [
    "## String Escape Sequence"
   ]
  },
  {
   "cell_type": "code",
   "execution_count": 95,
   "id": "2c024ca1-9305-40f5-870e-38cb6871abcf",
   "metadata": {},
   "outputs": [
    {
     "data": {
      "text/plain": [
       "True"
      ]
     },
     "execution_count": 95,
     "metadata": {},
     "output_type": "execute_result"
    }
   ],
   "source": [
    "a = 'abcabcdefabcabc'\n",
    "\n",
    "'abc' in a"
   ]
  },
  {
   "cell_type": "code",
   "execution_count": 97,
   "id": "51ce1e8a-71d7-42ac-aa34-c5b7ae7fcf6c",
   "metadata": {},
   "outputs": [
    {
     "data": {
      "text/plain": [
       "True"
      ]
     },
     "execution_count": 97,
     "metadata": {},
     "output_type": "execute_result"
    }
   ],
   "source": [
    "'def' in a"
   ]
  },
  {
   "cell_type": "code",
   "execution_count": 101,
   "id": "86b2ea4b-3f1a-49e7-9882-9eb297aed985",
   "metadata": {},
   "outputs": [
    {
     "data": {
      "text/plain": [
       "False"
      ]
     },
     "execution_count": 101,
     "metadata": {},
     "output_type": "execute_result"
    }
   ],
   "source": [
    "'xyz' in a"
   ]
  },
  {
   "cell_type": "code",
   "execution_count": 105,
   "id": "09ba1bd7-4add-428b-9112-80772ea30327",
   "metadata": {},
   "outputs": [
    {
     "name": "stdout",
     "output_type": "stream",
     "text": [
      "abc is in abcabcdefabcabc\n"
     ]
    }
   ],
   "source": [
    "if 'abc' in a:\n",
    "    print('abc is in', a)\n",
    "else:\n",
    "    print('abc is NOT in', a)"
   ]
  },
  {
   "cell_type": "code",
   "execution_count": 111,
   "id": "7bb786eb-b3b0-470e-9dbb-95041809d763",
   "metadata": {},
   "outputs": [
    {
     "data": {
      "text/plain": [
       "'abcabcdefabcabc'"
      ]
     },
     "execution_count": 111,
     "metadata": {},
     "output_type": "execute_result"
    }
   ],
   "source": [
    "a"
   ]
  },
  {
   "cell_type": "code",
   "execution_count": 107,
   "id": "1ccb63d3-a920-4330-8629-d5718b0ee5fc",
   "metadata": {},
   "outputs": [
    {
     "data": {
      "text/plain": [
       "True"
      ]
     },
     "execution_count": 107,
     "metadata": {},
     "output_type": "execute_result"
    }
   ],
   "source": [
    "'abc' < a"
   ]
  },
  {
   "cell_type": "code",
   "execution_count": 109,
   "id": "da4e360f-7150-4387-8d93-e506493e211a",
   "metadata": {},
   "outputs": [
    {
     "data": {
      "text/plain": [
       "False"
      ]
     },
     "execution_count": 109,
     "metadata": {},
     "output_type": "execute_result"
    }
   ],
   "source": [
    "'abc' > a"
   ]
  },
  {
   "cell_type": "code",
   "execution_count": 113,
   "id": "684bded4-b5a4-40a1-9f04-c9508b740c83",
   "metadata": {},
   "outputs": [
    {
     "data": {
      "text/plain": [
       "False"
      ]
     },
     "execution_count": 113,
     "metadata": {},
     "output_type": "execute_result"
    }
   ],
   "source": [
    "'abc' == a"
   ]
  },
  {
   "cell_type": "code",
   "execution_count": 125,
   "id": "31892fe5-2922-4abf-90c6-7f54d77d1add",
   "metadata": {},
   "outputs": [
    {
     "data": {
      "text/plain": [
       "False"
      ]
     },
     "execution_count": 125,
     "metadata": {},
     "output_type": "execute_result"
    }
   ],
   "source": [
    "'abc' < a[0:3]"
   ]
  },
  {
   "cell_type": "code",
   "execution_count": 127,
   "id": "6135cbb9-8396-4b64-ad54-8076ab47b3e2",
   "metadata": {},
   "outputs": [
    {
     "data": {
      "text/plain": [
       "False"
      ]
     },
     "execution_count": 127,
     "metadata": {},
     "output_type": "execute_result"
    }
   ],
   "source": [
    "'abc' > a[0:3]"
   ]
  },
  {
   "cell_type": "code",
   "execution_count": 129,
   "id": "17a94627-74d0-4fce-86d9-59c37c5fb62c",
   "metadata": {},
   "outputs": [
    {
     "data": {
      "text/plain": [
       "True"
      ]
     },
     "execution_count": 129,
     "metadata": {},
     "output_type": "execute_result"
    }
   ],
   "source": [
    "'abc' <= a[0:3]"
   ]
  },
  {
   "cell_type": "code",
   "execution_count": null,
   "id": "d4ed9a57-4374-4fa2-9324-995c07fcc685",
   "metadata": {},
   "outputs": [],
   "source": []
  },
  {
   "cell_type": "code",
   "execution_count": null,
   "id": "5416547d-3534-4651-8bc9-8416bc005804",
   "metadata": {},
   "outputs": [],
   "source": []
  },
  {
   "cell_type": "code",
   "execution_count": null,
   "id": "ae93f6ae-01a1-429f-816a-e8e34c2eb6c4",
   "metadata": {},
   "outputs": [],
   "source": []
  },
  {
   "cell_type": "code",
   "execution_count": null,
   "id": "58e1e3c9-2cb6-4c15-a2b3-40c90520c919",
   "metadata": {},
   "outputs": [],
   "source": []
  },
  {
   "cell_type": "code",
   "execution_count": null,
   "id": "d90e7f1a-b326-4ccc-b699-69b385b9f0d1",
   "metadata": {},
   "outputs": [],
   "source": []
  },
  {
   "cell_type": "code",
   "execution_count": null,
   "id": "4014b677-f1fa-4ece-b929-e6201fe1de43",
   "metadata": {},
   "outputs": [],
   "source": []
  },
  {
   "cell_type": "code",
   "execution_count": null,
   "id": "252b968f-73bb-448f-af1b-f2f2590ce206",
   "metadata": {},
   "outputs": [],
   "source": []
  },
  {
   "cell_type": "code",
   "execution_count": null,
   "id": "d9ecc05b-14e7-4086-a320-17472977786f",
   "metadata": {},
   "outputs": [],
   "source": []
  },
  {
   "cell_type": "code",
   "execution_count": null,
   "id": "1d0c8571-7ff1-4ba6-ba65-7118cc0ae9c3",
   "metadata": {},
   "outputs": [],
   "source": []
  },
  {
   "cell_type": "code",
   "execution_count": null,
   "id": "89917747-41fa-4f99-ab7d-d576d62dfdcb",
   "metadata": {},
   "outputs": [],
   "source": []
  },
  {
   "cell_type": "code",
   "execution_count": null,
   "id": "f639dc70-224e-410c-a670-25176a534323",
   "metadata": {},
   "outputs": [],
   "source": []
  },
  {
   "cell_type": "code",
   "execution_count": null,
   "id": "4cd52e74-9a3b-40e4-aee9-b97ad38086e9",
   "metadata": {},
   "outputs": [],
   "source": []
  },
  {
   "cell_type": "code",
   "execution_count": null,
   "id": "7a741173-f19c-40c2-baaf-926355036414",
   "metadata": {},
   "outputs": [],
   "source": []
  },
  {
   "cell_type": "code",
   "execution_count": null,
   "id": "77e93526-f5f0-4dbe-a143-4cbf63d1a548",
   "metadata": {},
   "outputs": [],
   "source": []
  },
  {
   "cell_type": "code",
   "execution_count": null,
   "id": "79982c1a-e81b-493f-9f59-b52ec1f10f04",
   "metadata": {},
   "outputs": [],
   "source": []
  },
  {
   "cell_type": "code",
   "execution_count": null,
   "id": "8b1eae2f-29ac-4e88-9f23-60029c85f59b",
   "metadata": {},
   "outputs": [],
   "source": []
  }
 ],
 "metadata": {
  "kernelspec": {
   "display_name": "Python 3 (ipykernel)",
   "language": "python",
   "name": "python3"
  },
  "language_info": {
   "codemirror_mode": {
    "name": "ipython",
    "version": 3
   },
   "file_extension": ".py",
   "mimetype": "text/x-python",
   "name": "python",
   "nbconvert_exporter": "python",
   "pygments_lexer": "ipython3",
   "version": "3.11.7"
  }
 },
 "nbformat": 4,
 "nbformat_minor": 5
}
