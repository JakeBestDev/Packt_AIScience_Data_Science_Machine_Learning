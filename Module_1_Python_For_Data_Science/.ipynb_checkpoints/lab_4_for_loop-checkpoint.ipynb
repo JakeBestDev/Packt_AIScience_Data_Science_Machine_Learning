{
 "cells": [
  {
   "cell_type": "markdown",
   "id": "7e66a17f-78f3-443c-8ec2-6498346093bb",
   "metadata": {},
   "source": [
    "# For Loop"
   ]
  },
  {
   "cell_type": "code",
   "execution_count": 14,
   "id": "bc15965f-295f-4828-8442-6fc370570ec0",
   "metadata": {},
   "outputs": [
    {
     "name": "stdout",
     "output_type": "stream",
     "text": [
      "0 ^2 = 0\n",
      "1 ^2 = 1\n",
      "2 ^2 = 4\n",
      "3 ^2 = 9\n",
      "4 ^2 = 16\n",
      "5 ^2 = 25\n",
      "6 ^2 = 36\n",
      "7 ^2 = 49\n",
      "8 ^2 = 64\n",
      "9 ^2 = 81\n"
     ]
    },
    {
     "data": {
      "text/plain": [
       "[0, 1, 4, 9, 16, 25, 36, 49, 64, 81]"
      ]
     },
     "execution_count": 14,
     "metadata": {},
     "output_type": "execute_result"
    }
   ],
   "source": [
    "L = []\n",
    "for i in range(10):\n",
    "    print(i,'^2 =',i**2)\n",
    "    L.append(i**2)\n",
    "L"
   ]
  },
  {
   "cell_type": "markdown",
   "id": "db45ab95-f7bf-459b-999e-0cfa9f2eb649",
   "metadata": {},
   "source": [
    "## Stepping The Range"
   ]
  },
  {
   "cell_type": "code",
   "execution_count": 17,
   "id": "38e6ce65-fafd-4cd5-804d-3c15b3cf7ee1",
   "metadata": {},
   "outputs": [
    {
     "name": "stdout",
     "output_type": "stream",
     "text": [
      "0 ^2 = 0\n",
      "2 ^2 = 4\n",
      "4 ^2 = 16\n",
      "6 ^2 = 36\n",
      "8 ^2 = 64\n"
     ]
    },
    {
     "data": {
      "text/plain": [
       "[0, 4, 16, 36, 64]"
      ]
     },
     "execution_count": 17,
     "metadata": {},
     "output_type": "execute_result"
    }
   ],
   "source": [
    "## Only printing evens of 0-9\n",
    "L = []\n",
    "for i in range(0,10,2):\n",
    "    print(i,'^2 =',i**2)\n",
    "    L.append(i**2)\n",
    "L"
   ]
  },
  {
   "cell_type": "code",
   "execution_count": 23,
   "id": "9f4386ef-3c9a-4cca-bed4-19f9dba67202",
   "metadata": {},
   "outputs": [
    {
     "name": "stdout",
     "output_type": "stream",
     "text": [
      "1 ^2 = 1\n",
      "3 ^2 = 9\n",
      "5 ^2 = 25\n",
      "7 ^2 = 49\n",
      "9 ^2 = 81\n"
     ]
    },
    {
     "data": {
      "text/plain": [
       "[1, 9, 25, 49, 81]"
      ]
     },
     "execution_count": 23,
     "metadata": {},
     "output_type": "execute_result"
    }
   ],
   "source": [
    "## Only printing odds of 1-9\n",
    "L = []\n",
    "for i in range(1,10,2):\n",
    "    print(i,'^2 =',i**2)\n",
    "    L.append(i**2)\n",
    "L"
   ]
  },
  {
   "cell_type": "markdown",
   "id": "97a534fb-e199-4416-9f31-c33bbae7e22d",
   "metadata": {},
   "source": [
    "## Else in a For Loop"
   ]
  },
  {
   "cell_type": "code",
   "execution_count": 30,
   "id": "ad516312-55ce-493c-9393-d1e3403d6d65",
   "metadata": {},
   "outputs": [
    {
     "name": "stdout",
     "output_type": "stream",
     "text": [
      "apple\n",
      "4.9\n",
      "outside loop\n"
     ]
    }
   ],
   "source": [
    "## Notice how the else does not execute due to the if statement break. the else will only work if the for loop concludes fully without a break.\n",
    "\n",
    "S={'apple',4.9,'cherry'}\n",
    "i = 1\n",
    "for x in S:\n",
    "    print(x)\n",
    "    i+=1\n",
    "    if i == 3:\n",
    "        break\n",
    "else:\n",
    "    print('Loop Terminates')\n",
    "print('outside loop')"
   ]
  },
  {
   "cell_type": "markdown",
   "id": "347e1c69-0efb-4575-907b-d3f77d9d7da5",
   "metadata": {},
   "source": [
    "## Exploring a Dictonary with a For Loop"
   ]
  },
  {
   "cell_type": "code",
   "execution_count": 47,
   "id": "facdc7cd-4b15-4694-911e-0baad171b523",
   "metadata": {},
   "outputs": [
    {
     "name": "stdout",
     "output_type": "stream",
     "text": [
      "1 key: apple // value: 44\n",
      "2 key: cherry // value: game\n"
     ]
    }
   ],
   "source": [
    "D = {'apple':44,'cherry':'game'}\n",
    "i = 1\n",
    "for x in D:\n",
    "    print(i,'key:',x,'// value:',D[x])\n",
    "    i+=1"
   ]
  },
  {
   "cell_type": "markdown",
   "id": "60d7e159-1e94-4c0c-9374-6560ab4d03b8",
   "metadata": {},
   "source": [
    "## Practice Problem: Given list [1,2,4,-5,7,9,3,2] order them from least to greatest in another list."
   ]
  },
  {
   "cell_type": "code",
   "execution_count": 184,
   "id": "42dcfd47-e3d6-4e74-b4d8-c685f01cc547",
   "metadata": {},
   "outputs": [
    {
     "name": "stdout",
     "output_type": "stream",
     "text": [
      "[-5, 1, 2, 2, 3, 4, 7, 9]\n"
     ]
    }
   ],
   "source": [
    "original_list = [1, 2, 4, -5, 7, 9, 3, 2]\n",
    "\n",
    "# Implementing Bubble Sort\n",
    "sorted_list = original_list.copy()  # Create a copy of the original list\n",
    "n = len(sorted_list)\n",
    "\n",
    "for i in range(n):\n",
    "    for j in range(0, n-i-1):\n",
    "        if sorted_list[j] > sorted_list[j+1]:\n",
    "            # Swap if the element found is greater than the next element\n",
    "            sorted_list[j], sorted_list[j+1] = sorted_list[j+1], sorted_list[j]\n",
    "\n",
    "# Output the sorted list\n",
    "print(sorted_list)"
   ]
  },
  {
   "cell_type": "code",
   "execution_count": null,
   "id": "1771b23b-08b5-4a01-a443-0b237d576157",
   "metadata": {},
   "outputs": [],
   "source": []
  },
  {
   "cell_type": "code",
   "execution_count": null,
   "id": "5bd51882-1af9-44d3-b4df-a4fecd1ef902",
   "metadata": {},
   "outputs": [],
   "source": []
  },
  {
   "cell_type": "code",
   "execution_count": null,
   "id": "89b9a9cf-95d0-4148-ba3a-f0b49818ec0b",
   "metadata": {},
   "outputs": [],
   "source": []
  },
  {
   "cell_type": "code",
   "execution_count": null,
   "id": "55aeec96-2d37-462c-b3e3-070166a5dcc4",
   "metadata": {},
   "outputs": [],
   "source": []
  },
  {
   "cell_type": "code",
   "execution_count": null,
   "id": "f5651f5c-76d9-4cba-86b8-dbaf7d8a4c85",
   "metadata": {},
   "outputs": [],
   "source": []
  },
  {
   "cell_type": "code",
   "execution_count": null,
   "id": "947a4097-d84f-4a42-888d-342d915b053d",
   "metadata": {},
   "outputs": [],
   "source": []
  },
  {
   "cell_type": "code",
   "execution_count": null,
   "id": "8a2d679f-3d59-4982-bd01-e8a0d8ddfa33",
   "metadata": {},
   "outputs": [],
   "source": []
  },
  {
   "cell_type": "code",
   "execution_count": null,
   "id": "dd186899-4c49-483b-953e-76342838f0fe",
   "metadata": {},
   "outputs": [],
   "source": []
  },
  {
   "cell_type": "code",
   "execution_count": null,
   "id": "d8dc78ee-9ead-424c-861b-24660c6e8f6c",
   "metadata": {},
   "outputs": [],
   "source": []
  },
  {
   "cell_type": "code",
   "execution_count": null,
   "id": "56f22b02-7480-430f-af3c-e456373d141e",
   "metadata": {},
   "outputs": [],
   "source": []
  },
  {
   "cell_type": "code",
   "execution_count": null,
   "id": "4edb2764-5115-407c-9d58-7d18959e1f20",
   "metadata": {},
   "outputs": [],
   "source": []
  },
  {
   "cell_type": "code",
   "execution_count": null,
   "id": "2a78541e-96bd-4a83-b77d-b40e32a40076",
   "metadata": {},
   "outputs": [],
   "source": []
  },
  {
   "cell_type": "code",
   "execution_count": null,
   "id": "af7918e1-1486-41db-a924-317efbc2b94a",
   "metadata": {},
   "outputs": [],
   "source": []
  },
  {
   "cell_type": "code",
   "execution_count": null,
   "id": "bdfb0ec1-2825-404d-a6f3-c7dff35d3869",
   "metadata": {},
   "outputs": [],
   "source": []
  },
  {
   "cell_type": "code",
   "execution_count": null,
   "id": "b9236bc9-1c5a-4be7-b132-05c77778189f",
   "metadata": {},
   "outputs": [],
   "source": []
  },
  {
   "cell_type": "code",
   "execution_count": null,
   "id": "7c056ae2-02e0-4653-9854-67d5ad7cea7c",
   "metadata": {},
   "outputs": [],
   "source": []
  }
 ],
 "metadata": {
  "kernelspec": {
   "display_name": "Python 3 (ipykernel)",
   "language": "python",
   "name": "python3"
  },
  "language_info": {
   "codemirror_mode": {
    "name": "ipython",
    "version": 3
   },
   "file_extension": ".py",
   "mimetype": "text/x-python",
   "name": "python",
   "nbconvert_exporter": "python",
   "pygments_lexer": "ipython3",
   "version": "3.11.7"
  }
 },
 "nbformat": 4,
 "nbformat_minor": 5
}
