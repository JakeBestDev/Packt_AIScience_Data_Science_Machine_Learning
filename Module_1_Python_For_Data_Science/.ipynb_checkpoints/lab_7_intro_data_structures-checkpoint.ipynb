{
 "cells": [
  {
   "cell_type": "markdown",
   "id": "a7daffc5-42ed-4c40-a2f5-4f1159eb411a",
   "metadata": {},
   "source": [
    "# Introduction To Data Structures (Lists, Tuples, Sets, Dictionaries)"
   ]
  },
  {
   "cell_type": "markdown",
   "id": "a9aa4a75-712c-4cdf-baef-3beaea1251a3",
   "metadata": {},
   "source": [
    "## Data Structures\n",
    "#### List [12,'red',True] - Ordered ,  Changable(Mutable) , Allows Duplicates\n",
    "#### Tuple (12,'red',True) - Ordered ,  Unchangable(Immutable) , Allows Duplicates\n",
    "#### Set {12,'red',True} - Unordered ,  Addable/removable , No Duplicates\n",
    "#### Dictionary {'key':'val'} - Unordered ,  Changable(Mutable) , No Duplicates"
   ]
  },
  {
   "cell_type": "markdown",
   "id": "9f01e4d6-5a1b-4e73-8522-701c82755e9c",
   "metadata": {},
   "source": [
    "## Data Structures: Defining and Indexing"
   ]
  },
  {
   "cell_type": "code",
   "execution_count": 19,
   "id": "73b449ce-0d04-4f4b-83fc-425db2c98e25",
   "metadata": {},
   "outputs": [],
   "source": [
    "## Defiining Data Structures\n",
    "\n",
    "## List\n",
    "L = [1,3,4.9,'name',3]\n",
    "\n",
    "## Tuple\n",
    "T = (1,3,4.9,'name',3)\n",
    "\n",
    "## Set\n",
    "S = {1,3,4.9,'name',3}\n",
    "\n",
    "## Dictonary\n",
    "D = {23:'twothree','B':43,'C':'CCD'}"
   ]
  },
  {
   "cell_type": "code",
   "execution_count": 15,
   "id": "6ab521d6-35cd-4e25-9671-1c331262f02f",
   "metadata": {},
   "outputs": [
    {
     "name": "stdout",
     "output_type": "stream",
     "text": [
      "The Type of L is <class 'list'>\n",
      "The Type of T is <class 'tuple'>\n",
      "The Type of S is <class 'set'>\n",
      "The Type of D is <class 'dict'>\n"
     ]
    }
   ],
   "source": [
    "print('The Type of L is',type(L))\n",
    "print('The Type of T is',type(T))\n",
    "print('The Type of S is',type(S))\n",
    "print('The Type of D is',type(D))"
   ]
  },
  {
   "cell_type": "code",
   "execution_count": 21,
   "id": "babc4bcd-7349-489d-abea-e8cacd8ec627",
   "metadata": {},
   "outputs": [
    {
     "name": "stdout",
     "output_type": "stream",
     "text": [
      "1\n",
      "1\n",
      "True\n",
      "twothree\n"
     ]
    }
   ],
   "source": [
    "## Indexing Data Structures\n",
    "\n",
    "print(L[0])\n",
    "print(T[0])\n",
    "print(3 in S)\n",
    "print(D[23])"
   ]
  },
  {
   "cell_type": "code",
   "execution_count": 25,
   "id": "22fb0a49-6401-4352-b1ca-6bd245173851",
   "metadata": {},
   "outputs": [
    {
     "data": {
      "text/plain": [
       "{1, 3, 4.9, 'name'}"
      ]
     },
     "execution_count": 25,
     "metadata": {},
     "output_type": "execute_result"
    }
   ],
   "source": [
    "## Notice the duplicate 3 at the end of the set is missing. There are no duplicates in SETS!\n",
    "S"
   ]
  },
  {
   "cell_type": "code",
   "execution_count": 30,
   "id": "be67af52-a006-4029-a5d0-8ad835090de6",
   "metadata": {},
   "outputs": [
    {
     "data": {
      "text/plain": [
       "[3, 4.9]"
      ]
     },
     "execution_count": 30,
     "metadata": {},
     "output_type": "execute_result"
    }
   ],
   "source": [
    "## List Indexing is similar to strings!\n",
    "\n",
    "L[1:3]"
   ]
  },
  {
   "cell_type": "code",
   "execution_count": 34,
   "id": "6ee576a8-13eb-477f-90a8-2d4fd19843cc",
   "metadata": {},
   "outputs": [
    {
     "data": {
      "text/plain": [
       "(1, 3, 4.9)"
      ]
     },
     "execution_count": 34,
     "metadata": {},
     "output_type": "execute_result"
    }
   ],
   "source": [
    "## Tuples index very similar to lists!\n",
    "\n",
    "T[:3]"
   ]
  },
  {
   "cell_type": "markdown",
   "id": "2a429372-2f30-4b52-8ad3-a428b8f7a7fa",
   "metadata": {},
   "source": [
    "## Data Structures: Insertion and Deletion"
   ]
  },
  {
   "cell_type": "code",
   "execution_count": 60,
   "id": "b69adc31-6996-4b36-83a4-45920bfda97a",
   "metadata": {},
   "outputs": [
    {
     "name": "stdout",
     "output_type": "stream",
     "text": [
      "[1, 3, 4.9, 'name', 3, 'game']\n",
      "Tuples cannot be changes!!\n",
      "{1, 3, 4.9, 'hello World', 'name'}\n",
      "{23: 'twothree', 'B': 43, 'C': 'CCD', 'Key': 'Value'}\n",
      "-------------------------------------------------\n",
      "[1, 3, 4.9, 'name', 3]\n",
      "Tuples cannot be changes!!\n",
      "{1, 3, 4.9, 'name'}\n",
      "{23: 'twothree', 'B': 43, 'C': 'CCD'}\n"
     ]
    }
   ],
   "source": [
    "## Insert\n",
    "\n",
    "L = L+ ['game']\n",
    "print(L)\n",
    "\n",
    "print('Tuples cannot be changes!!')\n",
    "\n",
    "S.add('hello World')\n",
    "print(S)\n",
    "\n",
    "D['Key'] = 'Value'\n",
    "print(D)\n",
    "\n",
    "## Delete\n",
    "print('-------------------------------------------------')\n",
    "\n",
    "del L[5]\n",
    "print(L)\n",
    "\n",
    "print('Tuples cannot be changes!!')\n",
    "\n",
    "S.remove('hello World')\n",
    "print(S)\n",
    "\n",
    "del D['Key']\n",
    "print(D)"
   ]
  },
  {
   "cell_type": "code",
   "execution_count": 73,
   "id": "8e6cb86a-2c19-4762-9764-9bd20359f46d",
   "metadata": {},
   "outputs": [
    {
     "data": {
      "text/plain": [
       "{1, 3, 4.9, 'name'}"
      ]
     },
     "execution_count": 73,
     "metadata": {},
     "output_type": "execute_result"
    }
   ],
   "source": [
    "## Updates multiple inputs into a set\n",
    "\n",
    "S.update({9,10,11,12})\n",
    "S\n",
    "\n",
    "S.remove(9)\n",
    "S.remove(10)\n",
    "S.remove(11)\n",
    "S.remove(12)\n",
    "S"
   ]
  },
  {
   "cell_type": "markdown",
   "id": "ccf6bd37-76aa-4380-a95c-dd1ed9815274",
   "metadata": {},
   "source": [
    "## Data Structures: Deep Copy and Reference Slicing"
   ]
  },
  {
   "cell_type": "code",
   "execution_count": 83,
   "id": "064a8e8e-9f13-4a6d-9ea4-4e8cfe631d61",
   "metadata": {},
   "outputs": [
    {
     "data": {
      "text/plain": [
       "{23: 'twothree',\n",
       " 'B': 43,\n",
       " 'C': 'CCD',\n",
       " 'key2': 'value2',\n",
       " 'apple': 'red',\n",
       " 99: 100}"
      ]
     },
     "execution_count": 83,
     "metadata": {},
     "output_type": "execute_result"
    }
   ],
   "source": [
    "## Concatonate a dictonary\n",
    "\n",
    "D2 = {'key2':'value2','apple':'red',99:100}\n",
    "\n",
    "D.update(D2)\n",
    "D"
   ]
  },
  {
   "cell_type": "code",
   "execution_count": 91,
   "id": "60f55687-75e6-40d7-ba96-27194c252f52",
   "metadata": {},
   "outputs": [
    {
     "name": "stdout",
     "output_type": "stream",
     "text": [
      "L2 =  [1, 'hello world', 4.9, 'name', 3]\n",
      "L =  [1, 'hello world', 4.9, 'name', 3]\n",
      "------------------------------------------------\n",
      "L2 =  [1, 'hello world', 4.9, 'name', 3]\n",
      "L =  [1, 3, 4.9, 'name', 3]\n",
      "------------------------------------------------\n",
      "L2 =  [1, 'hello world', 4.9, 'name', 3]\n",
      "L =  [1, 3, 4.9, 'name', 3]\n"
     ]
    }
   ],
   "source": [
    "## Copy a List/Set/Dictonary\n",
    "\n",
    "## Example what not to do\n",
    "## L2 is assigned to the same memory place as L when copied in this way\n",
    "L2 = L\n",
    "L2[1] = 'hello world'\n",
    "\n",
    "## Notice both we're updates\n",
    "\n",
    "print('L2 = ', L2)\n",
    "print('L = ', L)\n",
    "\n",
    "L = [1,3,4.9,'name',3]\n",
    "\n",
    "## Notice only one updates because it was assigned to a new list, not the same list \n",
    "print('------------------------------------------------')\n",
    "\n",
    "print('L2 = ', L2)\n",
    "print('L = ', L)\n",
    "\n",
    "## Noticew now only 1 updates with the copy being made but at different memor points! great! This is how you copy a list \n",
    "print('------------------------------------------------')\n",
    "\n",
    "L2 = L.copy()\n",
    "L2[1] = 'hello world'\n",
    "print('L2 = ', L2)\n",
    "print('L = ', L)"
   ]
  },
  {
   "cell_type": "code",
   "execution_count": 93,
   "id": "28b21b74-9c51-4bf2-90b1-bfa2b94d9696",
   "metadata": {},
   "outputs": [
    {
     "name": "stdout",
     "output_type": "stream",
     "text": [
      "[1, 3, 4.9, 'name', 3]\n"
     ]
    }
   ],
   "source": [
    "## Slicing\n",
    "\n",
    "L[2] = 4.9\n",
    "print(L)"
   ]
  },
  {
   "cell_type": "code",
   "execution_count": 97,
   "id": "def3a2a5-b128-4e37-85bf-a19e85df9e0c",
   "metadata": {},
   "outputs": [
    {
     "name": "stdout",
     "output_type": "stream",
     "text": [
      "[3, 4.9, 'name', 3]\n"
     ]
    }
   ],
   "source": [
    "## Copy list by slicing\n",
    "## L3 is a completly new list due to the slicing making an sutomatic copy of L similar to L.copy()\n",
    "\n",
    "\n",
    "L3 = L[1:5]\n",
    "print(L3)"
   ]
  },
  {
   "cell_type": "markdown",
   "id": "368035a5-4f77-4637-97df-ad8ce4556fda",
   "metadata": {},
   "source": [
    "## Data Structures: Methods"
   ]
  },
  {
   "cell_type": "code",
   "execution_count": 115,
   "id": "d636c22f-2f96-4e17-a5bc-175690efd764",
   "metadata": {},
   "outputs": [
    {
     "name": "stdout",
     "output_type": "stream",
     "text": [
      "Help on built-in function append:\n",
      "\n",
      "append(object, /) method of builtins.list instance\n",
      "    Append object to the end of the list.\n",
      "\n",
      "None\n",
      "--------------------------\n",
      "Help on built-in function clear:\n",
      "\n",
      "clear() method of builtins.list instance\n",
      "    Remove all items from list.\n",
      "\n",
      "None\n",
      "--------------------------\n",
      "Help on built-in function pop:\n",
      "\n",
      "pop(index=-1, /) method of builtins.list instance\n",
      "    Remove and return item at index (default last).\n",
      "    \n",
      "    Raises IndexError if list is empty or index is out of range.\n",
      "\n",
      "None\n",
      "--------------------------\n",
      "Help on built-in function count:\n",
      "\n",
      "count(value, /) method of builtins.list instance\n",
      "    Return number of occurrences of value.\n",
      "\n",
      "None\n",
      "--------------------------\n",
      "Help on built-in function insert:\n",
      "\n",
      "insert(index, object, /) method of builtins.list instance\n",
      "    Insert object before index.\n",
      "\n",
      "None\n",
      "--------------------------\n",
      "Help on built-in function reverse:\n",
      "\n",
      "reverse() method of builtins.list instance\n",
      "    Reverse *IN PLACE*.\n",
      "\n",
      "None\n",
      "--------------------------\n",
      "Help on built-in function sort:\n",
      "\n",
      "sort(*, key=None, reverse=False) method of builtins.list instance\n",
      "    Sort the list in ascending order and return None.\n",
      "    \n",
      "    The sort is in-place (i.e. the list itself is modified) and stable (i.e. the\n",
      "    order of two equal elements is maintained).\n",
      "    \n",
      "    If a key function is given, apply it once to each list item and sort them,\n",
      "    ascending or descending, according to their function values.\n",
      "    \n",
      "    The reverse flag can be set to sort in descending order.\n",
      "\n",
      "None\n"
     ]
    }
   ],
   "source": [
    "## List Methods\n",
    "\n",
    "print(help(L.append))\n",
    "print('--------------------------')\n",
    "print(help(L.clear))\n",
    "print('--------------------------')\n",
    "print(help(L.pop))\n",
    "print('--------------------------')\n",
    "print(help(L.count))\n",
    "print('--------------------------')\n",
    "print(help(L.insert))\n",
    "print('--------------------------')\n",
    "print(help(L.reverse))\n",
    "print('--------------------------')\n",
    "print(help(L.sort))"
   ]
  },
  {
   "cell_type": "markdown",
   "id": "9fc6da97-5ad0-4017-adac-8839ddea995f",
   "metadata": {},
   "source": [
    "## Data Structures: Abstract Uses"
   ]
  },
  {
   "cell_type": "code",
   "execution_count": 126,
   "id": "17f617ca-c04c-4814-9f01-bc4c1699c0c4",
   "metadata": {},
   "outputs": [
    {
     "name": "stdout",
     "output_type": "stream",
     "text": [
      "{'A': [1, 3, 4.9, 'name', 3], 'B': (1, 3, 4.9, 'name', 3), 'C': {1, 3, 4.9, 'name'}, 'D': {23: 'twothree', 'B': 43, 'C': 'CCD'}}\n"
     ]
    }
   ],
   "source": [
    "## Lists,Tuples, and Dictionaries can contain other data structures\n",
    "## Notice how D2 can contain other data structures\n",
    "\n",
    "## List\n",
    "L = [1,3,4.9,'name',3]\n",
    "\n",
    "## Tuple\n",
    "T = (1,3,4.9,'name',3)\n",
    "\n",
    "## Set\n",
    "S = {1,3,4.9,'name',3}\n",
    "\n",
    "## Dictonary\n",
    "D = {23:'twothree','B':43,'C':'CCD'}\n",
    "\n",
    "D2 = {'A':L,'B':T,'C':S,'D':D}\n",
    "print(D2)\n"
   ]
  },
  {
   "cell_type": "code",
   "execution_count": 128,
   "id": "b18f0407-86cb-4aef-a0a7-5d51fa8f02ac",
   "metadata": {},
   "outputs": [
    {
     "data": {
      "text/plain": [
       "3"
      ]
     },
     "execution_count": 128,
     "metadata": {},
     "output_type": "execute_result"
    }
   ],
   "source": [
    "D2['A'][1]"
   ]
  },
  {
   "cell_type": "code",
   "execution_count": 130,
   "id": "221faaec-ca02-460b-92c3-5b591e58bc84",
   "metadata": {},
   "outputs": [
    {
     "data": {
      "text/plain": [
       "{23: 'twothree', 'B': 43, 'C': 'CCD'}"
      ]
     },
     "execution_count": 130,
     "metadata": {},
     "output_type": "execute_result"
    }
   ],
   "source": [
    "## We can assign values of a dictonary to variables\n",
    "k = D2['D']\n",
    "k"
   ]
  },
  {
   "cell_type": "code",
   "execution_count": 132,
   "id": "61b7b17a-0c46-4b74-8ad0-367fca4b86cc",
   "metadata": {},
   "outputs": [
    {
     "name": "stdout",
     "output_type": "stream",
     "text": [
      "23 twothree\n",
      "B 43\n",
      "C CCD\n"
     ]
    }
   ],
   "source": [
    "## We can then use those variables in something like a for loop\n",
    "\n",
    "for x in k:\n",
    "    print(x,k[x])"
   ]
  },
  {
   "cell_type": "code",
   "execution_count": 134,
   "id": "d8ee734b-66cd-4c98-866e-d1939016d55a",
   "metadata": {},
   "outputs": [
    {
     "data": {
      "text/plain": [
       "[[1, 3, 4.9, 'name', 3],\n",
       " (1, 3, 4.9, 'name', 3),\n",
       " {23: 'twothree', 'B': 43, 'C': 'CCD'},\n",
       " 23,\n",
       " 'game']"
      ]
     },
     "execution_count": 134,
     "metadata": {},
     "output_type": "execute_result"
    }
   ],
   "source": [
    "## Lists can also contain data structures\n",
    "\n",
    "L3 = [L,T,D,23,'game']\n",
    "L3"
   ]
  },
  {
   "cell_type": "code",
   "execution_count": 138,
   "id": "aa029ea7-e9d7-4548-8ae8-71d352550d0c",
   "metadata": {},
   "outputs": [
    {
     "data": {
      "text/plain": [
       "dict"
      ]
     },
     "execution_count": 138,
     "metadata": {},
     "output_type": "execute_result"
    }
   ],
   "source": [
    "type(L3[2])"
   ]
  },
  {
   "cell_type": "code",
   "execution_count": 144,
   "id": "b9738d23-6034-4642-a3d8-b19707a14639",
   "metadata": {},
   "outputs": [
    {
     "data": {
      "text/plain": [
       "[0, 1, 4, 9, 16, 25, 36, 49, 64, 81]"
      ]
     },
     "execution_count": 144,
     "metadata": {},
     "output_type": "execute_result"
    }
   ],
   "source": [
    "## You can also fill lists with loops within the list!\n",
    "\n",
    "L3 = [x**2 for x in  range(10)]\n",
    "L3"
   ]
  },
  {
   "cell_type": "code",
   "execution_count": 146,
   "id": "123a2a04-b839-4a2a-ab2c-3addd6cd9271",
   "metadata": {},
   "outputs": [
    {
     "data": {
      "text/plain": [
       "{4, 25, 64, 121, 196, 289}"
      ]
     },
     "execution_count": 146,
     "metadata": {},
     "output_type": "execute_result"
    }
   ],
   "source": [
    "## Sets can also be used in this same way!\n",
    "\n",
    "S3 = {x**2 for x in range(2,20,3)}\n",
    "S3"
   ]
  },
  {
   "cell_type": "markdown",
   "id": "ed35fbaa-eb2d-45b8-9e45-96997c4c2aa5",
   "metadata": {},
   "source": [
    "## Data Structures: Practice Problems!\n",
    "\n",
    "#### Problem: Create a data structure for a teacher who has students with different class grades. They want to type the students name as associate their grades to that name.\n",
    "#### Then we want to find the average grade of the students."
   ]
  },
  {
   "cell_type": "code",
   "execution_count": 194,
   "id": "c59f27f4-7b20-4e78-9102-f2a8d5c11378",
   "metadata": {},
   "outputs": [],
   "source": [
    "studentDict = {}"
   ]
  },
  {
   "cell_type": "code",
   "execution_count": 196,
   "id": "3b156e72-eaa2-4a25-8076-88d4482545f5",
   "metadata": {},
   "outputs": [
    {
     "name": "stdin",
     "output_type": "stream",
     "text": [
      "Enter Student ID:  Jake\n",
      "Enter the students marks by comma separated values:  99,88,77,66,55,44\n",
      "Enter \"yes\" to enter another student or \"no\" to end:  yes\n",
      "Enter Student ID:  Mike\n",
      "Enter the students marks by comma separated values:  100,99,88,67,45\n",
      "Enter \"yes\" to enter another student or \"no\" to end:  yes\n",
      "Enter Student ID:  Sara\n",
      "Enter the students marks by comma separated values:  100,99,98,97,96,95,94,93,92,91,50,0\n",
      "Enter \"yes\" to enter another student or \"no\" to end:  yes\n",
      "Enter Student ID:  Rye\n",
      "Enter the students marks by comma separated values:  10,20,30,40,50\n",
      "Enter \"yes\" to enter another student or \"no\" to end:  no\n"
     ]
    },
    {
     "data": {
      "text/plain": [
       "{'Jake': ['99', '88', '77', '66', '55', '44'],\n",
       " 'Mike': ['100', '99', '88', '67', '45'],\n",
       " 'Sara': ['100',\n",
       "  '99',\n",
       "  '98',\n",
       "  '97',\n",
       "  '96',\n",
       "  '95',\n",
       "  '94',\n",
       "  '93',\n",
       "  '92',\n",
       "  '91',\n",
       "  '50',\n",
       "  '0'],\n",
       " 'Rye': ['10', '20', '30', '40', '50']}"
      ]
     },
     "execution_count": 196,
     "metadata": {},
     "output_type": "execute_result"
    }
   ],
   "source": [
    "def getDataFromUser():\n",
    "    D = {}\n",
    "    while True:\n",
    "        studentID = input('Enter Student ID: ')\n",
    "        marksList = input('Enter the students marks by comma separated values: ')\n",
    "        D[studentID] = marksList.split(',')\n",
    "        \n",
    "        moreStudents = input('Enter \"yes\" to enter another student or \"no\" to end: ')\n",
    "        if moreStudents.lower == 'no':\n",
    "            break\n",
    "        else:\n",
    "            pass\n",
    "        \n",
    "    return D"
   ]
  },
  {
   "cell_type": "code",
   "execution_count": 200,
   "id": "7605be42-46db-4469-af9b-c7cec3a25bde",
   "metadata": {},
   "outputs": [
    {
     "name": "stdout",
     "output_type": "stream",
     "text": [
      "Jake's average score is:  71.5\n",
      "Mike's average score is:  79.8\n",
      "Sara's average score is:  83.75\n",
      "Rye's average score is:  30.0\n"
     ]
    }
   ],
   "source": [
    "def avgScoreFinder(Dic):\n",
    "    for key in Dic:\n",
    "        avg = 0\n",
    "        divider = 0\n",
    "        for val in Dic[key]:\n",
    "            avg += int(val)\n",
    "            divider += 1\n",
    "        avg = avg / divider\n",
    "        print(key+\"'s average score is: \" , avg)\n",
    "\n",
    "        \n",
    "avgScoreFinder(studentDict)"
   ]
  },
  {
   "cell_type": "code",
   "execution_count": 205,
   "id": "995ebccb-d135-4145-8e46-7aab8cd158b1",
   "metadata": {},
   "outputs": [
    {
     "name": "stdin",
     "output_type": "stream",
     "text": [
      "Enter Student ID:  dave\n",
      "Enter the students marks by comma separated values:  77,76,75,54\n",
      "Enter \"yes\" to enter another student or \"no\" to end:  yes\n",
      "Enter Student ID:  josh\n",
      "Enter the students marks by comma separated values:  90,90,80,76\n",
      "Enter \"yes\" to enter another student or \"no\" to end:  no\n"
     ]
    },
    {
     "name": "stdout",
     "output_type": "stream",
     "text": [
      "{'Jake': ['99', '88', '77', '66', '55', '44'], 'Mike': ['100', '99', '88', '67', '45'], 'Sara': ['100', '99', '98', '97', '96', '95', '94', '93', '92', '91', '50', '0'], 'Rye': ['10', '20', '30', '40', '50'], 'dave': ['77', '76', '75', '54'], 'josh': ['90', '90', '80', '76']}\n"
     ]
    }
   ],
   "source": [
    "studentDict.update(getDataFromUser())\n",
    "print(studentDict)"
   ]
  },
  {
   "cell_type": "code",
   "execution_count": 207,
   "id": "2cb2d81f-942f-4b17-8843-d66b01d26b0a",
   "metadata": {},
   "outputs": [
    {
     "name": "stdout",
     "output_type": "stream",
     "text": [
      "Jake's average score is:  71.5\n",
      "Mike's average score is:  79.8\n",
      "Sara's average score is:  83.75\n",
      "Rye's average score is:  30.0\n",
      "dave's average score is:  70.5\n",
      "josh's average score is:  84.0\n"
     ]
    }
   ],
   "source": [
    "avgScoreFinder(studentDict)"
   ]
  },
  {
   "cell_type": "code",
   "execution_count": null,
   "id": "24868d4b-1c68-488e-a580-095530c691e0",
   "metadata": {},
   "outputs": [],
   "source": []
  },
  {
   "cell_type": "code",
   "execution_count": null,
   "id": "9eadf39a-0f67-432d-990a-588a2beee2b6",
   "metadata": {},
   "outputs": [],
   "source": []
  },
  {
   "cell_type": "code",
   "execution_count": null,
   "id": "9cf14218-65be-43d7-8bb6-df0a9e1a9486",
   "metadata": {},
   "outputs": [],
   "source": []
  },
  {
   "cell_type": "code",
   "execution_count": null,
   "id": "93f45db1-00d0-4b1c-b4c5-0c20c5fc7f68",
   "metadata": {},
   "outputs": [],
   "source": []
  },
  {
   "cell_type": "code",
   "execution_count": null,
   "id": "d22750b6-74bb-43ab-8d69-be68e87b0b29",
   "metadata": {},
   "outputs": [],
   "source": []
  },
  {
   "cell_type": "code",
   "execution_count": null,
   "id": "bef6d388-a9ec-4cf1-ad86-b3f97d947457",
   "metadata": {},
   "outputs": [],
   "source": []
  },
  {
   "cell_type": "code",
   "execution_count": null,
   "id": "5387583b-f276-4bd1-819f-b06543fd4b58",
   "metadata": {},
   "outputs": [],
   "source": []
  },
  {
   "cell_type": "code",
   "execution_count": null,
   "id": "37136c98-f7e3-429e-96e2-0c26a3c24e21",
   "metadata": {},
   "outputs": [],
   "source": []
  },
  {
   "cell_type": "code",
   "execution_count": null,
   "id": "5586de9d-154a-46c7-8627-73df4b018967",
   "metadata": {},
   "outputs": [],
   "source": []
  },
  {
   "cell_type": "code",
   "execution_count": null,
   "id": "1b638c91-e342-44ef-a267-13a7c2cc28a7",
   "metadata": {},
   "outputs": [],
   "source": []
  },
  {
   "cell_type": "code",
   "execution_count": null,
   "id": "1d5f72d4-bcd0-4056-bbc3-c85c6a6bfbf5",
   "metadata": {},
   "outputs": [],
   "source": []
  },
  {
   "cell_type": "code",
   "execution_count": null,
   "id": "9759e0c5-2464-482b-8ff2-5fa30a1ecc6d",
   "metadata": {},
   "outputs": [],
   "source": []
  },
  {
   "cell_type": "code",
   "execution_count": null,
   "id": "0a0bc20d-0f85-4fb6-bbc2-44f6be8f4cc9",
   "metadata": {},
   "outputs": [],
   "source": []
  },
  {
   "cell_type": "code",
   "execution_count": null,
   "id": "74b569fe-e587-4281-ae7f-e2f7bcb3fd84",
   "metadata": {},
   "outputs": [],
   "source": []
  },
  {
   "cell_type": "code",
   "execution_count": null,
   "id": "485a0e2b-39b8-4a0c-a198-7fb17e903ea2",
   "metadata": {},
   "outputs": [],
   "source": []
  },
  {
   "cell_type": "code",
   "execution_count": null,
   "id": "007cafd4-0d24-4b9e-8935-e697661cc12d",
   "metadata": {},
   "outputs": [],
   "source": []
  },
  {
   "cell_type": "code",
   "execution_count": null,
   "id": "65162c8e-a9d8-4736-bbed-421de77a33e8",
   "metadata": {},
   "outputs": [],
   "source": []
  },
  {
   "cell_type": "code",
   "execution_count": null,
   "id": "addeeda5-27ee-4cd1-91c7-25819e670c27",
   "metadata": {},
   "outputs": [],
   "source": []
  },
  {
   "cell_type": "code",
   "execution_count": null,
   "id": "3dd7a016-66de-46c3-8743-d35b9e109a7b",
   "metadata": {},
   "outputs": [],
   "source": []
  },
  {
   "cell_type": "code",
   "execution_count": null,
   "id": "4df013d5-2f3d-4e72-b7c2-2d18580623ba",
   "metadata": {},
   "outputs": [],
   "source": []
  },
  {
   "cell_type": "code",
   "execution_count": null,
   "id": "217c2a2d-e1ce-471d-9739-3b578f4a5612",
   "metadata": {},
   "outputs": [],
   "source": []
  },
  {
   "cell_type": "code",
   "execution_count": null,
   "id": "1c5a86d5-cf56-4eb7-9606-dd8c90859457",
   "metadata": {},
   "outputs": [],
   "source": []
  },
  {
   "cell_type": "code",
   "execution_count": null,
   "id": "3c3ed47a-0f82-4468-9ff7-fdd211324f12",
   "metadata": {},
   "outputs": [],
   "source": []
  },
  {
   "cell_type": "code",
   "execution_count": null,
   "id": "6ca232b8-e840-4947-94f6-e70fd1e71c46",
   "metadata": {},
   "outputs": [],
   "source": []
  },
  {
   "cell_type": "code",
   "execution_count": null,
   "id": "62880732-3fd6-4d96-97f3-3f5adc134654",
   "metadata": {},
   "outputs": [],
   "source": []
  }
 ],
 "metadata": {
  "kernelspec": {
   "display_name": "Python 3 (ipykernel)",
   "language": "python",
   "name": "python3"
  },
  "language_info": {
   "codemirror_mode": {
    "name": "ipython",
    "version": 3
   },
   "file_extension": ".py",
   "mimetype": "text/x-python",
   "name": "python",
   "nbconvert_exporter": "python",
   "pygments_lexer": "ipython3",
   "version": "3.11.7"
  }
 },
 "nbformat": 4,
 "nbformat_minor": 5
}
