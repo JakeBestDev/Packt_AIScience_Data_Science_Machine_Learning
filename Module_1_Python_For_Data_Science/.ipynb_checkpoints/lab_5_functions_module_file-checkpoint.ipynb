{
 "cells": [
  {
   "cell_type": "markdown",
   "id": "f8f32041-c803-4470-949c-8c3b2f617165",
   "metadata": {},
   "source": [
    "# Module File"
   ]
  },
  {
   "cell_type": "code",
   "execution_count": null,
   "id": "1aa6172e-3dfd-40f4-b41c-b09041bc7ef7",
   "metadata": {},
   "outputs": [],
   "source": [
    "def printMessage(msg='No Message Recieved'):\n",
    "    print(msg)"
   ]
  },
  {
   "cell_type": "code",
   "execution_count": null,
   "id": "f8b1c75c-48d1-4e11-a6a8-ab85daeda1f9",
   "metadata": {},
   "outputs": [],
   "source": []
  },
  {
   "cell_type": "code",
   "execution_count": null,
   "id": "7f5f77e6-310b-4349-8d5f-ce48bc55136d",
   "metadata": {},
   "outputs": [],
   "source": []
  },
  {
   "cell_type": "code",
   "execution_count": null,
   "id": "61283e3a-d500-4e29-9fae-4f4fcaba8f57",
   "metadata": {},
   "outputs": [],
   "source": []
  },
  {
   "cell_type": "code",
   "execution_count": null,
   "id": "b3b14fed-7002-4f84-8776-bbbfac1ad424",
   "metadata": {},
   "outputs": [],
   "source": []
  },
  {
   "cell_type": "code",
   "execution_count": null,
   "id": "817bbe21-27d6-4463-9530-660e02bcbb04",
   "metadata": {},
   "outputs": [],
   "source": []
  },
  {
   "cell_type": "code",
   "execution_count": null,
   "id": "e85b547d-4a50-45c6-9b0c-0b4cb177a662",
   "metadata": {},
   "outputs": [],
   "source": []
  },
  {
   "cell_type": "code",
   "execution_count": null,
   "id": "936420ee-0638-4632-821f-2e1d37373309",
   "metadata": {},
   "outputs": [],
   "source": []
  },
  {
   "cell_type": "code",
   "execution_count": null,
   "id": "d036ce56-88c1-4b8c-90cf-b4f0eced135f",
   "metadata": {},
   "outputs": [],
   "source": []
  },
  {
   "cell_type": "code",
   "execution_count": null,
   "id": "47307d2c-6b9e-4364-b08c-c373ead857cb",
   "metadata": {},
   "outputs": [],
   "source": []
  }
 ],
 "metadata": {
  "kernelspec": {
   "display_name": "Python 3 (ipykernel)",
   "language": "python",
   "name": "python3"
  },
  "language_info": {
   "codemirror_mode": {
    "name": "ipython",
    "version": 3
   },
   "file_extension": ".py",
   "mimetype": "text/x-python",
   "name": "python",
   "nbconvert_exporter": "python",
   "pygments_lexer": "ipython3",
   "version": "3.11.7"
  }
 },
 "nbformat": 4,
 "nbformat_minor": 5
}
