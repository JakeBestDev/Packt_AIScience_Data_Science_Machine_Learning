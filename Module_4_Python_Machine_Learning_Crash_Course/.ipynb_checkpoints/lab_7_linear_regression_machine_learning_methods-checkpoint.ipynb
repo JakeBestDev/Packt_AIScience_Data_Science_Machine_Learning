{
 "cells": [
  {
   "cell_type": "markdown",
   "id": "ee784a0e-9dc8-4ee2-acc2-973fb0298b17",
   "metadata": {},
   "source": [
    "# Machine Learning Model From Scratch: Linear Regression"
   ]
  },
  {
   "cell_type": "code",
   "execution_count": 3,
   "id": "3167b820-78f0-4d04-a6a5-491e41061086",
   "metadata": {},
   "outputs": [],
   "source": [
    "import numpy as np\n",
    "import pandas as pd\n",
    "import matplotlib.pyplot as plt"
   ]
  },
  {
   "cell_type": "markdown",
   "id": "51564669-eabb-452f-9c77-63059a577fe9",
   "metadata": {},
   "source": [
    "## We will be building a Linear Regression Model from scratch without sklearn to get a better understanding of how they work\n",
    "\n",
    "### The model we will be building will take a single feature xi and give us yi \n",
    "### xi =  2, -3, 7\n",
    "### yi = 5, -2, 5.9\n",
    "### The way we find this is by building a standard linear function. yi = a*xi+b \n",
    "### For linear regression we will be finding a and b from the above function using the given data xi"
   ]
  },
  {
   "cell_type": "code",
   "execution_count": 67,
   "id": "81d4ead8-4ee3-4304-94e8-536a62363ec3",
   "metadata": {},
   "outputs": [
    {
     "data": {
      "text/plain": [
       "<matplotlib.collections.PathCollection at 0x23f765e9350>"
      ]
     },
     "execution_count": 67,
     "metadata": {},
     "output_type": "execute_result"
    },
    {
     "data": {
      "image/png": "[encoded data removed]",
      "text/plain": [
       "<Figure size 640x480 with 1 Axes>"
      ]
     },
     "metadata": {},
     "output_type": "display_data"
    }
   ],
   "source": [
    "## First lets generate some data\n",
    "\n",
    "n = 20 ## There are 20 total points for X and y\n",
    "X = np.arange(n) ## This is our xi\n",
    "y = 4*X + 3 ## we are premaking the function we are trying to solve for so that we can check our answer afterwards\n",
    "plt.scatter(X,y)"
   ]
  },
  {
   "cell_type": "code",
   "execution_count": 51,
   "id": "e735de2f-3ca7-4a26-8972-74a548bfbf1e",
   "metadata": {},
   "outputs": [
    {
     "data": {
      "text/plain": [
       "array([ 0,  1,  2,  3,  4,  5,  6,  7,  8,  9, 10, 11, 12, 13, 14, 15, 16,\n",
       "       17, 18, 19])"
      ]
     },
     "execution_count": 51,
     "metadata": {},
     "output_type": "execute_result"
    }
   ],
   "source": [
    "## Lets look at all X points\n",
    "\n",
    "X"
   ]
  },
  {
   "cell_type": "code",
   "execution_count": 53,
   "id": "53c5796b-571c-4546-8629-103a5697fd37",
   "metadata": {},
   "outputs": [
    {
     "data": {
      "text/plain": [
       "array([ 3,  7, 11, 15, 19, 23, 27, 31, 35, 39, 43, 47, 51, 55, 59, 63, 67,\n",
       "       71, 75, 79])"
      ]
     },
     "execution_count": 53,
     "metadata": {},
     "output_type": "execute_result"
    }
   ],
   "source": [
    "## Lets look at all y points\n",
    "## Notice how y is just an array of points and not the function given above. As mentioned we simply just created the function first for checking our answer at the end\n",
    "## In real life we would not have a function to go off of, instead we would just have the points like whats given by X and y\n",
    "\n",
    "y"
   ]
  },
  {
   "cell_type": "code",
   "execution_count": 79,
   "id": "99b458dd-8039-4680-acf1-9dc683ce8e1f",
   "metadata": {
    "scrolled": true
   },
   "outputs": [
    {
     "data": {
      "text/plain": [
       "\u001b[1;31mSignature:\u001b[0m \u001b[0mnp\u001b[0m\u001b[1;33m.\u001b[0m\u001b[0mones\u001b[0m\u001b[1;33m(\u001b[0m\u001b[0mshape\u001b[0m\u001b[1;33m,\u001b[0m \u001b[0mdtype\u001b[0m\u001b[1;33m=\u001b[0m\u001b[1;32mNone\u001b[0m\u001b[1;33m,\u001b[0m \u001b[0morder\u001b[0m\u001b[1;33m=\u001b[0m\u001b[1;34m'C'\u001b[0m\u001b[1;33m,\u001b[0m \u001b[1;33m*\u001b[0m\u001b[1;33m,\u001b[0m \u001b[0mlike\u001b[0m\u001b[1;33m=\u001b[0m\u001b[1;32mNone\u001b[0m\u001b[1;33m)\u001b[0m\u001b[1;33m\u001b[0m\u001b[1;33m\u001b[0m\u001b[0m\n",
       "\u001b[1;31mDocstring:\u001b[0m\n",
       "Return a new array of given shape and type, filled with ones.\n",
       "\n",
       "Parameters\n",
       "----------\n",
       "shape : int or sequence of ints\n",
       "    Shape of the new array, e.g., ``(2, 3)`` or ``2``.\n",
       "dtype : data-type, optional\n",
       "    The desired data-type for the array, e.g., `numpy.int8`.  Default is\n",
       "    `numpy.float64`.\n",
       "order : {'C', 'F'}, optional, default: C\n",
       "    Whether to store multi-dimensional data in row-major\n",
       "    (C-style) or column-major (Fortran-style) order in\n",
       "    memory.\n",
       "like : array_like, optional\n",
       "    Reference object to allow the creation of arrays which are not\n",
       "    NumPy arrays. If an array-like passed in as ``like`` supports\n",
       "    the ``__array_function__`` protocol, the result will be defined\n",
       "    by it. In this case, it ensures the creation of an array object\n",
       "    compatible with that passed in via this argument.\n",
       "\n",
       "    .. versionadded:: 1.20.0\n",
       "\n",
       "Returns\n",
       "-------\n",
       "out : ndarray\n",
       "    Array of ones with the given shape, dtype, and order.\n",
       "\n",
       "See Also\n",
       "--------\n",
       "ones_like : Return an array of ones with shape and type of input.\n",
       "empty : Return a new uninitialized array.\n",
       "zeros : Return a new array setting values to zero.\n",
       "full : Return a new array of given shape filled with value.\n",
       "\n",
       "\n",
       "Examples\n",
       "--------\n",
       ">>> np.ones(5)\n",
       "array([1., 1., 1., 1., 1.])\n",
       "\n",
       ">>> np.ones((5,), dtype=int)\n",
       "array([1, 1, 1, 1, 1])\n",
       "\n",
       ">>> np.ones((2, 1))\n",
       "array([[1.],\n",
       "       [1.]])\n",
       "\n",
       ">>> s = (2,2)\n",
       ">>> np.ones(s)\n",
       "array([[1.,  1.],\n",
       "       [1.,  1.]])\n",
       "\u001b[1;31mFile:\u001b[0m      c:\\users\\jakeb\\anaconda3\\lib\\site-packages\\numpy\\core\\numeric.py\n",
       "\u001b[1;31mType:\u001b[0m      function"
      ]
     },
     "metadata": {},
     "output_type": "display_data"
    }
   ],
   "source": [
    "## Next we will be using the np.ones package to create a 2 dimensional array with X that has 1's in one of the axis.\n",
    "## If you want to know more about np.ones see below\n",
    "\n",
    "np.ones?"
   ]
  },
  {
   "cell_type": "code",
   "execution_count": 55,
   "id": "fdb3b601-24bd-4a1f-8273-90f5ddbd7ade",
   "metadata": {},
   "outputs": [],
   "source": [
    "## To make our linear regression model from scratch follow below \n",
    "## First lets make a matrix of 1's to the size of X\n",
    "\n",
    "on = np.ones((X.size,1)) "
   ]
  },
  {
   "cell_type": "code",
   "execution_count": 57,
   "id": "c1f99194-ceb2-4616-a4a8-7e6ba2bb05fd",
   "metadata": {},
   "outputs": [
    {
     "data": {
      "text/plain": [
       "array([[1.],\n",
       "       [1.],\n",
       "       [1.],\n",
       "       [1.],\n",
       "       [1.],\n",
       "       [1.],\n",
       "       [1.],\n",
       "       [1.],\n",
       "       [1.],\n",
       "       [1.],\n",
       "       [1.],\n",
       "       [1.],\n",
       "       [1.],\n",
       "       [1.],\n",
       "       [1.],\n",
       "       [1.],\n",
       "       [1.],\n",
       "       [1.],\n",
       "       [1.],\n",
       "       [1.]])"
      ]
     },
     "execution_count": 57,
     "metadata": {},
     "output_type": "execute_result"
    }
   ],
   "source": [
    "## Lets check out what that looks like\n",
    "\n",
    "on"
   ]
  },
  {
   "cell_type": "code",
   "execution_count": 59,
   "id": "05c0e00d-b10e-4574-8440-ce60012e0903",
   "metadata": {},
   "outputs": [],
   "source": [
    "## Now lets concat on and X into X2\n",
    "\n",
    "X2 = np.hstack((X[:,np.newaxis],on))"
   ]
  },
  {
   "cell_type": "code",
   "execution_count": 61,
   "id": "c6c26d22-7a9a-4b98-93b5-8c91b1762ec0",
   "metadata": {},
   "outputs": [
    {
     "data": {
      "text/plain": [
       "array([[ 0.,  1.],\n",
       "       [ 1.,  1.],\n",
       "       [ 2.,  1.],\n",
       "       [ 3.,  1.],\n",
       "       [ 4.,  1.],\n",
       "       [ 5.,  1.],\n",
       "       [ 6.,  1.],\n",
       "       [ 7.,  1.],\n",
       "       [ 8.,  1.],\n",
       "       [ 9.,  1.],\n",
       "       [10.,  1.],\n",
       "       [11.,  1.],\n",
       "       [12.,  1.],\n",
       "       [13.,  1.],\n",
       "       [14.,  1.],\n",
       "       [15.,  1.],\n",
       "       [16.,  1.],\n",
       "       [17.,  1.],\n",
       "       [18.,  1.],\n",
       "       [19.,  1.]])"
      ]
     },
     "execution_count": 61,
     "metadata": {},
     "output_type": "execute_result"
    }
   ],
   "source": [
    "## Now you can see that X2 is A 2 dimensional matrix\n",
    "\n",
    "X2"
   ]
  },
  {
   "cell_type": "code",
   "execution_count": 69,
   "id": "493a3492-da30-4103-934f-6447e5c645b9",
   "metadata": {},
   "outputs": [],
   "source": [
    "## Now lets make y a 1 dimensional array\n",
    "\n",
    "y = y[:,np.newaxis]"
   ]
  },
  {
   "cell_type": "code",
   "execution_count": 71,
   "id": "087e949b-8528-4ebd-abdd-fcbc4ca8bbb0",
   "metadata": {},
   "outputs": [
    {
     "data": {
      "text/plain": [
       "array([[ 3],\n",
       "       [ 7],\n",
       "       [11],\n",
       "       [15],\n",
       "       [19],\n",
       "       [23],\n",
       "       [27],\n",
       "       [31],\n",
       "       [35],\n",
       "       [39],\n",
       "       [43],\n",
       "       [47],\n",
       "       [51],\n",
       "       [55],\n",
       "       [59],\n",
       "       [63],\n",
       "       [67],\n",
       "       [71],\n",
       "       [75],\n",
       "       [79]])"
      ]
     },
     "execution_count": 71,
     "metadata": {},
     "output_type": "execute_result"
    }
   ],
   "source": [
    "y"
   ]
  },
  {
   "cell_type": "code",
   "execution_count": 75,
   "id": "7380d9d9-8d1c-4378-bf09-b7b08a843f54",
   "metadata": {
    "scrolled": true
   },
   "outputs": [
    {
     "data": {
      "text/plain": [
       "\u001b[1;31mSignature:\u001b[0m       \u001b[0mnp\u001b[0m\u001b[1;33m.\u001b[0m\u001b[0mlinalg\u001b[0m\u001b[1;33m.\u001b[0m\u001b[0mlstsq\u001b[0m\u001b[1;33m(\u001b[0m\u001b[0ma\u001b[0m\u001b[1;33m,\u001b[0m \u001b[0mb\u001b[0m\u001b[1;33m,\u001b[0m \u001b[0mrcond\u001b[0m\u001b[1;33m=\u001b[0m\u001b[1;34m'warn'\u001b[0m\u001b[1;33m)\u001b[0m\u001b[1;33m\u001b[0m\u001b[1;33m\u001b[0m\u001b[0m\n",
       "\u001b[1;31mCall signature:\u001b[0m  \u001b[0mnp\u001b[0m\u001b[1;33m.\u001b[0m\u001b[0mlinalg\u001b[0m\u001b[1;33m.\u001b[0m\u001b[0mlstsq\u001b[0m\u001b[1;33m(\u001b[0m\u001b[1;33m*\u001b[0m\u001b[0margs\u001b[0m\u001b[1;33m,\u001b[0m \u001b[1;33m**\u001b[0m\u001b[0mkwargs\u001b[0m\u001b[1;33m)\u001b[0m\u001b[1;33m\u001b[0m\u001b[1;33m\u001b[0m\u001b[0m\n",
       "\u001b[1;31mType:\u001b[0m            _ArrayFunctionDispatcher\n",
       "\u001b[1;31mString form:\u001b[0m     <function lstsq at 0x0000023F6CCAC7C0>\n",
       "\u001b[1;31mFile:\u001b[0m            c:\\users\\jakeb\\anaconda3\\lib\\site-packages\\numpy\\linalg\\linalg.py\n",
       "\u001b[1;31mDocstring:\u001b[0m      \n",
       "Return the least-squares solution to a linear matrix equation.\n",
       "\n",
       "Computes the vector `x` that approximately solves the equation\n",
       "``a @ x = b``. The equation may be under-, well-, or over-determined\n",
       "(i.e., the number of linearly independent rows of `a` can be less than,\n",
       "equal to, or greater than its number of linearly independent columns).\n",
       "If `a` is square and of full rank, then `x` (but for round-off error)\n",
       "is the \"exact\" solution of the equation. Else, `x` minimizes the\n",
       "Euclidean 2-norm :math:`||b - ax||`. If there are multiple minimizing\n",
       "solutions, the one with the smallest 2-norm :math:`||x||` is returned.\n",
       "\n",
       "Parameters\n",
       "----------\n",
       "a : (M, N) array_like\n",
       "    \"Coefficient\" matrix.\n",
       "b : {(M,), (M, K)} array_like\n",
       "    Ordinate or \"dependent variable\" values. If `b` is two-dimensional,\n",
       "    the least-squares solution is calculated for each of the `K` columns\n",
       "    of `b`.\n",
       "rcond : float, optional\n",
       "    Cut-off ratio for small singular values of `a`.\n",
       "    For the purposes of rank determination, singular values are treated\n",
       "    as zero if they are smaller than `rcond` times the largest singular\n",
       "    value of `a`.\n",
       "\n",
       "    .. versionchanged:: 1.14.0\n",
       "       If not set, a FutureWarning is given. The previous default\n",
       "       of ``-1`` will use the machine precision as `rcond` parameter,\n",
       "       the new default will use the machine precision times `max(M, N)`.\n",
       "       To silence the warning and use the new default, use ``rcond=None``,\n",
       "       to keep using the old behavior, use ``rcond=-1``.\n",
       "\n",
       "Returns\n",
       "-------\n",
       "x : {(N,), (N, K)} ndarray\n",
       "    Least-squares solution. If `b` is two-dimensional,\n",
       "    the solutions are in the `K` columns of `x`.\n",
       "residuals : {(1,), (K,), (0,)} ndarray\n",
       "    Sums of squared residuals: Squared Euclidean 2-norm for each column in\n",
       "    ``b - a @ x``.\n",
       "    If the rank of `a` is < N or M <= N, this is an empty array.\n",
       "    If `b` is 1-dimensional, this is a (1,) shape array.\n",
       "    Otherwise the shape is (K,).\n",
       "rank : int\n",
       "    Rank of matrix `a`.\n",
       "s : (min(M, N),) ndarray\n",
       "    Singular values of `a`.\n",
       "\n",
       "Raises\n",
       "------\n",
       "LinAlgError\n",
       "    If computation does not converge.\n",
       "\n",
       "See Also\n",
       "--------\n",
       "scipy.linalg.lstsq : Similar function in SciPy.\n",
       "\n",
       "Notes\n",
       "-----\n",
       "If `b` is a matrix, then all array results are returned as matrices.\n",
       "\n",
       "Examples\n",
       "--------\n",
       "Fit a line, ``y = mx + c``, through some noisy data-points:\n",
       "\n",
       ">>> x = np.array([0, 1, 2, 3])\n",
       ">>> y = np.array([-1, 0.2, 0.9, 2.1])\n",
       "\n",
       "By examining the coefficients, we see that the line should have a\n",
       "gradient of roughly 1 and cut the y-axis at, more or less, -1.\n",
       "\n",
       "We can rewrite the line equation as ``y = Ap``, where ``A = [[x 1]]``\n",
       "and ``p = [[m], [c]]``.  Now use `lstsq` to solve for `p`:\n",
       "\n",
       ">>> A = np.vstack([x, np.ones(len(x))]).T\n",
       ">>> A\n",
       "array([[ 0.,  1.],\n",
       "       [ 1.,  1.],\n",
       "       [ 2.,  1.],\n",
       "       [ 3.,  1.]])\n",
       "\n",
       ">>> m, c = np.linalg.lstsq(A, y, rcond=None)[0]\n",
       ">>> m, c\n",
       "(1.0 -0.95) # may vary\n",
       "\n",
       "Plot the data along with the fitted line:\n",
       "\n",
       ">>> import matplotlib.pyplot as plt\n",
       ">>> _ = plt.plot(x, y, 'o', label='Original data', markersize=10)\n",
       ">>> _ = plt.plot(x, m*x + c, 'r', label='Fitted line')\n",
       ">>> _ = plt.legend()\n",
       ">>> plt.show()\n",
       "\u001b[1;31mClass docstring:\u001b[0m\n",
       "Class to wrap functions with checks for __array_function__ overrides.\n",
       "\n",
       "All arguments are required, and can only be passed by position.\n",
       "\n",
       "Parameters\n",
       "----------\n",
       "dispatcher : function or None\n",
       "    The dispatcher function that returns a single sequence-like object\n",
       "    of all arguments relevant.  It must have the same signature (except\n",
       "    the default values) as the actual implementation.\n",
       "    If ``None``, this is a ``like=`` dispatcher and the\n",
       "    ``_ArrayFunctionDispatcher`` must be called with ``like`` as the\n",
       "    first (additional and positional) argument.\n",
       "implementation : function\n",
       "    Function that implements the operation on NumPy arrays without\n",
       "    overrides.  Arguments passed calling the ``_ArrayFunctionDispatcher``\n",
       "    will be forwarded to this (and the ``dispatcher``) as if using\n",
       "    ``*args, **kwargs``.\n",
       "\n",
       "Attributes\n",
       "----------\n",
       "_implementation : function\n",
       "    The original implementation passed in."
      ]
     },
     "metadata": {},
     "output_type": "display_data"
    }
   ],
   "source": [
    "## Now we will be using the linear algebra package inside of numpy to help us do the math quickly\n",
    "## This is so you can see more of what it does\n",
    "\n",
    "np.linalg.lstsq?"
   ]
  },
  {
   "cell_type": "code",
   "execution_count": 93,
   "id": "1a155905-f2a3-4660-8caa-072596e8d318",
   "metadata": {},
   "outputs": [],
   "source": [
    "## So now lets solve for a and b in y=ax+b\n",
    "## otherwise known as the coefficients \n",
    "## Now recall what our original function was for y. y = 4*X + 3 \n",
    "## So our coefficients are 4 and 3 for a and b respectivly\n",
    "## If the rcond is not set to -1 then we will get a warning. The -1 ignores the warning for now\n",
    "\n",
    "a = np.linalg.lstsq(X2,y,rcond=-1)"
   ]
  },
  {
   "cell_type": "code",
   "execution_count": 95,
   "id": "15ac77ec-3a22-4621-a5ab-2d7b03faa90b",
   "metadata": {},
   "outputs": [
    {
     "data": {
      "text/plain": [
       "(array([[4.],\n",
       "        [3.]]),\n",
       " array([4.74972265e-28]),\n",
       " 2,\n",
       " array([49.84623483,  2.31362763]))"
      ]
     },
     "execution_count": 95,
     "metadata": {},
     "output_type": "execute_result"
    }
   ],
   "source": [
    "## Lets see what a and b is\n",
    "\n",
    "a"
   ]
  },
  {
   "cell_type": "code",
   "execution_count": 97,
   "id": "a8bf4e4d-aaa8-4c02-ac79-34a790e9097c",
   "metadata": {},
   "outputs": [
    {
     "data": {
      "text/plain": [
       "tuple"
      ]
     },
     "execution_count": 97,
     "metadata": {},
     "output_type": "execute_result"
    }
   ],
   "source": [
    "## Lets see the type\n",
    "## If you look at the np.linalg.lstsq? above we can check the parameters and see what has been retruned.\n",
    "\n",
    "type(a)"
   ]
  },
  {
   "cell_type": "code",
   "execution_count": 101,
   "id": "e6b8cea3-edb9-4bab-be70-2835ad600f19",
   "metadata": {},
   "outputs": [
    {
     "data": {
      "text/plain": [
       "array([[4.],\n",
       "       [3.]])"
      ]
     },
     "execution_count": 101,
     "metadata": {},
     "output_type": "execute_result"
    }
   ],
   "source": [
    "## Looking at the parameters we can see that the first place in the tuple is our coefficient, or a's for our function y = ax+b\n",
    "## Wow! Look it gave us 4 and 3! Which is our coefficients from the original function y = 4*X + 3 \n",
    "\n",
    "a[0]"
   ]
  },
  {
   "cell_type": "code",
   "execution_count": 103,
   "id": "de8d923c-848a-447c-948c-b9d437473767",
   "metadata": {},
   "outputs": [],
   "source": [
    "## Now if we plot using our new data or make a prediction called y_pred we can build our function \n",
    "## Basically our y_pred is the function and we are building that using the indexing to get a and b from our a variable above\n",
    "\n",
    "y_pred = a[0][0]*X+a[0][1]"
   ]
  },
  {
   "cell_type": "code",
   "execution_count": 105,
   "id": "a57f63d3-2dc5-4cc5-b189-eb50676137cd",
   "metadata": {},
   "outputs": [
    {
     "data": {
      "text/plain": [
       "[<matplotlib.lines.Line2D at 0x23f6d18f4d0>]"
      ]
     },
     "execution_count": 105,
     "metadata": {},
     "output_type": "execute_result"
    },
    {
     "data": {
      "image/png": "[encoded data removed]",
      "text/plain": [
       "<Figure size 640x480 with 1 Axes>"
      ]
     },
     "metadata": {},
     "output_type": "display_data"
    }
   ],
   "source": [
    "## Now lets plot it y_pred with our original scatter plot and see if they line up\n",
    "## Wow! it worked! Its exactly the same!\n",
    "\n",
    "plt.scatter(X,y)\n",
    "plt.plot(X,y_pred,color='red')"
   ]
  },
  {
   "cell_type": "markdown",
   "id": "a1dbfb94-a37a-48e0-8d00-1736fbc201ea",
   "metadata": {},
   "source": [
    "## Now lets make it a bit more difficult by adding some 'noise' to the function to not make it as easy as making a straight line"
   ]
  },
  {
   "cell_type": "code",
   "execution_count": 176,
   "id": "47861575-6f9a-454b-b811-13ea9fbe334c",
   "metadata": {},
   "outputs": [
    {
     "data": {
      "text/plain": [
       "<matplotlib.collections.PathCollection at 0x23f79599790>"
      ]
     },
     "execution_count": 176,
     "metadata": {},
     "output_type": "execute_result"
    },
    {
     "data": {
      "image/png": "[encoded data removed]",
      "text/plain": [
       "<Figure size 640x480 with 1 Axes>"
      ]
     },
     "metadata": {},
     "output_type": "display_data"
    }
   ],
   "source": [
    "## First lets generate some data\n",
    "\n",
    "n = 20 ## There are 20 total points for X and y\n",
    "X = np.arange(n) ## This is our xi\n",
    "y = 4*X + 3 + 3*(np.random.rand(X.size)) ## we are premaking the function we are trying to solve for so that we can check our answer afterwards\n",
    "plt.scatter(X,y)"
   ]
  },
  {
   "cell_type": "code",
   "execution_count": 186,
   "id": "738111ef-bfc3-45d0-987d-f5e16aa1d92f",
   "metadata": {},
   "outputs": [],
   "source": [
    "## So now lets try to create our model again!\n",
    "## First create an X2 using np.ones\n",
    "on = np.ones((X.size,1)) \n",
    "\n",
    "X2 = np.hstack((X[:,np.newaxis],on))"
   ]
  },
  {
   "cell_type": "code",
   "execution_count": 188,
   "id": "e5a4a334-8823-43be-964c-5f5e38d12de2",
   "metadata": {},
   "outputs": [
    {
     "data": {
      "text/plain": [
       "array([[ 0.,  1.],\n",
       "       [ 1.,  1.],\n",
       "       [ 2.,  1.],\n",
       "       [ 3.,  1.],\n",
       "       [ 4.,  1.],\n",
       "       [ 5.,  1.],\n",
       "       [ 6.,  1.],\n",
       "       [ 7.,  1.],\n",
       "       [ 8.,  1.],\n",
       "       [ 9.,  1.],\n",
       "       [10.,  1.],\n",
       "       [11.,  1.],\n",
       "       [12.,  1.],\n",
       "       [13.,  1.],\n",
       "       [14.,  1.],\n",
       "       [15.,  1.],\n",
       "       [16.,  1.],\n",
       "       [17.,  1.],\n",
       "       [18.,  1.],\n",
       "       [19.,  1.]])"
      ]
     },
     "execution_count": 188,
     "metadata": {},
     "output_type": "execute_result"
    }
   ],
   "source": [
    "X2"
   ]
  },
  {
   "cell_type": "code",
   "execution_count": 190,
   "id": "ec3ac5c2-fc4f-480f-9ee6-040879e8eba3",
   "metadata": {},
   "outputs": [],
   "source": [
    "## Now lets increase the dimensions of y\n",
    "\n",
    "y = y[:,np.newaxis]"
   ]
  },
  {
   "cell_type": "code",
   "execution_count": 192,
   "id": "4e12c060-94a2-4f02-b695-cd06c169ecdd",
   "metadata": {},
   "outputs": [
    {
     "data": {
      "text/plain": [
       "array([[ 5.41677011],\n",
       "       [ 7.58724947],\n",
       "       [12.01656276],\n",
       "       [17.61899541],\n",
       "       [21.49149162],\n",
       "       [23.62900591],\n",
       "       [29.25177409],\n",
       "       [32.5156906 ],\n",
       "       [37.88588589],\n",
       "       [40.25446858],\n",
       "       [44.66322114],\n",
       "       [48.75956815],\n",
       "       [53.67866901],\n",
       "       [55.5514531 ],\n",
       "       [59.0963919 ],\n",
       "       [65.55426213],\n",
       "       [69.12782169],\n",
       "       [71.03266187],\n",
       "       [75.3981158 ],\n",
       "       [80.41733226]])"
      ]
     },
     "execution_count": 192,
     "metadata": {},
     "output_type": "execute_result"
    }
   ],
   "source": [
    "y"
   ]
  },
  {
   "cell_type": "code",
   "execution_count": 194,
   "id": "d934aed6-7442-428b-b1d1-73ceedb5cffb",
   "metadata": {},
   "outputs": [],
   "source": [
    "## Now lets use linear algebra from numpy to solve for the coefficients\n",
    "\n",
    "a = np.linalg.lstsq(X2,y,rcond=-1)"
   ]
  },
  {
   "cell_type": "code",
   "execution_count": 196,
   "id": "b85ad8f1-2496-4d2f-886e-6b28871d7bb8",
   "metadata": {},
   "outputs": [
    {
     "data": {
      "text/plain": [
       "(array([[3.95751205],\n",
       "        [4.95100507]]),\n",
       " array([15.43497981]),\n",
       " 2,\n",
       " array([49.84623483,  2.31362763]))"
      ]
     },
     "execution_count": 196,
     "metadata": {},
     "output_type": "execute_result"
    }
   ],
   "source": [
    "a"
   ]
  },
  {
   "cell_type": "code",
   "execution_count": 198,
   "id": "aa380b72-407e-4406-8fc0-0ea1a7ec80df",
   "metadata": {},
   "outputs": [
    {
     "data": {
      "text/plain": [
       "array([[3.95751205],\n",
       "       [4.95100507]])"
      ]
     },
     "execution_count": 198,
     "metadata": {},
     "output_type": "execute_result"
    }
   ],
   "source": [
    "## Now lets view our coefficients \n",
    "\n",
    "a[0]"
   ]
  },
  {
   "cell_type": "code",
   "execution_count": 200,
   "id": "fe3be7b3-bece-4569-9c93-5166a7a87be1",
   "metadata": {},
   "outputs": [],
   "source": [
    "## Now lets make our y_pred\n",
    "\n",
    "y_pred = a[0][0]*X + a[0][1]"
   ]
  },
  {
   "cell_type": "code",
   "execution_count": 204,
   "id": "a0d8477a-5205-49bd-b785-3b36ce5fa4a3",
   "metadata": {},
   "outputs": [
    {
     "data": {
      "text/plain": [
       "[<matplotlib.lines.Line2D at 0x23f7bc1f190>]"
      ]
     },
     "execution_count": 204,
     "metadata": {},
     "output_type": "execute_result"
    },
    {
     "data": {
      "image/png": "[encoded data removed]",
      "text/plain": [
       "<Figure size 640x480 with 1 Axes>"
      ]
     },
     "metadata": {},
     "output_type": "display_data"
    }
   ],
   "source": [
    "## Now lets plot!\n",
    "## Nice!! That still is the best line we could get from the predction!\n",
    "\n",
    "plt.scatter(X,y)\n",
    "plt.plot(X,y_pred,color='red')"
   ]
  },
  {
   "cell_type": "code",
   "execution_count": null,
   "id": "13c57208-fa4f-400d-bfd1-45cec72cbe9a",
   "metadata": {},
   "outputs": [],
   "source": []
  },
  {
   "cell_type": "code",
   "execution_count": null,
   "id": "645384cd-11a4-4219-b0db-9d9dfaaa238c",
   "metadata": {},
   "outputs": [],
   "source": []
  },
  {
   "cell_type": "code",
   "execution_count": null,
   "id": "a7109a5e-fea1-4d4e-8ac1-7509ea14c44b",
   "metadata": {},
   "outputs": [],
   "source": []
  },
  {
   "cell_type": "code",
   "execution_count": null,
   "id": "792b0f72-a0f4-412b-b954-cee2ea1209d1",
   "metadata": {},
   "outputs": [],
   "source": []
  },
  {
   "cell_type": "code",
   "execution_count": null,
   "id": "2112982f-00c5-4d48-852c-4543b71151ef",
   "metadata": {},
   "outputs": [],
   "source": []
  }
 ],
 "metadata": {
  "kernelspec": {
   "display_name": "Python 3 (ipykernel)",
   "language": "python",
   "name": "python3"
  },
  "language_info": {
   "codemirror_mode": {
    "name": "ipython",
    "version": 3
   },
   "file_extension": ".py",
   "mimetype": "text/x-python",
   "name": "python",
   "nbconvert_exporter": "python",
   "pygments_lexer": "ipython3",
   "version": "3.11.7"
  }
 },
 "nbformat": 4,
 "nbformat_minor": 5
}
