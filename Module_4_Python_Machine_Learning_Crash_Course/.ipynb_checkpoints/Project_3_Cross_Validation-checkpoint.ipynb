{
 "cells": [
  {
   "cell_type": "markdown",
   "id": "d34ad0c8-2f12-4a13-97d0-04e1a8470d17",
   "metadata": {},
   "source": [
    "# Project 3: Cross Validation\n",
    "\n",
    "### Cross-validation determines the accuracy of your machine learning model by partitioning the data into two different groups, called a training set and a testing set. The data is then randomly separated into a certain number of groups or subsets called folds. Each fold contains about the same amount of data.\n",
    "\n",
    "### Cross validation can also help determine which parameters and even wich machine learning models we should use!"
   ]
  },
  {
   "cell_type": "code",
   "execution_count": 3,
   "id": "c66e64f9-25e4-439d-92e2-f1d1d9e5359c",
   "metadata": {},
   "outputs": [],
   "source": [
    "import numpy as np\n",
    "import pandas as pd\n",
    "import matplotlib.pyplot as plt\n",
    "import seaborn as sns\n",
    "from sklearn.datasets import make_blobs\n",
    "\n",
    "from sklearn.decomposition import PCA\n",
    "\n",
    "from sklearn.preprocessing import PolynomialFeatures\n",
    "from sklearn.linear_model import LinearRegression\n",
    "from sklearn.pipeline import make_pipeline\n",
    "\n",
    "sns.set()"
   ]
  },
  {
   "cell_type": "code",
   "execution_count": 4,
   "id": "9fac1db4-531f-40ac-b119-0f960b5543b0",
   "metadata": {},
   "outputs": [],
   "source": [
    "## Lets import some new packages!\n",
    "\n",
    "\n",
    "from sklearn.model_selection import validation_curve"
   ]
  },
  {
   "cell_type": "code",
   "execution_count": 5,
   "id": "79383d5e-68c1-4e2c-b6a5-cd30aafd3716",
   "metadata": {},
   "outputs": [
    {
     "data": {
      "text/plain": [
       "<matplotlib.collections.PathCollection at 0x23b7e23d990>"
      ]
     },
     "execution_count": 5,
     "metadata": {},
     "output_type": "execute_result"
    },
    {
     "data": {
      "image/png": "[encoded data removed]",
      "text/plain": [
       "<Figure size 640x480 with 1 Axes>"
      ]
     },
     "metadata": {},
     "output_type": "display_data"
    }
   ],
   "source": [
    "## lets generate some data and view it\n",
    "\n",
    "X = np.arange(100)/100\n",
    "y = 3*(X**3)-10*(X**2)+34 + (0.5)*np.random.randn(X.size)\n",
    "\n",
    "plt.scatter(X,y)"
   ]
  },
  {
   "cell_type": "code",
   "execution_count": 6,
   "id": "403096d7-5924-443e-81e8-252f60355747",
   "metadata": {},
   "outputs": [],
   "source": [
    "## Ok so first lets try to determine the degrees of a polynomial to fit this curve. \n",
    "## Remember that degrees for a polynomial determine how flexable a curve is\n",
    "## Lets iterate over a few different degrees\n",
    "\n",
    "degree = np.arange(0,15)"
   ]
  },
  {
   "cell_type": "code",
   "execution_count": 7,
   "id": "5f13d1f3-e890-4e81-bac2-04e3fb00dc95",
   "metadata": {},
   "outputs": [],
   "source": [
    "## We're now going to use our PR() or Polynomial Regression function we created in our last lesson!\n",
    "\n",
    "def PR(degree=2,**kwargs):\n",
    "    p = make_pipeline(PolynomialFeatures(degree),LinearRegression(**kwargs))\n",
    "    return p"
   ]
  },
  {
   "cell_type": "code",
   "execution_count": 8,
   "id": "60617eb0-ef6f-4b09-b17e-0ee045429e8c",
   "metadata": {},
   "outputs": [
    {
     "ename": "TypeError",
     "evalue": "validation_curve() takes 3 positional arguments but 5 positional arguments (and 1 keyword-only argument) were given",
     "output_type": "error",
     "traceback": [
      "\u001b[1;31m---------------------------------------------------------------------------\u001b[0m",
      "\u001b[1;31mTypeError\u001b[0m                                 Traceback (most recent call last)",
      "Cell \u001b[1;32mIn[8], line 6\u001b[0m\n\u001b[0;32m      1\u001b[0m \u001b[38;5;66;03m## Now lets also comput our train_score, val_score to be used to determine the accurace across the different degrees we called above\u001b[39;00m\n\u001b[0;32m      2\u001b[0m \u001b[38;5;66;03m## We will then use the new validation_curve() function and call our PR() function with X, y\u001b[39;00m\n\u001b[0;32m      3\u001b[0m \u001b[38;5;66;03m## We are setting the degrees for the PolynomialFeatures() model in our PR() function to be assigned to our 'degree' variable or 1-15 \u001b[39;00m\n\u001b[0;32m      4\u001b[0m \u001b[38;5;66;03m## We then split the data 5 times via the cv to cross validate the data at different intervals to get a more accurate answer\u001b[39;00m\n\u001b[1;32m----> 6\u001b[0m train_score,val_score \u001b[38;5;241m=\u001b[39m validation_curve(PR(),X[:,np\u001b[38;5;241m.\u001b[39mnewaxis],y,\u001b[38;5;124m'\u001b[39m\u001b[38;5;124mpolynomialfeatures__degree\u001b[39m\u001b[38;5;124m'\u001b[39m,degree,cv\u001b[38;5;241m=\u001b[39m\u001b[38;5;241m5\u001b[39m)\n",
      "\u001b[1;31mTypeError\u001b[0m: validation_curve() takes 3 positional arguments but 5 positional arguments (and 1 keyword-only argument) were given"
     ]
    }
   ],
   "source": [
    "## Now lets also comput our train_score, val_score to be used to determine the accurace across the different degrees we called above\n",
    "## We will then use the new validation_curve() function and call our PR() function with X, y\n",
    "## We are setting the degrees for the PolynomialFeatures() model in our PR() function to be assigned to our 'degree' variable or 1-15 \n",
    "## We then split the data 5 times via the cv to cross validate the data at different intervals to get a more accurate answer\n",
    "\n",
    "train_score,val_score = validation_curve(PR(),X[:,np.newaxis],y,'polynomialfeatures__degree',degree,cv=5)"
   ]
  },
  {
   "cell_type": "code",
   "execution_count": null,
   "id": "f91fcac6-36fd-4a4d-b149-12ec90e6f6e7",
   "metadata": {},
   "outputs": [],
   "source": [
    "## \n",
    "\n",
    "plt.plot(degree,np.median(train_score,1),color='green',label=\"TRS\")\n",
    "plt.plot(degree,np.median(val_score,1),color='red',label=\"VS\")\n",
    "plt.legend(loc='best')\n",
    "plt.ylim(0,1)\n",
    "plt.xlabel(\"degree\")\n",
    "plt.ylabel(\"score\")"
   ]
  },
  {
   "cell_type": "code",
   "execution_count": null,
   "id": "2649dc9b-ab0a-41d9-9f9f-3eed96f23595",
   "metadata": {},
   "outputs": [],
   "source": []
  },
  {
   "cell_type": "code",
   "execution_count": null,
   "id": "fd50b4c5-ad6f-4255-9d8b-c112b8cb02e9",
   "metadata": {},
   "outputs": [],
   "source": []
  },
  {
   "cell_type": "code",
   "execution_count": null,
   "id": "2210f4dd-ff36-4462-9476-53fdaec5e745",
   "metadata": {},
   "outputs": [],
   "source": []
  },
  {
   "cell_type": "code",
   "execution_count": null,
   "id": "31085820-99b9-4595-b017-30f43f846a7a",
   "metadata": {},
   "outputs": [],
   "source": []
  },
  {
   "cell_type": "code",
   "execution_count": null,
   "id": "585be502-2c68-47ce-bf82-ac0b279ad0a8",
   "metadata": {},
   "outputs": [],
   "source": []
  },
  {
   "cell_type": "code",
   "execution_count": null,
   "id": "d35905a5-dc85-4cbd-a67e-454476a3a9bc",
   "metadata": {},
   "outputs": [],
   "source": []
  },
  {
   "cell_type": "code",
   "execution_count": null,
   "id": "89311c9e-29b9-4c8a-b826-85aaad69c068",
   "metadata": {},
   "outputs": [],
   "source": []
  },
  {
   "cell_type": "code",
   "execution_count": null,
   "id": "ff8a4c07-1a69-43c0-a4eb-425c03dc28c1",
   "metadata": {},
   "outputs": [],
   "source": []
  },
  {
   "cell_type": "code",
   "execution_count": null,
   "id": "688a7698-cdd3-4d19-83b9-2b09e05a1681",
   "metadata": {},
   "outputs": [],
   "source": []
  },
  {
   "cell_type": "code",
   "execution_count": null,
   "id": "e3bd10a7-e3a1-4f57-9c20-7b01b3c9e1fe",
   "metadata": {},
   "outputs": [],
   "source": []
  },
  {
   "cell_type": "code",
   "execution_count": null,
   "id": "e5ae7fa8-26dd-4380-9d40-ed57199c7d9a",
   "metadata": {},
   "outputs": [],
   "source": []
  },
  {
   "cell_type": "code",
   "execution_count": null,
   "id": "b93245be-c3a3-4584-8f85-6d419c0a460c",
   "metadata": {},
   "outputs": [],
   "source": []
  }
 ],
 "metadata": {
  "kernelspec": {
   "display_name": "Python 3 (ipykernel)",
   "language": "python",
   "name": "python3"
  },
  "language_info": {
   "codemirror_mode": {
    "name": "ipython",
    "version": 3
   },
   "file_extension": ".py",
   "mimetype": "text/x-python",
   "name": "python",
   "nbconvert_exporter": "python",
   "pygments_lexer": "ipython3",
   "version": "3.11.7"
  }
 },
 "nbformat": 4,
 "nbformat_minor": 5
}
