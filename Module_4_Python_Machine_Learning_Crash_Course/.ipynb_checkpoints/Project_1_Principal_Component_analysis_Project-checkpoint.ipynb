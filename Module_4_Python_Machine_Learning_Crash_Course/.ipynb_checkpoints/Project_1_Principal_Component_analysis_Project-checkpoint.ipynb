{
 "cells": [
  {
   "cell_type": "markdown",
   "id": "cee75213-037e-4e62-9430-287147824ff3",
   "metadata": {},
   "source": [
    "# Project 1: Principal Component Analysis\n",
    "\n",
    "### Principal component analysis (PCA) is a dimensionality reduction and machine learning method used to simplify a large data set into a smaller set while still maintaining significant patterns and trends."
   ]
  },
  {
   "cell_type": "code",
   "execution_count": 2,
   "id": "8f43a131-3ffc-4c3b-9dc7-cd96710782c2",
   "metadata": {},
   "outputs": [],
   "source": [
    "import numpy as np\n",
    "import pandas as pd\n",
    "import matplotlib.pyplot as plt\n",
    "import seaborn as sns\n",
    "from sklearn.datasets import make_blobs\n",
    "sns.set()"
   ]
  },
  {
   "cell_type": "code",
   "execution_count": 4,
   "id": "3f0e3d1c-c721-4b5c-b444-fb7a8163b7d3",
   "metadata": {},
   "outputs": [],
   "source": [
    "## Now lets import our PCA model package\n",
    "\n",
    "from sklearn.decomposition import PCA"
   ]
  },
  {
   "cell_type": "code",
   "execution_count": 6,
   "id": "f5a41ed1-68c5-4a27-8957-e30321571482",
   "metadata": {},
   "outputs": [],
   "source": [
    "## First lets define our data\n",
    "\n",
    "X = np.random.rand(200,50)"
   ]
  },
  {
   "cell_type": "code",
   "execution_count": 8,
   "id": "dac50f99-5495-412c-aebd-539db01ee4b7",
   "metadata": {},
   "outputs": [
    {
     "data": {
      "text/html": [
       "<style>#sk-container-id-1 {color: black;background-color: white;}#sk-container-id-1 pre{padding: 0;}#sk-container-id-1 div.sk-toggleable {background-color: white;}#sk-container-id-1 label.sk-toggleable__label {cursor: pointer;display: block;width: 100%;margin-bottom: 0;padding: 0.3em;box-sizing: border-box;text-align: center;}#sk-container-id-1 label.sk-toggleable__label-arrow:before {content: \"▸\";float: left;margin-right: 0.25em;color: #696969;}#sk-container-id-1 label.sk-toggleable__label-arrow:hover:before {color: black;}#sk-container-id-1 div.sk-estimator:hover label.sk-toggleable__label-arrow:before {color: black;}#sk-container-id-1 div.sk-toggleable__content {max-height: 0;max-width: 0;overflow: hidden;text-align: left;background-color: #f0f8ff;}#sk-container-id-1 div.sk-toggleable__content pre {margin: 0.2em;color: black;border-radius: 0.25em;background-color: #f0f8ff;}#sk-container-id-1 input.sk-toggleable__control:checked~div.sk-toggleable__content {max-height: 200px;max-width: 100%;overflow: auto;}#sk-container-id-1 input.sk-toggleable__control:checked~label.sk-toggleable__label-arrow:before {content: \"▾\";}#sk-container-id-1 div.sk-estimator input.sk-toggleable__control:checked~label.sk-toggleable__label {background-color: #d4ebff;}#sk-container-id-1 div.sk-label input.sk-toggleable__control:checked~label.sk-toggleable__label {background-color: #d4ebff;}#sk-container-id-1 input.sk-hidden--visually {border: 0;clip: rect(1px 1px 1px 1px);clip: rect(1px, 1px, 1px, 1px);height: 1px;margin: -1px;overflow: hidden;padding: 0;position: absolute;width: 1px;}#sk-container-id-1 div.sk-estimator {font-family: monospace;background-color: #f0f8ff;border: 1px dotted black;border-radius: 0.25em;box-sizing: border-box;margin-bottom: 0.5em;}#sk-container-id-1 div.sk-estimator:hover {background-color: #d4ebff;}#sk-container-id-1 div.sk-parallel-item::after {content: \"\";width: 100%;border-bottom: 1px solid gray;flex-grow: 1;}#sk-container-id-1 div.sk-label:hover label.sk-toggleable__label {background-color: #d4ebff;}#sk-container-id-1 div.sk-serial::before {content: \"\";position: absolute;border-left: 1px solid gray;box-sizing: border-box;top: 0;bottom: 0;left: 50%;z-index: 0;}#sk-container-id-1 div.sk-serial {display: flex;flex-direction: column;align-items: center;background-color: white;padding-right: 0.2em;padding-left: 0.2em;position: relative;}#sk-container-id-1 div.sk-item {position: relative;z-index: 1;}#sk-container-id-1 div.sk-parallel {display: flex;align-items: stretch;justify-content: center;background-color: white;position: relative;}#sk-container-id-1 div.sk-item::before, #sk-container-id-1 div.sk-parallel-item::before {content: \"\";position: absolute;border-left: 1px solid gray;box-sizing: border-box;top: 0;bottom: 0;left: 50%;z-index: -1;}#sk-container-id-1 div.sk-parallel-item {display: flex;flex-direction: column;z-index: 1;position: relative;background-color: white;}#sk-container-id-1 div.sk-parallel-item:first-child::after {align-self: flex-end;width: 50%;}#sk-container-id-1 div.sk-parallel-item:last-child::after {align-self: flex-start;width: 50%;}#sk-container-id-1 div.sk-parallel-item:only-child::after {width: 0;}#sk-container-id-1 div.sk-dashed-wrapped {border: 1px dashed gray;margin: 0 0.4em 0.5em 0.4em;box-sizing: border-box;padding-bottom: 0.4em;background-color: white;}#sk-container-id-1 div.sk-label label {font-family: monospace;font-weight: bold;display: inline-block;line-height: 1.2em;}#sk-container-id-1 div.sk-label-container {text-align: center;}#sk-container-id-1 div.sk-container {/* jupyter's `normalize.less` sets `[hidden] { display: none; }` but bootstrap.min.css set `[hidden] { display: none !important; }` so we also need the `!important` here to be able to override the default hidden behavior on the sphinx rendered scikit-learn.org. See: https://github.com/scikit-learn/scikit-learn/issues/21755 */display: inline-block !important;position: relative;}#sk-container-id-1 div.sk-text-repr-fallback {display: none;}</style><div id=\"sk-container-id-1\" class=\"sk-top-container\"><div class=\"sk-text-repr-fallback\"><pre>PCA()</pre><b>In a Jupyter environment, please rerun this cell to show the HTML representation or trust the notebook. <br />On GitHub, the HTML representation is unable to render, please try loading this page with nbviewer.org.</b></div><div class=\"sk-container\" hidden><div class=\"sk-item\"><div class=\"sk-estimator sk-toggleable\"><input class=\"sk-toggleable__control sk-hidden--visually\" id=\"sk-estimator-id-1\" type=\"checkbox\" checked><label for=\"sk-estimator-id-1\" class=\"sk-toggleable__label sk-toggleable__label-arrow\">PCA</label><div class=\"sk-toggleable__content\"><pre>PCA()</pre></div></div></div></div></div>"
      ],
      "text/plain": [
       "PCA()"
      ]
     },
     "execution_count": 8,
     "metadata": {},
     "output_type": "execute_result"
    }
   ],
   "source": [
    "## Now lets build a PCA model\n",
    "## We will build a model similar to how we have build models previously\n",
    "\n",
    "pcaModel = PCA()\n",
    "pcaModel.fit(X)"
   ]
  },
  {
   "cell_type": "code",
   "execution_count": 10,
   "id": "451c526c-4f2f-409c-962c-3fc689c00cc0",
   "metadata": {},
   "outputs": [
    {
     "data": {
      "text/plain": [
       "array([0.04446915, 0.04016937, 0.03900766, 0.03756747, 0.03472532,\n",
       "       0.03344243, 0.03301668, 0.03207938, 0.03128983, 0.03051777,\n",
       "       0.02953652, 0.02796888, 0.0267023 , 0.02579987, 0.02561051,\n",
       "       0.02438182, 0.02419168, 0.02372092, 0.02317847, 0.02193323,\n",
       "       0.02046194, 0.0199585 , 0.0197713 , 0.01872547, 0.0182916 ,\n",
       "       0.01774673, 0.01707451, 0.01620256, 0.01594319, 0.0152651 ,\n",
       "       0.01493623, 0.01466842, 0.0145116 , 0.01349054, 0.01319654,\n",
       "       0.0128143 , 0.01226401, 0.01201179, 0.01138654, 0.0108798 ,\n",
       "       0.01080589, 0.00993654, 0.00963203, 0.00936096, 0.00838318,\n",
       "       0.007707  , 0.00709357, 0.0068303 , 0.00596223, 0.00537838])"
      ]
     },
     "execution_count": 10,
     "metadata": {},
     "output_type": "execute_result"
    }
   ],
   "source": [
    "## Now if you type out \"pcaModel.\" you can view all of the availiable parameters that PCA allows you to use to analyze data!\n",
    "## Lets try out explained_variance_ratio_\n",
    "\n",
    "pcaModel.explained_variance_ratio_"
   ]
  },
  {
   "cell_type": "code",
   "execution_count": 14,
   "id": "6145817d-62b4-4b5b-b4f1-7896931f3e6e",
   "metadata": {},
   "outputs": [
    {
     "data": {
      "text/plain": [
       "array([0.04446915, 0.08463851, 0.12364617, 0.16121364, 0.19593896,\n",
       "       0.22938139, 0.26239807, 0.29447745, 0.32576729, 0.35628506,\n",
       "       0.38582158, 0.41379046, 0.44049276, 0.46629263, 0.49190314,\n",
       "       0.51628496, 0.54047664, 0.56419755, 0.58737602, 0.60930925,\n",
       "       0.62977119, 0.64972969, 0.66950099, 0.68822646, 0.70651806,\n",
       "       0.7242648 , 0.74133931, 0.75754187, 0.77348506, 0.78875015,\n",
       "       0.80368638, 0.8183548 , 0.8328664 , 0.84635694, 0.85955348,\n",
       "       0.87236778, 0.88463179, 0.89664358, 0.90803012, 0.91890992,\n",
       "       0.92971581, 0.93965235, 0.94928437, 0.95864534, 0.96702852,\n",
       "       0.97473552, 0.98182909, 0.98865939, 0.99462162, 1.        ])"
      ]
     },
     "execution_count": 14,
     "metadata": {},
     "output_type": "execute_result"
    }
   ],
   "source": [
    "## Now lets get the cumulative sum of those explained_variance_ratio_'s\n",
    "## Notice how it goes to 1.0\n",
    "\n",
    "pcaModel.explained_variance_ratio_.cumsum()"
   ]
  },
  {
   "cell_type": "code",
   "execution_count": 18,
   "id": "72a1abe0-1971-4b70-8363-ee6b508fe26b",
   "metadata": {},
   "outputs": [],
   "source": [
    "## Now lets say we only want variance ratios that are above 0.95 from the cumulative sum\n",
    "## Lets get the number of components needed to get to 0.95 and store the in a variable\n",
    "## The 0.95 is the energy_value that we define\n",
    "## The energy value is what we define as users of the model to be an acceptable amount of error. So there is a 5% error from .95\n",
    "\n",
    "num_comps = np.where(pcaModel.explained_variance_ratio_.cumsum()>0.95)[0][0]"
   ]
  },
  {
   "cell_type": "code",
   "execution_count": 20,
   "id": "5b4e8d90-cfbd-4874-9484-743b34f29b11",
   "metadata": {},
   "outputs": [
    {
     "data": {
      "text/plain": [
       "43"
      ]
     },
     "execution_count": 20,
     "metadata": {},
     "output_type": "execute_result"
    }
   ],
   "source": [
    "## So it took us a total of 43 componants \n",
    "\n",
    "num_comps"
   ]
  },
  {
   "cell_type": "code",
   "execution_count": 22,
   "id": "a619acd7-cdfd-44c1-ae7b-c5a07273ebc8",
   "metadata": {},
   "outputs": [
    {
     "data": {
      "text/plain": [
       "50"
      ]
     },
     "execution_count": 22,
     "metadata": {},
     "output_type": "execute_result"
    }
   ],
   "source": [
    "## We can find the total number of componants we originally had below\n",
    "\n",
    "pcaModel.n_components_"
   ]
  },
  {
   "cell_type": "code",
   "execution_count": null,
   "id": "87fb31aa-0007-49ea-962a-e88780582954",
   "metadata": {},
   "outputs": [],
   "source": []
  },
  {
   "cell_type": "code",
   "execution_count": 32,
   "id": "2bc527f3-0e9c-4005-9ce5-be03035a6fb9",
   "metadata": {},
   "outputs": [],
   "source": [
    "## Lets define our own PCA function\n",
    "## energy_value is for energy and it will be a value from 0-1\n",
    "## X is for the dataset we want the model applied to\n",
    "## We will define a PCA model similar to what we had done in previous labs \n",
    "\n",
    "## lets get the number of componants needed similar to above but now use the energy_value variable we defined for the function\n",
    "## We will then define a second PCA model with the number of componants defined\n",
    "\n",
    "## We will then transform the new model and assign to X2 and return that variable\n",
    "\n",
    "def myPCA(energy_value, X):\n",
    "    m = PCA()\n",
    "    m.fit(X)\n",
    "    num_comps = np.where(m.explained_variance_ratio_.cumsum()>energy_value)[0][0]\n",
    "    \n",
    "    m = PCA(n_components=num_comps)\n",
    "    m.fit(X)\n",
    "    X2 = m.transform(X)\n",
    "\n",
    "    return X2"
   ]
  },
  {
   "cell_type": "code",
   "execution_count": 34,
   "id": "e36f7812-3d89-475d-9e0e-e3c723098202",
   "metadata": {},
   "outputs": [],
   "source": [
    "## Now lets generate some data and try our new function\n",
    "\n",
    "X = np.random.rand(200,50)\n",
    "X2 = myPCA(0.90,X)"
   ]
  },
  {
   "cell_type": "code",
   "execution_count": 38,
   "id": "519b19cf-49d2-4ef4-a0dc-524e928621c2",
   "metadata": {},
   "outputs": [
    {
     "data": {
      "text/plain": [
       "numpy.ndarray"
      ]
     },
     "execution_count": 38,
     "metadata": {},
     "output_type": "execute_result"
    }
   ],
   "source": [
    "## Now it is a numpy array\n",
    "\n",
    "type(X2)"
   ]
  },
  {
   "cell_type": "code",
   "execution_count": 40,
   "id": "8327e316-a610-40ef-ab2e-7ed608b8aa48",
   "metadata": {},
   "outputs": [
    {
     "data": {
      "text/plain": [
       "(200, 50)"
      ]
     },
     "execution_count": 40,
     "metadata": {},
     "output_type": "execute_result"
    }
   ],
   "source": [
    "## Now lets view the shape of X vs X2\n",
    "\n",
    "X.shape"
   ]
  },
  {
   "cell_type": "code",
   "execution_count": 44,
   "id": "285418a9-b53d-4e2c-a8cf-889b0e8c146a",
   "metadata": {},
   "outputs": [
    {
     "data": {
      "text/plain": [
       "(200, 37)"
      ]
     },
     "execution_count": 44,
     "metadata": {},
     "output_type": "execute_result"
    }
   ],
   "source": [
    "## Notice how we have 37 compared to 50. \n",
    "## To have 90% energy defined we only needed 37 of the variables compared to all 50 originally\n",
    "\n",
    "X2.shape"
   ]
  },
  {
   "cell_type": "code",
   "execution_count": null,
   "id": "affd82b3-04e6-4377-8ea7-fb262d32ae79",
   "metadata": {},
   "outputs": [],
   "source": []
  },
  {
   "cell_type": "code",
   "execution_count": null,
   "id": "dd249551-0e27-42d7-9a0b-abb3ba55f676",
   "metadata": {},
   "outputs": [],
   "source": []
  },
  {
   "cell_type": "code",
   "execution_count": null,
   "id": "937f4c06-e6f0-41f5-abe5-499b42fd31a1",
   "metadata": {},
   "outputs": [],
   "source": []
  },
  {
   "cell_type": "code",
   "execution_count": null,
   "id": "c7a23f30-6bb6-47cb-9b65-87ef052eaef0",
   "metadata": {},
   "outputs": [],
   "source": []
  },
  {
   "cell_type": "code",
   "execution_count": null,
   "id": "4f73e734-9fc7-4afc-a442-dd0a6df951c1",
   "metadata": {},
   "outputs": [],
   "source": []
  },
  {
   "cell_type": "code",
   "execution_count": null,
   "id": "0821ee41-4324-45ce-a3d3-34b666ab6647",
   "metadata": {},
   "outputs": [],
   "source": []
  },
  {
   "cell_type": "code",
   "execution_count": null,
   "id": "402c2201-c708-4c6b-9126-4583d85cb39a",
   "metadata": {},
   "outputs": [],
   "source": []
  },
  {
   "cell_type": "code",
   "execution_count": null,
   "id": "78713c7a-8b87-40d8-9998-44429cc64d7a",
   "metadata": {},
   "outputs": [],
   "source": []
  },
  {
   "cell_type": "code",
   "execution_count": null,
   "id": "51055a6b-a589-4cfe-90f4-1a95dd52af38",
   "metadata": {},
   "outputs": [],
   "source": []
  },
  {
   "cell_type": "code",
   "execution_count": null,
   "id": "94c3cc79-6871-4f75-9bdf-183ee64a08c4",
   "metadata": {},
   "outputs": [],
   "source": []
  },
  {
   "cell_type": "code",
   "execution_count": null,
   "id": "b0b2d134-68f7-4405-bd57-e8b2b68a9862",
   "metadata": {},
   "outputs": [],
   "source": []
  },
  {
   "cell_type": "code",
   "execution_count": null,
   "id": "c046e91f-03dc-45df-b5d6-87bfd3815e9b",
   "metadata": {},
   "outputs": [],
   "source": []
  },
  {
   "cell_type": "code",
   "execution_count": null,
   "id": "a77ac7b6-3815-4ba1-ac7f-f5f172fa2596",
   "metadata": {},
   "outputs": [],
   "source": []
  },
  {
   "cell_type": "code",
   "execution_count": null,
   "id": "a70c3064-6ce5-4755-a5c9-e0749d2ced9b",
   "metadata": {},
   "outputs": [],
   "source": []
  },
  {
   "cell_type": "code",
   "execution_count": null,
   "id": "deebe6cf-b474-4a51-a00a-a8c3ab6e8922",
   "metadata": {},
   "outputs": [],
   "source": []
  }
 ],
 "metadata": {
  "kernelspec": {
   "display_name": "Python 3 (ipykernel)",
   "language": "python",
   "name": "python3"
  },
  "language_info": {
   "codemirror_mode": {
    "name": "ipython",
    "version": 3
   },
   "file_extension": ".py",
   "mimetype": "text/x-python",
   "name": "python",
   "nbconvert_exporter": "python",
   "pygments_lexer": "ipython3",
   "version": "3.11.7"
  }
 },
 "nbformat": 4,
 "nbformat_minor": 5
}
