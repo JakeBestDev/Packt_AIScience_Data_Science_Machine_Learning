{
 "cells": [
  {
   "cell_type": "markdown",
   "id": "280a07ca-f0f5-4ca8-9bd1-35e1568e8449",
   "metadata": {},
   "source": [
    "# Features In Data Science: Marking Facial Features\n",
    "\n",
    "## For this first lab we are going to demonstrate how to mark specific facial features from a jpg image that can then be used for model building/analysis."
   ]
  },
  {
   "cell_type": "code",
   "execution_count": 3,
   "id": "f78414a1-5c1f-4600-96f0-0a16bb82db10",
   "metadata": {},
   "outputs": [
    {
     "name": "stdout",
     "output_type": "stream",
     "text": [
      "Note: you may need to restart the kernel to use updated packages.\n"
     ]
    },
    {
     "name": "stderr",
     "output_type": "stream",
     "text": [
      "ERROR: Invalid requirement: '##'\n"
     ]
    }
   ],
   "source": [
    "## import some standard libraries\n",
    "\n",
    "import numpy as np\n",
    "import pandas as pd\n",
    "import matplotlib.pyplot as plt\n",
    "import seaborn as sns \n",
    "\n",
    "%pip install PyQt6 ## Needs an update to run landmark interactive section below\n",
    "\n",
    "## Also needed for the below\n",
    "import sys\n",
    "import matplotlib\n",
    "matplotlib.use('TkAgg')"
   ]
  },
  {
   "cell_type": "code",
   "execution_count": 4,
   "id": "2256a19d-0817-4b8a-b030-e9581f4e46be",
   "metadata": {},
   "outputs": [],
   "source": [
    "## Ok lets import our image and assign it to a variable\n",
    "\n",
    "im = plt.imread('leo_a.jpg')"
   ]
  },
  {
   "cell_type": "code",
   "execution_count": 5,
   "id": "d7d52071-5573-4742-96b5-e4dae50c6d76",
   "metadata": {},
   "outputs": [
    {
     "data": {
      "text/plain": [
       "<matplotlib.image.AxesImage at 0x247531cb4d0>"
      ]
     },
     "execution_count": 5,
     "metadata": {},
     "output_type": "execute_result"
    }
   ],
   "source": [
    "## Now lets plot the image\n",
    "\n",
    "fig,ax = plt.subplots(1,figsize=(10,20))\n",
    "plt.imshow(im)"
   ]
  },
  {
   "cell_type": "code",
   "execution_count": 6,
   "id": "584b071b-5d8c-458a-b9e5-8245265ff344",
   "metadata": {},
   "outputs": [
    {
     "name": "stdout",
     "output_type": "stream",
     "text": [
      "[(85.8042899200897, 213.14148707033883), (127.37802531129321, 215.51712909269332), (152.9161770516039, 214.9232185871047), (184.9873443533895, 217.29886060945915), (233.09409530606783, 214.9232185871047), (180.2360603086805, 268.96907459566927), (149.3527140180722, 261.24823802301717), (125.00238328893872, 269.5629851012579), (115.49981519952078, 318.26364655952483), (191.52035991486431, 320.6392885818793)]\n"
     ]
    }
   ],
   "source": [
    "## Ok now that we can see our image lets investigate further by plotting the facial landmarks of Mr.leo here\n",
    "## When this cell is run you get to pick 10 spots for facial landmarks and the output seen are the points on the image where these landmarks are located\n",
    "\n",
    "fig,ax = plt.subplots(1,figsize=(10,20))\n",
    "plt.imshow(im)\n",
    "facial_landmarks = plt.ginput(n=10)\n",
    "print(facial_landmarks)\n",
    "plt.close()"
   ]
  },
  {
   "cell_type": "code",
   "execution_count": null,
   "id": "655df912-fe97-4f12-b4e8-6e30b1504b1c",
   "metadata": {},
   "outputs": [],
   "source": []
  },
  {
   "cell_type": "code",
   "execution_count": null,
   "id": "87148591-420f-4c3e-b374-f65b0ccf65c1",
   "metadata": {},
   "outputs": [],
   "source": []
  },
  {
   "cell_type": "code",
   "execution_count": null,
   "id": "c88a6f51-c126-45c3-b381-af65dc750d8f",
   "metadata": {},
   "outputs": [],
   "source": []
  },
  {
   "cell_type": "code",
   "execution_count": null,
   "id": "d30e64a3-8645-42ab-ad80-ba480776ddde",
   "metadata": {},
   "outputs": [],
   "source": []
  },
  {
   "cell_type": "code",
   "execution_count": null,
   "id": "492eb0c8-f8a6-4013-b3d6-c370593fd36f",
   "metadata": {},
   "outputs": [],
   "source": []
  },
  {
   "cell_type": "code",
   "execution_count": null,
   "id": "dea27dda-ca95-431f-815b-5eb9435dd472",
   "metadata": {},
   "outputs": [],
   "source": []
  },
  {
   "cell_type": "code",
   "execution_count": null,
   "id": "293d74f3-806d-4e76-9af2-65e59ed2488b",
   "metadata": {},
   "outputs": [],
   "source": []
  },
  {
   "cell_type": "code",
   "execution_count": null,
   "id": "deaadeb4-df10-4a7a-9358-9e2a95779120",
   "metadata": {},
   "outputs": [],
   "source": []
  },
  {
   "cell_type": "code",
   "execution_count": null,
   "id": "f6110e42-fa5d-4c40-b9a6-e9dfccfc9b61",
   "metadata": {},
   "outputs": [],
   "source": []
  },
  {
   "cell_type": "code",
   "execution_count": null,
   "id": "603bd91c-3899-41a8-8897-42c373628171",
   "metadata": {},
   "outputs": [],
   "source": []
  },
  {
   "cell_type": "code",
   "execution_count": null,
   "id": "e5104e21-c6b6-4bc2-a03d-13d637432110",
   "metadata": {},
   "outputs": [],
   "source": []
  },
  {
   "cell_type": "code",
   "execution_count": null,
   "id": "9413f375-a627-44cc-8741-7ee42f6a766d",
   "metadata": {},
   "outputs": [],
   "source": []
  },
  {
   "cell_type": "code",
   "execution_count": null,
   "id": "478f6534-beb7-43d1-a017-537b82c331ff",
   "metadata": {},
   "outputs": [],
   "source": []
  },
  {
   "cell_type": "code",
   "execution_count": null,
   "id": "3b7a83cb-17f1-402a-ba83-b6ebffa33857",
   "metadata": {},
   "outputs": [],
   "source": []
  },
  {
   "cell_type": "code",
   "execution_count": null,
   "id": "fda8d3b5-7fda-4791-9016-19510db2b530",
   "metadata": {},
   "outputs": [],
   "source": []
  },
  {
   "cell_type": "code",
   "execution_count": null,
   "id": "c4f611c8-f686-4999-af29-7e0d5ba840c6",
   "metadata": {},
   "outputs": [],
   "source": []
  },
  {
   "cell_type": "code",
   "execution_count": null,
   "id": "13bcd2b9-6f38-4ef9-b153-1e5b49225e97",
   "metadata": {},
   "outputs": [],
   "source": []
  },
  {
   "cell_type": "code",
   "execution_count": null,
   "id": "6a92729d-04ab-4ff7-af29-803cc5a0a4ac",
   "metadata": {},
   "outputs": [],
   "source": []
  },
  {
   "cell_type": "code",
   "execution_count": null,
   "id": "864686ec-0897-4edb-9232-518e7d87244b",
   "metadata": {},
   "outputs": [],
   "source": []
  },
  {
   "cell_type": "code",
   "execution_count": null,
   "id": "ea407d63-8412-4733-83ec-6cc2c7854a11",
   "metadata": {},
   "outputs": [],
   "source": []
  },
  {
   "cell_type": "code",
   "execution_count": null,
   "id": "0b3bc66b-ede3-4d7e-9463-735a224e24fc",
   "metadata": {},
   "outputs": [],
   "source": []
  },
  {
   "cell_type": "code",
   "execution_count": null,
   "id": "361275f5-def5-46ff-827a-4443609c2a6f",
   "metadata": {},
   "outputs": [],
   "source": []
  }
 ],
 "metadata": {
  "kernelspec": {
   "display_name": "Python 3 (ipykernel)",
   "language": "python",
   "name": "python3"
  },
  "language_info": {
   "codemirror_mode": {
    "name": "ipython",
    "version": 3
   },
   "file_extension": ".py",
   "mimetype": "text/x-python",
   "name": "python",
   "nbconvert_exporter": "python",
   "pygments_lexer": "ipython3",
   "version": "3.11.7"
  }
 },
 "nbformat": 4,
 "nbformat_minor": 5
}
